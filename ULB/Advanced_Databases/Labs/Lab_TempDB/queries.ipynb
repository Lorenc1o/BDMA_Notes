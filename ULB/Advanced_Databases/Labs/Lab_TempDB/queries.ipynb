{
    "metadata": {
        "kernelspec": {
            "name": "SQL",
            "display_name": "SQL",
            "language": "sql"
        },
        "language_info": {
            "name": "sql",
            "version": ""
        }
    },
    "nbformat_minor": 2,
    "nbformat": 4,
    "cells": [
        {
            "cell_type": "markdown",
            "source": [
                "Query 1: Give the name of managers living currently in Houston"
            ],
            "metadata": {
                "azdata_cell_guid": "79c17573-db78-47b7-919d-5ae36065ff42"
            },
            "attachments": {}
        },
        {
            "cell_type": "code",
            "source": [
                "select e.fname as name, e.lname as surname\n",
                "from employee e\n",
                "join department d on e.SSN = d.MgrSSN\n",
                "join employeeAddress ed on e.SSN = ed.SSN\n",
                "where ed.city = 'Houston' \n",
                "    AND cast(ed.fromDate as date) <= cast(getdate() as date)\n",
                "    AND cast(ed.toDate as date) > cast(getDate() as date)\n",
                "    AND cast(d.fromDate as date) <= cast(getdate() as date)\n",
                "    AND cast(d.toDate as date) > cast(getDate() as date)"
            ],
            "metadata": {
                "azdata_cell_guid": "96b8e8a7-278e-478a-8d77-71b65f07f6c1",
                "language": "sql"
            },
            "outputs": [
                {
                    "output_type": "display_data",
                    "data": {
                        "text/html": "(2 rows affected)"
                    },
                    "metadata": {}
                },
                {
                    "output_type": "display_data",
                    "data": {
                        "text/html": "Total execution time: 00:00:00.060"
                    },
                    "metadata": {}
                },
                {
                    "output_type": "execute_result",
                    "execution_count": 5,
                    "data": {
                        "application/vnd.dataresource+json": {
                            "schema": {
                                "fields": [
                                    {
                                        "name": "name"
                                    },
                                    {
                                        "name": "surname"
                                    }
                                ]
                            },
                            "data": [
                                {
                                    "0": "James",
                                    "1": "Borg"
                                },
                                {
                                    "0": "Franklin",
                                    "1": "Wong"
                                }
                            ]
                        },
                        "text/html": "<table><tr><th>name</th><th>surname</th></tr><tr><td>James</td><td>Borg</td></tr><tr><td>Franklin</td><td>Wong</td></tr></table>"
                    },
                    "metadata": {}
                }
            ],
            "execution_count": 5
        },
        {
            "cell_type": "markdown",
            "source": [
                "Query 2: Give the name of employees working currently in the ‘Research’ department and having a salary greater or equal than 45000"
            ],
            "metadata": {
                "azdata_cell_guid": "740a0c4e-827e-40b7-a800-88ea243acbef"
            },
            "attachments": {}
        },
        {
            "cell_type": "code",
            "source": [
                "select e.fname as name, e.lname as surname\n",
                "from employee e\n",
                "join affiliation a on a.SSN = e.SSN \n",
                "join department d on a.DNumber = d.DNumber\n",
                "join employeeSalary es on es.SSN = e.SSN\n",
                "where d.DName = 'Research'\n",
                "    AND es.salary >= 45000\n",
                "    AND cast(es.fromDate as date) <= cast(getdate() as date)\n",
                "    AND cast(es.toDate as date) > cast(getDate() as date)\n",
                "    AND cast(a.fromDate as date) <= cast(getdate() as date)\n",
                "    AND cast(a.toDate as date) > cast(getDate() as date);"
            ],
            "metadata": {
                "azdata_cell_guid": "1ab946d9-49e2-4cfe-b00e-c752208b36ef",
                "language": "sql"
            },
            "outputs": [
                {
                    "output_type": "display_data",
                    "data": {
                        "text/html": "(1 row affected)"
                    },
                    "metadata": {}
                },
                {
                    "output_type": "display_data",
                    "data": {
                        "text/html": "Total execution time: 00:00:00.050"
                    },
                    "metadata": {}
                },
                {
                    "output_type": "execute_result",
                    "execution_count": 6,
                    "data": {
                        "application/vnd.dataresource+json": {
                            "schema": {
                                "fields": [
                                    {
                                        "name": "name"
                                    },
                                    {
                                        "name": "surname"
                                    }
                                ]
                            },
                            "data": [
                                {
                                    "0": "Franklin",
                                    "1": "Wong"
                                }
                            ]
                        },
                        "text/html": "<table><tr><th>name</th><th>surname</th></tr><tr><td>Franklin</td><td>Wong</td></tr></table>"
                    },
                    "metadata": {}
                }
            ],
            "execution_count": 6
        },
        {
            "cell_type": "markdown",
            "source": [
                "Query 3: Give the name of current employees who do not work currently in any department"
            ],
            "metadata": {
                "language": "sql",
                "azdata_cell_guid": "0b7f4144-a448-4251-8a95-070be231e598"
            },
            "attachments": {}
        },
        {
            "cell_type": "code",
            "source": [
                "select e.fname as name, e.lname as surname\n",
                "from employee e\n",
                "join employeeLifecycle el on el.SSN = e.SSN \n",
                "where cast(el.fromDate as date) <= cast(getdate() as date)\n",
                "    AND cast(el.toDate as date) > cast(getDate() as date)\n",
                "    AND \n",
                "    not exists (\n",
                "    select *\n",
                "    from affiliation a\n",
                "    where a.SSN = e.SSN \n",
                "    AND cast(a.fromDate as date) <= cast(getdate() as date)\n",
                "    AND cast(a.toDate as date) > cast(getDate() as date)\n",
                ");"
            ],
            "metadata": {
                "language": "sql",
                "azdata_cell_guid": "79e586f4-d367-4a28-98be-504262d61645"
            },
            "outputs": [
                {
                    "output_type": "display_data",
                    "data": {
                        "text/html": "(0 rows affected)"
                    },
                    "metadata": {}
                },
                {
                    "output_type": "display_data",
                    "data": {
                        "text/html": "Total execution time: 00:00:00.032"
                    },
                    "metadata": {}
                },
                {
                    "output_type": "execute_result",
                    "execution_count": 7,
                    "data": {
                        "application/vnd.dataresource+json": {
                            "schema": {
                                "fields": [
                                    {
                                        "name": "name"
                                    },
                                    {
                                        "name": "surname"
                                    }
                                ]
                            },
                            "data": []
                        },
                        "text/html": "<table><tr><th>name</th><th>surname</th></tr></table>"
                    },
                    "metadata": {}
                }
            ],
            "execution_count": 7
        },
        {
            "cell_type": "markdown",
            "source": [
                "Query 4: Give the name of the employee(s) that had the highest salary on 1/1/2002"
            ],
            "metadata": {
                "language": "sql",
                "azdata_cell_guid": "0a7ee8ae-3223-4e91-9d0b-d2b5d06f5864"
            },
            "attachments": {}
        },
        {
            "cell_type": "code",
            "source": [
                "select e.fname as name, e.lname as surname, es.salary as salary\n",
                "from employee e \n",
                "join employeeSalary es on es.SSN = e.SSN \n",
                "where es.salary = (\n",
                "    select max(salary)\n",
                "    from employeeSalary es2\n",
                "    where cast(es2.fromDate as date) <= cast('01-01-2002' as date)\n",
                "    AND cast(es2.toDate as date) > cast('01-01-2002' as date)\n",
                ")\n",
                "    AND cast(es.fromDate as date) <= cast('01-01-2002' as date)\n",
                "    AND cast(es.toDate as date) > cast('01-01-2002' as date);"
            ],
            "metadata": {
                "language": "sql",
                "azdata_cell_guid": "e75420be-29b8-4783-9c0c-0518fa9de5ab",
                "tags": []
            },
            "outputs": [
                {
                    "output_type": "display_data",
                    "data": {
                        "text/html": "(1 row affected)"
                    },
                    "metadata": {}
                },
                {
                    "output_type": "display_data",
                    "data": {
                        "text/html": "Total execution time: 00:00:00.015"
                    },
                    "metadata": {}
                },
                {
                    "output_type": "execute_result",
                    "execution_count": 8,
                    "data": {
                        "application/vnd.dataresource+json": {
                            "schema": {
                                "fields": [
                                    {
                                        "name": "name"
                                    },
                                    {
                                        "name": "surname"
                                    },
                                    {
                                        "name": "salary"
                                    }
                                ]
                            },
                            "data": [
                                {
                                    "0": "James",
                                    "1": "Borg",
                                    "2": "58000"
                                }
                            ]
                        },
                        "text/html": "<table><tr><th>name</th><th>surname</th><th>salary</th></tr><tr><td>James</td><td>Borg</td><td>58000</td></tr></table>"
                    },
                    "metadata": {}
                }
            ],
            "execution_count": 8
        },
        {
            "cell_type": "markdown",
            "source": [
                "Query 5: Provide the salary and affiliation history for all employees"
            ],
            "metadata": {
                "language": "sql",
                "azdata_cell_guid": "48f1ca7b-f8e4-40ad-8d95-9b5ce9ae44c3"
            },
            "attachments": {}
        },
        {
            "cell_type": "code",
            "source": [
                "-- min of two dates\n",
                "create function minDate\n",
                "(@one smalldatetime, @two smalldatetime)\n",
                "returns smalldatetime as\n",
                "begin\n",
                "return CASE WHEN @one < @two then @one else @two end\n",
                "end\n",
                "go\n",
                "-- max of two dates\n",
                "create function maxDate\n",
                "(@one smalldatetime, @two smalldatetime)\n",
                "returns smalldatetime as\n",
                "begin\n",
                "return CASE WHEN @one > @two then @one else @two end\n",
                "end\n",
                "go"
            ],
            "metadata": {
                "language": "sql",
                "azdata_cell_guid": "bdbaa703-87ac-49d9-8ea2-bcdc7bae22ef"
            },
            "outputs": [
                {
                    "output_type": "display_data",
                    "data": {
                        "text/html": "Commands completed successfully."
                    },
                    "metadata": {}
                },
                {
                    "output_type": "display_data",
                    "data": {
                        "text/html": "Commands completed successfully."
                    },
                    "metadata": {}
                },
                {
                    "output_type": "display_data",
                    "data": {
                        "text/html": "(12 rows affected)"
                    },
                    "metadata": {}
                },
                {
                    "output_type": "display_data",
                    "data": {
                        "text/html": "Total execution time: 00:00:00.024"
                    },
                    "metadata": {}
                },
                {
                    "output_type": "execute_result",
                    "execution_count": 9,
                    "data": {
                        "application/vnd.dataresource+json": {
                            "schema": {
                                "fields": [
                                    {
                                        "name": "name"
                                    },
                                    {
                                        "name": "surname"
                                    },
                                    {
                                        "name": "dpt"
                                    },
                                    {
                                        "name": "salary"
                                    }
                                ]
                            },
                            "data": [
                                {
                                    "0": "Ahmad",
                                    "1": "Jabbar",
                                    "2": "Administration",
                                    "3": "25000"
                                },
                                {
                                    "0": "Alicia",
                                    "1": "Zelaya",
                                    "2": "Administration",
                                    "3": "25000"
                                },
                                {
                                    "0": "Franklin",
                                    "1": "Wong",
                                    "2": "Administration",
                                    "3": "40000"
                                },
                                {
                                    "0": "Franklin",
                                    "1": "Wong",
                                    "2": "Administration",
                                    "3": "45000"
                                },
                                {
                                    "0": "Franklin",
                                    "1": "Wong",
                                    "2": "Research",
                                    "3": "45000"
                                },
                                {
                                    "0": "James",
                                    "1": "Borg",
                                    "2": "Headquarters",
                                    "3": "55000"
                                },
                                {
                                    "0": "James",
                                    "1": "Borg",
                                    "2": "Headquarters",
                                    "3": "58000"
                                },
                                {
                                    "0": "Jennifer",
                                    "1": "Wallace",
                                    "2": "Administration",
                                    "3": "43000"
                                },
                                {
                                    "0": "John",
                                    "1": "Smith",
                                    "2": "Headquarters",
                                    "3": "30000"
                                },
                                {
                                    "0": "John",
                                    "1": "Smith",
                                    "2": "Research",
                                    "3": "30000"
                                },
                                {
                                    "0": "Joyce",
                                    "1": "English",
                                    "2": "Research",
                                    "3": "25000"
                                },
                                {
                                    "0": "Ramesh",
                                    "1": "Narayan",
                                    "2": "Research",
                                    "3": "38000"
                                }
                            ]
                        },
                        "text/html": "<table><tr><th>name</th><th>surname</th><th>dpt</th><th>salary</th></tr><tr><td>Ahmad</td><td>Jabbar</td><td>Administration</td><td>25000</td></tr><tr><td>Alicia</td><td>Zelaya</td><td>Administration</td><td>25000</td></tr><tr><td>Franklin</td><td>Wong</td><td>Administration</td><td>40000</td></tr><tr><td>Franklin</td><td>Wong</td><td>Administration</td><td>45000</td></tr><tr><td>Franklin</td><td>Wong</td><td>Research</td><td>45000</td></tr><tr><td>James</td><td>Borg</td><td>Headquarters</td><td>55000</td></tr><tr><td>James</td><td>Borg</td><td>Headquarters</td><td>58000</td></tr><tr><td>Jennifer</td><td>Wallace</td><td>Administration</td><td>43000</td></tr><tr><td>John</td><td>Smith</td><td>Headquarters</td><td>30000</td></tr><tr><td>John</td><td>Smith</td><td>Research</td><td>30000</td></tr><tr><td>Joyce</td><td>English</td><td>Research</td><td>25000</td></tr><tr><td>Ramesh</td><td>Narayan</td><td>Research</td><td>38000</td></tr></table>"
                    },
                    "metadata": {}
                }
            ],
            "execution_count": 9
        },
        {
            "cell_type": "code",
            "source": [
                "-- query\n",
                "select e.fname as name, e.lname as surname, d.dname as dpt, es.salary, dbo.maxDate(a.fromDate,es.fromDate) as fromDate, dbo.minDate(a.toDate, es.toDate) as toDate\n",
                "from employee e \n",
                "join affiliation a on a.SSN = e.SSN\n",
                "join department d on d.DNumber = a.DNumber\n",
                "join employeeSalary es on es.SSN = e.SSN\n",
                "where dbo.maxDate(a.fromDate,es.fromDate) < dbo.minDate(a.toDate, es.toDate)\n",
                "order by name, surname"
            ],
            "metadata": {
                "azdata_cell_guid": "e7e41a56-f248-4523-bd3f-06ffa0ad4773",
                "language": "sql"
            },
            "outputs": [
                {
                    "output_type": "display_data",
                    "data": {
                        "text/html": "(12 rows affected)"
                    },
                    "metadata": {}
                },
                {
                    "output_type": "display_data",
                    "data": {
                        "text/html": "Total execution time: 00:00:00.011"
                    },
                    "metadata": {}
                },
                {
                    "output_type": "execute_result",
                    "execution_count": 25,
                    "data": {
                        "application/vnd.dataresource+json": {
                            "schema": {
                                "fields": [
                                    {
                                        "name": "name"
                                    },
                                    {
                                        "name": "surname"
                                    },
                                    {
                                        "name": "dpt"
                                    },
                                    {
                                        "name": "salary"
                                    },
                                    {
                                        "name": "fromDate"
                                    },
                                    {
                                        "name": "toDate"
                                    }
                                ]
                            },
                            "data": [
                                {
                                    "0": "Ahmad",
                                    "1": "Jabbar",
                                    "2": "Administration",
                                    "3": "25000",
                                    "4": "1985-01-01 00:00:00",
                                    "5": "2079-01-01 00:00:00"
                                },
                                {
                                    "0": "Alicia",
                                    "1": "Zelaya",
                                    "2": "Administration",
                                    "3": "25000",
                                    "4": "1985-01-01 00:00:00",
                                    "5": "2079-01-01 00:00:00"
                                },
                                {
                                    "0": "Franklin",
                                    "1": "Wong",
                                    "2": "Administration",
                                    "3": "40000",
                                    "4": "1982-01-01 00:00:00",
                                    "5": "1983-01-01 00:00:00"
                                },
                                {
                                    "0": "Franklin",
                                    "1": "Wong",
                                    "2": "Administration",
                                    "3": "45000",
                                    "4": "1983-01-01 00:00:00",
                                    "5": "1984-01-01 00:00:00"
                                },
                                {
                                    "0": "Franklin",
                                    "1": "Wong",
                                    "2": "Research",
                                    "3": "45000",
                                    "4": "1984-01-01 00:00:00",
                                    "5": "2079-01-01 00:00:00"
                                },
                                {
                                    "0": "James",
                                    "1": "Borg",
                                    "2": "Headquarters",
                                    "3": "55000",
                                    "4": "1980-01-01 00:00:00",
                                    "5": "1981-01-01 00:00:00"
                                },
                                {
                                    "0": "James",
                                    "1": "Borg",
                                    "2": "Headquarters",
                                    "3": "58000",
                                    "4": "1981-01-01 00:00:00",
                                    "5": "2079-01-01 00:00:00"
                                },
                                {
                                    "0": "Jennifer",
                                    "1": "Wallace",
                                    "2": "Administration",
                                    "3": "43000",
                                    "4": "1982-01-01 00:00:00",
                                    "5": "2079-01-01 00:00:00"
                                },
                                {
                                    "0": "John",
                                    "1": "Smith",
                                    "2": "Headquarters",
                                    "3": "30000",
                                    "4": "1985-01-01 00:00:00",
                                    "5": "1986-01-01 00:00:00"
                                },
                                {
                                    "0": "John",
                                    "1": "Smith",
                                    "2": "Research",
                                    "3": "30000",
                                    "4": "1986-01-01 00:00:00",
                                    "5": "2079-01-01 00:00:00"
                                },
                                {
                                    "0": "Joyce",
                                    "1": "English",
                                    "2": "Research",
                                    "3": "25000",
                                    "4": "1985-01-01 00:00:00",
                                    "5": "2079-01-01 00:00:00"
                                },
                                {
                                    "0": "Ramesh",
                                    "1": "Narayan",
                                    "2": "Research",
                                    "3": "38000",
                                    "4": "1985-01-01 00:00:00",
                                    "5": "2079-01-01 00:00:00"
                                }
                            ]
                        },
                        "text/html": "<table><tr><th>name</th><th>surname</th><th>dpt</th><th>salary</th><th>fromDate</th><th>toDate</th></tr><tr><td>Ahmad</td><td>Jabbar</td><td>Administration</td><td>25000</td><td>1985-01-01 00:00:00</td><td>2079-01-01 00:00:00</td></tr><tr><td>Alicia</td><td>Zelaya</td><td>Administration</td><td>25000</td><td>1985-01-01 00:00:00</td><td>2079-01-01 00:00:00</td></tr><tr><td>Franklin</td><td>Wong</td><td>Administration</td><td>40000</td><td>1982-01-01 00:00:00</td><td>1983-01-01 00:00:00</td></tr><tr><td>Franklin</td><td>Wong</td><td>Administration</td><td>45000</td><td>1983-01-01 00:00:00</td><td>1984-01-01 00:00:00</td></tr><tr><td>Franklin</td><td>Wong</td><td>Research</td><td>45000</td><td>1984-01-01 00:00:00</td><td>2079-01-01 00:00:00</td></tr><tr><td>James</td><td>Borg</td><td>Headquarters</td><td>55000</td><td>1980-01-01 00:00:00</td><td>1981-01-01 00:00:00</td></tr><tr><td>James</td><td>Borg</td><td>Headquarters</td><td>58000</td><td>1981-01-01 00:00:00</td><td>2079-01-01 00:00:00</td></tr><tr><td>Jennifer</td><td>Wallace</td><td>Administration</td><td>43000</td><td>1982-01-01 00:00:00</td><td>2079-01-01 00:00:00</td></tr><tr><td>John</td><td>Smith</td><td>Headquarters</td><td>30000</td><td>1985-01-01 00:00:00</td><td>1986-01-01 00:00:00</td></tr><tr><td>John</td><td>Smith</td><td>Research</td><td>30000</td><td>1986-01-01 00:00:00</td><td>2079-01-01 00:00:00</td></tr><tr><td>Joyce</td><td>English</td><td>Research</td><td>25000</td><td>1985-01-01 00:00:00</td><td>2079-01-01 00:00:00</td></tr><tr><td>Ramesh</td><td>Narayan</td><td>Research</td><td>38000</td><td>1985-01-01 00:00:00</td><td>2079-01-01 00:00:00</td></tr></table>"
                    },
                    "metadata": {}
                }
            ],
            "execution_count": 25
        },
        {
            "cell_type": "markdown",
            "source": [
                "Query 6. Give the name of employees and the period of time in which they were supervisors but did not work in any project during the same period."
            ],
            "metadata": {
                "azdata_cell_guid": "88875583-5e05-485a-beae-8fa4a65545f1"
            },
            "attachments": {}
        },
        {
            "cell_type": "code",
            "source": [
                "--Case 1: periods in which the employee is supervisor, and was not working in any project at the beginning,\n",
                "-- but started working in some project at some point\n",
                "select S.supervisor, S.FromDate, W1.FromDate as ToDate\n",
                "from Supervision S, WorksOn W1\n",
                "where S.supervisor = W1.SSN\n",
                "and S.FromDate < W1.FromDate and W1.FromDate < S.ToDate\n",
                "and not exists ( select * from WorksOn W2 where S.supervisor = W2.SSN\n",
                "and S.FromDate < W2.ToDate and W2.FromDate < W1.FromDate )\n",
                "union\n",
                "--Case 2: periods in which the employee is supervisor, and worked in some project at the beginning, but\n",
                "-- stopped working in any project at some point\n",
                "select S.supervisor, W1.ToDate as FromDate, S.ToDate\n",
                "from Supervision S, WorksOn W1\n",
                "where S.supervisor = W1.SSN\n",
                "and S.FromDate < W1.ToDate and W1.ToDate < S.ToDate\n",
                "and not exists ( select * from WorksOn W2 where S.supervisor = W2.SSN\n",
                "and W1.ToDate < W2.ToDate and W2.FromDate < S.ToDate )\n",
                "union\n",
                "--Case 3: periods in which the employee is supervisor, and worked in some project at the beginning and in the end,\n",
                "-- but did not work in any project in between\n",
                "select S.supervisor, W1.ToDate as FromDate, W2.FromDate as ToDate\n",
                "from Supervision S, WorksOn W1, WorksOn W2\n",
                "where S.supervisor = W1.SSN and S.supervisor = W2.SSN and W1.ToDate < W2.FromDate\n",
                "and S.FromDate < W1.ToDate and W2.FromDate < S.ToDate\n",
                "and not exists ( select * from WorksOn W3 where S.supervisor = W3.SSN\n",
                "and W1.ToDate < W3.ToDate and W3.FromDate < W2.FromDate )\n",
                "union\n",
                "--Case 4: periods in which the employee is supervisor, and has not worked in a project in the whole period\n",
                "select supervisor, FromDate, ToDate from Supervision S\n",
                "where not exists ( select * from WorksOn W where S.supervisor=W.SSN\n",
                "and S.FromDate < W.ToDate and W.FromDate < S.ToDate )"
            ],
            "metadata": {
                "language": "sql",
                "azdata_cell_guid": "6ecf0422-d95a-4772-9df0-031fd9dae455"
            },
            "outputs": [
                {
                    "output_type": "display_data",
                    "data": {
                        "text/html": "(3 rows affected)"
                    },
                    "metadata": {}
                },
                {
                    "output_type": "display_data",
                    "data": {
                        "text/html": "Total execution time: 00:00:00.045"
                    },
                    "metadata": {}
                },
                {
                    "output_type": "execute_result",
                    "metadata": {},
                    "execution_count": 1,
                    "data": {
                        "application/vnd.dataresource+json": {
                            "schema": {
                                "fields": [
                                    {
                                        "name": "supervisor"
                                    },
                                    {
                                        "name": "FromDate"
                                    },
                                    {
                                        "name": "ToDate"
                                    }
                                ]
                            },
                            "data": [
                                {
                                    "0": "333445555",
                                    "1": "2002-01-01",
                                    "2": "2005-01-01"
                                },
                                {
                                    "0": "888665555",
                                    "1": "1982-01-01",
                                    "2": "1983-01-01"
                                },
                                {
                                    "0": "987654321",
                                    "1": "2002-01-01",
                                    "2": "2079-01-01"
                                }
                            ]
                        },
                        "text/html": [
                            "<table>",
                            "<tr><th>supervisor</th><th>FromDate</th><th>ToDate</th></tr>",
                            "<tr><td>333445555</td><td>2002-01-01</td><td>2005-01-01</td></tr>",
                            "<tr><td>888665555</td><td>1982-01-01</td><td>1983-01-01</td></tr>",
                            "<tr><td>987654321</td><td>2002-01-01</td><td>2079-01-01</td></tr>",
                            "</table>"
                        ]
                    }
                }
            ],
            "execution_count": 1
        },
        {
            "cell_type": "markdown",
            "source": [
                "Query 7. Give the name of supervisors who had work on a project at some time."
            ],
            "metadata": {
                "azdata_cell_guid": "a67d58bf-eaa7-46d3-bc8f-d2186e31f034"
            },
            "attachments": {}
        },
        {
            "cell_type": "code",
            "source": [
                "select distinct e.fname as name, e.lname as surname\n",
                "from employee e \n",
                "join supervision s on s.supervisor = e.SSN\n",
                "join worksOn w on w.SSN = e.SSN\n",
                "order by name, surname"
            ],
            "metadata": {
                "azdata_cell_guid": "8a1eb864-9a6d-49d0-9fb2-32940001bace",
                "language": "sql"
            },
            "outputs": [
                {
                    "output_type": "display_data",
                    "data": {
                        "text/html": "(3 rows affected)"
                    },
                    "metadata": {}
                },
                {
                    "output_type": "display_data",
                    "data": {
                        "text/html": "Total execution time: 00:00:00.004"
                    },
                    "metadata": {}
                },
                {
                    "output_type": "execute_result",
                    "metadata": {},
                    "execution_count": 6,
                    "data": {
                        "application/vnd.dataresource+json": {
                            "schema": {
                                "fields": [
                                    {
                                        "name": "name"
                                    },
                                    {
                                        "name": "surname"
                                    }
                                ]
                            },
                            "data": [
                                {
                                    "0": "Franklin",
                                    "1": "Wong"
                                },
                                {
                                    "0": "James",
                                    "1": "Borg"
                                },
                                {
                                    "0": "Jennifer",
                                    "1": "Wallace"
                                }
                            ]
                        },
                        "text/html": [
                            "<table>",
                            "<tr><th>name</th><th>surname</th></tr>",
                            "<tr><td>Franklin</td><td>Wong</td></tr>",
                            "<tr><td>James</td><td>Borg</td></tr>",
                            "<tr><td>Jennifer</td><td>Wallace</td></tr>",
                            "</table>"
                        ]
                    }
                }
            ],
            "execution_count": 6
        },
        {
            "cell_type": "markdown",
            "source": [
                "Query 8.  Give the name of employees and the date they changed their affiliation."
            ],
            "metadata": {
                "language": "sql",
                "azdata_cell_guid": "88a7d3f3-fdf2-4312-bb3e-60d29a81aced"
            },
            "attachments": {}
        },
        {
            "cell_type": "code",
            "source": [
                "select e.fname as name, e.lname as surname, a1.toDate as changeDate\n",
                "from employee e\n",
                "join affiliation a1 on a1.SSN = e.SSN\n",
                "join affiliation a2 on a2.SSN = e.SSN\n",
                "where a1.toDate = a2.fromDate and a1.DNumber <> a2.DNumber"
            ],
            "metadata": {
                "language": "sql",
                "azdata_cell_guid": "984b0922-59fa-4391-8260-8e5aa9eca046"
            },
            "outputs": [
                {
                    "output_type": "display_data",
                    "data": {
                        "text/html": "(2 rows affected)"
                    },
                    "metadata": {}
                },
                {
                    "output_type": "display_data",
                    "data": {
                        "text/html": "Total execution time: 00:00:00.013"
                    },
                    "metadata": {}
                },
                {
                    "output_type": "execute_result",
                    "metadata": {},
                    "execution_count": 7,
                    "data": {
                        "application/vnd.dataresource+json": {
                            "schema": {
                                "fields": [
                                    {
                                        "name": "name"
                                    },
                                    {
                                        "name": "surname"
                                    },
                                    {
                                        "name": "changeDate"
                                    }
                                ]
                            },
                            "data": [
                                {
                                    "0": "John",
                                    "1": "Smith",
                                    "2": "1986-01-01"
                                },
                                {
                                    "0": "Franklin",
                                    "1": "Wong",
                                    "2": "1984-01-01"
                                }
                            ]
                        },
                        "text/html": [
                            "<table>",
                            "<tr><th>name</th><th>surname</th><th>changeDate</th></tr>",
                            "<tr><td>John</td><td>Smith</td><td>1986-01-01</td></tr>",
                            "<tr><td>Franklin</td><td>Wong</td><td>1984-01-01</td></tr>",
                            "</table>"
                        ]
                    }
                }
            ],
            "execution_count": 7
        },
        {
            "cell_type": "markdown",
            "source": [
                "Query 9.  Give the name of employees and the periods they worked on any project"
            ],
            "metadata": {
                "language": "sql",
                "azdata_cell_guid": "bb5b7f27-a6b3-4697-bfa8-3d5872155609"
            },
            "attachments": {}
        },
        {
            "cell_type": "code",
            "source": [
                "select distinct e.Fname as name, e.LName as surname, w1.fromDate as fromDate, w2.toDate as toDate\n",
                "from employee e\n",
                "join worksOn w1 on w1.SSN = e.SSN\n",
                "join worksOn w2 on w2.SSN = e.SSN\n",
                "where w1.fromDate < w2.toDate and w2.fromDate <= w1.toDate\n",
                "    and \n",
                "    not exists(\n",
                "        select * from worksOn w3\n",
                "        where w3.SSN = w1.SSN and w3.fromDate < w1.fromDate and w3.toDate >= w1.fromDate\n",
                "    )\n",
                "    and\n",
                "    not exists(\n",
                "        select * from worksOn w3\n",
                "        where w3.SSN = e.SSN and w3.fromDate <= w2.toDate and w3.toDate > w2.toDate\n",
                "    )"
            ],
            "metadata": {
                "language": "sql",
                "azdata_cell_guid": "503fac1c-8af1-473f-89bc-ed4e55e6a153"
            },
            "outputs": [
                {
                    "output_type": "display_data",
                    "data": {
                        "text/html": "(9 rows affected)"
                    },
                    "metadata": {}
                },
                {
                    "output_type": "display_data",
                    "data": {
                        "text/html": "Total execution time: 00:00:00.013"
                    },
                    "metadata": {}
                },
                {
                    "output_type": "execute_result",
                    "metadata": {},
                    "execution_count": 22,
                    "data": {
                        "application/vnd.dataresource+json": {
                            "schema": {
                                "fields": [
                                    {
                                        "name": "name"
                                    },
                                    {
                                        "name": "surname"
                                    },
                                    {
                                        "name": "fromDate"
                                    },
                                    {
                                        "name": "toDate"
                                    }
                                ]
                            },
                            "data": [
                                {
                                    "0": "Ahmad",
                                    "1": "Jabbar",
                                    "2": "1985-01-01",
                                    "3": "2079-01-01"
                                },
                                {
                                    "0": "Alicia",
                                    "1": "Zelaya",
                                    "2": "1985-01-01",
                                    "3": "2079-01-01"
                                },
                                {
                                    "0": "Franklin",
                                    "1": "Wong",
                                    "2": "1982-01-01",
                                    "3": "2002-01-01"
                                },
                                {
                                    "0": "Franklin",
                                    "1": "Wong",
                                    "2": "2005-01-01",
                                    "3": "2079-01-01"
                                },
                                {
                                    "0": "James",
                                    "1": "Borg",
                                    "2": "1983-01-01",
                                    "3": "2079-01-01"
                                },
                                {
                                    "0": "Jennifer",
                                    "1": "Wallace",
                                    "2": "1982-01-01",
                                    "3": "2002-01-01"
                                },
                                {
                                    "0": "John",
                                    "1": "Smith",
                                    "2": "1985-01-01",
                                    "3": "2079-01-01"
                                },
                                {
                                    "0": "Joyce",
                                    "1": "English",
                                    "2": "1985-01-01",
                                    "3": "2079-01-01"
                                },
                                {
                                    "0": "Ramesh",
                                    "1": "Narayan",
                                    "2": "1985-01-01",
                                    "3": "2079-01-01"
                                }
                            ]
                        },
                        "text/html": [
                            "<table>",
                            "<tr><th>name</th><th>surname</th><th>fromDate</th><th>toDate</th></tr>",
                            "<tr><td>Ahmad</td><td>Jabbar</td><td>1985-01-01</td><td>2079-01-01</td></tr>",
                            "<tr><td>Alicia</td><td>Zelaya</td><td>1985-01-01</td><td>2079-01-01</td></tr>",
                            "<tr><td>Franklin</td><td>Wong</td><td>1982-01-01</td><td>2002-01-01</td></tr>",
                            "<tr><td>Franklin</td><td>Wong</td><td>2005-01-01</td><td>2079-01-01</td></tr>",
                            "<tr><td>James</td><td>Borg</td><td>1983-01-01</td><td>2079-01-01</td></tr>",
                            "<tr><td>Jennifer</td><td>Wallace</td><td>1982-01-01</td><td>2002-01-01</td></tr>",
                            "<tr><td>John</td><td>Smith</td><td>1985-01-01</td><td>2079-01-01</td></tr>",
                            "<tr><td>Joyce</td><td>English</td><td>1985-01-01</td><td>2079-01-01</td></tr>",
                            "<tr><td>Ramesh</td><td>Narayan</td><td>1985-01-01</td><td>2079-01-01</td></tr>",
                            "</table>"
                        ]
                    }
                }
            ],
            "execution_count": 22
        },
        {
            "cell_type": "code",
            "source": [
                "-- professor's solution\n",
                "select distinct E.SSN, E.FName, E.LName, F.FromDate, L.ToDate\n",
                "from Employee E, WorksOn F, WorksOn L\n",
                "where E.SSN = F.SSN and F.SSN = L.SSN and F.FromDate < L.ToDate\n",
                "and not exists ( select * from WorksOn M\n",
                "                where M.SSN = F.SSN\n",
                "                and F.FromDate < M.FromDate and M.FromDate <= L.ToDate\n",
                "                and not exists ( select * from WorksOn T1\n",
                "                where T1.SSN = F.SSN\n",
                "                and T1.FromDate < M.FromDate and M.FromDate <= T1.ToDate ) )\n",
                "and not exists ( select * from WorksOn T2\n",
                "                where T2.SSN = F.SSN\n",
                "                and ( ( T2.FromDate < F.FromDate and F.FromDate <= T2.ToDate )\n",
                "                or ( T2.FromDate <= L.ToDate and L.ToDate < T2.ToDate ) ) )\n",
                "order by e.Fname, e.LName"
            ],
            "metadata": {
                "language": "sql",
                "azdata_cell_guid": "7ef6c506-c501-40a5-9666-dc7330a4f0c5",
                "tags": []
            },
            "outputs": [
                {
                    "output_type": "display_data",
                    "data": {
                        "text/html": "(9 rows affected)"
                    },
                    "metadata": {}
                },
                {
                    "output_type": "display_data",
                    "data": {
                        "text/html": "Total execution time: 00:00:00.007"
                    },
                    "metadata": {}
                },
                {
                    "output_type": "execute_result",
                    "metadata": {},
                    "execution_count": 19,
                    "data": {
                        "application/vnd.dataresource+json": {
                            "schema": {
                                "fields": [
                                    {
                                        "name": "SSN"
                                    },
                                    {
                                        "name": "FName"
                                    },
                                    {
                                        "name": "LName"
                                    },
                                    {
                                        "name": "FromDate"
                                    },
                                    {
                                        "name": "ToDate"
                                    }
                                ]
                            },
                            "data": [
                                {
                                    "0": "987987987",
                                    "1": "Ahmad",
                                    "2": "Jabbar",
                                    "3": "1985-01-01",
                                    "4": "2079-01-01"
                                },
                                {
                                    "0": "999887777",
                                    "1": "Alicia",
                                    "2": "Zelaya",
                                    "3": "1985-01-01",
                                    "4": "2079-01-01"
                                },
                                {
                                    "0": "333445555",
                                    "1": "Franklin",
                                    "2": "Wong",
                                    "3": "1982-01-01",
                                    "4": "2002-01-01"
                                },
                                {
                                    "0": "333445555",
                                    "1": "Franklin",
                                    "2": "Wong",
                                    "3": "2005-01-01",
                                    "4": "2079-01-01"
                                },
                                {
                                    "0": "888665555",
                                    "1": "James",
                                    "2": "Borg",
                                    "3": "1983-01-01",
                                    "4": "2079-01-01"
                                },
                                {
                                    "0": "987654321",
                                    "1": "Jennifer",
                                    "2": "Wallace",
                                    "3": "1982-01-01",
                                    "4": "2002-01-01"
                                },
                                {
                                    "0": "123456789",
                                    "1": "John",
                                    "2": "Smith",
                                    "3": "1985-01-01",
                                    "4": "2079-01-01"
                                },
                                {
                                    "0": "453453453",
                                    "1": "Joyce",
                                    "2": "English",
                                    "3": "1985-01-01",
                                    "4": "2079-01-01"
                                },
                                {
                                    "0": "666884444",
                                    "1": "Ramesh",
                                    "2": "Narayan",
                                    "3": "1985-01-01",
                                    "4": "2079-01-01"
                                }
                            ]
                        },
                        "text/html": [
                            "<table>",
                            "<tr><th>SSN</th><th>FName</th><th>LName</th><th>FromDate</th><th>ToDate</th></tr>",
                            "<tr><td>987987987</td><td>Ahmad</td><td>Jabbar</td><td>1985-01-01</td><td>2079-01-01</td></tr>",
                            "<tr><td>999887777</td><td>Alicia</td><td>Zelaya</td><td>1985-01-01</td><td>2079-01-01</td></tr>",
                            "<tr><td>333445555</td><td>Franklin</td><td>Wong</td><td>1982-01-01</td><td>2002-01-01</td></tr>",
                            "<tr><td>333445555</td><td>Franklin</td><td>Wong</td><td>2005-01-01</td><td>2079-01-01</td></tr>",
                            "<tr><td>888665555</td><td>James</td><td>Borg</td><td>1983-01-01</td><td>2079-01-01</td></tr>",
                            "<tr><td>987654321</td><td>Jennifer</td><td>Wallace</td><td>1982-01-01</td><td>2002-01-01</td></tr>",
                            "<tr><td>123456789</td><td>John</td><td>Smith</td><td>1985-01-01</td><td>2079-01-01</td></tr>",
                            "<tr><td>453453453</td><td>Joyce</td><td>English</td><td>1985-01-01</td><td>2079-01-01</td></tr>",
                            "<tr><td>666884444</td><td>Ramesh</td><td>Narayan</td><td>1985-01-01</td><td>2079-01-01</td></tr>",
                            "</table>"
                        ]
                    }
                }
            ],
            "execution_count": 19
        },
        {
            "cell_type": "markdown",
            "source": [
                "Query 10. Give the history of the maximum salary"
            ],
            "metadata": {
                "azdata_cell_guid": "942f2973-96b3-42b9-8703-d6d18b2a7932"
            },
            "attachments": {}
        },
        {
            "cell_type": "code",
            "source": [
                "with Instants(Instant) AS ( -- All time points in salary timeline\n",
                "            select distinct E.FromDate from EmployeeSalary E\n",
                "            union\n",
                "            select distinct E.ToDate from EmployeeSalary E),\n",
                "    Intervals(FromDate,ToDate) AS ( -- All consecutive instants\n",
                "            select distinct I1.Instant, I2.Instant\n",
                "            from Instants I1, Instants I2\n",
                "            where I1.Instant < I2.Instant\n",
                "            and not exists ( select *\n",
                "                            from Instants I3\n",
                "                            where I1.Instant < I3.Instant\n",
                "                            and I3.Instant < I2.Instant ) ),\n",
                "    TempMax(SalaryMax, FromDate, ToDate) AS ( -- Obtain the max salary in each interval by computing the maximum\n",
                "                                            -- of all salaries that are active in each interval\n",
                "            select max(E.Salary), I.FromDate, I.ToDate\n",
                "            from EmployeeSalary E, Intervals I\n",
                "            where E.FromDate <= I.FromDate -- E was earning the salary before I started\n",
                "            and I.ToDate <= E.ToDate -- E continued ending the salary after I started\n",
                "            group by I.FromDate, I.ToDate )\n",
                "select distinct F.SalaryMax, F.FromDate, L.ToDate -- The actual select (Coalesce values)\n",
                "    from TempMax F join TempMax L on L.salaryMax = F.salaryMax -- Periods of same max salary\n",
                "    where F.FromDate < L.ToDate -- F starts before L finishes\n",
                "    and not exists ( select * -- Every interval M starting after L started and before F ended\n",
                "                              -- must start inside a single interval T1\n",
                "                    from TempMax M\n",
                "                    where M.SalaryMax = F.SalaryMax\n",
                "                        and F.ToDate < M.FromDate and M.FromDate <= L.FromDate\n",
                "                        and not exists ( select *\n",
                "                                        from TempMax T1\n",
                "                                        where T1.SalaryMax = F.SalaryMax\n",
                "                                        and T1.FromDate < M.FromDate and M.FromDate <= T1.ToDate ) )\n",
                "    and not exists ( select * -- There is no T2 extending F to the left nor L to the right\n",
                "                    from TempMax T2\n",
                "                    where T2.SalaryMax = F.SalaryMax\n",
                "                    and ( ( T2.FromDate < F.FromDate and F.FromDate <= T2.ToDate )\n",
                "                    or ( T2.FromDate <= L.ToDate and L.ToDate < T2.ToDate ) ) )\n",
                "    order by F.FromDate"
            ],
            "metadata": {
                "azdata_cell_guid": "b4d3a381-5ac4-4e57-bbc4-9ea64df4c843",
                "language": "sql"
            },
            "outputs": [
                {
                    "output_type": "display_data",
                    "data": {
                        "text/html": "(2 rows affected)"
                    },
                    "metadata": {}
                },
                {
                    "output_type": "display_data",
                    "data": {
                        "text/html": "Total execution time: 00:00:00.038"
                    },
                    "metadata": {}
                },
                {
                    "output_type": "execute_result",
                    "metadata": {},
                    "execution_count": 21,
                    "data": {
                        "application/vnd.dataresource+json": {
                            "schema": {
                                "fields": [
                                    {
                                        "name": "SalaryMax"
                                    },
                                    {
                                        "name": "FromDate"
                                    },
                                    {
                                        "name": "ToDate"
                                    }
                                ]
                            },
                            "data": [
                                {
                                    "0": "55000",
                                    "1": "1980-01-01",
                                    "2": "1981-01-01"
                                },
                                {
                                    "0": "58000",
                                    "1": "1981-01-01",
                                    "2": "2079-01-01"
                                }
                            ]
                        },
                        "text/html": [
                            "<table>",
                            "<tr><th>SalaryMax</th><th>FromDate</th><th>ToDate</th></tr>",
                            "<tr><td>55000</td><td>1980-01-01</td><td>1981-01-01</td></tr>",
                            "<tr><td>58000</td><td>1981-01-01</td><td>2079-01-01</td></tr>",
                            "</table>"
                        ]
                    }
                }
            ],
            "execution_count": 21
        },
        {
            "cell_type": "markdown",
            "source": [
                "Query 11. Give by department the history of the maximum salary"
            ],
            "metadata": {
                "azdata_cell_guid": "dbcf0447-9de7-4c84-bc1b-be6f0344d536"
            },
            "attachments": {}
        },
        {
            "cell_type": "code",
            "source": [
                "with Instants(Instant) AS (\n",
                "            select distinct E.FromDate from EmployeeSalary E\n",
                "            union\n",
                "            select distinct E.ToDate from EmployeeSalary E),\n",
                "    Intervals(FromDate,ToDate) AS (\n",
                "            select distinct I1.Instant, I2.Instant\n",
                "            from Instants I1, Instants I2\n",
                "            where I1.Instant < I2.Instant\n",
                "            and not exists ( select *\n",
                "                            from Instants I3\n",
                "                            where I1.Instant < I3.Instant\n",
                "                            and I3.Instant < I2.Instant ) ),\n",
                "    TempMax(DNumber, SalaryMax, FromDate, ToDate) AS (\n",
                "            select a.DNumber, max(E.Salary), I.FromDate, I.ToDate\n",
                "            from affiliation a, EmployeeSalary E, Intervals I -- Add the affiliation\n",
                "            where a.SSN = E.SSN and E.FromDate <= I.FromDate -- join by SSN\n",
                "            and I.ToDate <= E.ToDate\n",
                "            group by a.DNumber, I.FromDate, I.ToDate ) -- group by DNumber\n",
                "select distinct F.DNumber, F.SalaryMax, F.FromDate, L.ToDate \n",
                "    from TempMax F join TempMax L on L.salaryMax = F.salaryMax \n",
                "    where F.FromDate < L.ToDate and F.DNumber = L.DNumber -- Join also by Department\n",
                "    and not exists ( select * \n",
                "                    from TempMax M\n",
                "                    where M.SalaryMax = F.SalaryMax and M.DNumber = F.DNumber -- Join also by department\n",
                "                        and F.ToDate < M.FromDate and M.FromDate <= L.FromDate\n",
                "                        and not exists ( select *\n",
                "                                        from TempMax T1\n",
                "                                        where T1.SalaryMax = F.SalaryMax and T1.DNumber = F.DNumber -- Join also by dpt\n",
                "                                        and T1.FromDate < M.FromDate and M.FromDate <= T1.ToDate ) )\n",
                "    and not exists ( select *\n",
                "                    from TempMax T2\n",
                "                    where T2.SalaryMax = F.SalaryMax and T2.DNumber = F.DNumber -- Join also by dpt\n",
                "                    and ( ( T2.FromDate < F.FromDate and F.FromDate <= T2.ToDate )\n",
                "                    or ( T2.FromDate <= L.ToDate and L.ToDate < T2.ToDate ) ) )\n",
                "    order by DNumber, F.FromDate"
            ],
            "metadata": {
                "azdata_cell_guid": "48272f29-cf2a-4857-ae84-f1ddbacb0ce9",
                "language": "sql"
            },
            "outputs": [
                {
                    "output_type": "display_data",
                    "data": {
                        "text/html": "(6 rows affected)"
                    },
                    "metadata": {}
                },
                {
                    "output_type": "display_data",
                    "data": {
                        "text/html": "Total execution time: 00:00:00.042"
                    },
                    "metadata": {}
                },
                {
                    "output_type": "execute_result",
                    "metadata": {},
                    "execution_count": 27,
                    "data": {
                        "application/vnd.dataresource+json": {
                            "schema": {
                                "fields": [
                                    {
                                        "name": "DNumber"
                                    },
                                    {
                                        "name": "SalaryMax"
                                    },
                                    {
                                        "name": "FromDate"
                                    },
                                    {
                                        "name": "ToDate"
                                    }
                                ]
                            },
                            "data": [
                                {
                                    "0": "1",
                                    "1": "55000",
                                    "2": "1980-01-01",
                                    "3": "1981-01-01"
                                },
                                {
                                    "0": "1",
                                    "1": "58000",
                                    "2": "1981-01-01",
                                    "3": "2079-01-01"
                                },
                                {
                                    "0": "4",
                                    "1": "43000",
                                    "2": "1982-01-01",
                                    "3": "1983-01-01"
                                },
                                {
                                    "0": "4",
                                    "1": "45000",
                                    "2": "1983-01-01",
                                    "3": "2079-01-01"
                                },
                                {
                                    "0": "5",
                                    "1": "40000",
                                    "2": "1982-01-01",
                                    "3": "1983-01-01"
                                },
                                {
                                    "0": "5",
                                    "1": "45000",
                                    "2": "1983-01-01",
                                    "3": "2079-01-01"
                                }
                            ]
                        },
                        "text/html": [
                            "<table>",
                            "<tr><th>DNumber</th><th>SalaryMax</th><th>FromDate</th><th>ToDate</th></tr>",
                            "<tr><td>1</td><td>55000</td><td>1980-01-01</td><td>1981-01-01</td></tr>",
                            "<tr><td>1</td><td>58000</td><td>1981-01-01</td><td>2079-01-01</td></tr>",
                            "<tr><td>4</td><td>43000</td><td>1982-01-01</td><td>1983-01-01</td></tr>",
                            "<tr><td>4</td><td>45000</td><td>1983-01-01</td><td>2079-01-01</td></tr>",
                            "<tr><td>5</td><td>40000</td><td>1982-01-01</td><td>1983-01-01</td></tr>",
                            "<tr><td>5</td><td>45000</td><td>1983-01-01</td><td>2079-01-01</td></tr>",
                            "</table>"
                        ]
                    }
                }
            ],
            "execution_count": 27
        },
        {
            "cell_type": "code",
            "source": [
                "WITH Aff_Sal (DNumber, Salary, FromDate, ToDate) AS ( -- Temporal join of affiliation and salary\n",
                "        select distinct A.DNumber, S.Salary, dbo.maxDate(S.FromDate,A.FromDate), dbo.minDate(S.ToDate,A.ToDate)\n",
                "        from Affiliation A, EmployeeSalary S\n",
                "        where A.SSN = S.SSN\n",
                "        and dbo.maxDate(S.FromDate,A.FromDate) < dbo.minDate(S.ToDate,A.ToDate) ),\n",
                "    SalChanges(DNumber, Instant) AS (\n",
                "        select distinct DNumber, FromDate from Aff_Sal\n",
                "        union select distinct DNumber, ToDate from Aff_Sal ),\n",
                "SalIntervals(DNumber, FromDate, ToDate) AS (\n",
                "select distinct P1.DNumber, P1.Instant, P2.Instant\n",
                "from SalChanges P1, SalChanges P2\n",
                "where P1.DNumber=P2.DNumber and P1.Instant<P2.Instant\n",
                "and not exists ( select * from SalChanges P3\n",
                "where P1.DNumber = P3.DNumber and P1.Instant < P3.Instant\n",
                "and P3.Instant < P2.Instant ) ),\n",
                "-- Second step: Compute the maximum salary for the\n",
                "-- above periods.\n",
                "TempMaxDep(DNumber, MaxSalary, FromDate, ToDate) AS (\n",
                "select P.DNumber, max(Salary), P.FromDate, P.ToDate\n",
                "from Aff_Sal A, SalIntervals P\n",
                "where A.DNumber = P.DNumber\n",
                "and A.FromDate <= P.FromDate and P.ToDate <= A.ToDate\n",
                "group by P.DNumber, P.FromDate, P.ToDate )\n",
                "-- Third step: Coalescing the above table\n",
                "select distinct F.DNumber, F.MaxSalary, F.FromDate, L.ToDate\n",
                "from TempMaxDep F, TempMaxDep L\n",
                "where F.DNumber = L.DNumber and F.MaxSalary = L.MaxSalary\n",
                "and F.FromDate < L.ToDate\n",
                "and not exists ( select *\n",
                "from TempMaxDep M\n",
                "where F.DNumber = M.DNumber and F.MaxSalary = M.MaxSalary\n",
                "and F.ToDate < M.FromDate and M.FromDate <= L.FromDate\n",
                "and not exists ( select *\n",
                "from TempMaxDep T1\n",
                "where F.DNumber = T1.DNumber and F.MaxSalary = T1.MaxSalary\n",
                "and T1.FromDate < M.FromDate and M.FromDate <= T1.ToDate ) )\n",
                "and not exists ( select *\n",
                "from TempMaxDep T2\n",
                "where F.DNumber = T2.DNumber and F.MaxSalary = T2.MaxSalary\n",
                "and ( ( T2.FromDate < F.FromDate and F.FromDate <= T2.ToDate )\n",
                "or ( T2.FromDate <= L.ToDate and L.ToDate < T2.ToDate ) ) )\n",
                "order by F.DNumber, F.FromDate"
            ],
            "metadata": {
                "azdata_cell_guid": "5bd105ef-0903-47cf-a22d-ce5f1649456a",
                "language": "sql"
            },
            "outputs": [
                {
                    "output_type": "display_data",
                    "data": {
                        "text/html": "(6 rows affected)"
                    },
                    "metadata": {}
                },
                {
                    "output_type": "display_data",
                    "data": {
                        "text/html": "Total execution time: 00:00:00.181"
                    },
                    "metadata": {}
                },
                {
                    "output_type": "execute_result",
                    "metadata": {},
                    "execution_count": 28,
                    "data": {
                        "application/vnd.dataresource+json": {
                            "schema": {
                                "fields": [
                                    {
                                        "name": "DNumber"
                                    },
                                    {
                                        "name": "MaxSalary"
                                    },
                                    {
                                        "name": "FromDate"
                                    },
                                    {
                                        "name": "ToDate"
                                    }
                                ]
                            },
                            "data": [
                                {
                                    "0": "1",
                                    "1": "55000",
                                    "2": "1980-01-01 00:00:00",
                                    "3": "1981-01-01 00:00:00"
                                },
                                {
                                    "0": "1",
                                    "1": "58000",
                                    "2": "1981-01-01 00:00:00",
                                    "3": "2079-01-01 00:00:00"
                                },
                                {
                                    "0": "4",
                                    "1": "43000",
                                    "2": "1982-01-01 00:00:00",
                                    "3": "1983-01-01 00:00:00"
                                },
                                {
                                    "0": "4",
                                    "1": "45000",
                                    "2": "1983-01-01 00:00:00",
                                    "3": "1984-01-01 00:00:00"
                                },
                                {
                                    "0": "4",
                                    "1": "43000",
                                    "2": "1984-01-01 00:00:00",
                                    "3": "2079-01-01 00:00:00"
                                },
                                {
                                    "0": "5",
                                    "1": "45000",
                                    "2": "1984-01-01 00:00:00",
                                    "3": "2079-01-01 00:00:00"
                                }
                            ]
                        },
                        "text/html": [
                            "<table>",
                            "<tr><th>DNumber</th><th>MaxSalary</th><th>FromDate</th><th>ToDate</th></tr>",
                            "<tr><td>1</td><td>55000</td><td>1980-01-01 00:00:00</td><td>1981-01-01 00:00:00</td></tr>",
                            "<tr><td>1</td><td>58000</td><td>1981-01-01 00:00:00</td><td>2079-01-01 00:00:00</td></tr>",
                            "<tr><td>4</td><td>43000</td><td>1982-01-01 00:00:00</td><td>1983-01-01 00:00:00</td></tr>",
                            "<tr><td>4</td><td>45000</td><td>1983-01-01 00:00:00</td><td>1984-01-01 00:00:00</td></tr>",
                            "<tr><td>4</td><td>43000</td><td>1984-01-01 00:00:00</td><td>2079-01-01 00:00:00</td></tr>",
                            "<tr><td>5</td><td>45000</td><td>1984-01-01 00:00:00</td><td>2079-01-01 00:00:00</td></tr>",
                            "</table>"
                        ]
                    }
                }
            ],
            "execution_count": 28
        }
    ]
}