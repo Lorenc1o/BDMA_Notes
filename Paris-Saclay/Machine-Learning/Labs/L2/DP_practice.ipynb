{
 "cells": [
  {
   "cell_type": "markdown",
   "metadata": {
    "id": "Hr2tPjlrf-rP"
   },
   "source": [
    "# Practice Session 1: Policy and Value Iteration"
   ]
  },
  {
   "cell_type": "code",
   "execution_count": 1,
   "metadata": {
    "id": "VYZ_hFDkXuY0"
   },
   "outputs": [],
   "source": [
    "import time\n",
    "import random"
   ]
  },
  {
   "cell_type": "markdown",
   "metadata": {
    "id": "yqPq-DrFG3se"
   },
   "source": [
    "### Environments and tasks\n",
    "\n",
    "An MDP is a model of Reinforcement Learning tasks. It comprises of:\n",
    "* a **state space** $\\mathcal{S}$\n",
    "* a **action space** $\\mathcal{A}$\n",
    "* a **starting-state distribution** $\\nu_0(s)$\n",
    "* a **reward function** $r: \\mathcal{S}\\times\\mathcal{A}\\rightarrow [0,1]$ (or vector $r\\in[0,1]^{|\\mathcal{S}|\\cdot|\\mathcal{A}|}$)\n",
    "* a **transition function** $p: \\mathcal{S}\\times\\mathcal{A}\\rightarrow \\Delta_{\\mathcal{S}}$ (or matrix $p \\in\\mathbb{R}^{|\\mathcal{S}|\\cdot|\\mathcal{A}|\\times|\\mathcal{S}|}$)\n",
    "\n",
    "where $\\Delta_{\\mathcal{S}} = \\{q\\in\\mathbb{R}^{|\\mathcal{S}|} \\,\\,|\\,\\, \\sum_{s\\in\\mathcal{S}}q(s) = 1,\\, q(s)\\geq 0 \\text{ for } s\\in\\mathcal{S}\\}$"
   ]
  },
  {
   "cell_type": "markdown",
   "metadata": {
    "id": "PsQticuSJmdO"
   },
   "source": [
    "Interaction between an agent (or decision maker) and some environment (or task) in some round $t$:\n",
    "\n",
    "<div>\n",
    "<img src=\"https://drive.google.com/uc?export=view&id=11KyhHxuaileBEJ9fFZmIS5-GzncQgyqt\" alt=\"agent-environment interaction\" width=\"600\"/>\n",
    "</div>\n",
    "\n",
    "The agent is equipped with a policy $\\pi$ mapping states to actions (or a distribution over actions)."
   ]
  },
  {
   "cell_type": "markdown",
   "metadata": {
    "id": "ob8WriuZLh-g"
   },
   "source": [
    "### The Gym(nasium) interface\n",
    "\n",
    "[Gymnasium](https://gymnasium.farama.org/) is a standard API for Decision Processes, based on OpenAI's Gym library."
   ]
  },
  {
   "cell_type": "code",
   "execution_count": 3,
   "metadata": {
    "id": "JgaqoJNTOi6o"
   },
   "outputs": [],
   "source": [
    "# Standard import\n",
    "import gymnasium as gym\n",
    "from gymnasium import Env"
   ]
  },
  {
   "cell_type": "markdown",
   "metadata": {
    "id": "yDwwk5BL1eRQ"
   },
   "source": [
    "The library also defines a number of classic benchmarks [Atari](https://gymnasium.farama.org/environments/atari/) games, [MuJoCo](https://gymnasium.farama.org/environments/mujoco/) simulations, and [ToyText](https://gymnasium.farama.org/environments/toy_text/), minimal environments for debugging.\n"
   ]
  },
  {
   "cell_type": "code",
   "execution_count": 4,
   "metadata": {
    "id": "DlzPIsH23hpE"
   },
   "outputs": [
    {
     "name": "stdout",
     "output_type": "stream",
     "text": [
      "Discrete(4)\n",
      "Discrete(48)\n"
     ]
    }
   ],
   "source": [
    "# A registered environment (for example Cliff Walking) can be instantiated with\n",
    "env = gym.make(\"CliffWalking-v0\")\n",
    "\n",
    "# Important properties:\n",
    "print(env.action_space)\n",
    "print(env.observation_space)"
   ]
  },
  {
   "cell_type": "markdown",
   "metadata": {
    "id": "XXhGGkAI7XEh"
   },
   "source": [
    "We only consider discrete state and action spaces. See the possible alternatives: `dir(gym.spaces)`\n",
    "\n",
    "Environments can be fully observable, partially observable or non-stationary. All these variants fit the same environment interface.\n",
    "We should know which class our environment belongs to.\n",
    "Today, we only consider stationary and fully observable MDPs."
   ]
  },
  {
   "cell_type": "markdown",
   "metadata": {
    "id": "fNcySyOGACgZ"
   },
   "source": [
    "The environment interface allows  to sample initial states and transition with `env.reset()` and `env.step(action)`. Every method is well documented (see `help(gym.Env.step)`).\n",
    "\n",
    "Try it out!"
   ]
  },
  {
   "cell_type": "code",
   "execution_count": 5,
   "metadata": {
    "id": "Wnymj388egTo"
   },
   "outputs": [
    {
     "name": "stdout",
     "output_type": "stream",
     "text": [
      "Initial observation: 36\n",
      "Observation: 24, reward -1\n",
      "Observation: 12, reward -1\n",
      "Observation: 0, reward -1\n"
     ]
    }
   ],
   "source": [
    "observation, info = env.reset()\n",
    "print(f\"Initial observation: {observation}\")\n",
    "\n",
    "action = 0  # any action\n",
    "\n",
    "observation, reward, terminated, truncated, info = env.step(action)\n",
    "print(f\"Observation: {observation}, reward {reward}\")\n",
    "\n",
    "observation, reward, terminated, truncated, info = env.step(action)\n",
    "print(f\"Observation: {observation}, reward {reward}\")\n",
    "\n",
    "observation, reward, terminated, truncated, info = env.step(action)\n",
    "print(f\"Observation: {observation}, reward {reward}\")"
   ]
  },
  {
   "cell_type": "markdown",
   "metadata": {
    "id": "5xffKa7UfiOC"
   },
   "source": [
    "Custom environments can be created by subclassing the `Env` class.\n",
    "\n",
    "Environments can be also modified with wrappers. See the predefined Gymnasium [Wrappers](https://gymnasium.farama.org/api/wrappers/#gymnasium-wrappers)."
   ]
  },
  {
   "cell_type": "markdown",
   "metadata": {
    "id": "gHgub_3DH-9V"
   },
   "source": [
    "## Setting up our RL task\n",
    "\n"
   ]
  },
  {
   "cell_type": "markdown",
   "metadata": {
    "id": "_QotsgLalKv4"
   },
   "source": [
    "We experiment with a simple grid-world environment, based on the implementation in [minigrid](https://minigrid.farama.org/environments/minigrid/). The environment is configured and observations are transformed appropriately (you already know how)."
   ]
  },
  {
   "cell_type": "code",
   "execution_count": 7,
   "metadata": {
    "id": "dzPxVxymjlZr"
   },
   "outputs": [
    {
     "name": "stdout",
     "output_type": "stream",
     "text": [
      "WWWWW\n",
      "W>  W\n",
      "W   W\n",
      "W  GW\n",
      "WWWWW\n"
     ]
    },
    {
     "name": "stderr",
     "output_type": "stream",
     "text": [
      "/home/jose/.local/lib/python3.10/site-packages/gymnasium/core.py:311: UserWarning: \u001b[33mWARN: env.grid to get variables from other wrappers is deprecated and will be removed in v1.0, to get this variable you can do `env.unwrapped.grid` for environment variables or `env.get_wrapper_attr('grid')` that will search the reminding wrappers.\u001b[0m\n",
      "  logger.warn(\n",
      "/home/jose/.local/lib/python3.10/site-packages/gymnasium/core.py:311: UserWarning: \u001b[33mWARN: env.agent_pos to get variables from other wrappers is deprecated and will be removed in v1.0, to get this variable you can do `env.unwrapped.agent_pos` for environment variables or `env.get_wrapper_attr('agent_pos')` that will search the reminding wrappers.\u001b[0m\n",
      "  logger.warn(\n",
      "/home/jose/.local/lib/python3.10/site-packages/gymnasium/core.py:311: UserWarning: \u001b[33mWARN: env.agent_dir to get variables from other wrappers is deprecated and will be removed in v1.0, to get this variable you can do `env.unwrapped.agent_dir` for environment variables or `env.get_wrapper_attr('agent_dir')` that will search the reminding wrappers.\u001b[0m\n",
      "  logger.warn(\n"
     ]
    }
   ],
   "source": [
    "from environments import Room, MinigridBase\n",
    "\n",
    "\n",
    "# Initializing the environment\n",
    "env = Room(\n",
    "    failure=0.0,\n",
    "    agent_start_pos=(1, 1),\n",
    "    agent_start_dir=0,\n",
    "    size=5,\n",
    ")\n",
    "print(env)"
   ]
  },
  {
   "cell_type": "markdown",
   "metadata": {
    "id": "AA74pMHsl_be"
   },
   "source": [
    "In this ASCII representation, > is the agent, facing right, G is the goal, and W are walls.\n",
    "\n",
    "Understand you own environment:"
   ]
  },
  {
   "cell_type": "code",
   "execution_count": 8,
   "metadata": {
    "id": "pY4EV-n0mH-d"
   },
   "outputs": [
    {
     "name": "stdout",
     "output_type": "stream",
     "text": [
      "Action space: Discrete(3)\n",
      "Observation space: MultiDiscrete([5 5 4])\n",
      "\n"
     ]
    }
   ],
   "source": [
    "print(\"Action space:\", env.action_space)\n",
    "print(\"Observation space:\", env.observation_space, end=\"\\n\\n\")\n",
    "#print(help(MinigridBase))"
   ]
  },
  {
   "cell_type": "markdown",
   "metadata": {
    "id": "Tk3VBz-ZmsvM"
   },
   "source": [
    "When you checkout `help(env)`:\n",
    "\n",
    "    class MinigridBase\n",
    "       MinigridBase(minigrid: minigrid.minigrid_env.MiniGridEnv, seed: int, failure=0.0)\n",
    "\n",
    "       Base class for minigrid environments with explicit transition and reward functions.\n",
    "\n",
    "       The agent is rewarded upon reaching the goal location.\n",
    "\n",
    "       Action space:\n",
    "\n",
    "       | Num | Name         | Action       |\n",
    "       |-----|--------------|--------------|\n",
    "       | 0   | left         | Turn left    |\n",
    "       | 1   | right        | Turn right   |\n",
    "       | 2   | forward      | Move forward |\n",
    "\n",
    "       Observation space:\n",
    "\n",
    "       | Name | Description             |\n",
    "       |------|-------------------------|\n",
    "       | x    | x coordinate            |\n",
    "       | y    | y coordinate (downward) |\n",
    "       | dir  | cardinal direction      |\n",
    "\n",
    "       The transition function is stored in `T`,\n",
    "       where `T[state][action][next_state]` is the transition probability.\n",
    "       The reward function is `R`. `R[state][action]` contains a reward."
   ]
  },
  {
   "cell_type": "markdown",
   "metadata": {
    "id": "nOD43HaO2M6X"
   },
   "source": [
    "### Demo\n",
    "\n",
    "Here's a rollout loop, for a single trajectory"
   ]
  },
  {
   "cell_type": "code",
   "execution_count": 9,
   "metadata": {
    "id": "ugRanvqJo4RW"
   },
   "outputs": [
    {
     "name": "stdout",
     "output_type": "stream",
     "text": [
      "Initial observation: [1 1 0]\n",
      "WWWWW\n",
      "W>  W\n",
      "W   W\n",
      "W  GW\n",
      "WWWWW\n",
      "Observation: [1 1 1], reward 0.0, terminated False, truncated False\n",
      "WWWWW\n",
      "WV  W\n",
      "W   W\n",
      "W  GW\n",
      "WWWWW\n",
      "Observation: [1 2 1], reward 0.0, terminated False, truncated False\n",
      "WWWWW\n",
      "W   W\n",
      "WV  W\n",
      "W  GW\n",
      "WWWWW\n",
      "Observation: [1 2 2], reward 0.0, terminated False, truncated False\n",
      "WWWWW\n",
      "W   W\n",
      "W<  W\n",
      "W  GW\n",
      "WWWWW\n",
      "Observation: [1 2 3], reward 0.0, terminated False, truncated False\n",
      "WWWWW\n",
      "W   W\n",
      "W^  W\n",
      "W  GW\n",
      "WWWWW\n",
      "Observation: [1 2 0], reward 0.0, terminated False, truncated False\n",
      "WWWWW\n",
      "W   W\n",
      "W>  W\n",
      "W  GW\n",
      "WWWWW\n",
      "Observation: [1 2 1], reward 0.0, terminated False, truncated False\n",
      "WWWWW\n",
      "W   W\n",
      "WV  W\n",
      "W  GW\n",
      "WWWWW\n",
      "Observation: [1 3 1], reward 0.0, terminated False, truncated False\n",
      "WWWWW\n",
      "W   W\n",
      "W   W\n",
      "WV GW\n",
      "WWWWW\n",
      "Observation: [1 3 2], reward 0.0, terminated False, truncated False\n",
      "WWWWW\n",
      "W   W\n",
      "W   W\n",
      "W< GW\n",
      "WWWWW\n",
      "Observation: [1 3 3], reward 0.0, terminated False, truncated False\n",
      "WWWWW\n",
      "W   W\n",
      "W   W\n",
      "W^ GW\n",
      "WWWWW\n",
      "Observation: [1 3 0], reward 0.0, terminated False, truncated False\n",
      "WWWWW\n",
      "W   W\n",
      "W   W\n",
      "W> GW\n",
      "WWWWW\n",
      "Observation: [2 3 0], reward 0.0, terminated False, truncated False\n",
      "WWWWW\n",
      "W   W\n",
      "W   W\n",
      "W >GW\n",
      "WWWWW\n",
      "Observation: [3 3 0], reward 0.0, terminated False, truncated False\n",
      "WWWWW\n",
      "W   W\n",
      "W   W\n",
      "W  >W\n",
      "WWWWW\n",
      "Observation: [0 0 0], reward 1.0, terminated True, truncated False\n",
      "WWWWW\n",
      "W   W\n",
      "W   W\n",
      "W  >W\n",
      "WWWWW\n"
     ]
    }
   ],
   "source": [
    "# Test it\n",
    "done = False\n",
    "observation, info = env.reset()\n",
    "print(\"Initial observation:\", observation)\n",
    "print(env)\n",
    "\n",
    "# Steps\n",
    "while not done:\n",
    "\n",
    "    try:\n",
    "      # Action selection\n",
    "\n",
    "      action = int(input(\"Action: \"))\n",
    "\n",
    "      # Transition\n",
    "      observation, reward, terminated, truncated, info = env.step(action)\n",
    "      done = terminated or truncated\n",
    "\n",
    "      print(f\"Observation: {observation}, reward {reward}, terminated {terminated}, truncated {truncated}\")\n",
    "      print(env)\n",
    "\n",
    "    except:\n",
    "      done = True\n",
    "      print(\"Invalid action or KeyboardInterrupt\")\n"
   ]
  },
  {
   "cell_type": "markdown",
   "metadata": {
    "id": "X910eylycXEf"
   },
   "source": [
    "We can define a function that performs `n_trajectories` rollouts on the environment with a given policy. We can also compute arbitrary statistics in the meanwhile."
   ]
  },
  {
   "cell_type": "code",
   "execution_count": 10,
   "metadata": {
    "id": "gU1XQ-ObDqCn"
   },
   "outputs": [],
   "source": [
    "def rollouts(env, policy, n_trajectories, gamma):\n",
    "    \"\"\"Execute policy over env for n_trajectories and compute discounted return.\"\"\"\n",
    "    total_return = 0.0\n",
    "\n",
    "    # Trajectores\n",
    "    for _ in range(n_trajectories):\n",
    "\n",
    "        # Init\n",
    "        discount = 1.0\n",
    "        ret = 0.0\n",
    "        observation, info = env.reset()\n",
    "        done = False\n",
    "\n",
    "        # Steps\n",
    "        while not done:\n",
    "\n",
    "            # Action selection\n",
    "            action = policy(observation)\n",
    "\n",
    "            # Transition\n",
    "            observation, reward, terminated, truncated, info = env.step(action)\n",
    "\n",
    "            done = terminated or truncated\n",
    "            ret += reward * discount\n",
    "            discount *= gamma\n",
    "\n",
    "            if done:\n",
    "                total_return += ret\n",
    "\n",
    "    env.close()\n",
    "    return total_return / n_trajectories"
   ]
  },
  {
   "cell_type": "markdown",
   "metadata": {
    "id": "PmYQPLghM8cy"
   },
   "source": [
    "Since we don't have a policy yet, let's define the uniform one."
   ]
  },
  {
   "cell_type": "code",
   "execution_count": 11,
   "metadata": {
    "id": "Itk9LgVqL-DD"
   },
   "outputs": [],
   "source": [
    "import random\n",
    "class UniformPolicy():\n",
    "    def __init__(self, n_actions: int):\n",
    "        self.n_actions = n_actions\n",
    "\n",
    "    def __call__(self, observation):\n",
    "        return random.randint(0, self.n_actions-1)"
   ]
  },
  {
   "cell_type": "markdown",
   "metadata": {
    "id": "kQmcdqKt31XT"
   },
   "source": [
    "Let's try:"
   ]
  },
  {
   "cell_type": "code",
   "execution_count": 12,
   "metadata": {
    "id": "qXnOiHr234mn"
   },
   "outputs": [
    {
     "name": "stdout",
     "output_type": "stream",
     "text": [
      "0.037519359771849795\n"
     ]
    }
   ],
   "source": [
    "avg_return = rollouts(env=env,\n",
    "                      policy=UniformPolicy(env.action_space.n),\n",
    "                      n_trajectories=20,\n",
    "                      gamma=0.9)\n",
    "\n",
    "print(avg_return)"
   ]
  },
  {
   "cell_type": "markdown",
   "metadata": {
    "id": "qpv9bGrwdtFd"
   },
   "source": [
    "We can also visualize the execution:"
   ]
  },
  {
   "cell_type": "code",
   "execution_count": 13,
   "metadata": {
    "id": "k7_UY2RPOb7v"
   },
   "outputs": [
    {
     "name": "stderr",
     "output_type": "stream",
     "text": [
      "/home/jose/.local/lib/python3.10/site-packages/gymnasium/wrappers/record_video.py:94: UserWarning: \u001b[33mWARN: Overwriting existing videos at /home/jose/Desktop/Lorenc1o-repos/BDMA_Notes/Paris-Saclay/Machine-Learning/Labs/L2/videos-dir folder (try specifying a different `video_folder` for the `RecordVideo` wrapper if this is not desired)\u001b[0m\n",
      "  logger.warn(\n"
     ]
    }
   ],
   "source": [
    "from wrappers import Renderer\n",
    "visible_env = Renderer(env)"
   ]
  },
  {
   "cell_type": "code",
   "execution_count": 15,
   "metadata": {
    "id": "P2CieU7A_40i"
   },
   "outputs": [
    {
     "name": "stdout",
     "output_type": "stream",
     "text": [
      "0.0\n"
     ]
    }
   ],
   "source": [
    "avg_return = rollouts(env=visible_env,\n",
    "                      policy=UniformPolicy(env.action_space.n),\n",
    "                      n_trajectories=1,\n",
    "                      gamma=0.9)\n",
    "\n",
    "print(avg_return)"
   ]
  },
  {
   "cell_type": "code",
   "execution_count": 16,
   "metadata": {
    "id": "EbdR7lQQXhXu"
   },
   "outputs": [
    {
     "data": {
      "text/html": [
       "<video  controls autoplay> <source src=\"data:video/mp4;base64,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\" type=\"video/mp4\"> </video>"
      ],
      "text/plain": [
       "<IPython.core.display.HTML object>"
      ]
     },
     "metadata": {},
     "output_type": "display_data"
    }
   ],
   "source": [
    "visible_env.play()"
   ]
  },
  {
   "cell_type": "markdown",
   "metadata": {},
   "source": [
    "Finally, a small utility for creating callable objects from state-action mappings"
   ]
  },
  {
   "cell_type": "code",
   "execution_count": 17,
   "metadata": {
    "id": "4KDwEt06qnHI"
   },
   "outputs": [],
   "source": [
    "def make_policy(policy_dict):\n",
    "  \"\"\"Return the policy dictionary as a callable object\"\"\"\n",
    "\n",
    "  def callable_policy(observation):\n",
    "      return policy_dict[tuple(observation.tolist())]\n",
    "\n",
    "  return callable_policy"
   ]
  },
  {
   "cell_type": "markdown",
   "metadata": {
    "id": "srQzHwZTe_gd"
   },
   "source": [
    "### Explicit model\n",
    "\n",
    "The algorithms we will implement require that a complete model of the environment is available, in the form of explicit transition and reward functions. This is not part of the gym interface.\n",
    "\n",
    "These two functions are stored in two members:"
   ]
  },
  {
   "cell_type": "code",
   "execution_count": 18,
   "metadata": {
    "id": "DczwaYuUfqHg"
   },
   "outputs": [
    {
     "name": "stdout",
     "output_type": "stream",
     "text": [
      "A few probabilities\n",
      "1.0\n",
      "0.0\n",
      "1.0\n",
      "\n",
      "A few rewards\n",
      "0.0\n",
      "1.0\n"
     ]
    }
   ],
   "source": [
    "# Transition and reward functions\n",
    "T = env.T\n",
    "R = env.R\n",
    "\n",
    "# These are represented as dictionaries (for maximum clarity)\n",
    "#   and indexed as T[state][action][next_state]\n",
    "print(\"A few probabilities\")\n",
    "print(T[(1, 1, 0)][2][(2, 1, 0)])\n",
    "print(T[(1, 1, 0)][2][(1, 1, 1)])\n",
    "print(T[(3, 1, 0)][1][(3, 1, 1)])\n",
    "\n",
    "#   also R[state][action]\n",
    "print(\"\\nA few rewards\")\n",
    "print(R[(1, 1, 0)][2])\n",
    "print(R[(3, 3, 0)][0])"
   ]
  },
  {
   "cell_type": "code",
   "execution_count": 19,
   "metadata": {},
   "outputs": [
    {
     "name": "stdout",
     "output_type": "stream",
     "text": [
      "Transition function -- self.T\n",
      "State (1, 1, 0)\n",
      "  action 0\n",
      "    next state (1, 1, 3): 1.0\n",
      "  action 1\n",
      "    next state (1, 1, 1): 1.0\n",
      "  action 2\n",
      "    next state (2, 1, 0): 1.0\n",
      "State (1, 1, 1)\n",
      "  action 0\n",
      "    next state (1, 1, 0): 1.0\n",
      "  action 1\n",
      "    next state (1, 1, 2): 1.0\n",
      "  action 2\n",
      "    next state (1, 2, 1): 1.0\n",
      "State (1, 1, 2)\n",
      "  action 0\n",
      "    next state (1, 1, 1): 1.0\n",
      "  action 1\n",
      "    next state (1, 1, 3): 1.0\n",
      "  action 2\n",
      "    next state (1, 1, 2): 1.0\n",
      "State (1, 1, 3)\n",
      "  action 0\n",
      "    next state (1, 1, 2): 1.0\n",
      "  action 1\n",
      "    next state (1, 1, 0): 1.0\n",
      "  action 2\n",
      "    next state (1, 1, 3): 1.0\n",
      "State (1, 2, 0)\n",
      "  action 0\n",
      "    next state (1, 2, 3): 1.0\n",
      "  action 1\n",
      "    next state (1, 2, 1): 1.0\n",
      "  action 2\n",
      "    next state (2, 2, 0): 1.0\n",
      "State (1, 2, 1)\n",
      "  action 0\n",
      "    next state (1, 2, 0): 1.0\n",
      "  action 1\n",
      "    next state (1, 2, 2): 1.0\n",
      "  action 2\n",
      "    next state (1, 3, 1): 1.0\n",
      "State (1, 2, 2)\n",
      "  action 0\n",
      "    next state (1, 2, 1): 1.0\n",
      "  action 1\n",
      "    next state (1, 2, 3): 1.0\n",
      "  action 2\n",
      "    next state (1, 2, 2): 1.0\n",
      "State (1, 2, 3)\n",
      "  action 0\n",
      "    next state (1, 2, 2): 1.0\n",
      "  action 1\n",
      "    next state (1, 2, 0): 1.0\n",
      "  action 2\n",
      "    next state (1, 1, 3): 1.0\n",
      "State (1, 3, 0)\n",
      "  action 0\n",
      "    next state (1, 3, 3): 1.0\n",
      "  action 1\n",
      "    next state (1, 3, 1): 1.0\n",
      "  action 2\n",
      "    next state (2, 3, 0): 1.0\n",
      "State (1, 3, 1)\n",
      "  action 0\n",
      "    next state (1, 3, 0): 1.0\n",
      "  action 1\n",
      "    next state (1, 3, 2): 1.0\n",
      "  action 2\n",
      "    next state (1, 3, 1): 1.0\n",
      "State (1, 3, 2)\n",
      "  action 0\n",
      "    next state (1, 3, 1): 1.0\n",
      "  action 1\n",
      "    next state (1, 3, 3): 1.0\n",
      "  action 2\n",
      "    next state (1, 3, 2): 1.0\n",
      "State (1, 3, 3)\n",
      "  action 0\n",
      "    next state (1, 3, 2): 1.0\n",
      "  action 1\n",
      "    next state (1, 3, 0): 1.0\n",
      "  action 2\n",
      "    next state (1, 2, 3): 1.0\n",
      "State (2, 1, 0)\n",
      "  action 0\n",
      "    next state (2, 1, 3): 1.0\n",
      "  action 1\n",
      "    next state (2, 1, 1): 1.0\n",
      "  action 2\n",
      "    next state (3, 1, 0): 1.0\n",
      "State (2, 1, 1)\n",
      "  action 0\n",
      "    next state (2, 1, 0): 1.0\n",
      "  action 1\n",
      "    next state (2, 1, 2): 1.0\n",
      "  action 2\n",
      "    next state (2, 2, 1): 1.0\n",
      "State (2, 1, 2)\n",
      "  action 0\n",
      "    next state (2, 1, 1): 1.0\n",
      "  action 1\n",
      "    next state (2, 1, 3): 1.0\n",
      "  action 2\n",
      "    next state (1, 1, 2): 1.0\n",
      "State (2, 1, 3)\n",
      "  action 0\n",
      "    next state (2, 1, 2): 1.0\n",
      "  action 1\n",
      "    next state (2, 1, 0): 1.0\n",
      "  action 2\n",
      "    next state (2, 1, 3): 1.0\n",
      "State (2, 2, 0)\n",
      "  action 0\n",
      "    next state (2, 2, 3): 1.0\n",
      "  action 1\n",
      "    next state (2, 2, 1): 1.0\n",
      "  action 2\n",
      "    next state (3, 2, 0): 1.0\n",
      "State (2, 2, 1)\n",
      "  action 0\n",
      "    next state (2, 2, 0): 1.0\n",
      "  action 1\n",
      "    next state (2, 2, 2): 1.0\n",
      "  action 2\n",
      "    next state (2, 3, 1): 1.0\n",
      "State (2, 2, 2)\n",
      "  action 0\n",
      "    next state (2, 2, 1): 1.0\n",
      "  action 1\n",
      "    next state (2, 2, 3): 1.0\n",
      "  action 2\n",
      "    next state (1, 2, 2): 1.0\n",
      "State (2, 2, 3)\n",
      "  action 0\n",
      "    next state (2, 2, 2): 1.0\n",
      "  action 1\n",
      "    next state (2, 2, 0): 1.0\n",
      "  action 2\n",
      "    next state (2, 1, 3): 1.0\n",
      "State (2, 3, 0)\n",
      "  action 0\n",
      "    next state (2, 3, 3): 1.0\n",
      "  action 1\n",
      "    next state (2, 3, 1): 1.0\n",
      "  action 2\n",
      "    next state (3, 3, 0): 1.0\n",
      "State (2, 3, 1)\n",
      "  action 0\n",
      "    next state (2, 3, 0): 1.0\n",
      "  action 1\n",
      "    next state (2, 3, 2): 1.0\n",
      "  action 2\n",
      "    next state (2, 3, 1): 1.0\n",
      "State (2, 3, 2)\n",
      "  action 0\n",
      "    next state (2, 3, 1): 1.0\n",
      "  action 1\n",
      "    next state (2, 3, 3): 1.0\n",
      "  action 2\n",
      "    next state (1, 3, 2): 1.0\n",
      "State (2, 3, 3)\n",
      "  action 0\n",
      "    next state (2, 3, 2): 1.0\n",
      "  action 1\n",
      "    next state (2, 3, 0): 1.0\n",
      "  action 2\n",
      "    next state (2, 2, 3): 1.0\n",
      "State (3, 1, 0)\n",
      "  action 0\n",
      "    next state (3, 1, 3): 1.0\n",
      "  action 1\n",
      "    next state (3, 1, 1): 1.0\n",
      "  action 2\n",
      "    next state (3, 1, 0): 1.0\n",
      "State (3, 1, 1)\n",
      "  action 0\n",
      "    next state (3, 1, 0): 1.0\n",
      "  action 1\n",
      "    next state (3, 1, 2): 1.0\n",
      "  action 2\n",
      "    next state (3, 2, 1): 1.0\n",
      "State (3, 1, 2)\n",
      "  action 0\n",
      "    next state (3, 1, 1): 1.0\n",
      "  action 1\n",
      "    next state (3, 1, 3): 1.0\n",
      "  action 2\n",
      "    next state (2, 1, 2): 1.0\n",
      "State (3, 1, 3)\n",
      "  action 0\n",
      "    next state (3, 1, 2): 1.0\n",
      "  action 1\n",
      "    next state (3, 1, 0): 1.0\n",
      "  action 2\n",
      "    next state (3, 1, 3): 1.0\n",
      "State (3, 2, 0)\n",
      "  action 0\n",
      "    next state (3, 2, 3): 1.0\n",
      "  action 1\n",
      "    next state (3, 2, 1): 1.0\n",
      "  action 2\n",
      "    next state (3, 2, 0): 1.0\n",
      "State (3, 2, 1)\n",
      "  action 0\n",
      "    next state (3, 2, 0): 1.0\n",
      "  action 1\n",
      "    next state (3, 2, 2): 1.0\n",
      "  action 2\n",
      "    next state (3, 3, 1): 1.0\n",
      "State (3, 2, 2)\n",
      "  action 0\n",
      "    next state (3, 2, 1): 1.0\n",
      "  action 1\n",
      "    next state (3, 2, 3): 1.0\n",
      "  action 2\n",
      "    next state (2, 2, 2): 1.0\n",
      "State (3, 2, 3)\n",
      "  action 0\n",
      "    next state (3, 2, 2): 1.0\n",
      "  action 1\n",
      "    next state (3, 2, 0): 1.0\n",
      "  action 2\n",
      "    next state (3, 1, 3): 1.0\n",
      "State (3, 3, 0)\n",
      "  action 0\n",
      "    next state (0, 0, 0): 1.0\n",
      "  action 1\n",
      "    next state (0, 0, 0): 1.0\n",
      "  action 2\n",
      "    next state (0, 0, 0): 1.0\n",
      "State (3, 3, 1)\n",
      "  action 0\n",
      "    next state (0, 0, 0): 1.0\n",
      "  action 1\n",
      "    next state (0, 0, 0): 1.0\n",
      "  action 2\n",
      "    next state (0, 0, 0): 1.0\n",
      "State (3, 3, 2)\n",
      "  action 0\n",
      "    next state (0, 0, 0): 1.0\n",
      "  action 1\n",
      "    next state (0, 0, 0): 1.0\n",
      "  action 2\n",
      "    next state (0, 0, 0): 1.0\n",
      "State (3, 3, 3)\n",
      "  action 0\n",
      "    next state (0, 0, 0): 1.0\n",
      "  action 1\n",
      "    next state (0, 0, 0): 1.0\n",
      "  action 2\n",
      "    next state (0, 0, 0): 1.0\n"
     ]
    }
   ],
   "source": [
    "env.pretty_print_T()"
   ]
  },
  {
   "cell_type": "code",
   "execution_count": 20,
   "metadata": {
    "id": "lQglr5MOiDCp"
   },
   "outputs": [
    {
     "name": "stdout",
     "output_type": "stream",
     "text": [
      "States [(1, 1, 0), (1, 1, 1), (1, 1, 2), (1, 1, 3), (1, 2, 0), (1, 2, 1), (1, 2, 2), (1, 2, 3), (1, 3, 0), (1, 3, 1), (1, 3, 2), (1, 3, 3), (2, 1, 0), (2, 1, 1), (2, 1, 2), (2, 1, 3), (2, 2, 0), (2, 2, 1), (2, 2, 2), (2, 2, 3), (2, 3, 0), (2, 3, 1), (2, 3, 2), (2, 3, 3), (3, 1, 0), (3, 1, 1), (3, 1, 2), (3, 1, 3), (3, 2, 0), (3, 2, 1), (3, 2, 2), (3, 2, 3), (3, 3, 0), (3, 3, 1), (3, 3, 2), (3, 3, 3), (0, 0, 0)]\n",
      "Actions [0, 1, 2]\n",
      "Number of states 37\n",
      "Number of actions 3\n"
     ]
    }
   ],
   "source": [
    "# Explicit set of states and actions\n",
    "\n",
    "print(\"States\", env.states)\n",
    "print(\"Actions\", env.actions)\n",
    "print(\"Number of states\", len(env.states))\n",
    "print(\"Number of actions\", len(env.actions))"
   ]
  },
  {
   "cell_type": "code",
   "execution_count": 22,
   "metadata": {
    "id": "XfYfq9HebRHw"
   },
   "outputs": [],
   "source": [
    "# Some classic imports for the rest of the notebook\n",
    "import numpy as np\n",
    "import matplotlib.pyplot as plt\n",
    "import matplotlib as mpl\n",
    "import math\n",
    "\n",
    "mpl.style.use(\"seaborn\")"
   ]
  },
  {
   "cell_type": "markdown",
   "metadata": {
    "id": "8L7zlYG8WcPq"
   },
   "source": [
    "## Solving the Minigrid task\n",
    "\n",
    "We would like to find a **stationary deterministic memoryless policy** or mapping from states to actions $\\pi : \\mathcal{S}\\rightarrow \\mathcal{A}$, that is able to arrive at the **goal state** sooner.\n",
    "\n",
    "In other words, our objective is to find $\\pi$ which maximizes the **expected discounted return** from any starting state represented by:\n",
    "\n",
    "\\begin{align*}\n",
    "    \\rho(\\pi) &= \\mathbb{E}_{s_0\\sim\\nu_0, s_{t+1}\\sim p(\\cdot|s_t,\\pi(s_t))}\\left[\\sum_{t=0}^\\infty\\gamma^t r(s_t,\\pi(s_t))\\right]\\\\\n",
    "    &= \\sum_{s}\\nu_0(s) V^{\\pi}(s)\n",
    "\\end{align*}\n",
    "\n",
    "with the **discount factor** $\\gamma\\in[0,1)$.\n",
    "\n",
    "\n",
    "&nbsp;\n",
    "\n",
    "---\n",
    "\n",
    "&nbsp;\n",
    "\n",
    "Recall that the **state value function** for $s\\in \\mathcal{S}$ denoted\n",
    "\n",
    "\\begin{align*}\n",
    "    V^\\pi(s) &= \\mathbb{E}_{s_{t+1}\\sim p(\\cdot|s_t,\\pi(s_t))}\\left[\\sum_{t=0}^\\infty\\gamma^t r(s_t,\\pi(s_t))\\bigg|s_0=s\\right]\\\\\n",
    "    &=  \\sum_{a}\\pi(a|s)Q^{\\pi}(s,a)\n",
    "\\end{align*}\n",
    "\n",
    "represents the value of being in state $s$ and following policy $\\pi$ while the **action-value function** for $s\\in \\mathcal{S}, a\\in \\mathcal{A}$ denoted\n",
    "\n",
    "$$ Q^\\pi(s,a) = r(s,a) + \\gamma\\sum_{s'\\in\\mathcal{S}}p(s'|s,a)V^{\\pi}(s')$$\n",
    "\n",
    "is the value of first taking an action $a$ in state $s$ then following policy $\\pi$.\n",
    "\n",
    "By standard notation, the **Bellman operator** of policy $\\pi$ acting on functions $V : \\mathcal{S}\\rightarrow \\mathbb{R}$ (or vectors $V\\in\\mathbb{R}^{|\\mathcal{S}|}$) is given as:\n",
    "\n",
    "$$(T^{\\pi}V)(s) =  \\sum_{a}\\pi(a|s)\\bigg[r(s,a) + \\gamma\\sum_{s'\\in\\mathcal{S}}p(s'|s,a)V(s')\\bigg],\\quad s\\in\\mathcal{S}$$\n",
    "\n",
    "\n",
    "&nbsp;\n",
    "\n",
    "---\n",
    "\n",
    "&nbsp;\n",
    "\n",
    "Ideally, we would like to find an **optimal policy** $\\pi^*$ with:\n",
    "\n",
    "$$ \\pi^*(s) \\in \\underset{a\\in\\mathcal{A}}{\\arg\\max} \\bigg\\{r(s,a) + \\gamma\\sum_{s'\\in\\mathcal{S}}p(s'|s,a)V^{\\pi^*}(s')\\bigg\\},\\quad s\\in\\mathcal{S}$$\n",
    "\n",
    "that maximizes our immediate reward and future return.\n",
    "\n",
    "The Bellman operator of $\\pi^*$ (a.k.a the **Bellman optimality operator**) acting on functions $V : \\mathcal{S}\\rightarrow \\mathbb{R}$ (or vectors $V\\in\\mathbb{R}^{|\\mathcal{S}|}$) is given as:\n",
    "\n",
    "$$(T^{*}V)(s) =  \\max_{a}\\bigg\\{r(s,a) + \\gamma\\sum_{s'\\in\\mathcal{S}}p(s'|s,a)V(s')\\bigg\\},\\quad s\\in\\mathcal{S}$$\n",
    "\n",
    "\n",
    "&nbsp;\n",
    "\n",
    "---\n",
    "\n",
    "&nbsp;\n",
    "\n",
    "With the transition and reward function of the grid-world task available to us, we attempt to find an optimal policy via **Dynamic programming**. Precisely, we implement **Policy Iteration** and **Value iteration** methods introduced in the first lecture.\n",
    "\n",
    "&nbsp;"
   ]
  },
  {
   "cell_type": "markdown",
   "metadata": {
    "id": "qMWFCbNN7F8l"
   },
   "source": [
    "### Notation\n",
    "\n",
    "*   $r_{\\pi}\\in\\mathbb{R}^{|\\mathcal{S}|}$ so that for $s\\in\\mathcal{S}$, $r_{\\pi}(s) = r(s,\\pi(s))$.\n",
    "*   $p_{\\pi}\\in\\mathbb{R}^{|\\mathcal{S}|\\times|\\mathcal{S}|}$ so that for $s,s'\\in\\mathcal{S}$, $p_{\\pi}(s'|s) = p(s'|s,\\pi(s))$.\n",
    "*   $\\sum_{r}p(s',r|s,a)  = p(s'|s,a)r(s,a)$ since rewards are deterministic.\n",
    "*   $n_{k}$ is the number of loops required to compute $V_{k}$\n",
    "*   $\\Delta$ is a threshold on the accuracy of value estimation [[3]](#scrollTo=XqJPFe6f6gFV&line=5&uniqifier=1)\n",
    "\n",
    "&nbsp;"
   ]
  },
  {
   "cell_type": "markdown",
   "metadata": {
    "id": "6nljnBe4bZTf"
   },
   "source": [
    "### Policy Iteration (PI) Recap\n",
    "\n",
    "**Idea**\n",
    "\n",
    "Gradually advance to $\\pi^{*}$ from an initial guess $\\pi_0$ through a series of **policy evaluation** and **policy improvement** steps.\n",
    "\n",
    "&nbsp;\n",
    "\n",
    "**Policy Evaluation step**\n",
    "\n",
    "Given a policy $\\pi_k$, compute $V^{\\pi_k}$ as\n",
    "\n",
    "* $V^{\\pi_k} = (I - \\gamma\\, p_{\\pi_k})^{-1}r_{\\pi_k}$\n",
    "\n",
    "&nbsp;\n",
    "\n",
    "**Policy Improvement step**\n",
    "\n",
    "Obtain $\\pi_{k+1}$ as the greedy policy w.r.t $V^{\\pi_k}$ (or $V_{k}$). That is,\n",
    "$$ \\pi_{k+1}(s) \\in \\underset{a\\in\\mathcal{A}}{\\arg\\max} \\bigg\\{r(s,a) + \\gamma\\sum_{s'\\in\\mathcal{X}}p(s'|s,a)V^{\\pi_{k}}(s')\\bigg\\},\\quad s\\in\\mathcal{S}$$\n",
    "\n",
    "&nbsp;\n",
    "\n",
    "#### Putting everything together\n",
    "\n",
    "Starting from an arbitrary stationary deterministic markovian policy $\\pi_{0}$, for $k = 0,1,2,\\cdots, K$ do:\n",
    "* Compute $V^{\\pi_k}$\n",
    "* Obtain $\\pi_{k+1}$ as the greedy policy w.r.t $V^{\\pi_k}$\n",
    "* Terminate loop if policy is stable (i.e $\\pi_{k+1}(s) = \\pi_{k}(s)$ for all $s\\in\\mathcal{S}$) and return $\\pi_{k+1}$.\n",
    "\n",
    "\n",
    "\n",
    "&nbsp;\n",
    "\n",
    "#### Theoretical guarantee [[1,2]](#scrollTo=XqJPFe6f6gFV&line=5&uniqifier=1)\n",
    "\n",
    "PI finds an optimal policy after $K = \\mathcal{\\tilde{O}}(\\mathcal{SA}/(1-\\gamma))$ iterations.\n",
    "\n",
    "<!---\n",
    "Explicitly $K = \\mathcal{\\tilde{O}}((\\mathcal{SA - S})/(1-\\gamma))$ iterations.\n",
    "-->"
   ]
  },
  {
   "cell_type": "code",
   "execution_count": 23,
   "metadata": {
    "id": "NFYLOHtPKwsG"
   },
   "outputs": [],
   "source": [
    "# Don't look at the solutions! This module contains the functions you should write\n",
    "import dp_solutions"
   ]
  },
  {
   "cell_type": "code",
   "execution_count": 24,
   "metadata": {
    "id": "Woh49RAfbieB"
   },
   "outputs": [],
   "source": [
    "class PolicyIteration:\n",
    "  \"\"\"\n",
    "  Implements policy iteration\n",
    "  \"\"\"\n",
    "  def __init__(self, env: Env, gamma: float, initial_policy = None):\n",
    "    # Store\n",
    "    self.env = env # The environment: T, R, states, actions\n",
    "    self.states = self.env.states\n",
    "    self.n_states = len(self.states)\n",
    "    self.actions = self.env.actions\n",
    "    self.n_actions = len(self.actions)\n",
    "    self.gamma = gamma\n",
    "    self.policy = initial_policy\n",
    "\n",
    "    # Default policy\n",
    "    if self.policy == None:\n",
    "      np.random.seed(4)\n",
    "      self.policy = {state: np.random.randint(0, self.n_actions-1) for state in self.states}\n",
    "\n",
    "    self.policy_stable = False\n",
    "    self.V = {state: 0.0 for state in env.states}\n",
    "    self.V_logs = []\n",
    "\n",
    "  def _evaluate_policy(self):\n",
    "    \"\"\"\n",
    "    Given 'policy' π_{k} compute V^{π_{k}}. Let,\n",
    "\n",
    "      A = (I - \\gamma p_{π_{k}})\n",
    "      b = r_{π_{k}}\n",
    "      x = V^{π_{k}}\n",
    "\n",
    "    solve the system of linear equations Ax=b\n",
    "\n",
    "    :return x: a |S|x1 array\n",
    "    \"\"\"\n",
    "    # Task: complete this and return x instead of using the line \"return dp_solutions...\"\n",
    "    \n",
    "    # Compute A=(I-gamma*p_pi)\n",
    "    A = np.zeros((self.n_states,self.n_states))\n",
    "\n",
    "    for i in range(self.n_states):\n",
    "      A[i][i] = 1\n",
    "      for j in range(self.n_states):\n",
    "        A[i][j] -= self.gamma*self.env.T[self.states[i]][self.policy[self.states[i]]][self.states[j]]\n",
    "\n",
    "    # Compute b\n",
    "    b = np.zeros((self.n_states,1))\n",
    "\n",
    "    for i in range(self.n_states):\n",
    "      b[i][0] = self.env.R[self.states[i]][self.policy[self.states[i]]]\n",
    "\n",
    "    # solve for x\n",
    "    x = np.linalg.solve(A,b)\n",
    "\n",
    "    return x\n",
    "\n",
    "\n",
    "  def evaluate_policy(self):\n",
    "    \"\"\"\n",
    "    Collect state values in dict\n",
    "    \"\"\"\n",
    "    V_array = self._evaluate_policy()\n",
    "\n",
    "    # Assign values to holder as dictionary\n",
    "    self.V = {state: V_array[i].item() for i, state in enumerate(self.states)}\n",
    "\n",
    "    # Append values to log for plots\n",
    "    self.V_logs.append(self.V.copy())\n",
    "\n",
    "\n",
    "  def get_policy(self):\n",
    "    \"\"\"\n",
    "    Get the greedy policy:\n",
    "\n",
    "      π_{k+1}(s) = argmax_{a\\in A} Q^{\\pi_{k}}(s,a)\n",
    "\n",
    "    where\n",
    "\n",
    "      Q^{\\pi_{k}}(s,a) = r(s,a) + gamma * <P(.|s,a),V^{\\pi_{k}}>\n",
    "\n",
    "    assign new policy to self.policy\n",
    "    update self.policy_stable\n",
    "    \"\"\"\n",
    "\n",
    "    # Compute Q^{\\pi_{k}}(s,a)\n",
    "    Q = np.zeros((self.n_states,self.n_actions))\n",
    "\n",
    "    for s_index, s in enumerate(self.states):\n",
    "      for a_index, a in enumerate(self.actions):\n",
    "        Q[s_index, a_index] = self.env.R[s][a]\n",
    "        for snext_index, snext in enumerate(self.states):\n",
    "          Q[s_index, a_index] += self.gamma*self.env.T[s][a][snext]*self.V[snext]\n",
    "\n",
    "    # Compute new policy\n",
    "    new_policy = {}\n",
    "\n",
    "    for s_index, s in enumerate(self.states):\n",
    "      new_policy[s] = np.argmax(Q[s_index,:])\n",
    "\n",
    "    # Check if policy has changed\n",
    "    self.policy_stable = (self.policy == new_policy)\n",
    "\n",
    "    # Assign new policy\n",
    "    self.policy = new_policy\n",
    "\n",
    "\n",
    "\n",
    "  def get_expected_update(self, state, action):\n",
    "    \"\"\"\n",
    "    Compute:\n",
    "\n",
    "      Q(s,a) = r(s,a) + gamma <p(.|s,a),V>\n",
    "\n",
    "    :param state\n",
    "    :param action\n",
    "\n",
    "    :return Q(s,a): float\n",
    "    \"\"\"\n",
    "    Q = self.env.R[state][action]\n",
    "    for snext_index, snext in enumerate(self.states):\n",
    "      Q += self.gamma*self.env.T[state][action][snext]*self.V[snext]\n",
    "\n",
    "    return Q\n",
    "\n",
    "\n",
    "  def get_p_pi(self):\n",
    "    \"\"\"\n",
    "    Given π_{k}, compute p_{π_{k}}\n",
    "    \"\"\"\n",
    "    p_pi = np.zeros((self.n_states,self.n_states))\n",
    "\n",
    "    for s_index, s in enumerate(self.states):\n",
    "      for snext_index, snext in enumerate(self.states):\n",
    "        p_pi[s_index, snext_index] = self.env.T[s][self.policy[s]][snext]\n",
    "\n",
    "    return p_pi\n",
    "\n",
    "\n",
    "  def get_r_pi(self):\n",
    "    \"\"\"\n",
    "    Given π_{k}, compute r_{π_{k}}\n",
    "    \"\"\"\n",
    "    r_pi = np.zeros((self.n_states,1))\n",
    "\n",
    "    for i, state in enumerate(self.states):\n",
    "      r_pi[i][0] = self.env.R[state][self.policy[state]]\n",
    "\n",
    "    return r_pi"
   ]
  },
  {
   "cell_type": "markdown",
   "metadata": {
    "id": "2pTZRo-jxBxQ"
   },
   "source": [
    "Let's try it out"
   ]
  },
  {
   "cell_type": "code",
   "execution_count": 25,
   "metadata": {
    "id": "zKL72UxrxFJl"
   },
   "outputs": [],
   "source": [
    "# Run policy iteration\n",
    "PI_planner1 = PolicyIteration(env, gamma=0.9)\n",
    "\n",
    "while not PI_planner1.policy_stable:\n",
    "  PI_planner1.evaluate_policy()\n",
    "  PI_planner1.get_policy()"
   ]
  },
  {
   "cell_type": "markdown",
   "metadata": {
    "id": "rQkER_MsJiCK"
   },
   "source": [
    "Visualization"
   ]
  },
  {
   "cell_type": "code",
   "execution_count": 26,
   "metadata": {
    "id": "6btXwfrRJev2"
   },
   "outputs": [],
   "source": [
    "def visualize(vlogs, state, grid_size):\n",
    "  grid_size -= 2   # walls\n",
    "\n",
    "  # Initial state values\n",
    "  fig1 = plt.figure(figsize=(4, 3))\n",
    "  ax1 = fig1.subplots()\n",
    "  ax1.set_ylabel(\"value of (1,1,0)\")\n",
    "  ax1.set_xlabel(\"iterations\")\n",
    "  initial_state_values = [value[(1, 1, 0)] for value in PI_planner1.V_logs]\n",
    "  ax1.plot(range(len(initial_state_values)), initial_state_values)\n",
    "\n",
    "  # States values over time\n",
    "  some_values_over_time = [\n",
    "    {(x, y): values[(x, y, o)] for (x, y, o) in env.states if o == 0}  # o is a fixed agent orientation\n",
    "    for values in vlogs\n",
    "  ]\n",
    "  values_over_time = [\n",
    "    np.array([[values[(x+1, y+1)] for x in range(grid_size)] for y in range(grid_size)])\n",
    "    for values in some_values_over_time\n",
    "  ]\n",
    "  vmids = [(values.max() + values.min()) / 2 for values in values_over_time]\n",
    "  vmin = min([values.min() for values in values_over_time])\n",
    "  vmax = max([values.max() for values in values_over_time])\n",
    "\n",
    "  steps = len(values_over_time)\n",
    "  fig2 = plt.figure(figsize=(4 * steps, 3))\n",
    "  axs2 = fig2.subplots(1, steps)\n",
    "  if isinstance(axs2, plt.Axes):\n",
    "    axs2 = [axs2]\n",
    "    multistep = False\n",
    "  else:\n",
    "    multistep = True\n",
    "\n",
    "  for i, ax in enumerate(axs2):\n",
    "    ax.set_title(f\"values at step {i}\" if multistep else \"values\")\n",
    "    ax.imshow(values_over_time[i], cmap=\"Blues\", vmin=vmin, vmax=vmax)\n",
    "    ax.xaxis.set_visible(False)\n",
    "    ax.yaxis.set_visible(False)\n",
    "    for x in range(grid_size):\n",
    "      for y in range(grid_size):\n",
    "        val = values_over_time[i][y,x]\n",
    "        ax.text(x, y, f\"{val:.2f}\", ha=\"center\", va=\"center\", color=\"w\" if val > vmids[i] else \"k\")"
   ]
  },
  {
   "cell_type": "code",
   "execution_count": 27,
   "metadata": {
    "id": "XvCmq5bQQqEi"
   },
   "outputs": [
    {
     "data": {
      "image/png": "[encoded data removed]",
      "text/plain": [
       "<Figure size 400x300 with 1 Axes>"
      ]
     },
     "metadata": {},
     "output_type": "display_data"
    },
    {
     "data": {
      "image/png": "[encoded data removed]",
      "text/plain": [
       "<Figure size 2400x300 with 6 Axes>"
      ]
     },
     "metadata": {},
     "output_type": "display_data"
    }
   ],
   "source": [
    "visualize(PI_planner1.V_logs, (1, 1, 0), 5)"
   ]
  },
  {
   "cell_type": "markdown",
   "metadata": {
    "id": "meYQb9VOTnDT"
   },
   "source": [
    "We can also test the policy."
   ]
  },
  {
   "cell_type": "code",
   "execution_count": 28,
   "metadata": {
    "id": "3C-WmCiVT6op"
   },
   "outputs": [
    {
     "name": "stdout",
     "output_type": "stream",
     "text": [
      "0.5904900000000003\n"
     ]
    }
   ],
   "source": [
    "avg_return = rollouts(env=visible_env,\n",
    "                      policy=make_policy(PI_planner1.policy),\n",
    "                      n_trajectories=20,\n",
    "                      gamma=0.9)\n",
    "\n",
    "print(avg_return)"
   ]
  },
  {
   "cell_type": "code",
   "execution_count": 29,
   "metadata": {
    "id": "LGxMz5yZEZ-N"
   },
   "outputs": [
    {
     "data": {
      "text/html": [
       "<video  controls autoplay> <source src=\"data:video/mp4;base64,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\" type=\"video/mp4\"> </video>"
      ],
      "text/plain": [
       "<IPython.core.display.HTML object>"
      ]
     },
     "metadata": {},
     "output_type": "display_data"
    }
   ],
   "source": [
    "visible_env.play()"
   ]
  },
  {
   "cell_type": "markdown",
   "metadata": {
    "id": "ymYjjFBYbiy-"
   },
   "source": [
    "What if we have failure probabilities now?"
   ]
  },
  {
   "cell_type": "code",
   "execution_count": 30,
   "metadata": {
    "id": "8EcH0mS2bt1N"
   },
   "outputs": [
    {
     "name": "stdout",
     "output_type": "stream",
     "text": [
      "WWWWWW\n",
      "WV   W\n",
      "W    W\n",
      "W    W\n",
      "W   GW\n",
      "WWWWWW\n"
     ]
    },
    {
     "name": "stderr",
     "output_type": "stream",
     "text": [
      "/home/jose/.local/lib/python3.10/site-packages/gymnasium/wrappers/record_video.py:94: UserWarning: \u001b[33mWARN: Overwriting existing videos at /home/jose/Desktop/Lorenc1o-repos/BDMA_Notes/Paris-Saclay/Machine-Learning/Labs/L2/videos-dir folder (try specifying a different `video_folder` for the `RecordVideo` wrapper if this is not desired)\u001b[0m\n",
      "  logger.warn(\n",
      "/home/jose/.local/lib/python3.10/site-packages/gymnasium/core.py:311: UserWarning: \u001b[33mWARN: env.grid to get variables from other wrappers is deprecated and will be removed in v1.0, to get this variable you can do `env.unwrapped.grid` for environment variables or `env.get_wrapper_attr('grid')` that will search the reminding wrappers.\u001b[0m\n",
      "  logger.warn(\n",
      "/home/jose/.local/lib/python3.10/site-packages/gymnasium/core.py:311: UserWarning: \u001b[33mWARN: env.agent_pos to get variables from other wrappers is deprecated and will be removed in v1.0, to get this variable you can do `env.unwrapped.agent_pos` for environment variables or `env.get_wrapper_attr('agent_pos')` that will search the reminding wrappers.\u001b[0m\n",
      "  logger.warn(\n",
      "/home/jose/.local/lib/python3.10/site-packages/gymnasium/core.py:311: UserWarning: \u001b[33mWARN: env.agent_dir to get variables from other wrappers is deprecated and will be removed in v1.0, to get this variable you can do `env.unwrapped.agent_dir` for environment variables or `env.get_wrapper_attr('agent_dir')` that will search the reminding wrappers.\u001b[0m\n",
      "  logger.warn(\n"
     ]
    }
   ],
   "source": [
    "# Define\n",
    "env = Room(\n",
    "    failure=0.2,\n",
    "    agent_start_pos=(1, 1),\n",
    "    agent_start_dir=1,\n",
    "    size=6,\n",
    ")\n",
    "visible_env = Renderer(env)\n",
    "print(env)\n",
    "\n",
    "# Plan\n",
    "PI_planner1 = PolicyIteration(env, gamma=0.9)\n",
    "\n",
    "while not PI_planner1.policy_stable:\n",
    "  PI_planner1.evaluate_policy()\n",
    "  PI_planner1.get_policy()"
   ]
  },
  {
   "cell_type": "code",
   "execution_count": 31,
   "metadata": {
    "id": "gvuqeY88cCW2"
   },
   "outputs": [
    {
     "name": "stdout",
     "output_type": "stream",
     "text": [
      "0.3562100496439758\n"
     ]
    }
   ],
   "source": [
    "# Visualize\n",
    "avg_return = rollouts(\n",
    "    env=visible_env,\n",
    "    policy=make_policy(PI_planner1.policy),\n",
    "    n_trajectories=80,\n",
    "    gamma=0.9\n",
    ")\n",
    "print(avg_return)"
   ]
  },
  {
   "cell_type": "code",
   "execution_count": 32,
   "metadata": {
    "id": "I-hHn_KXcKaS"
   },
   "outputs": [
    {
     "data": {
      "text/html": [
       "<video  controls autoplay> <source src=\"data:video/mp4;base64,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\" type=\"video/mp4\"> </video>"
      ],
      "text/plain": [
       "<IPython.core.display.HTML object>"
      ]
     },
     "metadata": {},
     "output_type": "display_data"
    },
    {
     "data": {
      "image/png": "[encoded data removed]",
      "text/plain": [
       "<Figure size 400x300 with 1 Axes>"
      ]
     },
     "metadata": {},
     "output_type": "display_data"
    },
    {
     "data": {
      "image/png": "[encoded data removed]",
      "text/plain": [
       "<Figure size 1200x300 with 3 Axes>"
      ]
     },
     "metadata": {},
     "output_type": "display_data"
    }
   ],
   "source": [
    "visible_env.play()\n",
    "\n",
    "visualize(PI_planner1.V_logs, (1, 1, 1), 6)"
   ]
  },
  {
   "cell_type": "markdown",
   "metadata": {
    "id": "uzJ9fQ8ceZIB"
   },
   "source": [
    "But matrix inversions can be quite expensive. Consider iterative policy evaluation instead.\n",
    "\n",
    "&nbsp;\n",
    "\n",
    "### Modified Policy Iteration (MPI) Recap\n",
    "\n",
    "**Idea**\n",
    "\n",
    "Same as PI but with **truncated policy evaluation**\n",
    "\n",
    "&nbsp;\n",
    "\n",
    "**Truncated Policy Evaluation step**\n",
    "\n",
    "Given a policy $\\pi_k$, estimate $V^{\\pi_k}$ as $V_{k}$ with the following iterations\n",
    "\n",
    "  * Initialize $V$ as $\\mathbf{0}$ when $k = 0$ and $V_{k-1}$ otherwise, let $\\pi = \\pi_k$\n",
    "\n",
    "    <div>\n",
    "    <img src=\"https://drive.google.com/uc?export=view&id=1QaMg7a6HELjYycAnm6RE9vnzHD_fnaCn\" alt=\"iterative policy evaluation\" width=\"600\"/>\n",
    "    </div>\n",
    "\n",
    "    Return $V_k = V$. <!--$(T^{\\pi_{k}})^{n_{k}}V_{k-1}$-->\n",
    "\n",
    "&nbsp;\n",
    "\n",
    "#### Putting everything together\n",
    "\n",
    "Starting from an arbitrary stationary deterministic markovian policy $\\pi_{0}$, for $k = 0,1,2,\\cdots, K$ do:\n",
    "* Estimate $V^{\\pi_k}$ with $V_{k}=(T^{\\pi_{k}})^{n_{k}}V_{k-1}$\n",
    "* Obtain $\\pi_{k+1}$ as the greedy policy w.r.t $V^{\\pi_k}$\n",
    "* Terminate loop if policy is stable (i.e $\\pi_{k+1}(s) = \\pi_{k}(s)$ for all $s\\in\\mathcal{S}$) and return $\\pi_{k+1}$."
   ]
  },
  {
   "cell_type": "code",
   "execution_count": 33,
   "metadata": {
    "id": "nFkMVMI3syvt"
   },
   "outputs": [],
   "source": [
    "class ModifiedPolicyIteration(PolicyIteration):\n",
    "  \"\"\"\n",
    "  Implements policy iteration with truncated policy evaluation\n",
    "  \"\"\"\n",
    "  def __init__(self,\n",
    "              env: Env,\n",
    "              gamma: float,\n",
    "              theta: float,\n",
    "              initial_policy = None):\n",
    "\n",
    "    super().__init__(env, gamma, initial_policy)\n",
    "    self.theta = theta\n",
    "    self.V = {state: 0.0 for state in env.states}\n",
    "\n",
    "\n",
    "  def evaluate_policy(self):\n",
    "    \"\"\"\n",
    "    Given 'policy' π_{k},\n",
    "    Starting from a previous guess 'V_{k-1}',\n",
    "    iteratively estimate V^{π_{k}} as T^{π_{k}}V_{k-1}.\n",
    "\n",
    "    assign new state values to self.V\n",
    "    \"\"\"\n",
    "    # Task: Complete this and delete line *\n",
    "\n",
    "    # Set Delta\n",
    "    delta = np.inf\n",
    "\n",
    "    # Main loop for iterative value update\n",
    "    while delta > self.theta:\n",
    "      # Initialize Delta\n",
    "      delta = 0\n",
    "\n",
    "      #Loop over all states\n",
    "      for i, state in enumerate(self.states):\n",
    "        # Store old value\n",
    "        v = self.V[state]\n",
    "\n",
    "        # Compute new value\n",
    "        self.V[state] = self.get_expected_update(state, self.policy[state])\n",
    "\n",
    "        # Update Delta\n",
    "        delta = max(delta, abs(v - self.V[state]))\n",
    "\n",
    "      # Append values to log for plots\n",
    "\n",
    "    self.V_logs.append(self.V.copy())\n"
   ]
  },
  {
   "cell_type": "markdown",
   "metadata": {
    "id": "KofhGOYGhckf"
   },
   "source": [
    "Now we run Modified policy iteration"
   ]
  },
  {
   "cell_type": "code",
   "execution_count": 34,
   "metadata": {
    "id": "D9uBUwD-hhSF"
   },
   "outputs": [],
   "source": [
    "MPI_planner = ModifiedPolicyIteration(env,\n",
    "                                      gamma = 0.9, # Same as PI\n",
    "                                      theta = 0.01)\n",
    "\n",
    "while not MPI_planner.policy_stable:\n",
    "  MPI_planner.evaluate_policy()\n",
    "  MPI_planner.get_policy()"
   ]
  },
  {
   "cell_type": "code",
   "execution_count": 35,
   "metadata": {
    "id": "70ieiSAZqR6H"
   },
   "outputs": [
    {
     "name": "stdout",
     "output_type": "stream",
     "text": [
      "0.3476792496898552\n"
     ]
    }
   ],
   "source": [
    "avg_return = rollouts(env=visible_env,\n",
    "                      policy=make_policy(MPI_planner.policy),\n",
    "                      n_trajectories=80,\n",
    "                      gamma=0.9)\n",
    "\n",
    "print(avg_return)"
   ]
  },
  {
   "cell_type": "code",
   "execution_count": 36,
   "metadata": {
    "id": "cCueLRiiqvaQ"
   },
   "outputs": [
    {
     "data": {
      "text/html": [
       "<video  controls autoplay> <source src=\"data:video/mp4;base64,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\" type=\"video/mp4\"> </video>"
      ],
      "text/plain": [
       "<IPython.core.display.HTML object>"
      ]
     },
     "metadata": {},
     "output_type": "display_data"
    },
    {
     "name": "stderr",
     "output_type": "stream",
     "text": [
      "/home/jose/.local/lib/python3.10/site-packages/gymnasium/wrappers/monitoring/video_recorder.py:178: UserWarning: \u001b[33mWARN: Unable to save last video! Did you call close()?\u001b[0m\n",
      "  logger.warn(\"Unable to save last video! Did you call close()?\")\n"
     ]
    },
    {
     "data": {
      "image/png": "[encoded data removed]",
      "text/plain": [
       "<Figure size 400x300 with 1 Axes>"
      ]
     },
     "metadata": {},
     "output_type": "display_data"
    },
    {
     "data": {
      "image/png": "[encoded data removed]",
      "text/plain": [
       "<Figure size 1200x300 with 3 Axes>"
      ]
     },
     "metadata": {},
     "output_type": "display_data"
    }
   ],
   "source": [
    "visible_env.play()\n",
    "\n",
    "visualize(MPI_planner.V_logs, (1, 1, 1), 6)"
   ]
  },
  {
   "cell_type": "markdown",
   "metadata": {
    "id": "IA8AkX2Feuwt"
   },
   "source": [
    "### Value Iteration (VI) Recap\n",
    "\n",
    "**Idea**\n",
    "\n",
    "Gradually advance to $\\pi^{*}$ with combined **truncated policy evaluation** and **policy improvement** steps.\n",
    "\n",
    "&nbsp;\n",
    "\n",
    "**Truncated Policy Evaluation and Improvement step**\n",
    "\n",
    "No arbitrary starting policy needed. Estimate $V^{\\pi^*}$ as follows:\n",
    "\n",
    "  * For $k = 0,1,2,\\cdots, K$\n",
    "\n",
    "    * Set $V = \\mathbf{0}$ when $k = 0$ and $V_{k-1}$ otherwise\n",
    "      <div>\n",
    "      <img src=\"https://drive.google.com/uc?export=view&id=1fsi3ZZgqZ-p061AxvSdeluWZTlwSjnGj\" alt=\"policy evaluation and improvement\" width=\"400\"/>\n",
    "      </div>\n",
    "\n",
    "      return $V$ as $V_{k}$.\n",
    "\n",
    "\n",
    "&nbsp;\n",
    "\n",
    "#### Putting everything together\n",
    "\n",
    "* Estimate $V^{\\pi^*}$ with $V_{K} = (T^*)^{K}\\mathbf{0}$\n",
    "* Return $\\hat{\\pi}^{*}$ as the greedy policy w.r.t $V_{K}$. That is,\n",
    "\n",
    "  $$ \\hat{\\pi}^{*}(s) \\in \\underset{a\\in\\mathcal{A}}{\\arg\\max} \\bigg\\{r(s,a) + \\gamma\\sum_{s'\\in\\mathcal{X}}p(s'|s,a)V_{K}(s')\\bigg\\},\\quad s\\in\\mathcal{S}$$\n",
    "\n",
    "\n",
    "\n",
    "&nbsp;\n",
    "\n",
    "#### Theoretical guarantee [[2]](#scrollTo=XqJPFe6f6gFV&line=5&uniqifier=1)\n",
    "\n",
    "VI finds an **$\\mathbf{\\varepsilon}$-optimal policy** ($\\pi^{\\varepsilon}$) satisfying\n",
    "\n",
    "$\\qquad V^* - V^{\\pi^{\\varepsilon}}\\leq \\varepsilon\\,\\mathbf{1}$\n",
    "\n",
    "after $K = \\mathcal{O}(\\ln(2\\gamma/\\varepsilon(1-\\gamma)^2)/(1-\\gamma))$ iterations.\n"
   ]
  },
  {
   "cell_type": "code",
   "execution_count": 37,
   "metadata": {
    "id": "cWtqSTiD9Kko"
   },
   "outputs": [],
   "source": [
    "class ValueIteration:\n",
    "  \"\"\"\n",
    "  Implements value iteration\n",
    "  \"\"\"\n",
    "  def __init__(self,\n",
    "              env: Env,\n",
    "              gamma: float,\n",
    "              epsilon: float,\n",
    "              num_iterations = None,\n",
    "  ):\n",
    "    self.env = env\n",
    "    self.states = self.env.states\n",
    "    self.n_states = len(self.states)\n",
    "    self.actions = self.env.actions\n",
    "    self.n_actions = len(self.actions)\n",
    "    self.gamma = gamma\n",
    "    self.K = num_iterations\n",
    "    self.V_logs = []\n",
    "\n",
    "    if self.K is None:\n",
    "      self.K = math.ceil(np.log((2*self.gamma)/(epsilon*(1-self.gamma)**2))/(1-self.gamma))\n",
    "\n",
    "    self.policy = {state: 0 for state in self.env.states}\n",
    "    self.V = {state: 0 for state in self.env.states}\n",
    "\n",
    "\n",
    "  def estimate_vstar(self):\n",
    "    \"\"\"\n",
    "    Starting from an initial guess 'V',\n",
    "    iteratively estimate V^{π*} as T*V\n",
    "\n",
    "    Assign new values to self.V\n",
    "    \"\"\"\n",
    "    # Task: Complete this and delete line *\n",
    "\n",
    "    # Main loop for iterative value update\n",
    "    for k in range(self.K):\n",
    "\n",
    "      # Loop over all states\n",
    "      for i, state in enumerate(self.states):\n",
    "\n",
    "        # Compute new value\n",
    "        self.V[state] = max(self.get_expected_update(state, action) for action in self.actions)\n",
    "\n",
    "    self.V_logs.append(self.V.copy())\n",
    "\n",
    "\n",
    "  def get_policy(self):\n",
    "    \"\"\"\n",
    "    Get the greedy policy:\n",
    "      π(s) = argmax_{a\\in A} Q(s,a)\n",
    "    where\n",
    "      Q(s,a) = r(s,a) + gamma*<P(.|s,a),v>\n",
    "\n",
    "    assign new policy to self.policy\n",
    "    \"\"\"\n",
    "    # Compute Q(s,a)\n",
    "    Q = np.zeros((self.n_states,self.n_actions))\n",
    "\n",
    "    for s_index, s in enumerate(self.states):\n",
    "      for a_index, a in enumerate(self.actions):\n",
    "        Q[s_index, a_index] = self.env.R[s][a]\n",
    "        for snext_index, snext in enumerate(self.states):\n",
    "          Q[s_index, a_index] += self.gamma*self.env.T[s][a][snext]*self.V[snext]\n",
    "\n",
    "    # Compute new policy\n",
    "    new_policy = {}\n",
    "\n",
    "    for s_index, s in enumerate(self.states):\n",
    "      new_policy[s] = np.argmax(Q[s_index,:])\n",
    "\n",
    "    # Assign new policy\n",
    "    self.policy = new_policy\n",
    "\n",
    "\n",
    "  def get_expected_update(self, state, action):\n",
    "    \"\"\"\n",
    "    Compute:\n",
    "\n",
    "      Q(s,a) = r(s,a) + gamma <p(.|s,a),V>\n",
    "\n",
    "    :param state\n",
    "    :param action\n",
    "\n",
    "    :return Q(s,a): float\n",
    "    \"\"\"\n",
    "    Q = self.env.R[state][action]\n",
    "    for snext_index, snext in enumerate(self.states):\n",
    "      Q += self.gamma*self.env.T[state][action][snext]*self.V[snext]\n",
    "\n",
    "    return Q"
   ]
  },
  {
   "cell_type": "markdown",
   "metadata": {
    "id": "M7DXuWm3v82W"
   },
   "source": [
    "Finally, we also plan with Value Iteration."
   ]
  },
  {
   "cell_type": "code",
   "execution_count": 38,
   "metadata": {
    "id": "BFFnzxCfaS-E"
   },
   "outputs": [],
   "source": [
    "VI_planner = ValueIteration(env,\n",
    "                            gamma = 0.9, #same as PI\n",
    "                            epsilon = 0.01,\n",
    "                            num_iterations = None) # You can set the number of iterations\n",
    "\n",
    "VI_planner.estimate_vstar()\n",
    "VI_planner.get_policy()"
   ]
  },
  {
   "cell_type": "code",
   "execution_count": 39,
   "metadata": {
    "id": "dgj9qrYohLWm"
   },
   "outputs": [
    {
     "name": "stdout",
     "output_type": "stream",
     "text": [
      "0.35463940168103136\n"
     ]
    }
   ],
   "source": [
    "avg_return = rollouts(env=visible_env,\n",
    "                      policy=make_policy(VI_planner.policy),\n",
    "                      n_trajectories=80,\n",
    "                      gamma=0.9)\n",
    "\n",
    "print(avg_return)"
   ]
  },
  {
   "cell_type": "code",
   "execution_count": 40,
   "metadata": {
    "id": "QY-Vrp5J0gDC"
   },
   "outputs": [
    {
     "data": {
      "text/html": [
       "<video  controls autoplay> <source src=\"data:video/mp4;base64,AAAAIGZ0eXBpc29tAAACAGlzb21pc28yYXZjMW1wNDEAAAAIZnJlZQAADtptZGF0AAACrgYF//+q3EXpvebZSLeWLNgg2SPu73gyNjQgLSBjb3JlIDE1OSByMjk5MSAxNzcxYjU1IC0gSC4yNjQvTVBFRy00IEFWQyBjb2RlYyAtIENvcHlsZWZ0IDIwMDMtMjAxOSAtIGh0dHA6Ly93d3cudmlkZW9sYW4ub3JnL3gyNjQuaHRtbCAtIG9wdGlvbnM6IGNhYmFjPTEgcmVmPTMgZGVibG9jaz0xOjA6MCBhbmFseXNlPTB4MzoweDExMyBtZT1oZXggc3VibWU9NyBwc3k9MSBwc3lfcmQ9MS4wMDowLjAwIG1peGVkX3JlZj0xIG1lX3JhbmdlPTE2IGNocm9tYV9tZT0xIHRyZWxsaXM9MSA4eDhkY3Q9MSBjcW09MCBkZWFkem9uZT0yMSwxMSBmYXN0X3Bza2lwPTEgY2hyb21hX3FwX29mZnNldD0tMiB0aHJlYWRzPTYgbG9va2FoZWFkX3RocmVhZHM9MSBzbGljZWRfdGhyZWFkcz0wIG5yPTAgZGVjaW1hdGU9MSBpbnRlcmxhY2VkPTAgYmx1cmF5X2NvbXBhdD0wIGNvbnN0cmFpbmVkX2ludHJhPTAgYmZyYW1lcz0zIGJfcHlyYW1pZD0yIGJfYWRhcHQ9MSBiX2JpYXM9MCBkaXJlY3Q9MSB3ZWlnaHRiPTEgb3Blbl9nb3A9MCB3ZWlnaHRwPTIga2V5aW50PTI1MCBrZXlpbnRfbWluPTEwIHNjZW5lY3V0PTQwIGludHJhX3JlZnJlc2g9MCByY19sb29rYWhlYWQ9NDAgcmM9Y3JmIG1idHJlZT0xIGNyZj0yMy4wIHFjb21wPTAuNjAgcXBtaW49MCBxcG1heD02OSBxcHN0ZXA9NCBpcF9yYXRpbz0xLjQwIGFxPTE6MS4wMACAAAACZWWIhAAR//73iB8yyY1+rXchHnrS6tH1DuRnFe4VaJx5qDQyjahirJ76DC1WHoAexSpuZHWPjdlRYy41MZ3SqGsaEwmoUY+/S+Y+nMAxi66u0mEkWNXznPR80q1fy4waw3f4LA/iwKQFqRXCPui/6FlRIYJ2DVJoi1hp7fmakGAd3BaypXkH/nfqdESlhcMYvXiS1AuLM6F+5Dgw5GTi679eu5aKr9cCIl6zUJpMZF2+PgExBIy3wTCoT+2CRZWZfC7d70uj4x2BfOjimem/oP1wVl9y6ZKJRlJsUTu3bxQqLTJ/5S6imKaRQU+ce7FaprGod0wUGvMyj2tGNlOJN8ul3S63umUgfRL2tfyLFtVXhXcMmbygivNvmgDBeiPEvU4CHa5C3vZNPa2T+zvfj8oVJUaxeAL2CeeC8LsH/bLJ8UslM3n5UeETF8Cx80OV6D8DdWkM8oPxaeghp/R0427UQP+ox4+RMoLmu7Hk/rny8SWD9sN0EU0iEPRVoz83bcT+QEEOlh7yyzsTU0EjddYA1i+Vf0+EQSswmcKd3Pu1WkL7NQerTDiKXVt7XFhT7TbMQx6XjA/cq6lMraZNYH667hDs5ceu4ivDimPfhIaYFPHHbCerN05uWQycvTsKdLieTUrvmysDfpXZ+Bny3qAhvg97KqKGgJPY45t7SzTLYupE1z8ZcKYw1v1sb4Ol+ILR/A/tWwL48iom3aWhfkxoWt9bxCVyLd5V74jKJTA0gj1dHw5yznR/2Gxwva9EfyWeyYfV2+IZ0kaEyuf2aiyxrXIUEMww0moJ8X6mjZCjjuEAtTsAAADPQZokbEEf/rUqiH5Hvrs/85ABv2ZM+dvltY1ae28T+exzloFP7PFC3tqyC1RWnBOsV70eIVcZnmR1oemdCTE3g3Fxr/+Bst/yWnMtJjOs8IRoGb3AwxvvTxjtwd8HkT7h/NhRKpqCs/132go1k1D+3RsOLVzm3LlZH+qQJxiRtH1X8/jKEksgI7xukqvplRzqGVr04F2XyNqF2JiQ0W7KYsXDN0ejInZWc4jFy/WE9+5Agyx6wZY5rCQjwjf/noR2I2RkiNQAplmHUiXpIz+AAAAAwkGeQniHfwHHQG26QyPaDv/x9FbHgBA1pLgyoUvavGLuZcdYAR9vjNqgq3gqJ56YrqryRbwoDSi+eMJ6pV1cCFl7vanehg5KaufLCkXKxe8Wz6CYlG90cWKusYfN1LgxGhe67/Xc4eRK6g9T+jEzv5tDJgCGkbXIR+1v8WYMGAqzCmqBde+D1JqUVojcFwR07O7XMiLZ3qXYJ/sTLCYcoO9Rb0opgjcRZ7JStDiiyzD0+ZXjO/X3hY3n2mxkV7HUfMGhAAAAuAGeYXRDfwJrazX+h9jl4VZPCvACavQelozd7//LT6X6UEPNilcIh837bDqaEh1tt3jXpdAj8C35Ycatfgs2voBasdjZ7OL6rAPSZqk/0wnZsSl69zVoNjQtJZlZb3kXXwjLCEow45hjh5hZ1yX63IzPyvlgPfdOkMef0k49o8y66HJ8cAlQP14G8mErPKcQCaYwsEiYGRdfsI+AuatwXG8nuDXJhC+hHNs0LSn5IY/vWxHDRr6+xoAAAAC9AZ5jakN/AL/2r8JYpdh/7MjgA/pAasyVJi//lyemB0WwCIbhlY0DbtrWtdRnb6Tn/vlvvoj5OIbZGE3ffoYN4gOSW7B1uf0Rhzh6tc0TjXPpBFNFMDHtlF7Pg6LROMXncMjPKLX8z93sciLcp8TqvgE6fd+m/gKHjbQx0Vbz/a1RCH666nIGzF1ocgzAq1yIpCyzyQvGoah8zbHrwwIZQ7ZmD4AXTgoVA+af1nJh1C0agtS+ITzgKmV9jdHrAAAAw0GaaEmoQWiZTAgh//6qVQBcrl5KN4wtIAGXeyEW2PrX/8XRKwLvlFKfLnQfqeGfG9MK7tW0DgXQ5vjBWe2k66dDdtCa20vcZeyaJuPWrSk/OpeklYsRDO+lYAwzbusqW5KB3Ov4O/3cgeg5lpU2yul1mz7ePlfKMBnp+yfCo6nyTtu2VUhg++6VK1JNUGjXxMNKFrz6i6xkqz+wM/JD4US6MoxXz0JouNMvKXlIOlAxknQ0uFJmE7OoPBcGC1FBjetrgQAAABNBnoZFESw7/wDPpAQOg1Jo4v/5AAAAuQGepXRDfwCz1qUt8eLErfgBNXtasyVJi//lyemB0YI2j9/3IfZx+sUhoRn17VppCLtYT4CxXy8P/RLZ52suVC+Uf3twoktv7R3BulB9ZuaQIH6TbIgn8hJLri2fMRJ982bAAegX8Ux76Jy8Qmr9jGiYcEN5MGRS0/UDN8BsgNG7DekFRJr+jpQ9iLDMVxOhfvBiTp8qLHrwwIZQ7ZmD4AXoOY7CIvnOFurlFwDcMomIJpqEUB55TROxAAAAsgGep2pDfwCz1yHuDA58uAC6rggCpPYl2e4EUwaJqY6ZQeavehvoW3bX89Om/Yv3uBwTJS7mXvRrn1DHcKlnID0rmGc4VTxkxuySatxbJJMmgBqJJjrUyDOCW4imSPB71IsP8tAQuibJmQ79Pj953Ej998nrTFdAF3OwOHqfHU+sczlc2xbd3Z40BBgNP/UAAXt62Liudz1yq11YpDByUJR6hP3ly+j0wTEoJLklb53no9wAAADpQZqsSahBbJlMCH///qmWAWBvgmme4ARlbV2qc5lEyrTk7p9IGkBPzkGeJ3A419Usib2QDBMMcNmKwXhkBRXEdvk6SBnzDNv0Eci+x3tuPg03VBJWaOghXeIxQj9V8c0ixZJrIYVJ20Q4GpZfgwfhsDPAVv7GTvFtOEGSP0qnSYLW/dNy/nhb65+llccLrByn60SvGdKllfjr2BocFEIOkYm/cRYKGxNS3U2ae5RLezahy6Y4gE655SwbMpE5QvsI+WfRmLJdVTA8nCJkKKQSs0VF0jFze7l5VbqA9nwnLV9Ay5z+sdHhmIAAAADIQZ7KRRUsO/8Az6QEDoNSaOMaL+LtOS+rZwAaukq5/6HXtaBzz/reFBW2LWayNAmkofhufXVirHq4tKR893Zv4h1y8j9AGA8M3VDbOBZHfqF69TjEpuBmS5Wmco8IlIOVS/SzXhD7Y3D9lgB18x0pDExBmBHCiuBaBVwgu46L+s3A6pS9Ug6WAuwQmgwI7cB9f8uNWS/yWuj4ynCXzUZ+fmfXVUOx7WBEUOHUQ6dGk9PIJRRsGLSRm/Rd3LYsMf3ss18el9l2zKsAAADAAZ7pdEN/ALYd0a4o+2XMBF5nN+GAAfFLA2qxYJGp3YJqwP+mvtvKz6LHomA/Dc+sLFVG3FRwDYmpImsrDnAR9HrmxbBsFoA2MpV4vjQZoiYcf7NIFU05Kh5enXOs14BXCNw8XYADuUiYxyEanDxwo4YWgN83ruOjHogM6l96E1QOM+dHbf7r/lxSXp4vn0rPKcEerFM18e/7iPk6NQ1k1KwIj5nh2RT3DmfnVzRLaeTK4/vZuzGY19ZFVDIWIAZQAAAAvAGe62pDfwA0GkgLgLYaSHACavewWU+h//lyemBy1A+01oEoqh8h2EFFhyrVsJx07s2onxDbFgm6P75T8xT2Sy6P724USW+b1bJrrApSEu/Dc/ncKBkeczLNlwmXLbitYGNpb64+n7pso3t9aek9RI3tAIjI+LZPIdv6nMpcTjETxfGyApUIolVeHwlmXcNjh6PoWRIBb0MevDAfyUme5mjVto38mjgSzDN7fEgwQwl4I/RN2dKvZ8EVqCsxAAAA6EGa70moQWyZTAhv//6nhACKqB535iOADarlDu8aH/++T0+dqPV1TdDGQkRmnvbT73oHWGvunvTAiUMNEeVqGaT23y9ZbvF6Pc2/828m2GJAO5OARpHUo+Mux84lU2mBykxSSLbGeqRcUTk1N2rPMxHH48B4Jmfw5FboRMtLQwFO4ug8RDDng1tnr0LxUEtXwErsfeCLF5kHolopxZBgRTHmcqtIhXXfmLeovtnTzsKbsYDtMuwDGsiZGqOWlGT2+j08XkRphq2S1yxhAJKEfL1rizLnpFj7AdxrwGiA3n7tjEnh7lvZXB8AAAAWQZ8NRRUsN/8BJ/GXIuAW+hF9ZFRvEQAAAAkBny5qQ38AEPEAAAPJbW9vdgAAAGxtdmhkAAAAAAAAAAAAAAAAAAAD6AAABkAAAQAAAQAAAAAAAAAAAAAAAAEAAAAAAAAAAAAAAAAAAAABAAAAAAAAAAAAAAAAAABAAAAAAAAAAAAAAAAAAAAAAAAAAAAAAAAAAAAAAAAAAgAAAvN0cmFrAAAAXHRraGQAAAADAAAAAAAAAAAAAAABAAAAAAAABkAAAAAAAAAAAAAAAAAAAAAAAAEAAAAAAAAAAAAAAAAAAAABAAAAAAAAAAAAAAAAAABAAAAAAMAAAADAAAAAAAAkZWR0cwAAABxlbHN0AAAAAAAAAAEAAAZAAAAIAAABAAAAAAJrbWRpYQAAACBtZGhkAAAAAAAAAAAAAAAAAAAoAAAAQABVxAAAAAAALWhkbHIAAAAAAAAAAHZpZGUAAAAAAAAAAAAAAABWaWRlb0hhbmRsZXIAAAACFm1pbmYAAAAUdm1oZAAAAAEAAAAAAAAAAAAAACRkaW5mAAAAHGRyZWYAAAAAAAAAAQAAAAx1cmwgAAAAAQAAAdZzdGJsAAAAlnN0c2QAAAAAAAAAAQAAAIZhdmMxAAAAAAAAAAEAAAAAAAAAAAAAAAAAAAAAAMAAwABIAAAASAAAAAAAAAABAAAAAAAAAAAAAAAAAAAAAAAAAAAAAAAAAAAAAAAAAAAAGP//AAAAMGF2Y0MBZAAL/+EAF2dkAAus2UMGaEAAAAMAQAAABQPFCmWAAQAGaOvjyyLAAAAAGHN0dHMAAAAAAAAAAQAAABAAAAQAAAAAFHN0c3MAAAAAAAAAAQAAAAEAAACIY3R0cwAAAAAAAAAPAAAAAQAACAAAAAABAAAUAAAAAAEAAAgAAAAAAQAAAAAAAAABAAAEAAAAAAEAABQAAAAAAQAACAAAAAABAAAAAAAAAAEAAAQAAAAAAQAAFAAAAAABAAAIAAAAAAEAAAAAAAAAAQAABAAAAAABAAAQAAAAAAIAAAQAAAAAHHN0c2MAAAAAAAAAAQAAAAEAAAAQAAAAAQAAAFRzdHN6AAAAAAAAAAAAAAAQAAAFGwAAANMAAADGAAAAvAAAAMEAAADHAAAAFwAAAL0AAAC2AAAA7QAAAMwAAADEAAAAwAAAAOwAAAAaAAAADQAAABRzdGNvAAAAAAAAAAEAAAAwAAAAYnVkdGEAAABabWV0YQAAAAAAAAAhaGRscgAAAAAAAAAAbWRpcmFwcGwAAAAAAAAAAAAAAAAtaWxzdAAAACWpdG9vAAAAHWRhdGEAAAABAAAAAExhdmY1OC4yOS4xMDA=\" type=\"video/mp4\"> </video>"
      ],
      "text/plain": [
       "<IPython.core.display.HTML object>"
      ]
     },
     "metadata": {},
     "output_type": "display_data"
    },
    {
     "data": {
      "image/png": "[encoded data removed]",
      "text/plain": [
       "<Figure size 400x300 with 1 Axes>"
      ]
     },
     "metadata": {},
     "output_type": "display_data"
    },
    {
     "data": {
      "image/png": "[encoded data removed]",
      "text/plain": [
       "<Figure size 400x300 with 1 Axes>"
      ]
     },
     "metadata": {},
     "output_type": "display_data"
    }
   ],
   "source": [
    "visible_env.play()\n",
    "\n",
    "visualize(VI_planner.V_logs, (1, 1, 0), 6)"
   ]
  },
  {
   "cell_type": "markdown",
   "metadata": {
    "id": "8fS7zGk2tas0"
   },
   "source": [
    "### Bonus Task ⭐\n",
    "\n",
    "Implement Optimistic Policy Iteration. See slide 33 of [[1]](#scrollTo=XqJPFe6f6gFV&line=5&uniqifier=1).\n",
    "\n",
    "Improve the efficiency of the implementations above with Numpy/Pytorch/Tensorflow."
   ]
  },
  {
   "cell_type": "markdown",
   "metadata": {
    "id": "XqJPFe6f6gFV"
   },
   "source": [
    "# Credit:\n",
    "\n",
    "1.   Bruno Scherrer, \"a lecture on Markov Decision Processes and Dynamic Programming\", June 2023, [Slides](https://drive.google.com/file/d/1sFh0TyU_nq60R7kouPg6MCI4IMYicSII/view?usp=sharing)\n",
    "2.   Csaba Szepesvári \"a lecture series on Theoretical Foundations of Reinforcement Learning\", 2020, [RL Theory course](https://rltheory.github.io/)\n",
    "3.   Richard S. Sutton, Andrew G. Barto \"Reinforcement Learning: An Introduction\", second edition, 2020, [Book](http://incompleteideas.net/book/RLbook2020.pdf)\n",
    "\n",
    "\n",
    "\n"
   ]
  }
 ],
 "metadata": {
  "colab": {
   "provenance": []
  },
  "kernelspec": {
   "display_name": "Python 3 (ipykernel)",
   "language": "python",
   "name": "python3"
  },
  "language_info": {
   "codemirror_mode": {
    "name": "ipython",
    "version": 3
   },
   "file_extension": ".py",
   "mimetype": "text/x-python",
   "name": "python",
   "nbconvert_exporter": "python",
   "pygments_lexer": "ipython3",
   "version": "3.10.12"
  }
 },
 "nbformat": 4,
 "nbformat_minor": 1
}
