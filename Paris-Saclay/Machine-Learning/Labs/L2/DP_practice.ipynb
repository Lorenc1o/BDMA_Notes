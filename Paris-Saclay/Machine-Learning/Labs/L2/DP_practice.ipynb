{
 "cells": [
  {
   "cell_type": "markdown",
   "metadata": {
    "id": "Hr2tPjlrf-rP"
   },
   "source": [
    "# Practice Session 1: Policy and Value Iteration"
   ]
  },
  {
   "cell_type": "code",
   "execution_count": 1,
   "metadata": {
    "id": "VYZ_hFDkXuY0"
   },
   "outputs": [],
   "source": [
    "import time\n",
    "import random"
   ]
  },
  {
   "cell_type": "markdown",
   "metadata": {
    "id": "yqPq-DrFG3se"
   },
   "source": [
    "### Environments and tasks\n",
    "\n",
    "An MDP is a model of Reinforcement Learning tasks. It comprises of:\n",
    "* a **state space** $\\mathcal{S}$\n",
    "* a **action space** $\\mathcal{A}$\n",
    "* a **starting-state distribution** $\\nu_0(s)$\n",
    "* a **reward function** $r: \\mathcal{S}\\times\\mathcal{A}\\rightarrow [0,1]$ (or vector $r\\in[0,1]^{|\\mathcal{S}|\\cdot|\\mathcal{A}|}$)\n",
    "* a **transition function** $p: \\mathcal{S}\\times\\mathcal{A}\\rightarrow \\Delta_{\\mathcal{S}}$ (or matrix $p \\in\\mathbb{R}^{|\\mathcal{S}|\\cdot|\\mathcal{A}|\\times|\\mathcal{S}|}$)\n",
    "\n",
    "where $\\Delta_{\\mathcal{S}} = \\{q\\in\\mathbb{R}^{|\\mathcal{S}|} \\,\\,|\\,\\, \\sum_{s\\in\\mathcal{S}}q(s) = 1,\\, q(s)\\geq 0 \\text{ for } s\\in\\mathcal{S}\\}$"
   ]
  },
  {
   "cell_type": "markdown",
   "metadata": {
    "id": "PsQticuSJmdO"
   },
   "source": [
    "Interaction between an agent (or decision maker) and some environment (or task) in some round $t$:\n",
    "\n",
    "<div>\n",
    "<img src=\"https://drive.google.com/uc?export=view&id=11KyhHxuaileBEJ9fFZmIS5-GzncQgyqt\" alt=\"agent-environment interaction\" width=\"600\"/>\n",
    "</div>\n",
    "\n",
    "The agent is equipped with a policy $\\pi$ mapping states to actions (or a distribution over actions)."
   ]
  },
  {
   "cell_type": "markdown",
   "metadata": {
    "id": "ob8WriuZLh-g"
   },
   "source": [
    "### The Gym(nasium) interface\n",
    "\n",
    "[Gymnasium](https://gymnasium.farama.org/) is a standard API for Decision Processes, based on OpenAI's Gym library."
   ]
  },
  {
   "cell_type": "code",
   "execution_count": 2,
   "metadata": {
    "id": "JgaqoJNTOi6o"
   },
   "outputs": [
    {
     "name": "stdout",
     "output_type": "stream",
     "text": [
      "pygame 2.5.2 (SDL 2.28.2, Python 3.10.12)\n",
      "Hello from the pygame community. https://www.pygame.org/contribute.html\n"
     ]
    }
   ],
   "source": [
    "# Standard import\n",
    "import gymnasium as gym\n",
    "from gymnasium import Env"
   ]
  },
  {
   "cell_type": "markdown",
   "metadata": {
    "id": "yDwwk5BL1eRQ"
   },
   "source": [
    "The library also defines a number of classic benchmarks [Atari](https://gymnasium.farama.org/environments/atari/) games, [MuJoCo](https://gymnasium.farama.org/environments/mujoco/) simulations, and [ToyText](https://gymnasium.farama.org/environments/toy_text/), minimal environments for debugging.\n"
   ]
  },
  {
   "cell_type": "code",
   "execution_count": 3,
   "metadata": {
    "id": "DlzPIsH23hpE"
   },
   "outputs": [
    {
     "name": "stdout",
     "output_type": "stream",
     "text": [
      "Discrete(4)\n",
      "Discrete(48)\n"
     ]
    }
   ],
   "source": [
    "# A registered environment (for example Cliff Walking) can be instantiated with\n",
    "env = gym.make(\"CliffWalking-v0\")\n",
    "\n",
    "# Important properties:\n",
    "print(env.action_space)\n",
    "print(env.observation_space)"
   ]
  },
  {
   "cell_type": "markdown",
   "metadata": {
    "id": "XXhGGkAI7XEh"
   },
   "source": [
    "We only consider discrete state and action spaces. See the possible alternatives: `dir(gym.spaces)`\n",
    "\n",
    "Environments can be fully observable, partially observable or non-stationary. All these variants fit the same environment interface.\n",
    "We should know which class our environment belongs to.\n",
    "Today, we only consider stationary and fully observable MDPs."
   ]
  },
  {
   "cell_type": "markdown",
   "metadata": {
    "id": "fNcySyOGACgZ"
   },
   "source": [
    "The environment interface allows  to sample initial states and transition with `env.reset()` and `env.step(action)`. Every method is well documented (see `help(gym.Env.step)`).\n",
    "\n",
    "Try it out!"
   ]
  },
  {
   "cell_type": "code",
   "execution_count": 4,
   "metadata": {
    "id": "Wnymj388egTo"
   },
   "outputs": [
    {
     "name": "stdout",
     "output_type": "stream",
     "text": [
      "Initial observation: 36\n",
      "Observation: 24, reward -1\n",
      "Observation: 12, reward -1\n",
      "Observation: 0, reward -1\n"
     ]
    }
   ],
   "source": [
    "observation, info = env.reset()\n",
    "print(f\"Initial observation: {observation}\")\n",
    "\n",
    "action = 0  # any action\n",
    "\n",
    "observation, reward, terminated, truncated, info = env.step(action)\n",
    "print(f\"Observation: {observation}, reward {reward}\")\n",
    "\n",
    "observation, reward, terminated, truncated, info = env.step(action)\n",
    "print(f\"Observation: {observation}, reward {reward}\")\n",
    "\n",
    "observation, reward, terminated, truncated, info = env.step(action)\n",
    "print(f\"Observation: {observation}, reward {reward}\")"
   ]
  },
  {
   "cell_type": "markdown",
   "metadata": {
    "id": "5xffKa7UfiOC"
   },
   "source": [
    "Custom environments can be created by subclassing the `Env` class.\n",
    "\n",
    "Environments can be also modified with wrappers. See the predefined Gymnasium [Wrappers](https://gymnasium.farama.org/api/wrappers/#gymnasium-wrappers)."
   ]
  },
  {
   "cell_type": "markdown",
   "metadata": {
    "id": "gHgub_3DH-9V"
   },
   "source": [
    "## Setting up our RL task\n",
    "\n"
   ]
  },
  {
   "cell_type": "markdown",
   "metadata": {
    "id": "_QotsgLalKv4"
   },
   "source": [
    "We experiment with a simple grid-world environment, based on the implementation in [minigrid](https://minigrid.farama.org/environments/minigrid/). The environment is configured and observations are transformed appropriately (you already know how)."
   ]
  },
  {
   "cell_type": "code",
   "execution_count": 5,
   "metadata": {
    "id": "dzPxVxymjlZr"
   },
   "outputs": [
    {
     "name": "stdout",
     "output_type": "stream",
     "text": [
      "WWWWW\n",
      "W>  W\n",
      "W   W\n",
      "W  GW\n",
      "WWWWW\n"
     ]
    },
    {
     "name": "stderr",
     "output_type": "stream",
     "text": [
      "/home/jose/miniconda3/envs/ml/lib/python3.10/site-packages/gymnasium/core.py:311: UserWarning: \u001b[33mWARN: env.grid to get variables from other wrappers is deprecated and will be removed in v1.0, to get this variable you can do `env.unwrapped.grid` for environment variables or `env.get_wrapper_attr('grid')` that will search the reminding wrappers.\u001b[0m\n",
      "  logger.warn(\n",
      "/home/jose/miniconda3/envs/ml/lib/python3.10/site-packages/gymnasium/core.py:311: UserWarning: \u001b[33mWARN: env.agent_pos to get variables from other wrappers is deprecated and will be removed in v1.0, to get this variable you can do `env.unwrapped.agent_pos` for environment variables or `env.get_wrapper_attr('agent_pos')` that will search the reminding wrappers.\u001b[0m\n",
      "  logger.warn(\n",
      "/home/jose/miniconda3/envs/ml/lib/python3.10/site-packages/gymnasium/core.py:311: UserWarning: \u001b[33mWARN: env.agent_dir to get variables from other wrappers is deprecated and will be removed in v1.0, to get this variable you can do `env.unwrapped.agent_dir` for environment variables or `env.get_wrapper_attr('agent_dir')` that will search the reminding wrappers.\u001b[0m\n",
      "  logger.warn(\n"
     ]
    }
   ],
   "source": [
    "from environments import Room, MinigridBase\n",
    "\n",
    "\n",
    "# Initializing the environment\n",
    "env = Room(\n",
    "    failure=0.0,\n",
    "    agent_start_pos=(1, 1),\n",
    "    agent_start_dir=0,\n",
    "    size=5,\n",
    ")\n",
    "print(env)"
   ]
  },
  {
   "cell_type": "markdown",
   "metadata": {
    "id": "AA74pMHsl_be"
   },
   "source": [
    "In this ASCII representation, > is the agent, facing right, G is the goal, and W are walls.\n",
    "\n",
    "Understand you own environment:"
   ]
  },
  {
   "cell_type": "code",
   "execution_count": 6,
   "metadata": {
    "id": "pY4EV-n0mH-d"
   },
   "outputs": [
    {
     "name": "stdout",
     "output_type": "stream",
     "text": [
      "Action space: Discrete(3)\n",
      "Observation space: MultiDiscrete([5 5 4])\n",
      "\n"
     ]
    }
   ],
   "source": [
    "print(\"Action space:\", env.action_space)\n",
    "print(\"Observation space:\", env.observation_space, end=\"\\n\\n\")\n",
    "#print(help(MinigridBase))"
   ]
  },
  {
   "cell_type": "markdown",
   "metadata": {
    "id": "Tk3VBz-ZmsvM"
   },
   "source": [
    "When you checkout `help(env)`:\n",
    "\n",
    "    class MinigridBase\n",
    "       MinigridBase(minigrid: minigrid.minigrid_env.MiniGridEnv, seed: int, failure=0.0)\n",
    "\n",
    "       Base class for minigrid environments with explicit transition and reward functions.\n",
    "\n",
    "       The agent is rewarded upon reaching the goal location.\n",
    "\n",
    "       Action space:\n",
    "\n",
    "       | Num | Name         | Action       |\n",
    "       |-----|--------------|--------------|\n",
    "       | 0   | left         | Turn left    |\n",
    "       | 1   | right        | Turn right   |\n",
    "       | 2   | forward      | Move forward |\n",
    "\n",
    "       Observation space:\n",
    "\n",
    "       | Name | Description             |\n",
    "       |------|-------------------------|\n",
    "       | x    | x coordinate            |\n",
    "       | y    | y coordinate (downward) |\n",
    "       | dir  | cardinal direction      |\n",
    "\n",
    "       The transition function is stored in `T`,\n",
    "       where `T[state][action][next_state]` is the transition probability.\n",
    "       The reward function is `R`. `R[state][action]` contains a reward."
   ]
  },
  {
   "cell_type": "markdown",
   "metadata": {
    "id": "nOD43HaO2M6X"
   },
   "source": [
    "### Demo\n",
    "\n",
    "Here's a rollout loop, for a single trajectory"
   ]
  },
  {
   "cell_type": "code",
   "execution_count": 8,
   "metadata": {
    "id": "ugRanvqJo4RW"
   },
   "outputs": [
    {
     "name": "stdout",
     "output_type": "stream",
     "text": [
      "Initial observation: [1 1 0]\n",
      "WWWWW\n",
      "W>  W\n",
      "W   W\n",
      "W  GW\n",
      "WWWWW\n",
      "Observation: [2 1 0], reward 0.0, terminated False, truncated False\n",
      "WWWWW\n",
      "W > W\n",
      "W   W\n",
      "W  GW\n",
      "WWWWW\n",
      "Observation: [2 1 1], reward 0.0, terminated False, truncated False\n",
      "WWWWW\n",
      "W V W\n",
      "W   W\n",
      "W  GW\n",
      "WWWWW\n",
      "Observation: [2 1 2], reward 0.0, terminated False, truncated False\n",
      "WWWWW\n",
      "W < W\n",
      "W   W\n",
      "W  GW\n",
      "WWWWW\n",
      "Observation: [1 1 2], reward 0.0, terminated False, truncated False\n",
      "WWWWW\n",
      "W<  W\n",
      "W   W\n",
      "W  GW\n",
      "WWWWW\n",
      "Observation: [1 1 2], reward 0.0, terminated False, truncated False\n",
      "WWWWW\n",
      "W<  W\n",
      "W   W\n",
      "W  GW\n",
      "WWWWW\n",
      "Observation: [1 1 2], reward 0.0, terminated False, truncated False\n",
      "WWWWW\n",
      "W<  W\n",
      "W   W\n",
      "W  GW\n",
      "WWWWW\n",
      "Observation: [1 1 2], reward 0.0, terminated False, truncated False\n",
      "WWWWW\n",
      "W<  W\n",
      "W   W\n",
      "W  GW\n",
      "WWWWW\n",
      "Observation: [1 1 3], reward 0.0, terminated False, truncated False\n",
      "WWWWW\n",
      "W^  W\n",
      "W   W\n",
      "W  GW\n",
      "WWWWW\n",
      "Observation: [1 1 0], reward 0.0, terminated False, truncated False\n",
      "WWWWW\n",
      "W>  W\n",
      "W   W\n",
      "W  GW\n",
      "WWWWW\n",
      "Observation: [2 1 0], reward 0.0, terminated False, truncated False\n",
      "WWWWW\n",
      "W > W\n",
      "W   W\n",
      "W  GW\n",
      "WWWWW\n",
      "Observation: [3 1 0], reward 0.0, terminated False, truncated False\n",
      "WWWWW\n",
      "W  >W\n",
      "W   W\n",
      "W  GW\n",
      "WWWWW\n",
      "Observation: [3 1 1], reward 0.0, terminated False, truncated False\n",
      "WWWWW\n",
      "W  VW\n",
      "W   W\n",
      "W  GW\n",
      "WWWWW\n",
      "Observation: [3 2 1], reward 0.0, terminated False, truncated False\n",
      "WWWWW\n",
      "W   W\n",
      "W  VW\n",
      "W  GW\n",
      "WWWWW\n",
      "Observation: [3 3 1], reward 0.0, terminated False, truncated False\n",
      "WWWWW\n",
      "W   W\n",
      "W   W\n",
      "W  VW\n",
      "WWWWW\n",
      "Observation: [0 0 0], reward 1.0, terminated True, truncated False\n",
      "WWWWW\n",
      "W   W\n",
      "W   W\n",
      "W  VW\n",
      "WWWWW\n"
     ]
    }
   ],
   "source": [
    "# Test it\n",
    "done = False\n",
    "observation, info = env.reset()\n",
    "print(\"Initial observation:\", observation)\n",
    "print(env)\n",
    "\n",
    "# Steps\n",
    "while not done:\n",
    "\n",
    "    try:\n",
    "      # Action selection\n",
    "\n",
    "      action = int(input(\"Action: \"))\n",
    "\n",
    "      # Transition\n",
    "      observation, reward, terminated, truncated, info = env.step(action)\n",
    "      done = terminated or truncated\n",
    "\n",
    "      print(f\"Observation: {observation}, reward {reward}, terminated {terminated}, truncated {truncated}\")\n",
    "      print(env)\n",
    "\n",
    "    except:\n",
    "      done = True\n",
    "      print(\"Invalid action or KeyboardInterrupt\")\n"
   ]
  },
  {
   "cell_type": "markdown",
   "metadata": {
    "id": "X910eylycXEf"
   },
   "source": [
    "We can define a function that performs `n_trajectories` rollouts on the environment with a given policy. We can also compute arbitrary statistics in the meanwhile."
   ]
  },
  {
   "cell_type": "code",
   "execution_count": 9,
   "metadata": {
    "id": "gU1XQ-ObDqCn"
   },
   "outputs": [],
   "source": [
    "def rollouts(env, policy, n_trajectories, gamma):\n",
    "    \"\"\"Execute policy over env for n_trajectories and compute discounted return.\"\"\"\n",
    "    total_return = 0.0\n",
    "\n",
    "    # Trajectores\n",
    "    for _ in range(n_trajectories):\n",
    "\n",
    "        # Init\n",
    "        discount = 1.0\n",
    "        ret = 0.0\n",
    "        observation, info = env.reset()\n",
    "        done = False\n",
    "\n",
    "        # Steps\n",
    "        while not done:\n",
    "\n",
    "            # Action selection\n",
    "            action = policy(observation)\n",
    "\n",
    "            # Transition\n",
    "            observation, reward, terminated, truncated, info = env.step(action)\n",
    "\n",
    "            done = terminated or truncated\n",
    "            ret += reward * discount\n",
    "            discount *= gamma\n",
    "\n",
    "            if done:\n",
    "                total_return += ret\n",
    "\n",
    "    env.close()\n",
    "    return total_return / n_trajectories"
   ]
  },
  {
   "cell_type": "markdown",
   "metadata": {
    "id": "PmYQPLghM8cy"
   },
   "source": [
    "Since we don't have a policy yet, let's define the uniform one."
   ]
  },
  {
   "cell_type": "code",
   "execution_count": 10,
   "metadata": {
    "id": "Itk9LgVqL-DD"
   },
   "outputs": [],
   "source": [
    "import random\n",
    "class UniformPolicy():\n",
    "    def __init__(self, n_actions: int):\n",
    "        self.n_actions = n_actions\n",
    "\n",
    "    def __call__(self, observation):\n",
    "        return random.randint(0, self.n_actions-1)"
   ]
  },
  {
   "cell_type": "markdown",
   "metadata": {
    "id": "kQmcdqKt31XT"
   },
   "source": [
    "Let's try:"
   ]
  },
  {
   "cell_type": "code",
   "execution_count": 11,
   "metadata": {
    "id": "qXnOiHr234mn"
   },
   "outputs": [
    {
     "name": "stdout",
     "output_type": "stream",
     "text": [
      "0.014651815837868152\n"
     ]
    }
   ],
   "source": [
    "avg_return = rollouts(env=env,\n",
    "                      policy=UniformPolicy(env.action_space.n),\n",
    "                      n_trajectories=20,\n",
    "                      gamma=0.9)\n",
    "\n",
    "print(avg_return)"
   ]
  },
  {
   "cell_type": "markdown",
   "metadata": {
    "id": "qpv9bGrwdtFd"
   },
   "source": [
    "We can also visualize the execution:"
   ]
  },
  {
   "cell_type": "code",
   "execution_count": 12,
   "metadata": {
    "id": "k7_UY2RPOb7v"
   },
   "outputs": [
    {
     "name": "stderr",
     "output_type": "stream",
     "text": [
      "/home/jose/miniconda3/envs/ml/lib/python3.10/site-packages/gymnasium/wrappers/record_video.py:94: UserWarning: \u001b[33mWARN: Overwriting existing videos at /home/jose/Desktop/Lorenc1o-repos/BDMA_Notes/Paris-Saclay/Machine-Learning/Labs/L2/videos-dir folder (try specifying a different `video_folder` for the `RecordVideo` wrapper if this is not desired)\u001b[0m\n",
      "  logger.warn(\n"
     ]
    }
   ],
   "source": [
    "from wrappers import Renderer\n",
    "visible_env = Renderer(env)"
   ]
  },
  {
   "cell_type": "code",
   "execution_count": 13,
   "metadata": {
    "id": "P2CieU7A_40i"
   },
   "outputs": [
    {
     "name": "stdout",
     "output_type": "stream",
     "text": [
      "0.00785516721127895\n"
     ]
    }
   ],
   "source": [
    "avg_return = rollouts(env=visible_env,\n",
    "                      policy=UniformPolicy(env.action_space.n),\n",
    "                      n_trajectories=1,\n",
    "                      gamma=0.9)\n",
    "\n",
    "print(avg_return)"
   ]
  },
  {
   "cell_type": "code",
   "execution_count": 14,
   "metadata": {
    "id": "EbdR7lQQXhXu"
   },
   "outputs": [
    {
     "data": {
      "text/html": [
       "<video  controls autoplay> <source src=\"data:video/mp4;base64,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\" type=\"video/mp4\"> </video>"
      ],
      "text/plain": [
       "<IPython.core.display.HTML object>"
      ]
     },
     "metadata": {},
     "output_type": "display_data"
    }
   ],
   "source": [
    "visible_env.play()"
   ]
  },
  {
   "cell_type": "markdown",
   "metadata": {},
   "source": [
    "Finally, a small utility for creating callable objects from state-action mappings"
   ]
  },
  {
   "cell_type": "code",
   "execution_count": 15,
   "metadata": {
    "id": "4KDwEt06qnHI"
   },
   "outputs": [],
   "source": [
    "def make_policy(policy_dict):\n",
    "  \"\"\"Return the policy dictionary as a callable object\"\"\"\n",
    "\n",
    "  def callable_policy(observation):\n",
    "      return policy_dict[tuple(observation.tolist())]\n",
    "\n",
    "  return callable_policy"
   ]
  },
  {
   "cell_type": "markdown",
   "metadata": {
    "id": "srQzHwZTe_gd"
   },
   "source": [
    "### Explicit model\n",
    "\n",
    "The algorithms we will implement require that a complete model of the environment is available, in the form of explicit transition and reward functions. This is not part of the gym interface.\n",
    "\n",
    "These two functions are stored in two members:"
   ]
  },
  {
   "cell_type": "code",
   "execution_count": 16,
   "metadata": {
    "id": "DczwaYuUfqHg"
   },
   "outputs": [
    {
     "name": "stdout",
     "output_type": "stream",
     "text": [
      "A few probabilities\n",
      "1.0\n",
      "0.0\n",
      "1.0\n",
      "\n",
      "A few rewards\n",
      "0.0\n",
      "1.0\n"
     ]
    }
   ],
   "source": [
    "# Transition and reward functions\n",
    "T = env.T\n",
    "R = env.R\n",
    "\n",
    "# These are represented as dictionaries (for maximum clarity)\n",
    "#   and indexed as T[state][action][next_state]\n",
    "print(\"A few probabilities\")\n",
    "print(T[(1, 1, 0)][2][(2, 1, 0)])\n",
    "print(T[(1, 1, 0)][2][(1, 1, 1)])\n",
    "print(T[(3, 1, 0)][1][(3, 1, 1)])\n",
    "\n",
    "#   also R[state][action]\n",
    "print(\"\\nA few rewards\")\n",
    "print(R[(1, 1, 0)][2])\n",
    "print(R[(3, 3, 0)][0])"
   ]
  },
  {
   "cell_type": "code",
   "execution_count": 17,
   "metadata": {},
   "outputs": [
    {
     "name": "stdout",
     "output_type": "stream",
     "text": [
      "Transition function -- self.T\n",
      "State (1, 1, 0)\n",
      "  action 0\n",
      "    next state (1, 1, 3): 1.0\n",
      "  action 1\n",
      "    next state (1, 1, 1): 1.0\n",
      "  action 2\n",
      "    next state (2, 1, 0): 1.0\n",
      "State (1, 1, 1)\n",
      "  action 0\n",
      "    next state (1, 1, 0): 1.0\n",
      "  action 1\n",
      "    next state (1, 1, 2): 1.0\n",
      "  action 2\n",
      "    next state (1, 2, 1): 1.0\n",
      "State (1, 1, 2)\n",
      "  action 0\n",
      "    next state (1, 1, 1): 1.0\n",
      "  action 1\n",
      "    next state (1, 1, 3): 1.0\n",
      "  action 2\n",
      "    next state (1, 1, 2): 1.0\n",
      "State (1, 1, 3)\n",
      "  action 0\n",
      "    next state (1, 1, 2): 1.0\n",
      "  action 1\n",
      "    next state (1, 1, 0): 1.0\n",
      "  action 2\n",
      "    next state (1, 1, 3): 1.0\n",
      "State (1, 2, 0)\n",
      "  action 0\n",
      "    next state (1, 2, 3): 1.0\n",
      "  action 1\n",
      "    next state (1, 2, 1): 1.0\n",
      "  action 2\n",
      "    next state (2, 2, 0): 1.0\n",
      "State (1, 2, 1)\n",
      "  action 0\n",
      "    next state (1, 2, 0): 1.0\n",
      "  action 1\n",
      "    next state (1, 2, 2): 1.0\n",
      "  action 2\n",
      "    next state (1, 3, 1): 1.0\n",
      "State (1, 2, 2)\n",
      "  action 0\n",
      "    next state (1, 2, 1): 1.0\n",
      "  action 1\n",
      "    next state (1, 2, 3): 1.0\n",
      "  action 2\n",
      "    next state (1, 2, 2): 1.0\n",
      "State (1, 2, 3)\n",
      "  action 0\n",
      "    next state (1, 2, 2): 1.0\n",
      "  action 1\n",
      "    next state (1, 2, 0): 1.0\n",
      "  action 2\n",
      "    next state (1, 1, 3): 1.0\n",
      "State (1, 3, 0)\n",
      "  action 0\n",
      "    next state (1, 3, 3): 1.0\n",
      "  action 1\n",
      "    next state (1, 3, 1): 1.0\n",
      "  action 2\n",
      "    next state (2, 3, 0): 1.0\n",
      "State (1, 3, 1)\n",
      "  action 0\n",
      "    next state (1, 3, 0): 1.0\n",
      "  action 1\n",
      "    next state (1, 3, 2): 1.0\n",
      "  action 2\n",
      "    next state (1, 3, 1): 1.0\n",
      "State (1, 3, 2)\n",
      "  action 0\n",
      "    next state (1, 3, 1): 1.0\n",
      "  action 1\n",
      "    next state (1, 3, 3): 1.0\n",
      "  action 2\n",
      "    next state (1, 3, 2): 1.0\n",
      "State (1, 3, 3)\n",
      "  action 0\n",
      "    next state (1, 3, 2): 1.0\n",
      "  action 1\n",
      "    next state (1, 3, 0): 1.0\n",
      "  action 2\n",
      "    next state (1, 2, 3): 1.0\n",
      "State (2, 1, 0)\n",
      "  action 0\n",
      "    next state (2, 1, 3): 1.0\n",
      "  action 1\n",
      "    next state (2, 1, 1): 1.0\n",
      "  action 2\n",
      "    next state (3, 1, 0): 1.0\n",
      "State (2, 1, 1)\n",
      "  action 0\n",
      "    next state (2, 1, 0): 1.0\n",
      "  action 1\n",
      "    next state (2, 1, 2): 1.0\n",
      "  action 2\n",
      "    next state (2, 2, 1): 1.0\n",
      "State (2, 1, 2)\n",
      "  action 0\n",
      "    next state (2, 1, 1): 1.0\n",
      "  action 1\n",
      "    next state (2, 1, 3): 1.0\n",
      "  action 2\n",
      "    next state (1, 1, 2): 1.0\n",
      "State (2, 1, 3)\n",
      "  action 0\n",
      "    next state (2, 1, 2): 1.0\n",
      "  action 1\n",
      "    next state (2, 1, 0): 1.0\n",
      "  action 2\n",
      "    next state (2, 1, 3): 1.0\n",
      "State (2, 2, 0)\n",
      "  action 0\n",
      "    next state (2, 2, 3): 1.0\n",
      "  action 1\n",
      "    next state (2, 2, 1): 1.0\n",
      "  action 2\n",
      "    next state (3, 2, 0): 1.0\n",
      "State (2, 2, 1)\n",
      "  action 0\n",
      "    next state (2, 2, 0): 1.0\n",
      "  action 1\n",
      "    next state (2, 2, 2): 1.0\n",
      "  action 2\n",
      "    next state (2, 3, 1): 1.0\n",
      "State (2, 2, 2)\n",
      "  action 0\n",
      "    next state (2, 2, 1): 1.0\n",
      "  action 1\n",
      "    next state (2, 2, 3): 1.0\n",
      "  action 2\n",
      "    next state (1, 2, 2): 1.0\n",
      "State (2, 2, 3)\n",
      "  action 0\n",
      "    next state (2, 2, 2): 1.0\n",
      "  action 1\n",
      "    next state (2, 2, 0): 1.0\n",
      "  action 2\n",
      "    next state (2, 1, 3): 1.0\n",
      "State (2, 3, 0)\n",
      "  action 0\n",
      "    next state (2, 3, 3): 1.0\n",
      "  action 1\n",
      "    next state (2, 3, 1): 1.0\n",
      "  action 2\n",
      "    next state (3, 3, 0): 1.0\n",
      "State (2, 3, 1)\n",
      "  action 0\n",
      "    next state (2, 3, 0): 1.0\n",
      "  action 1\n",
      "    next state (2, 3, 2): 1.0\n",
      "  action 2\n",
      "    next state (2, 3, 1): 1.0\n",
      "State (2, 3, 2)\n",
      "  action 0\n",
      "    next state (2, 3, 1): 1.0\n",
      "  action 1\n",
      "    next state (2, 3, 3): 1.0\n",
      "  action 2\n",
      "    next state (1, 3, 2): 1.0\n",
      "State (2, 3, 3)\n",
      "  action 0\n",
      "    next state (2, 3, 2): 1.0\n",
      "  action 1\n",
      "    next state (2, 3, 0): 1.0\n",
      "  action 2\n",
      "    next state (2, 2, 3): 1.0\n",
      "State (3, 1, 0)\n",
      "  action 0\n",
      "    next state (3, 1, 3): 1.0\n",
      "  action 1\n",
      "    next state (3, 1, 1): 1.0\n",
      "  action 2\n",
      "    next state (3, 1, 0): 1.0\n",
      "State (3, 1, 1)\n",
      "  action 0\n",
      "    next state (3, 1, 0): 1.0\n",
      "  action 1\n",
      "    next state (3, 1, 2): 1.0\n",
      "  action 2\n",
      "    next state (3, 2, 1): 1.0\n",
      "State (3, 1, 2)\n",
      "  action 0\n",
      "    next state (3, 1, 1): 1.0\n",
      "  action 1\n",
      "    next state (3, 1, 3): 1.0\n",
      "  action 2\n",
      "    next state (2, 1, 2): 1.0\n",
      "State (3, 1, 3)\n",
      "  action 0\n",
      "    next state (3, 1, 2): 1.0\n",
      "  action 1\n",
      "    next state (3, 1, 0): 1.0\n",
      "  action 2\n",
      "    next state (3, 1, 3): 1.0\n",
      "State (3, 2, 0)\n",
      "  action 0\n",
      "    next state (3, 2, 3): 1.0\n",
      "  action 1\n",
      "    next state (3, 2, 1): 1.0\n",
      "  action 2\n",
      "    next state (3, 2, 0): 1.0\n",
      "State (3, 2, 1)\n",
      "  action 0\n",
      "    next state (3, 2, 0): 1.0\n",
      "  action 1\n",
      "    next state (3, 2, 2): 1.0\n",
      "  action 2\n",
      "    next state (3, 3, 1): 1.0\n",
      "State (3, 2, 2)\n",
      "  action 0\n",
      "    next state (3, 2, 1): 1.0\n",
      "  action 1\n",
      "    next state (3, 2, 3): 1.0\n",
      "  action 2\n",
      "    next state (2, 2, 2): 1.0\n",
      "State (3, 2, 3)\n",
      "  action 0\n",
      "    next state (3, 2, 2): 1.0\n",
      "  action 1\n",
      "    next state (3, 2, 0): 1.0\n",
      "  action 2\n",
      "    next state (3, 1, 3): 1.0\n",
      "State (3, 3, 0)\n",
      "  action 0\n",
      "    next state (0, 0, 0): 1.0\n",
      "  action 1\n",
      "    next state (0, 0, 0): 1.0\n",
      "  action 2\n",
      "    next state (0, 0, 0): 1.0\n",
      "State (3, 3, 1)\n",
      "  action 0\n",
      "    next state (0, 0, 0): 1.0\n",
      "  action 1\n",
      "    next state (0, 0, 0): 1.0\n",
      "  action 2\n",
      "    next state (0, 0, 0): 1.0\n",
      "State (3, 3, 2)\n",
      "  action 0\n",
      "    next state (0, 0, 0): 1.0\n",
      "  action 1\n",
      "    next state (0, 0, 0): 1.0\n",
      "  action 2\n",
      "    next state (0, 0, 0): 1.0\n",
      "State (3, 3, 3)\n",
      "  action 0\n",
      "    next state (0, 0, 0): 1.0\n",
      "  action 1\n",
      "    next state (0, 0, 0): 1.0\n",
      "  action 2\n",
      "    next state (0, 0, 0): 1.0\n"
     ]
    }
   ],
   "source": [
    "env.pretty_print_T()"
   ]
  },
  {
   "cell_type": "code",
   "execution_count": 18,
   "metadata": {
    "id": "lQglr5MOiDCp"
   },
   "outputs": [
    {
     "name": "stdout",
     "output_type": "stream",
     "text": [
      "States [(1, 1, 0), (1, 1, 1), (1, 1, 2), (1, 1, 3), (1, 2, 0), (1, 2, 1), (1, 2, 2), (1, 2, 3), (1, 3, 0), (1, 3, 1), (1, 3, 2), (1, 3, 3), (2, 1, 0), (2, 1, 1), (2, 1, 2), (2, 1, 3), (2, 2, 0), (2, 2, 1), (2, 2, 2), (2, 2, 3), (2, 3, 0), (2, 3, 1), (2, 3, 2), (2, 3, 3), (3, 1, 0), (3, 1, 1), (3, 1, 2), (3, 1, 3), (3, 2, 0), (3, 2, 1), (3, 2, 2), (3, 2, 3), (3, 3, 0), (3, 3, 1), (3, 3, 2), (3, 3, 3), (0, 0, 0)]\n",
      "Actions [0, 1, 2]\n",
      "Number of states 37\n",
      "Number of actions 3\n"
     ]
    }
   ],
   "source": [
    "# Explicit set of states and actions\n",
    "\n",
    "print(\"States\", env.states)\n",
    "print(\"Actions\", env.actions)\n",
    "print(\"Number of states\", len(env.states))\n",
    "print(\"Number of actions\", len(env.actions))"
   ]
  },
  {
   "cell_type": "code",
   "execution_count": 19,
   "metadata": {
    "id": "XfYfq9HebRHw"
   },
   "outputs": [],
   "source": [
    "# Some classic imports for the rest of the notebook\n",
    "import numpy as np\n",
    "import matplotlib.pyplot as plt\n",
    "import matplotlib as mpl\n",
    "import math\n",
    "\n",
    "mpl.style.use('seaborn-v0_8')"
   ]
  },
  {
   "cell_type": "markdown",
   "metadata": {
    "id": "8L7zlYG8WcPq"
   },
   "source": [
    "## Solving the Minigrid task\n",
    "\n",
    "We would like to find a **stationary deterministic memoryless policy** or mapping from states to actions $\\pi : \\mathcal{S}\\rightarrow \\mathcal{A}$, that is able to arrive at the **goal state** sooner.\n",
    "\n",
    "In other words, our objective is to find $\\pi$ which maximizes the **expected discounted return** from any starting state represented by:\n",
    "\n",
    "\\begin{align*}\n",
    "    \\rho(\\pi) &= \\mathbb{E}_{s_0\\sim\\nu_0, s_{t+1}\\sim p(\\cdot|s_t,\\pi(s_t))}\\left[\\sum_{t=0}^\\infty\\gamma^t r(s_t,\\pi(s_t))\\right]\\\\\n",
    "    &= \\sum_{s}\\nu_0(s) V^{\\pi}(s)\n",
    "\\end{align*}\n",
    "\n",
    "with the **discount factor** $\\gamma\\in[0,1)$.\n",
    "\n",
    "\n",
    "&nbsp;\n",
    "\n",
    "---\n",
    "\n",
    "&nbsp;\n",
    "\n",
    "Recall that the **state value function** for $s\\in \\mathcal{S}$ denoted\n",
    "\n",
    "\\begin{align*}\n",
    "    V^\\pi(s) &= \\mathbb{E}_{s_{t+1}\\sim p(\\cdot|s_t,\\pi(s_t))}\\left[\\sum_{t=0}^\\infty\\gamma^t r(s_t,\\pi(s_t))\\bigg|s_0=s\\right]\\\\\n",
    "    &=  \\sum_{a}\\pi(a|s)Q^{\\pi}(s,a)\n",
    "\\end{align*}\n",
    "\n",
    "represents the value of being in state $s$ and following policy $\\pi$ while the **action-value function** for $s\\in \\mathcal{S}, a\\in \\mathcal{A}$ denoted\n",
    "\n",
    "$$ Q^\\pi(s,a) = r(s,a) + \\gamma\\sum_{s'\\in\\mathcal{S}}p(s'|s,a)V^{\\pi}(s')$$\n",
    "\n",
    "is the value of first taking an action $a$ in state $s$ then following policy $\\pi$.\n",
    "\n",
    "By standard notation, the **Bellman operator** of policy $\\pi$ acting on functions $V : \\mathcal{S}\\rightarrow \\mathbb{R}$ (or vectors $V\\in\\mathbb{R}^{|\\mathcal{S}|}$) is given as:\n",
    "\n",
    "$$(T^{\\pi}V)(s) =  \\sum_{a}\\pi(a|s)\\bigg[r(s,a) + \\gamma\\sum_{s'\\in\\mathcal{S}}p(s'|s,a)V(s')\\bigg],\\quad s\\in\\mathcal{S}$$\n",
    "\n",
    "\n",
    "&nbsp;\n",
    "\n",
    "---\n",
    "\n",
    "&nbsp;\n",
    "\n",
    "Ideally, we would like to find an **optimal policy** $\\pi^*$ with:\n",
    "\n",
    "$$ \\pi^*(s) \\in \\underset{a\\in\\mathcal{A}}{\\arg\\max} \\bigg\\{r(s,a) + \\gamma\\sum_{s'\\in\\mathcal{S}}p(s'|s,a)V^{\\pi^*}(s')\\bigg\\},\\quad s\\in\\mathcal{S}$$\n",
    "\n",
    "that maximizes our immediate reward and future return.\n",
    "\n",
    "The Bellman operator of $\\pi^*$ (a.k.a the **Bellman optimality operator**) acting on functions $V : \\mathcal{S}\\rightarrow \\mathbb{R}$ (or vectors $V\\in\\mathbb{R}^{|\\mathcal{S}|}$) is given as:\n",
    "\n",
    "$$(T^{*}V)(s) =  \\max_{a}\\bigg\\{r(s,a) + \\gamma\\sum_{s'\\in\\mathcal{S}}p(s'|s,a)V(s')\\bigg\\},\\quad s\\in\\mathcal{S}$$\n",
    "\n",
    "\n",
    "&nbsp;\n",
    "\n",
    "---\n",
    "\n",
    "&nbsp;\n",
    "\n",
    "With the transition and reward function of the grid-world task available to us, we attempt to find an optimal policy via **Dynamic programming**. Precisely, we implement **Policy Iteration** and **Value iteration** methods introduced in the first lecture.\n",
    "\n",
    "&nbsp;"
   ]
  },
  {
   "cell_type": "markdown",
   "metadata": {
    "id": "qMWFCbNN7F8l"
   },
   "source": [
    "### Notation\n",
    "\n",
    "*   $r_{\\pi}\\in\\mathbb{R}^{|\\mathcal{S}|}$ so that for $s\\in\\mathcal{S}$, $r_{\\pi}(s) = r(s,\\pi(s))$.\n",
    "*   $p_{\\pi}\\in\\mathbb{R}^{|\\mathcal{S}|\\times|\\mathcal{S}|}$ so that for $s,s'\\in\\mathcal{S}$, $p_{\\pi}(s'|s) = p(s'|s,\\pi(s))$.\n",
    "*   $\\sum_{r}p(s',r|s,a)  = p(s'|s,a)r(s,a)$ since rewards are deterministic.\n",
    "*   $n_{k}$ is the number of loops required to compute $V_{k}$\n",
    "*   $\\Delta$ is a threshold on the accuracy of value estimation [[3]](#scrollTo=XqJPFe6f6gFV&line=5&uniqifier=1)\n",
    "\n",
    "&nbsp;"
   ]
  },
  {
   "cell_type": "markdown",
   "metadata": {
    "id": "6nljnBe4bZTf"
   },
   "source": [
    "### Policy Iteration (PI) Recap\n",
    "\n",
    "**Idea**\n",
    "\n",
    "Gradually advance to $\\pi^{*}$ from an initial guess $\\pi_0$ through a series of **policy evaluation** and **policy improvement** steps.\n",
    "\n",
    "&nbsp;\n",
    "\n",
    "**Policy Evaluation step**\n",
    "\n",
    "Given a policy $\\pi_k$, compute $V^{\\pi_k}$ as\n",
    "\n",
    "* $V^{\\pi_k} = (I - \\gamma\\, p_{\\pi_k})^{-1}r_{\\pi_k}$\n",
    "\n",
    "&nbsp;\n",
    "\n",
    "**Policy Improvement step**\n",
    "\n",
    "Obtain $\\pi_{k+1}$ as the greedy policy w.r.t $V^{\\pi_k}$ (or $V_{k}$). That is,\n",
    "$$ \\pi_{k+1}(s) \\in \\underset{a\\in\\mathcal{A}}{\\arg\\max} \\bigg\\{r(s,a) + \\gamma\\sum_{s'\\in\\mathcal{X}}p(s'|s,a)V^{\\pi_{k}}(s')\\bigg\\},\\quad s\\in\\mathcal{S}$$\n",
    "\n",
    "&nbsp;\n",
    "\n",
    "#### Putting everything together\n",
    "\n",
    "Starting from an arbitrary stationary deterministic markovian policy $\\pi_{0}$, for $k = 0,1,2,\\cdots, K$ do:\n",
    "* Compute $V^{\\pi_k}$\n",
    "* Obtain $\\pi_{k+1}$ as the greedy policy w.r.t $V^{\\pi_k}$\n",
    "* Terminate loop if policy is stable (i.e $\\pi_{k+1}(s) = \\pi_{k}(s)$ for all $s\\in\\mathcal{S}$) and return $\\pi_{k+1}$.\n",
    "\n",
    "\n",
    "\n",
    "&nbsp;\n",
    "\n",
    "#### Theoretical guarantee [[1,2]](#scrollTo=XqJPFe6f6gFV&line=5&uniqifier=1)\n",
    "\n",
    "PI finds an optimal policy after $K = \\mathcal{\\tilde{O}}(\\mathcal{SA}/(1-\\gamma))$ iterations.\n",
    "\n",
    "<!---\n",
    "Explicitly $K = \\mathcal{\\tilde{O}}((\\mathcal{SA - S})/(1-\\gamma))$ iterations.\n",
    "-->"
   ]
  },
  {
   "cell_type": "code",
   "execution_count": 20,
   "metadata": {
    "id": "NFYLOHtPKwsG"
   },
   "outputs": [],
   "source": [
    "# Don't look at the solutions! This module contains the functions you should write\n",
    "import dp_solutions"
   ]
  },
  {
   "cell_type": "code",
   "execution_count": 22,
   "metadata": {
    "id": "Woh49RAfbieB"
   },
   "outputs": [],
   "source": [
    "class PolicyIteration:\n",
    "  \"\"\"\n",
    "  Implements policy iteration\n",
    "  \"\"\"\n",
    "  def __init__(self, env: Env, gamma: float, initial_policy = None):\n",
    "    # Store\n",
    "    self.env = env # The environment: T, R, states, actions\n",
    "    self.states = self.env.states\n",
    "    self.n_states = len(self.states)\n",
    "    self.actions = self.env.actions\n",
    "    self.n_actions = len(self.actions)\n",
    "    self.gamma = gamma\n",
    "    self.policy = initial_policy\n",
    "\n",
    "    # Default policy\n",
    "    if self.policy == None:\n",
    "      np.random.seed(4)\n",
    "      self.policy = {state: np.random.randint(0, self.n_actions-1) for state in self.states}\n",
    "\n",
    "    self.policy_stable = False\n",
    "    self.V = {state: 0.0 for state in env.states}\n",
    "    self.V_logs = []\n",
    "\n",
    "  def _evaluate_policy(self):\n",
    "    \"\"\"\n",
    "    Given 'policy' π_{k} compute V^{π_{k}}. Let,\n",
    "\n",
    "      A = (I - \\gamma p_{π_{k}})\n",
    "      b = r_{π_{k}}\n",
    "      x = V^{π_{k}}\n",
    "\n",
    "    solve the system of linear equations Ax=b\n",
    "\n",
    "    :return x: a |S|x1 array\n",
    "    \"\"\"\n",
    "    # Task: complete this and return x instead of using the line \"return dp_solutions...\"\n",
    "    \n",
    "    # Compute A=(I-gamma*p_pi)\n",
    "    A = np.zeros((self.n_states,self.n_states))\n",
    "\n",
    "    for i in range(self.n_states):\n",
    "      A[i][i] = 1\n",
    "      for j in range(self.n_states):\n",
    "        A[i][j] -= self.gamma*self.env.T[self.states[i]][self.policy[self.states[i]]][self.states[j]]\n",
    "\n",
    "    # Compute b\n",
    "    b = np.zeros((self.n_states,1))\n",
    "\n",
    "    for i in range(self.n_states):\n",
    "      b[i][0] = self.env.R[self.states[i]][self.policy[self.states[i]]]\n",
    "\n",
    "    # solve for x\n",
    "    x = np.linalg.solve(A,b)\n",
    "\n",
    "    return x\n",
    "\n",
    "\n",
    "  def evaluate_policy(self):\n",
    "    \"\"\"\n",
    "    Collect state values in dict\n",
    "    \"\"\"\n",
    "    V_array = self._evaluate_policy()\n",
    "\n",
    "    # Assign values to holder as dictionary\n",
    "    self.V = {state: V_array[i].item() for i, state in enumerate(self.states)}\n",
    "\n",
    "    # Append values to log for plots\n",
    "    self.V_logs.append(self.V.copy())\n",
    "\n",
    "\n",
    "  def get_policy(self):\n",
    "    \"\"\"\n",
    "    Get the greedy policy:\n",
    "\n",
    "      π_{k+1}(s) = argmax_{a\\in A} Q^{\\pi_{k}}(s,a)\n",
    "\n",
    "    where\n",
    "\n",
    "      Q^{\\pi_{k}}(s,a) = r(s,a) + gamma * <P(.|s,a),V^{\\pi_{k}}>\n",
    "\n",
    "    assign new policy to self.policy\n",
    "    update self.policy_stable\n",
    "    \"\"\"\n",
    "\n",
    "    # Compute Q^{\\pi_{k}}(s,a)\n",
    "    Q = np.zeros((self.n_states,self.n_actions))\n",
    "\n",
    "\n",
    "\n",
    "  def get_expected_update(self, state, action):\n",
    "    \"\"\"\n",
    "    Compute:\n",
    "\n",
    "      Q(s,a) = r(s,a) + gamma <p(.|s,a),V>\n",
    "\n",
    "    :param state\n",
    "    :param action\n",
    "\n",
    "    :return Q(s,a): float\n",
    "    \"\"\"\n",
    "    # TODO: Solve this and return Q(s,a) instead\n",
    "    return dp_solutions.PolicyIteration.get_expected_update(self, state, action)\n",
    "\n",
    "\n",
    "  def get_p_pi(self):\n",
    "    \"\"\"\n",
    "    Given π_{k}, compute p_{π_{k}}\n",
    "    \"\"\"\n",
    "    p_pi = np.zeros((self.n_states,self.n_states))\n",
    "\n",
    "    for s_index, s in enumerate(self.states):\n",
    "      for snext_index, snext in enumerate(self.states):\n",
    "        p_pi[s_index, snext_index] = self.env.T[s][self.policy[s]][snext]\n",
    "\n",
    "    return p_pi\n",
    "\n",
    "\n",
    "  def get_r_pi(self):\n",
    "    \"\"\"\n",
    "    Given π_{k}, compute r_{π_{k}}\n",
    "    \"\"\"\n",
    "    r_pi = np.zeros((self.n_states,1))\n",
    "\n",
    "    for i, state in enumerate(self.states):\n",
    "      r_pi[i][0] = self.env.R[state][self.policy[state]]\n",
    "\n",
    "    return r_pi"
   ]
  },
  {
   "cell_type": "markdown",
   "metadata": {
    "id": "2pTZRo-jxBxQ"
   },
   "source": [
    "Let's try it out"
   ]
  },
  {
   "cell_type": "code",
   "execution_count": 23,
   "metadata": {
    "id": "zKL72UxrxFJl"
   },
   "outputs": [
    {
     "ename": "AttributeError",
     "evalue": "module 'dp_solutions' has no attribute 'PolicyIteration'",
     "output_type": "error",
     "traceback": [
      "\u001b[0;31m---------------------------------------------------------------------------\u001b[0m",
      "\u001b[0;31mAttributeError\u001b[0m                            Traceback (most recent call last)",
      "\u001b[1;32m/home/jose/Desktop/Lorenc1o-repos/BDMA_Notes/Paris-Saclay/Machine-Learning/Labs/L2/DP_practice.ipynb Cell 44\u001b[0m line \u001b[0;36m6\n\u001b[1;32m      <a href='vscode-notebook-cell:/home/jose/Desktop/Lorenc1o-repos/BDMA_Notes/Paris-Saclay/Machine-Learning/Labs/L2/DP_practice.ipynb#X61sZmlsZQ%3D%3D?line=3'>4</a>\u001b[0m \u001b[39mwhile\u001b[39;00m \u001b[39mnot\u001b[39;00m PI_planner1\u001b[39m.\u001b[39mpolicy_stable:\n\u001b[1;32m      <a href='vscode-notebook-cell:/home/jose/Desktop/Lorenc1o-repos/BDMA_Notes/Paris-Saclay/Machine-Learning/Labs/L2/DP_practice.ipynb#X61sZmlsZQ%3D%3D?line=4'>5</a>\u001b[0m   PI_planner1\u001b[39m.\u001b[39mevaluate_policy()\n\u001b[0;32m----> <a href='vscode-notebook-cell:/home/jose/Desktop/Lorenc1o-repos/BDMA_Notes/Paris-Saclay/Machine-Learning/Labs/L2/DP_practice.ipynb#X61sZmlsZQ%3D%3D?line=5'>6</a>\u001b[0m   PI_planner1\u001b[39m.\u001b[39;49mget_policy()\n",
      "\u001b[1;32m/home/jose/Desktop/Lorenc1o-repos/BDMA_Notes/Paris-Saclay/Machine-Learning/Labs/L2/DP_practice.ipynb Cell 44\u001b[0m line \u001b[0;36m8\n\u001b[1;32m     <a href='vscode-notebook-cell:/home/jose/Desktop/Lorenc1o-repos/BDMA_Notes/Paris-Saclay/Machine-Learning/Labs/L2/DP_practice.ipynb#X61sZmlsZQ%3D%3D?line=71'>72</a>\u001b[0m \u001b[39m\u001b[39m\u001b[39m\"\"\"\u001b[39;00m\n\u001b[1;32m     <a href='vscode-notebook-cell:/home/jose/Desktop/Lorenc1o-repos/BDMA_Notes/Paris-Saclay/Machine-Learning/Labs/L2/DP_practice.ipynb#X61sZmlsZQ%3D%3D?line=72'>73</a>\u001b[0m \u001b[39mGet the greedy policy:\u001b[39;00m\n\u001b[1;32m     <a href='vscode-notebook-cell:/home/jose/Desktop/Lorenc1o-repos/BDMA_Notes/Paris-Saclay/Machine-Learning/Labs/L2/DP_practice.ipynb#X61sZmlsZQ%3D%3D?line=73'>74</a>\u001b[0m \n\u001b[0;32m   (...)\u001b[0m\n\u001b[1;32m     <a href='vscode-notebook-cell:/home/jose/Desktop/Lorenc1o-repos/BDMA_Notes/Paris-Saclay/Machine-Learning/Labs/L2/DP_practice.ipynb#X61sZmlsZQ%3D%3D?line=81'>82</a>\u001b[0m \u001b[39mupdate self.policy_stable\u001b[39;00m\n\u001b[1;32m     <a href='vscode-notebook-cell:/home/jose/Desktop/Lorenc1o-repos/BDMA_Notes/Paris-Saclay/Machine-Learning/Labs/L2/DP_practice.ipynb#X61sZmlsZQ%3D%3D?line=82'>83</a>\u001b[0m \u001b[39m\"\"\"\u001b[39;00m\n\u001b[1;32m     <a href='vscode-notebook-cell:/home/jose/Desktop/Lorenc1o-repos/BDMA_Notes/Paris-Saclay/Machine-Learning/Labs/L2/DP_practice.ipynb#X61sZmlsZQ%3D%3D?line=84'>85</a>\u001b[0m \u001b[39m# TODO: Solve this and delete the next line\u001b[39;00m\n\u001b[0;32m---> <a href='vscode-notebook-cell:/home/jose/Desktop/Lorenc1o-repos/BDMA_Notes/Paris-Saclay/Machine-Learning/Labs/L2/DP_practice.ipynb#X61sZmlsZQ%3D%3D?line=85'>86</a>\u001b[0m dp_solutions\u001b[39m.\u001b[39;49mPolicyIteration\u001b[39m.\u001b[39mget_policy(\u001b[39mself\u001b[39m)\n",
      "\u001b[0;31mAttributeError\u001b[0m: module 'dp_solutions' has no attribute 'PolicyIteration'"
     ]
    }
   ],
   "source": [
    "# Run policy iteration\n",
    "PI_planner1 = PolicyIteration(env, gamma=0.9)\n",
    "\n",
    "while not PI_planner1.policy_stable:\n",
    "  PI_planner1.evaluate_policy()\n",
    "  PI_planner1.get_policy()"
   ]
  },
  {
   "cell_type": "markdown",
   "metadata": {
    "id": "rQkER_MsJiCK"
   },
   "source": [
    "Visualization"
   ]
  },
  {
   "cell_type": "code",
   "execution_count": null,
   "metadata": {
    "id": "6btXwfrRJev2"
   },
   "outputs": [],
   "source": [
    "def visualize(vlogs, state, grid_size):\n",
    "  grid_size -= 2   # walls\n",
    "\n",
    "  # Initial state values\n",
    "  fig1 = plt.figure(figsize=(4, 3))\n",
    "  ax1 = fig1.subplots()\n",
    "  ax1.set_ylabel(\"value of (1,1,0)\")\n",
    "  ax1.set_xlabel(\"iterations\")\n",
    "  initial_state_values = [value[(1, 1, 0)] for value in PI_planner1.V_logs]\n",
    "  ax1.plot(range(len(initial_state_values)), initial_state_values)\n",
    "\n",
    "  # States values over time\n",
    "  some_values_over_time = [\n",
    "    {(x, y): values[(x, y, o)] for (x, y, o) in env.states if o == 0}  # o is a fixed agent orientation\n",
    "    for values in vlogs\n",
    "  ]\n",
    "  values_over_time = [\n",
    "    np.array([[values[(x+1, y+1)] for x in range(grid_size)] for y in range(grid_size)])\n",
    "    for values in some_values_over_time\n",
    "  ]\n",
    "  vmids = [(values.max() + values.min()) / 2 for values in values_over_time]\n",
    "  vmin = min([values.min() for values in values_over_time])\n",
    "  vmax = max([values.max() for values in values_over_time])\n",
    "\n",
    "  steps = len(values_over_time)\n",
    "  fig2 = plt.figure(figsize=(4 * steps, 3))\n",
    "  axs2 = fig2.subplots(1, steps)\n",
    "  if isinstance(axs2, plt.Axes):\n",
    "    axs2 = [axs2]\n",
    "    multistep = False\n",
    "  else:\n",
    "    multistep = True\n",
    "\n",
    "  for i, ax in enumerate(axs2):\n",
    "    ax.set_title(f\"values at step {i}\" if multistep else \"values\")\n",
    "    ax.imshow(values_over_time[i], cmap=\"Blues\", vmin=vmin, vmax=vmax)\n",
    "    ax.xaxis.set_visible(False)\n",
    "    ax.yaxis.set_visible(False)\n",
    "    for x in range(grid_size):\n",
    "      for y in range(grid_size):\n",
    "        val = values_over_time[i][y,x]\n",
    "        ax.text(x, y, f\"{val:.2f}\", ha=\"center\", va=\"center\", color=\"w\" if val > vmids[i] else \"k\")"
   ]
  },
  {
   "cell_type": "code",
   "execution_count": null,
   "metadata": {
    "id": "XvCmq5bQQqEi"
   },
   "outputs": [],
   "source": [
    "visualize(PI_planner1.V_logs, (1, 1, 0), 5)"
   ]
  },
  {
   "cell_type": "markdown",
   "metadata": {
    "id": "meYQb9VOTnDT"
   },
   "source": [
    "We can also test the policy."
   ]
  },
  {
   "cell_type": "code",
   "execution_count": null,
   "metadata": {
    "id": "3C-WmCiVT6op"
   },
   "outputs": [],
   "source": [
    "avg_return = rollouts(env=visible_env,\n",
    "                      policy=make_policy(PI_planner1.policy),\n",
    "                      n_trajectories=20,\n",
    "                      gamma=0.9)\n",
    "\n",
    "print(avg_return)"
   ]
  },
  {
   "cell_type": "code",
   "execution_count": null,
   "metadata": {
    "id": "LGxMz5yZEZ-N"
   },
   "outputs": [],
   "source": [
    "visible_env.play()"
   ]
  },
  {
   "cell_type": "markdown",
   "metadata": {
    "id": "ymYjjFBYbiy-"
   },
   "source": [
    "What if we have failure probabilities now?"
   ]
  },
  {
   "cell_type": "code",
   "execution_count": null,
   "metadata": {
    "id": "8EcH0mS2bt1N"
   },
   "outputs": [],
   "source": [
    "# Define\n",
    "env = Room(\n",
    "    failure=0.2,\n",
    "    agent_start_pos=(1, 1),\n",
    "    agent_start_dir=1,\n",
    "    size=6,\n",
    ")\n",
    "visible_env = Renderer(env)\n",
    "print(env)\n",
    "\n",
    "# Plan\n",
    "PI_planner1 = PolicyIteration(env, gamma=0.9)\n",
    "\n",
    "while not PI_planner1.policy_stable:\n",
    "  PI_planner1.evaluate_policy()\n",
    "  PI_planner1.get_policy()"
   ]
  },
  {
   "cell_type": "code",
   "execution_count": null,
   "metadata": {
    "id": "gvuqeY88cCW2"
   },
   "outputs": [],
   "source": [
    "# Visualize\n",
    "avg_return = rollouts(\n",
    "    env=visible_env,\n",
    "    policy=make_policy(PI_planner1.policy),\n",
    "    n_trajectories=80,\n",
    "    gamma=0.9\n",
    ")\n",
    "print(avg_return)"
   ]
  },
  {
   "cell_type": "code",
   "execution_count": null,
   "metadata": {
    "id": "I-hHn_KXcKaS"
   },
   "outputs": [],
   "source": [
    "visible_env.play()\n",
    "\n",
    "visualize(PI_planner1.V_logs, (1, 1, 1), 6)"
   ]
  },
  {
   "cell_type": "markdown",
   "metadata": {
    "id": "uzJ9fQ8ceZIB"
   },
   "source": [
    "But matrix inversions can be quite expensive. Consider iterative policy evaluation instead.\n",
    "\n",
    "&nbsp;\n",
    "\n",
    "### Modified Policy Iteration (MPI) Recap\n",
    "\n",
    "**Idea**\n",
    "\n",
    "Same as PI but with **truncated policy evaluation**\n",
    "\n",
    "&nbsp;\n",
    "\n",
    "**Truncated Policy Evaluation step**\n",
    "\n",
    "Given a policy $\\pi_k$, estimate $V^{\\pi_k}$ as $V_{k}$ with the following iterations\n",
    "\n",
    "  * Initialize $V$ as $\\mathbf{0}$ when $k = 0$ and $V_{k-1}$ otherwise, let $\\pi = \\pi_k$\n",
    "\n",
    "    <div>\n",
    "    <img src=\"https://drive.google.com/uc?export=view&id=1QaMg7a6HELjYycAnm6RE9vnzHD_fnaCn\" alt=\"iterative policy evaluation\" width=\"600\"/>\n",
    "    </div>\n",
    "\n",
    "    Return $V_k = V$. <!--$(T^{\\pi_{k}})^{n_{k}}V_{k-1}$-->\n",
    "\n",
    "&nbsp;\n",
    "\n",
    "#### Putting everything together\n",
    "\n",
    "Starting from an arbitrary stationary deterministic markovian policy $\\pi_{0}$, for $k = 0,1,2,\\cdots, K$ do:\n",
    "* Estimate $V^{\\pi_k}$ with $V_{k}=(T^{\\pi_{k}})^{n_{k}}V_{k-1}$\n",
    "* Obtain $\\pi_{k+1}$ as the greedy policy w.r.t $V^{\\pi_k}$\n",
    "* Terminate loop if policy is stable (i.e $\\pi_{k+1}(s) = \\pi_{k}(s)$ for all $s\\in\\mathcal{S}$) and return $\\pi_{k+1}$."
   ]
  },
  {
   "cell_type": "code",
   "execution_count": null,
   "metadata": {
    "id": "nFkMVMI3syvt"
   },
   "outputs": [],
   "source": [
    "class ModifiedPolicyIteration(PolicyIteration):\n",
    "  \"\"\"\n",
    "  Implements policy iteration with truncated policy evaluation\n",
    "  \"\"\"\n",
    "  def __init__(self,\n",
    "              env: Env,\n",
    "              gamma: float,\n",
    "              theta: float,\n",
    "              initial_policy = None):\n",
    "\n",
    "    super().__init__(env, gamma, initial_policy)\n",
    "    self.theta = theta\n",
    "    self.V = {state: 0.0 for state in env.states}\n",
    "\n",
    "\n",
    "  def evaluate_policy(self):\n",
    "    \"\"\"\n",
    "    Given 'policy' π_{k},\n",
    "    Starting from a previous guess 'V_{k-1}',\n",
    "    iteratively estimate V^{π_{k}} as T^{π_{k}}V_{k-1}.\n",
    "\n",
    "    assign new state values to self.V\n",
    "    \"\"\"\n",
    "    # Task: Complete this and delete line *\n",
    "\n",
    "    # Set Delta\n",
    "    delta = np.inf\n",
    "\n",
    "    # Main loop for iterative value update\n",
    "    while delta > self.theta:\n",
    "      # Initialize Delta\n",
    "      delta = 0\n",
    "\n",
    "      # ToDo: Loop over states\n",
    "\n",
    "        #ToDo: Update the state value\n",
    "\n",
    "        #ToDo: Update Delta\n",
    "\n",
    "    dp_solutions.ModifiedPolicyIteration._evaluate_policy(self)    #*\n",
    "\n",
    "    self.V_logs.append(self.V.copy())\n"
   ]
  },
  {
   "cell_type": "markdown",
   "metadata": {
    "id": "KofhGOYGhckf"
   },
   "source": [
    "Now we run Modified policy iteration"
   ]
  },
  {
   "cell_type": "code",
   "execution_count": null,
   "metadata": {
    "id": "D9uBUwD-hhSF"
   },
   "outputs": [],
   "source": [
    "MPI_planner = ModifiedPolicyIteration(env,\n",
    "                                      gamma = 0.9, # Same as PI\n",
    "                                      theta = 0.01)\n",
    "\n",
    "while not MPI_planner.policy_stable:\n",
    "  MPI_planner.evaluate_policy()\n",
    "  MPI_planner.get_policy()"
   ]
  },
  {
   "cell_type": "code",
   "execution_count": null,
   "metadata": {
    "id": "70ieiSAZqR6H"
   },
   "outputs": [],
   "source": [
    "avg_return = rollouts(env=visible_env,\n",
    "                      policy=make_policy(MPI_planner.policy),\n",
    "                      n_trajectories=80,\n",
    "                      gamma=0.9)\n",
    "\n",
    "print(avg_return)"
   ]
  },
  {
   "cell_type": "code",
   "execution_count": null,
   "metadata": {
    "id": "cCueLRiiqvaQ"
   },
   "outputs": [],
   "source": [
    "visible_env.play()\n",
    "\n",
    "visualize(MPI_planner.V_logs, (1, 1, 1), 6)"
   ]
  },
  {
   "cell_type": "markdown",
   "metadata": {
    "id": "IA8AkX2Feuwt"
   },
   "source": [
    "### Value Iteration (VI) Recap\n",
    "\n",
    "**Idea**\n",
    "\n",
    "Gradually advance to $\\pi^{*}$ with combined **truncated policy evaluation** and **policy improvement** steps.\n",
    "\n",
    "&nbsp;\n",
    "\n",
    "**Truncated Policy Evaluation and Improvement step**\n",
    "\n",
    "No arbitrary starting policy needed. Estimate $V^{\\pi^*}$ as follows:\n",
    "\n",
    "  * For $k = 0,1,2,\\cdots, K$\n",
    "\n",
    "    * Set $V = \\mathbf{0}$ when $k = 0$ and $V_{k-1}$ otherwise\n",
    "      <div>\n",
    "      <img src=\"https://drive.google.com/uc?export=view&id=1fsi3ZZgqZ-p061AxvSdeluWZTlwSjnGj\" alt=\"policy evaluation and improvement\" width=\"400\"/>\n",
    "      </div>\n",
    "\n",
    "      return $V$ as $V_{k}$.\n",
    "\n",
    "\n",
    "&nbsp;\n",
    "\n",
    "#### Putting everything together\n",
    "\n",
    "* Estimate $V^{\\pi^*}$ with $V_{K} = (T^*)^{K}\\mathbf{0}$\n",
    "* Return $\\hat{\\pi}^{*}$ as the greedy policy w.r.t $V_{K}$. That is,\n",
    "\n",
    "  $$ \\hat{\\pi}^{*}(s) \\in \\underset{a\\in\\mathcal{A}}{\\arg\\max} \\bigg\\{r(s,a) + \\gamma\\sum_{s'\\in\\mathcal{X}}p(s'|s,a)V_{K}(s')\\bigg\\},\\quad s\\in\\mathcal{S}$$\n",
    "\n",
    "\n",
    "\n",
    "&nbsp;\n",
    "\n",
    "#### Theoretical guarantee [[2]](#scrollTo=XqJPFe6f6gFV&line=5&uniqifier=1)\n",
    "\n",
    "VI finds an **$\\mathbf{\\varepsilon}$-optimal policy** ($\\pi^{\\varepsilon}$) satisfying\n",
    "\n",
    "$\\qquad V^* - V^{\\pi^{\\varepsilon}}\\leq \\varepsilon\\,\\mathbf{1}$\n",
    "\n",
    "after $K = \\mathcal{O}(\\ln(2\\gamma/\\varepsilon(1-\\gamma)^2)/(1-\\gamma))$ iterations.\n"
   ]
  },
  {
   "cell_type": "code",
   "execution_count": null,
   "metadata": {
    "id": "cWtqSTiD9Kko"
   },
   "outputs": [],
   "source": [
    "class ValueIteration:\n",
    "  \"\"\"\n",
    "  Implements value iteration\n",
    "  \"\"\"\n",
    "  def __init__(self,\n",
    "              env: Env,\n",
    "              gamma: float,\n",
    "              epsilon: float,\n",
    "              num_iterations = None,\n",
    "  ):\n",
    "    self.env = env\n",
    "    self.states = self.env.states\n",
    "    self.n_states = len(self.states)\n",
    "    self.actions = self.env.actions\n",
    "    self.n_actions = len(self.actions)\n",
    "    self.gamma = gamma\n",
    "    self.K = num_iterations\n",
    "    self.V_logs = []\n",
    "\n",
    "    if self.K is None:\n",
    "      self.K = math.ceil(np.log((2*self.gamma)/(epsilon*(1-self.gamma)**2))/(1-self.gamma))\n",
    "\n",
    "    self.policy = {state: 0 for state in self.env.states}\n",
    "    self.V = {state: 0 for state in self.env.states}\n",
    "\n",
    "\n",
    "  def estimate_vstar(self):\n",
    "    \"\"\"\n",
    "    Starting from an initial guess 'V',\n",
    "    iteratively estimate V^{π*} as T*V\n",
    "\n",
    "    Assign new values to self.V\n",
    "    \"\"\"\n",
    "    # Task: Complete this and delete line *\n",
    "\n",
    "    # Main loop for iterative value update\n",
    "    for k in range(self.K):\n",
    "\n",
    "      # ToDo: Loop over states\n",
    "\n",
    "      # ToDo: Update the state value\n",
    "      pass\n",
    "\n",
    "\n",
    "    dp_solutions.ValueIteration._estimate_vstar(self)    #*\n",
    "\n",
    "    self.V_logs.append(self.V.copy())\n",
    "\n",
    "\n",
    "  def get_policy(self):\n",
    "    \"\"\"\n",
    "    Get the greedy policy:\n",
    "      π(s) = argmax_{a\\in A} Q(s,a)\n",
    "    where\n",
    "      Q(s,a) = r(s,a) + gamma*<P(.|s,a),v>\n",
    "\n",
    "    assign new policy to self.policy\n",
    "    \"\"\"\n",
    "    # TODO: Solve this and delete the next line\n",
    "    return PolicyIteration.get_policy(self)\n",
    "\n",
    "\n",
    "  def get_expected_update(self, state, action):\n",
    "    \"\"\"\n",
    "    Compute:\n",
    "\n",
    "      Q(s,a) = r(s,a) + gamma <p(.|s,a),V>\n",
    "\n",
    "    :param state\n",
    "    :param action\n",
    "\n",
    "    :return Q(s,a): float\n",
    "    \"\"\"\n",
    "    # TODO: Same as for PI. Solve this and return Q(s,a) instead\n",
    "    return PolicyIteration.get_expected_update(self, state, action)"
   ]
  },
  {
   "cell_type": "markdown",
   "metadata": {
    "id": "M7DXuWm3v82W"
   },
   "source": [
    "Finally, we also plan with Value Iteration."
   ]
  },
  {
   "cell_type": "code",
   "execution_count": null,
   "metadata": {
    "id": "BFFnzxCfaS-E"
   },
   "outputs": [],
   "source": [
    "VI_planner = ValueIteration(env,\n",
    "                            gamma = 0.9, #same as PI\n",
    "                            epsilon = 0.01,\n",
    "                            num_iterations = None) # You can set the number of iterations\n",
    "\n",
    "VI_planner.estimate_vstar()\n",
    "VI_planner.get_policy()"
   ]
  },
  {
   "cell_type": "code",
   "execution_count": null,
   "metadata": {
    "id": "dgj9qrYohLWm"
   },
   "outputs": [],
   "source": [
    "avg_return = rollouts(env=visible_env,\n",
    "                      policy=make_policy(VI_planner.policy),\n",
    "                      n_trajectories=80,\n",
    "                      gamma=0.9)\n",
    "\n",
    "print(avg_return)"
   ]
  },
  {
   "cell_type": "code",
   "execution_count": null,
   "metadata": {
    "id": "QY-Vrp5J0gDC"
   },
   "outputs": [],
   "source": [
    "visible_env.play()\n",
    "\n",
    "visualize(VI_planner.V_logs, (1, 1, 0), 6)"
   ]
  },
  {
   "cell_type": "markdown",
   "metadata": {
    "id": "8fS7zGk2tas0"
   },
   "source": [
    "### Bonus Task ⭐\n",
    "\n",
    "Implement Optimistic Policy Iteration. See slide 33 of [[1]](#scrollTo=XqJPFe6f6gFV&line=5&uniqifier=1).\n",
    "\n",
    "Improve the efficiency of the implementations above with Numpy/Pytorch/Tensorflow."
   ]
  },
  {
   "cell_type": "markdown",
   "metadata": {
    "id": "XqJPFe6f6gFV"
   },
   "source": [
    "# Credit:\n",
    "\n",
    "1.   Bruno Scherrer, \"a lecture on Markov Decision Processes and Dynamic Programming\", June 2023, [Slides](https://drive.google.com/file/d/1sFh0TyU_nq60R7kouPg6MCI4IMYicSII/view?usp=sharing)\n",
    "2.   Csaba Szepesvári \"a lecture series on Theoretical Foundations of Reinforcement Learning\", 2020, [RL Theory course](https://rltheory.github.io/)\n",
    "3.   Richard S. Sutton, Andrew G. Barto \"Reinforcement Learning: An Introduction\", second edition, 2020, [Book](http://incompleteideas.net/book/RLbook2020.pdf)\n",
    "\n",
    "\n",
    "\n"
   ]
  }
 ],
 "metadata": {
  "colab": {
   "provenance": []
  },
  "kernelspec": {
   "display_name": "Python 3 (ipykernel)",
   "language": "python",
   "name": "python3"
  },
  "language_info": {
   "codemirror_mode": {
    "name": "ipython",
    "version": 3
   },
   "file_extension": ".py",
   "mimetype": "text/x-python",
   "name": "python",
   "nbconvert_exporter": "python",
   "pygments_lexer": "ipython3",
   "version": "3.10.12"
  }
 },
 "nbformat": 4,
 "nbformat_minor": 1
}
