{
  "cells": [
    {
      "cell_type": "markdown",
      "metadata": {
        "id": "yuvR0L1jC447"
      },
      "source": [
        "# TP2: Convolutional Neural Networks in Pytorch\n",
        "\n",
        "**Authors:** \n",
        "- tom.dupuis@centralesupelec.fr\n",
        "\n",
        "\n",
        "If you have questions or suggestions, contact us and we will gladly answer and take into account your remarks.\n",
        "\n",
        "For this tp you need to have some ground understanding of pytorch and basics introduction. It is available [here](https://pytorch.org/tutorials/beginner/basics/intro.html).\n",
        "\n",
        "\n",
        "## Objective\n",
        "\n",
        "In this TP, we will implement Convolutional Neural Networks (CNNs) to classify correctly images for the [CIFAR10 dataset](https://www.cs.toronto.edu/~kriz/cifar.html).\n",
        "\n",
        "The CIFAR-10 dataset consists of 60 000 32x32 colour images in 10 classes, with 6 000 images per class. There are 50 000 training images and 10 000 test images.\n",
        "\n",
        "We will first design a custom made CNN using Pytorch to make the classification and then use an architecture available from torchvision that we will either train from scratch or finetune.\n",
        "\n",
        "We will compare the accuracy on the test set for all networks.\n",
        "\n",
        "Finally, we will also make use of Data Augmentation to further improve the generalization of our custom model to the testing data.\n",
        "\n",
        "Follow the TP sequentially, otherwise you could spoil yourself answers of the first part :) \n",
        "\n",
        "## Your task\n",
        "\n",
        "Fill the missing parts in the code (parts between # --- START CODE HERE and # --- END CODE HERE)\n",
        "\n",
        "## Custom Made CNN\n",
        "\n",
        "Our networks will be implemented as follows:\n",
        "\n",
        "  - a Convolutional layer of 32 filters of shape (3,3), with stride (1,1) and padding='same'\n",
        "  - a ReLu activation function\n",
        "\n",
        "  - a Convolutional layer of 32 filters of shape (3,3), with stride (1,1) and padding='same'\n",
        "  - a ReLu activation function\n",
        "  - a Max Pooling Layer of shape (2,2) and stride (2,2) (i.e. we reduce by two the size in each dimension)\n",
        "\n",
        "  - a Convolutional layer of 32 filters of shape (3,3), with stride (1,1) and padding='same'\n",
        "  - a ReLu activation function\n",
        "  - a Max Pooling Layer of shape (2,2) and stride (2,2) (i.e. we reduce by two the size in each dimension)\n",
        "\n",
        "  - We then Flatten the data (reduce them to a vector in order to be able to apply a Fully-Connected layer to it)\n",
        "\n",
        "  - a Fully-Connected layer of output size 10\n",
        "\n",
        "\n",
        "We will optimize it using the SGD optimizer with $lr = 0.01$, $momentum = 0.9$ and the cross-entropy loss.\n",
        "\n",
        "In this TP, in order to speed-up computations, we will use the GPU, so do not forget [to put on GPU](https://pytorch.org/docs/stable/notes/cuda.html) every objects required, we will remind you when it is needed.\n"
      ]
    },
    {
      "cell_type": "markdown",
      "metadata": {
        "id": "zsSwzoIQfVGJ"
      },
      "source": [
        "### Load dataset\n",
        "\n",
        "To load the dataset, refer to the [pytorch documentation](https://pytorch.org/vision/stable/generated/torchvision.datasets.CIFAR10.html).\n",
        "\n",
        "You will need to pass a [transform](https://pytorch.org/vision/stable/transforms.html) to the dataset to perform these operations:\n",
        "- Transform the image to Tensor\n",
        "- Normalize the data according to CIFAR10 statistics\n",
        "\n",
        "These transforms are available from the link above.\n",
        "\n",
        "You will also need a train and a test [dataloaders](https://pytorch.org/docs/stable/data.html#torch.utils.data.DataLoader) to iterate over the training and testing datasets. To configure the dataloader here is what to know:\n",
        "- We will use a batch size of 128.\n",
        "- Only training data needs to be shuffled to avoid learning the order of data.\n",
        "- Colab has two cpus so the number of workers needs to be inferior or equal to 2.\n",
        "- Drop the last batch only for training data.\n",
        "\n",
        "Because Colab provides us few resources, we will also downsample our datasets to perform quicker experiments and not just wait for completion of cells."
      ]
    },
    {
      "cell_type": "code",
      "execution_count": 1,
      "metadata": {
        "id": "4C4pZJtcQ_fm"
      },
      "outputs": [],
      "source": [
        "import numpy as np\n",
        "from math import floor\n",
        "from torch.utils.data import Subset\n",
        "\n",
        "def downsample_cifar10_dataset(dataset, percentage, seed=42):\n",
        "  \"\"\"\n",
        "  Downsample the given dataset by only keeping a percentage of data.\n",
        "\n",
        "  Args:\n",
        "    dataset: The dataset to downsample.\n",
        "    percentage: The percentage of data to keep.\n",
        "    seed: The seed to configure the random subset choice.\n",
        "  \"\"\"\n",
        "  rng = np.random.default_rng(seed)\n",
        "\n",
        "  index_to_keep = []\n",
        "  for class_idx in range(len(dataset.class_to_idx)):\n",
        "    class_mask = [target == class_idx for target in dataset.targets]\n",
        "    indices_class = [i for i, x in enumerate(class_mask) if x]\n",
        "    index_to_keep.extend(np.random.choice(indices_class, floor(percentage * len(indices_class)), replace=False))\n",
        "  \n",
        "  return Subset(dataset, index_to_keep)"
      ]
    },
    {
      "cell_type": "code",
      "execution_count": 3,
      "metadata": {
        "id": "LNyDEvYeCzhR"
      },
      "outputs": [
        {
          "name": "stdout",
          "output_type": "stream",
          "text": [
            "Downloading https://www.cs.toronto.edu/~kriz/cifar-10-python.tar.gz to ./data/cifar-10-python.tar.gz\n"
          ]
        },
        {
          "name": "stderr",
          "output_type": "stream",
          "text": [
            "100%|██████████| 170498071/170498071 [00:15<00:00, 11013541.06it/s]\n"
          ]
        },
        {
          "name": "stdout",
          "output_type": "stream",
          "text": [
            "Extracting ./data/cifar-10-python.tar.gz to ./data\n",
            "Files already downloaded and verified\n"
          ]
        }
      ],
      "source": [
        "from torch.utils.data import DataLoader\n",
        "\n",
        "# --- START CODE HERE(01)\n",
        "# Import the dataset\n",
        "# Import the classes of the transform to apply on input data\n",
        "from torchvision.datasets import CIFAR10\n",
        "from torchvision.transforms import v2\n",
        "# --- END CODE HERE\n",
        "\n",
        "idx_to_class = {\n",
        "    0: \"airplane\",\n",
        "    1: \"automobile\",\n",
        "    2: \"bird\",\n",
        "    3: \"cat\",\n",
        "    4: \"deer\",\n",
        "    5: \"dog\",\n",
        "    6: \"frog\",\n",
        "    7: \"horse\",\n",
        "    8: \"ship\",\n",
        "    9: \"truck\"\n",
        "}\n",
        "\n",
        "mean_cifar=[0.491, 0.482, 0.446]\n",
        "std_cifar=[0.247, 0.243, 0.261]\n",
        "\n",
        "# --- START CODE HERE (02)\n",
        "# Intantiate the transform and the datasets for training and testing\n",
        "transform = v2.Compose([v2.ToTensor(), v2.Normalize(mean_cifar, std_cifar)])\n",
        "dataset_train = CIFAR10(root=\"./data\", train=True, transform=transform, download=True)\n",
        "dataset_test = CIFAR10(root=\"./data\", train=False, transform=transform, download=True)\n",
        "# --- END CODE HERE\n",
        "\n",
        "dataset_train = downsample_cifar10_dataset(dataset_train, percentage=0.2)\n",
        "dataset_test = downsample_cifar10_dataset(dataset_test, percentage=0.2)\n",
        "\n",
        "# --- START CODE HERE (03)\n",
        "# Intantiate the dataloaders for training and testing\n",
        "train_dataloader = DataLoader(dataset_train, batch_size=64, shuffle=True)\n",
        "test_dataloader = DataLoader(dataset_test, batch_size=64, shuffle=True)\n",
        "# --- END CODE HERE"
      ]
    },
    {
      "cell_type": "markdown",
      "metadata": {
        "id": "0JHMFOkZcy-Q"
      },
      "source": [
        "### Visualize the data\n",
        "\n",
        "Below you can visualize various images from the CIFAR10 dataset."
      ]
    },
    {
      "cell_type": "code",
      "execution_count": 4,
      "metadata": {
        "id": "3WZo1tbqHsSM"
      },
      "outputs": [
        {
          "name": "stdout",
          "output_type": "stream",
          "text": [
            "Shape of train images: torch.Size([3, 32, 32]).\n",
            "Labels:\n",
            "['bird', 'horse', 'horse', 'ship', 'horse', 'frog', 'truck', 'ship', 'automobile', 'horse', 'deer', 'truck', 'cat', 'ship', 'ship', 'horse'].\n",
            "\n",
            "Grid of train images:\n"
          ]
        },
        {
          "data": {
            "image/png": "[encoded data removed]",
            "text/plain": [
              "<Figure size 1500x1500 with 1 Axes>"
            ]
          },
          "metadata": {},
          "output_type": "display_data"
        }
      ],
      "source": [
        "%matplotlib inline\n",
        "import matplotlib.pyplot as plt\n",
        "import torch\n",
        "import torchvision.transforms.functional as F\n",
        "from torchvision.utils import make_grid\n",
        "\n",
        "def show(imgs):\n",
        "  \"\"\"\n",
        "  Show input images.\n",
        "\n",
        "  Args:\n",
        "    imgs: the images to show\n",
        "  \"\"\"\n",
        "\n",
        "  if not isinstance(imgs, list):\n",
        "    imgs = [imgs]\n",
        "  fig, axs = plt.subplots(ncols=len(imgs), squeeze=False, figsize=(15, 15))\n",
        "  for i, img in enumerate(imgs):\n",
        "    img = img.detach()\n",
        "    img = F.to_pil_image(img)\n",
        "    axs[0, i].imshow(np.asarray(img))\n",
        "    axs[0, i].set(xticklabels=[], yticklabels=[], xticks=[], yticks=[])\n",
        "\n",
        "def denormalize_tensor(tensor, mean, std):\n",
        "  \"\"\"\n",
        "  Denormalize a tensor.\n",
        "\n",
        "  Args:\n",
        "    tensor: the tensor to denormalize.\n",
        "    mean: the mean that normalized.\n",
        "    std: the std that normalized.\n",
        "  \"\"\"\n",
        "  \n",
        "  mean = torch.tensor(mean).view((1, 3, 1, 1))\n",
        "  std = torch.tensor(std).view((1, 3, 1 , 1))\n",
        "  return tensor * std + mean\n",
        "\n",
        "random_train_samples = [dataset_train[idx] for idx in np.random.choice(len(dataset_train), 16)]\n",
        "random_train_X = torch.stack([sample[0] for sample in random_train_samples])\n",
        "random_train_y = [idx_to_class[sample[1]] for sample in random_train_samples]\n",
        "train_grid = make_grid(denormalize_tensor(random_train_X, mean_cifar, std_cifar))\n",
        "\n",
        "print(f\"Shape of train images: {random_train_X[0].shape}.\")\n",
        "print(f\"Labels:\\n{random_train_y}.\\n\")\n",
        "print(f\"Grid of train images:\")\n",
        "show(train_grid)"
      ]
    },
    {
      "cell_type": "markdown",
      "metadata": {
        "id": "hAwxSzh7gbqs"
      },
      "source": [
        "### Implement custom model"
      ]
    },
    {
      "cell_type": "markdown",
      "metadata": {
        "id": "CKIGqeN56gN-"
      },
      "source": [
        "Here, we will implement the custom model following the [Sequential model](https://pytorch.org/docs/stable/generated/torch.nn.Sequential.html) from Pytorch.\n",
        "\n",
        "You will need to feed to the Sequential model the layers that define your model. These layers must follow the architecture detailed above. The various layers required are available in Pytorch and can be found in the Neural Network, or [nn](https://pytorch.org/docs/stable/nn.html), package"
      ]
    },
    {
      "cell_type": "code",
      "execution_count": 5,
      "metadata": {
        "id": "e4znmTlDFNqJ"
      },
      "outputs": [
        {
          "data": {
            "text/plain": [
              "Sequential(\n",
              "  (0): Conv2d(3, 32, kernel_size=(3, 3), stride=(1, 1), padding=same)\n",
              "  (1): ReLU()\n",
              "  (2): Conv2d(32, 32, kernel_size=(3, 3), stride=(1, 1), padding=same)\n",
              "  (3): ReLU()\n",
              "  (4): MaxPool2d(kernel_size=2, stride=2, padding=0, dilation=1, ceil_mode=False)\n",
              "  (5): Conv2d(32, 32, kernel_size=(3, 3), stride=(1, 1), padding=same)\n",
              "  (6): ReLU()\n",
              "  (7): MaxPool2d(kernel_size=2, stride=2, padding=0, dilation=1, ceil_mode=False)\n",
              "  (8): Flatten(start_dim=1, end_dim=-1)\n",
              "  (9): Linear(in_features=2048, out_features=10, bias=True)\n",
              ")"
            ]
          },
          "execution_count": 5,
          "metadata": {},
          "output_type": "execute_result"
        }
      ],
      "source": [
        "# --- START CODE HERE (04)\n",
        "# Import the layers to implement the model\n",
        "from torch import nn\n",
        "from torch.nn import functional as F\n",
        "\n",
        "# --- END CODE HERE\n",
        "\n",
        "def make_custom_model(): # Function in case you need to reinitialize model.\n",
        "  \"\"\"\n",
        "  Make the custom model.\n",
        "  \"\"\"\n",
        "\n",
        "  layers = [\n",
        "    # --- START CODE HERE (05)\n",
        "    # Instantiate the various layers composing our model.\n",
        "    # Convolutional layers: 32 filters, kernel size 3, stride 1, padding 'same'\n",
        "    nn.Conv2d(in_channels=3, out_channels=32, kernel_size=3, stride=1, padding=\"same\"),\n",
        "    # ReLU activation\n",
        "    nn.ReLU(),\n",
        "    # Convolutional layers: 32 filters, kernel size 3, stride 1, padding 'same'\n",
        "    nn.Conv2d(in_channels=32, out_channels=32, kernel_size=3, stride=1, padding=\"same\"),\n",
        "    # ReLU activation\n",
        "    nn.ReLU(),\n",
        "    # Max pooling layer: kernel size 2, stride 2\n",
        "    nn.MaxPool2d(kernel_size=2, stride=2),\n",
        "    # Convolutional layers: 32 filters, kernel size 3, stride 1, padding 'same'\n",
        "    nn.Conv2d(in_channels=32, out_channels=32, kernel_size=3, stride=1, padding=\"same\"),\n",
        "    # ReLU activation\n",
        "    nn.ReLU(),\n",
        "    # Max pooling layer: kernel size 2, stride 2\n",
        "    nn.MaxPool2d(kernel_size=2, stride=2),\n",
        "    # Flatten layer\n",
        "    nn.Flatten(),\n",
        "    # Fully connected layer: 10 output units\n",
        "    nn.Linear(in_features=32*8*8, out_features=10) \n",
        "    # --- END CODE HERE\n",
        " ]\n",
        "\n",
        "  # --- START CODE HERE (06)\n",
        "  # Feed the layers to the Sequential class.\n",
        "  model = nn.Sequential(*layers)\n",
        "  # --- END CODE HERE\n",
        "  return model\n",
        "\n",
        "model = make_custom_model()\n",
        "model"
      ]
    },
    {
      "cell_type": "markdown",
      "metadata": {
        "id": "Gt4BV39BgeyE"
      },
      "source": [
        "### Train custom model"
      ]
    },
    {
      "cell_type": "markdown",
      "metadata": {
        "id": "uzrZDe-v734u"
      },
      "source": [
        "#### Helper functions\n",
        "\n",
        "We define several helper functions to compute the accuracy, and display the loss and accuracy to visualize our trainings."
      ]
    },
    {
      "cell_type": "code",
      "execution_count": 6,
      "metadata": {
        "id": "ku2gCLjjN_jr"
      },
      "outputs": [],
      "source": [
        "def display_losses_and_accuracies(train_loss, test_loss, train_accuracy, test_accuracy):\n",
        "  \"\"\"\n",
        "  Display the training and testing loss and accuracies.\n",
        "\n",
        "  Args:\n",
        "    train_loss: the training loss list.\n",
        "    test_loss: the testing loss list.\n",
        "    train_accuracy: the training accuracy list.\n",
        "    test_accuracy: the testing accuracy list.\n",
        "  \"\"\"\n",
        "\n",
        "  plt.subplot(1,2,1)\n",
        "  plt.plot(train_loss, 'r')\n",
        "  plt.plot(test_loss, 'g--')\n",
        "  plt.xlabel('# epoch')\n",
        "  plt.ylabel('loss')\n",
        "  plt.grid(True)\n",
        "\n",
        "  plt.subplot(1,2,2)\n",
        "  plt.plot(train_accuracy, 'r')\n",
        "  plt.plot(test_accuracy, 'g--')\n",
        "  plt.xlabel('# epoch')\n",
        "  plt.ylabel('accuracy')\n",
        "  plt.grid(True)\n",
        "  plt.show()\n",
        "\n",
        "\n",
        "def F_computeAccuracy(preds, y):\n",
        "    \"\"\"Compute the accuracy\n",
        "    \n",
        "    Parameters\n",
        "    ----------\n",
        "    preds: (m, 1)\n",
        "        predicted value by the MLP\n",
        "    y: (m, 1)\n",
        "        ground-truth class to predict\n",
        "    \"\"\"\n",
        "    \n",
        "    m = y.shape[0]\n",
        "    if preds.shape[1] == 1:\n",
        "      hard_preds = (preds > 0.5).to(torch.int64)\n",
        "    else:\n",
        "      hard_preds = (torch.argmax(preds, 1)).to(torch.int64)\n",
        "    return torch.sum(hard_preds==y) / m"
      ]
    },
    {
      "cell_type": "markdown",
      "metadata": {
        "id": "6FE9aidg8Dq4"
      },
      "source": [
        "#### Training loop\n",
        "\n",
        "To reuse our training loop, we will define a function that takes as an argument:\n",
        "- the model\n",
        "- the loss function\n",
        "- the optimizer\n",
        "- the training and testing dataloaders\n",
        "- the number of epochs to perform.\n",
        "\n",
        "In this loop, you will take care of \n",
        "- making the iterator over the dataloaders\n",
        "- [putting on the cuda device](https://pytorch.org/docs/stable/notes/cuda.html) the batch of data for training and testing\n",
        "\n",
        "The rest of the loop is the same as for the first TP:\n",
        "- computation of the predictions by passing through the models\n",
        "- loss computation based on predictions and targets\n",
        "- accuracy computation and metrics storage"
      ]
    },
    {
      "cell_type": "code",
      "execution_count": 7,
      "metadata": {
        "id": "qeEMuMHn8fV_"
      },
      "outputs": [],
      "source": [
        "import torch.cuda\n",
        "\n",
        "def training_loop(model, loss_fn, optimizer, train_dataloader, test_dataloader, num_epochs):\n",
        "  train_loss_epoch, train_accuracy_epoch = [], []\n",
        "  test_loss_epoch, test_accuracy_epoch = [], []\n",
        "\n",
        "  if torch.cuda.is_available():\n",
        "    cuda = torch.device('cuda')\n",
        "    model = model.to(cuda)\n",
        "    print(f\"Training on {cuda} device.\")\n",
        "  else:\n",
        "    print(\"Training on CPU.\")\n",
        "\n",
        "  for nb_epoch in range(1, num_epochs + 1):\n",
        "    model.train()\n",
        "    train_loss_iter, train_accuracy_iter = [], []\n",
        "    test_loss_iter, test_accuracy_iter = [], []\n",
        "\n",
        "    # --- START CODE HERE (07)\n",
        "    # Iterate over the train dataloader and put the batch data on cuda device.\n",
        "    for t in train_dataloader:\n",
        "      X, y = t\n",
        "      X = X.to(cuda)\n",
        "      y = y.to(cuda)\n",
        "    # --- END CODE HERE\n",
        "\n",
        "      # --- Forward\n",
        "      train_preds = model(X)\n",
        "      loss = loss_fn(train_preds, y)\n",
        "\n",
        "      accuracy = F_computeAccuracy(train_preds, y)\n",
        "      \n",
        "      # --- Store results on train\n",
        "      train_loss_iter.append(loss.item())\n",
        "      train_accuracy_iter.append(accuracy)\n",
        "      \n",
        "      # --- Backward\n",
        "      optimizer.zero_grad()\n",
        "      loss.backward()\n",
        "      \n",
        "      # --- Update parameters\n",
        "      optimizer.step()\n",
        "\n",
        "    with torch.no_grad():\n",
        "      model.eval()\n",
        "      # --- START CODE HERE (08)\n",
        "      # Iterate over the test dataloader and put the batch data on cuda device.\n",
        "      for t in test_dataloader:\n",
        "        X, y = t\n",
        "        X = X.to(cuda)\n",
        "        y = y.to(cuda)\n",
        "        \n",
        "      # --- END CODE HERE\n",
        "\n",
        "        # --- Store results on test\n",
        "        test_preds = model(X)\n",
        "        loss = loss_fn(test_preds, y)\n",
        "        accuracy = F_computeAccuracy(test_preds, y)\n",
        "        test_loss_iter.append(loss.item())    \n",
        "        test_accuracy_iter.append(accuracy)\n",
        "\n",
        "    train_loss_epoch.append(torch.mean(torch.tensor(train_loss_iter)))  \n",
        "    train_accuracy_epoch.append(torch.mean(torch.tensor(train_accuracy_iter)))  \n",
        "    test_loss_epoch.append(torch.mean(torch.tensor(test_loss_iter)))  \n",
        "    test_accuracy_epoch.append(torch.mean(torch.tensor(test_accuracy_iter)))  \n",
        "    \n",
        "    print(\"epoch: {0:d} (loss: train {1:.2f} test {2:.2f}) (accuracy: train {3:.2f} test {4:.2f})\".format(num_epoch, train_loss_epoch[-1], test_loss_epoch[-1], train_accuracy_epoch[-1], test_accuracy_epoch[-1]))\n",
        "\n",
        "  return train_loss_epoch, train_accuracy_epoch, test_loss_epoch, test_accuracy_epoch"
      ]
    },
    {
      "cell_type": "markdown",
      "metadata": {
        "id": "j-HkMh18-CsX"
      },
      "source": [
        "Now that the dataloading, the model definition, and the training loop are done we can train our model.\n",
        "\n",
        "Before that, we need to instantiate our optimizer and our loss function.\n",
        "Also to speed-up training, as explained before, we will use the [cuda device](https://pytorch.org/docs/stable/notes/cuda.html), which is the GPU.\n",
        "\n",
        "All modules should be put on the cuda device, so in our case:\n",
        "- the model\n",
        "- the loss function\n",
        "\n",
        "In the training loop, we already took care of having the data on the cuda device so we will not encounter an error.\n",
        "\n",
        "You should observe overfitting during training (low training loss and increasing testing loss). Later in the TP we will add data augmentations to reduce this issue."
      ]
    },
    {
      "cell_type": "code",
      "execution_count": 8,
      "metadata": {
        "id": "-TMQHGgCHK2z"
      },
      "outputs": [
        {
          "ename": "RuntimeError",
          "evalue": "Found no NVIDIA driver on your system. Please check that you have an NVIDIA GPU and installed a driver from http://www.nvidia.com/Download/index.aspx",
          "output_type": "error",
          "traceback": [
            "\u001b[0;31m---------------------------------------------------------------------------\u001b[0m",
            "\u001b[0;31mRuntimeError\u001b[0m                              Traceback (most recent call last)",
            "\u001b[1;32m/home/jose/Desktop/Lorenc1o-repos/BDMA_Notes/Paris-Saclay/Machine-Learning/Labs/L3/DL_practical_2.ipynb Cell 16\u001b[0m line \u001b[0;36m1\n\u001b[1;32m     <a href='vscode-notebook-cell:/home/jose/Desktop/Lorenc1o-repos/BDMA_Notes/Paris-Saclay/Machine-Learning/Labs/L3/DL_practical_2.ipynb#X21sZmlsZQ%3D%3D?line=13'>14</a>\u001b[0m \u001b[39m# --- START CODE HERE (10)\u001b[39;00m\n\u001b[1;32m     <a href='vscode-notebook-cell:/home/jose/Desktop/Lorenc1o-repos/BDMA_Notes/Paris-Saclay/Machine-Learning/Labs/L3/DL_practical_2.ipynb#X21sZmlsZQ%3D%3D?line=14'>15</a>\u001b[0m \u001b[39m# Put the model on cuda device and initialize the optimizer and the loss function to put on cuda aswell\u001b[39;00m\n\u001b[1;32m     <a href='vscode-notebook-cell:/home/jose/Desktop/Lorenc1o-repos/BDMA_Notes/Paris-Saclay/Machine-Learning/Labs/L3/DL_practical_2.ipynb#X21sZmlsZQ%3D%3D?line=15'>16</a>\u001b[0m \u001b[39m# We will optimize it using the SGD optimizer with $lr = 0.01$, $momentum = 0.9$ and the cross-entropy loss.\u001b[39;00m\n\u001b[1;32m     <a href='vscode-notebook-cell:/home/jose/Desktop/Lorenc1o-repos/BDMA_Notes/Paris-Saclay/Machine-Learning/Labs/L3/DL_practical_2.ipynb#X21sZmlsZQ%3D%3D?line=16'>17</a>\u001b[0m cuda \u001b[39m=\u001b[39m torch\u001b[39m.\u001b[39mdevice(\u001b[39m'\u001b[39m\u001b[39mcuda\u001b[39m\u001b[39m'\u001b[39m)\n\u001b[0;32m---> <a href='vscode-notebook-cell:/home/jose/Desktop/Lorenc1o-repos/BDMA_Notes/Paris-Saclay/Machine-Learning/Labs/L3/DL_practical_2.ipynb#X21sZmlsZQ%3D%3D?line=17'>18</a>\u001b[0m model \u001b[39m=\u001b[39m model\u001b[39m.\u001b[39;49mto(cuda)\n\u001b[1;32m     <a href='vscode-notebook-cell:/home/jose/Desktop/Lorenc1o-repos/BDMA_Notes/Paris-Saclay/Machine-Learning/Labs/L3/DL_practical_2.ipynb#X21sZmlsZQ%3D%3D?line=18'>19</a>\u001b[0m optimizer \u001b[39m=\u001b[39m optim\u001b[39m.\u001b[39mSGD(model\u001b[39m.\u001b[39mparameters(), lr\u001b[39m=\u001b[39m\u001b[39m0.01\u001b[39m, momentum\u001b[39m=\u001b[39m\u001b[39m0.9\u001b[39m)\n\u001b[1;32m     <a href='vscode-notebook-cell:/home/jose/Desktop/Lorenc1o-repos/BDMA_Notes/Paris-Saclay/Machine-Learning/Labs/L3/DL_practical_2.ipynb#X21sZmlsZQ%3D%3D?line=19'>20</a>\u001b[0m loss_fn \u001b[39m=\u001b[39m CrossEntropyLoss()\n",
            "File \u001b[0;32m~/.local/lib/python3.10/site-packages/torch/nn/modules/module.py:1145\u001b[0m, in \u001b[0;36mModule.to\u001b[0;34m(self, *args, **kwargs)\u001b[0m\n\u001b[1;32m   1141\u001b[0m         \u001b[39mreturn\u001b[39;00m t\u001b[39m.\u001b[39mto(device, dtype \u001b[39mif\u001b[39;00m t\u001b[39m.\u001b[39mis_floating_point() \u001b[39mor\u001b[39;00m t\u001b[39m.\u001b[39mis_complex() \u001b[39melse\u001b[39;00m \u001b[39mNone\u001b[39;00m,\n\u001b[1;32m   1142\u001b[0m                     non_blocking, memory_format\u001b[39m=\u001b[39mconvert_to_format)\n\u001b[1;32m   1143\u001b[0m     \u001b[39mreturn\u001b[39;00m t\u001b[39m.\u001b[39mto(device, dtype \u001b[39mif\u001b[39;00m t\u001b[39m.\u001b[39mis_floating_point() \u001b[39mor\u001b[39;00m t\u001b[39m.\u001b[39mis_complex() \u001b[39melse\u001b[39;00m \u001b[39mNone\u001b[39;00m, non_blocking)\n\u001b[0;32m-> 1145\u001b[0m \u001b[39mreturn\u001b[39;00m \u001b[39mself\u001b[39;49m\u001b[39m.\u001b[39;49m_apply(convert)\n",
            "File \u001b[0;32m~/.local/lib/python3.10/site-packages/torch/nn/modules/module.py:797\u001b[0m, in \u001b[0;36mModule._apply\u001b[0;34m(self, fn)\u001b[0m\n\u001b[1;32m    795\u001b[0m \u001b[39mdef\u001b[39;00m \u001b[39m_apply\u001b[39m(\u001b[39mself\u001b[39m, fn):\n\u001b[1;32m    796\u001b[0m     \u001b[39mfor\u001b[39;00m module \u001b[39min\u001b[39;00m \u001b[39mself\u001b[39m\u001b[39m.\u001b[39mchildren():\n\u001b[0;32m--> 797\u001b[0m         module\u001b[39m.\u001b[39;49m_apply(fn)\n\u001b[1;32m    799\u001b[0m     \u001b[39mdef\u001b[39;00m \u001b[39mcompute_should_use_set_data\u001b[39m(tensor, tensor_applied):\n\u001b[1;32m    800\u001b[0m         \u001b[39mif\u001b[39;00m torch\u001b[39m.\u001b[39m_has_compatible_shallow_copy_type(tensor, tensor_applied):\n\u001b[1;32m    801\u001b[0m             \u001b[39m# If the new tensor has compatible tensor type as the existing tensor,\u001b[39;00m\n\u001b[1;32m    802\u001b[0m             \u001b[39m# the current behavior is to change the tensor in-place using `.data =`,\u001b[39;00m\n\u001b[0;32m   (...)\u001b[0m\n\u001b[1;32m    807\u001b[0m             \u001b[39m# global flag to let the user control whether they want the future\u001b[39;00m\n\u001b[1;32m    808\u001b[0m             \u001b[39m# behavior of overwriting the existing tensor or not.\u001b[39;00m\n",
            "File \u001b[0;32m~/.local/lib/python3.10/site-packages/torch/nn/modules/module.py:820\u001b[0m, in \u001b[0;36mModule._apply\u001b[0;34m(self, fn)\u001b[0m\n\u001b[1;32m    816\u001b[0m \u001b[39m# Tensors stored in modules are graph leaves, and we don't want to\u001b[39;00m\n\u001b[1;32m    817\u001b[0m \u001b[39m# track autograd history of `param_applied`, so we have to use\u001b[39;00m\n\u001b[1;32m    818\u001b[0m \u001b[39m# `with torch.no_grad():`\u001b[39;00m\n\u001b[1;32m    819\u001b[0m \u001b[39mwith\u001b[39;00m torch\u001b[39m.\u001b[39mno_grad():\n\u001b[0;32m--> 820\u001b[0m     param_applied \u001b[39m=\u001b[39m fn(param)\n\u001b[1;32m    821\u001b[0m should_use_set_data \u001b[39m=\u001b[39m compute_should_use_set_data(param, param_applied)\n\u001b[1;32m    822\u001b[0m \u001b[39mif\u001b[39;00m should_use_set_data:\n",
            "File \u001b[0;32m~/.local/lib/python3.10/site-packages/torch/nn/modules/module.py:1143\u001b[0m, in \u001b[0;36mModule.to.<locals>.convert\u001b[0;34m(t)\u001b[0m\n\u001b[1;32m   1140\u001b[0m \u001b[39mif\u001b[39;00m convert_to_format \u001b[39mis\u001b[39;00m \u001b[39mnot\u001b[39;00m \u001b[39mNone\u001b[39;00m \u001b[39mand\u001b[39;00m t\u001b[39m.\u001b[39mdim() \u001b[39min\u001b[39;00m (\u001b[39m4\u001b[39m, \u001b[39m5\u001b[39m):\n\u001b[1;32m   1141\u001b[0m     \u001b[39mreturn\u001b[39;00m t\u001b[39m.\u001b[39mto(device, dtype \u001b[39mif\u001b[39;00m t\u001b[39m.\u001b[39mis_floating_point() \u001b[39mor\u001b[39;00m t\u001b[39m.\u001b[39mis_complex() \u001b[39melse\u001b[39;00m \u001b[39mNone\u001b[39;00m,\n\u001b[1;32m   1142\u001b[0m                 non_blocking, memory_format\u001b[39m=\u001b[39mconvert_to_format)\n\u001b[0;32m-> 1143\u001b[0m \u001b[39mreturn\u001b[39;00m t\u001b[39m.\u001b[39;49mto(device, dtype \u001b[39mif\u001b[39;49;00m t\u001b[39m.\u001b[39;49mis_floating_point() \u001b[39mor\u001b[39;49;00m t\u001b[39m.\u001b[39;49mis_complex() \u001b[39melse\u001b[39;49;00m \u001b[39mNone\u001b[39;49;00m, non_blocking)\n",
            "File \u001b[0;32m~/.local/lib/python3.10/site-packages/torch/cuda/__init__.py:247\u001b[0m, in \u001b[0;36m_lazy_init\u001b[0;34m()\u001b[0m\n\u001b[1;32m    245\u001b[0m \u001b[39mif\u001b[39;00m \u001b[39m'\u001b[39m\u001b[39mCUDA_MODULE_LOADING\u001b[39m\u001b[39m'\u001b[39m \u001b[39mnot\u001b[39;00m \u001b[39min\u001b[39;00m os\u001b[39m.\u001b[39menviron:\n\u001b[1;32m    246\u001b[0m     os\u001b[39m.\u001b[39menviron[\u001b[39m'\u001b[39m\u001b[39mCUDA_MODULE_LOADING\u001b[39m\u001b[39m'\u001b[39m] \u001b[39m=\u001b[39m \u001b[39m'\u001b[39m\u001b[39mLAZY\u001b[39m\u001b[39m'\u001b[39m\n\u001b[0;32m--> 247\u001b[0m torch\u001b[39m.\u001b[39;49m_C\u001b[39m.\u001b[39;49m_cuda_init()\n\u001b[1;32m    248\u001b[0m \u001b[39m# Some of the queued calls may reentrantly call _lazy_init();\u001b[39;00m\n\u001b[1;32m    249\u001b[0m \u001b[39m# we need to just return without initializing in that case.\u001b[39;00m\n\u001b[1;32m    250\u001b[0m \u001b[39m# However, we must not let any *other* threads in!\u001b[39;00m\n\u001b[1;32m    251\u001b[0m _tls\u001b[39m.\u001b[39mis_initializing \u001b[39m=\u001b[39m \u001b[39mTrue\u001b[39;00m\n",
            "\u001b[0;31mRuntimeError\u001b[0m: Found no NVIDIA driver on your system. Please check that you have an NVIDIA GPU and installed a driver from http://www.nvidia.com/Download/index.aspx"
          ]
        }
      ],
      "source": [
        "# --- START CODE HERE (09)\n",
        "# Import the loss and optimizer classes.\n",
        "from torch import optim\n",
        "from torch.nn import functional as F\n",
        "# import loss\n",
        "from torch.nn import CrossEntropyLoss\n",
        "# --- END CODE HERE\n",
        "\n",
        "# Run over epochs\n",
        "nb_epoch = 20\n",
        "\n",
        "model = make_custom_model()\n",
        "\n",
        "# --- START CODE HERE (10)\n",
        "# Put the model on cuda device and initialize the optimizer and the loss function to put on cuda aswell\n",
        "# We will optimize it using the SGD optimizer with $lr = 0.01$, $momentum = 0.9$ and the cross-entropy loss.\n",
        "cuda = torch.device('cuda')\n",
        "model = model.to(cuda)\n",
        "optimizer = optim.SGD(model.parameters(), lr=0.01, momentum=0.9)\n",
        "loss_fn = CrossEntropyLoss()\n",
        "# --- END CODE HERE\n",
        "\n",
        "train_loss_epoch, train_accuracy_epoch, test_loss_epoch, test_accuracy_epoch = \\\n",
        "  training_loop(model, loss_fn, optimizer, train_dataloader, test_dataloader, nb_epoch)\n",
        "\n",
        "display_losses_and_accuracies(train_loss_epoch, test_loss_epoch, train_accuracy_epoch, test_accuracy_epoch)"
      ]
    },
    {
      "cell_type": "markdown",
      "metadata": {
        "id": "LiwHJT6FRQ9M"
      },
      "source": [
        "## Train the CNN backbone ResNet-18\n",
        "\n",
        "\n",
        "In this section, we will train a [ResNet-18](https://arxiv.org/pdf/1512.03385.pdf) model that has proven effective to classification tasks.\n",
        "\n",
        "We will train in two different ways our ResNet-18:\n",
        " - we will simply take a ResNet-18 randomly initialized backbone and train it for a few epochs on CIFAR10.\n",
        "\n",
        " - we will instantiate a ResNet-18 that has first been pretrained on ImageNet and finetune it on CIFAR10 for a few epochs.\n"
      ]
    },
    {
      "cell_type": "markdown",
      "metadata": {
        "id": "nSMwABTYVi39"
      },
      "source": [
        "### Load data\n",
        "\n",
        "The ResNet-18 architecture has been proposed to solve the ImageNet classification problem which has a large resolution in comparison of CIFAR10 (around 256x256 vs 32x32). \n",
        "\n",
        "The first part of ResNet is called stem and aims to reduce the dimension of the input. To properly make use of this backbone, we can either change the stem, or resize our input to match Imagenet. You can find the architecture implementation [here](https://github.com/pytorch/vision/blob/main/torchvision/models/resnet.py).\n",
        "\n",
        "We will go for the latter as we will compare our randomly initialized backbone to the finetuned one that has to keep the same stem to properly initialized its weights.\n",
        "\n",
        "Based on this requirement, we will define a new training and testing dataset transform that will be composed of:\n",
        "- Resize the image to 224x224\n",
        "- Transform the image to Tensor\n",
        "- Normalize the data according to CIFAR10 statistics"
      ]
    },
    {
      "cell_type": "code",
      "execution_count": null,
      "metadata": {
        "id": "owgMdv8pWXP5"
      },
      "outputs": [],
      "source": [
        "# --- START CODE HERE (11)\n",
        "# Import the transform and instantiate the right transform.\n",
        "\n",
        "# --- END CODE HERE\n",
        "\n",
        "dataset_train = CIFAR10('.', train=True, transform=transform, download=True)\n",
        "dataset_test = CIFAR10('.', train=False, transform=transform, download=True)\n",
        "\n",
        "dataset_train = downsample_cifar10_dataset(dataset_train, percentage=0.2)\n",
        "dataset_test = downsample_cifar10_dataset(dataset_test, percentage=0.2)\n",
        "\n",
        "train_dataloader = DataLoader(dataset_train, batch_size=128, shuffle=True, drop_last=True, num_workers=2)\n",
        "test_dataloader = DataLoader(dataset_test, batch_size=128, shuffle=False, drop_last=False, num_workers=2)"
      ]
    },
    {
      "cell_type": "markdown",
      "metadata": {
        "id": "lXeYrn2hXpcR"
      },
      "source": [
        "### Instantiate the model\n",
        "\n",
        "The ResNet model has been proposed to perform on the ImageNet dataset, therefore the last fully connected layer to make class prediction has an output dimension of 1000, which is the number of classes of ImageNet.\n",
        "\n",
        "To properly use ResNet on CIFAR10, we must change this last fully connected layer to have an output dimension of 10. We will use the Torchvision [Resnet18 implementation](https://pytorch.org/vision/main/models/generated/torchvision.models.resnet18.html).\n",
        "\n",
        "We also want to be able to instantiate a model that is initialized in two ways:\n",
        "- Random: to perform training from scratch\n",
        "- Pretrained: transfer learning from the ImageNet pretrained weights.\n",
        "\n",
        "For transfer learning, we will have the choice to either finetune the whole backbone or only the last fully connected layer. The former generally provides better result as the whole backbone gets to specialize to the task but the latter has the advantage to require fewer computational resources, and is better for very small datasets.\n",
        "\n",
        "For only training the last layer, we will have to inform Pytorch to not optimize other parameters. This can be done by iterating over the [parameters](https://pytorch.org/docs/stable/generated/torch.nn.Module.html#torch.nn.Module.parameters) and changing their [requires_grad](https://pytorch.org/docs/stable/generated/torch.Tensor.requires_grad_.html) value.\n",
        "\n",
        "All these requirements need to be implemented in the function below."
      ]
    },
    {
      "cell_type": "code",
      "execution_count": null,
      "metadata": {
        "id": "RzqF-BWFXNcp"
      },
      "outputs": [],
      "source": [
        "# --- START CODE HERE (12)\n",
        "# Import the resnet model\n",
        "\n",
        "# --- END CODE HERE\n",
        "\n",
        "def get_resnet18(pretrained: bool = False, output_dim: int = 1000, only_train_fc: bool = False):\n",
        "  if pretrained:\n",
        "    weights = ResNet18_Weights.DEFAULT\n",
        "  else:\n",
        "    weights = None\n",
        "\n",
        "  # --- START CODE HERE (13)\n",
        "  # Configure the resnet model and update its fully connected layer\n",
        "  \n",
        "  # --- END CODE HERE\n",
        "\n",
        "  if only_train_fc:\n",
        "    # --- START CODE HERE (14)\n",
        "    # Only keep the fully connected layer parameters trainable.\n",
        "    \n",
        "    pass\n",
        "    # --- END CODE HERE\n",
        "\n",
        "  return model\n",
        "\n",
        "get_resnet18(False, 10)"
      ]
    },
    {
      "cell_type": "markdown",
      "metadata": {
        "id": "4hNMYvuvgkJ8"
      },
      "source": [
        "### Train the randomly initialized ResNet-18 backbone\n",
        "\n",
        "Use the previous function to instantiate the randomly initialized ResNet-18.\n",
        "\n",
        "You should observe that the training loss keeps decreasing but the test performance seeems to reach some kind of plateau or decrease. This is an exemple of overfitting."
      ]
    },
    {
      "cell_type": "code",
      "execution_count": null,
      "metadata": {
        "id": "-Rjj8YpbY6EB"
      },
      "outputs": [],
      "source": [
        "# Run over epochs\n",
        "nb_epoch = 10\n",
        "\n",
        "# --- START CODE HERE (15)\n",
        "# Instantiate the randomly initialised resnet18.\n",
        "model = \n",
        "# --- END CODE HERE\n",
        "\n",
        "# Initialize the optimizer and the loss function\n",
        "optimizer = SGD(model.parameters(), lr=0.01, momentum=0.9)\n",
        "loss_fn = CrossEntropyLoss().cuda()\n",
        "\n",
        "\n",
        "train_loss_epoch, train_accuracy_epoch, test_loss_epoch, test_accuracy_epoch = \\\n",
        "  training_loop(model, loss_fn, optimizer, train_dataloader, test_dataloader, nb_epoch)\n",
        "\n",
        "display_losses_and_accuracies(train_loss_epoch, test_loss_epoch, train_accuracy_epoch, test_accuracy_epoch)"
      ]
    },
    {
      "cell_type": "markdown",
      "metadata": {
        "id": "3LKbcBingov2"
      },
      "source": [
        "### Transfer learning of a pretrained ResNet-18 backbone"
      ]
    },
    {
      "cell_type": "markdown",
      "metadata": {
        "id": "9ktnE33phhQD"
      },
      "source": [
        "In this section we will use the pretained ResNet-18 on Imagenet to perform either linear classifier training or finetuning of the whole backbone.\n",
        "\n",
        "#### Linear classifier training\n",
        "\n",
        "Instantiate the ResNet-18 with the ImageNet pretrained weights using the function we implemented but for training only the linear classifier.\n",
        "\n",
        "You should observe a large improvement over random initialization."
      ]
    },
    {
      "cell_type": "code",
      "execution_count": null,
      "metadata": {
        "id": "6a2KNvK6ZCje"
      },
      "outputs": [],
      "source": [
        "# Run over epochs\n",
        "nb_epoch = 10\n",
        "\n",
        "# --- START CODE HERE (16)\n",
        "# Instantiate the pretrained resnet18 with only the fully connected layer trained.\n",
        "model = \n",
        "# --- END CODE HERE\n",
        "\n",
        "# Initialize the optimizer and the loss function\n",
        "optimizer = SGD(model.parameters(), lr=0.01, momentum=0.9)\n",
        "loss_fn = CrossEntropyLoss().cuda()\n",
        "\n",
        "train_loss_epoch, train_accuracy_epoch, test_loss_epoch, test_accuracy_epoch = \\\n",
        "  training_loop(model, loss_fn, optimizer, train_dataloader, test_dataloader, nb_epoch)\n",
        "\n",
        "display_losses_and_accuracies(train_loss_epoch, test_loss_epoch, train_accuracy_epoch, test_accuracy_epoch)"
      ]
    },
    {
      "cell_type": "markdown",
      "metadata": {
        "id": "4-vKGHcl3kYc"
      },
      "source": [
        "#### Complete finutining\n",
        "\n",
        "Instantiate the ResNet-18 with ImageNet pretrained weights using the function we implemented for training the whole backbone.\n",
        "\n",
        "You should observe an improvement over linear classifier training."
      ]
    },
    {
      "cell_type": "code",
      "execution_count": null,
      "metadata": {
        "id": "LxOReyY0j33I"
      },
      "outputs": [],
      "source": [
        "# Run over epochs\n",
        "nb_epoch = 10\n",
        "\n",
        "# --- START CODE HERE (17)\n",
        "# Instantiate the pretrained resnet18 with the whole backbone trained.\n",
        "model = \n",
        "# --- END CODE HERE\n",
        "\n",
        "optimizer = SGD(model.parameters(), lr=0.01, momentum=0.9)\n",
        "loss_fn = CrossEntropyLoss().cuda()\n",
        "\n",
        "train_loss_epoch, train_accuracy_epoch, test_loss_epoch, test_accuracy_epoch = \\\n",
        "  training_loop(model, loss_fn, optimizer, train_dataloader, test_dataloader, nb_epoch)\n",
        "\n",
        "display_losses_and_accuracies(train_loss_epoch, test_loss_epoch, train_accuracy_epoch, test_accuracy_epoch)"
      ]
    },
    {
      "cell_type": "markdown",
      "metadata": {
        "id": "XI69Ld1aiL3Z"
      },
      "source": [
        "## Data Augmentation\n",
        "\n",
        "To improve the generalization of our model and reduce risk of overfitting on the data, we can make use of Data Augmentation.\n",
        "\n",
        "The idea of Data Augmentation is to perform various transformations of our training data that enhance in some way the number of training data but also can make our representations invariant to various changes.\n",
        "\n",
        "The most common data augmentations used for classification are:\n",
        "- random resized crop: that randomly take a subpart of the image and resize the image to the input size\n",
        "- random horizontal flip: that randomly flip the image horizontally\n",
        "\n",
        "Some stronger augmentations have been used for either classification or self-supervised learning. Among them we can cite:\n",
        "- color jittering: change the brightness, contrast, saturation and hue of an image\n",
        "- gaussian blur: apply a gaussian kernel to the image\n",
        "- grayscale or color dropping: lose color information of the image\n",
        "\n",
        "All these augmentations are available in [Torchvison](https://pytorch.org/vision/stable/transforms.html)."
      ]
    },
    {
      "cell_type": "markdown",
      "metadata": {
        "id": "E7JPqc-hfOIB"
      },
      "source": [
        "### Data Augmentation visualization\n",
        "\n",
        "We provide you the code to be able to visualize augmentations along with the raw images."
      ]
    },
    {
      "cell_type": "code",
      "execution_count": null,
      "metadata": {
        "id": "c_KmTKPIgWOn"
      },
      "outputs": [],
      "source": [
        "def get_cifar_train_and_test_datasets(train_transform=None, test_transform=None, percentage=0.2):\n",
        "  \"\"\"\n",
        "  Construct CIFAR train and test datasets.\n",
        "\n",
        "  Args:\n",
        "    train_transform: transform for training dataset\n",
        "    test_transform: transform for testing dataset\n",
        "    percentage: percentage of data to keep \n",
        "  \"\"\"\n",
        "\n",
        "  dataset_train = CIFAR10('.', train=True, transform=train_transform, download=True)\n",
        "  dataset_test = CIFAR10('.', train=False, transform=test_transform, download=True)\n",
        "\n",
        "  dataset_train = downsample_cifar10_dataset(dataset_train, percentage=percentage)\n",
        "  dataset_test = downsample_cifar10_dataset(dataset_test, percentage=percentage)\n",
        "\n",
        "  return dataset_train, dataset_test\n",
        "\n",
        "\n",
        "def get_cifar_train_and_test_dataloaders(dataset_train, dataset_test, batch_size=128):\n",
        "  \"\"\"\n",
        "  Construct CIFAR train and test dataloaders.\n",
        "\n",
        "  Args:\n",
        "    dataset_train: training dataset\n",
        "    dataset_test: testing dataset\n",
        "    batch_size: batch size for both dataloaders\n",
        "  \"\"\"\n",
        "\n",
        "  train_dataloader = DataLoader(dataset_train, batch_size=batch_size, shuffle=True, drop_last=True, num_workers=2)\n",
        "  test_dataloader = DataLoader(dataset_test, batch_size=batch_size, shuffle=False, drop_last=False, num_workers=2)\n",
        "\n",
        "  return train_dataloader, test_dataloader\n",
        "\n",
        "\n",
        "def visualize_transform(transform = ToTensor(), mandatory_transform = ToTensor(), nb_images_to_visualize = 10):\n",
        "  \"\"\"\n",
        "  Visualize data augmentations and image before the data augmentation.\n",
        "  \n",
        "  Args:\n",
        "    transform: transform to visualize (Optionaly a resize + other transforms)\n",
        "    mandatory_transform: If transform contains resize, also give resize transform to correctly visualize the images.\n",
        "    nb_images_to_visualize: The number of images to visualize.\n",
        "  \"\"\"\n",
        "\n",
        "  dataset_train, _ = get_cifar_train_and_test_datasets(train_transform=None, test_transform=None)\n",
        "\n",
        "  raw_images = [dataset_train[i][0] for i in range(nb_images_to_visualize)]\n",
        "  transformed_images = [transform(image) for image in raw_images]\n",
        "  transformed_images_mandatory = [mandatory_transform(image) for image in raw_images] if mandatory_transform is not None else raw_images\n",
        "\n",
        "  transformed_images = torch.stack(transformed_images)\n",
        "  transformed_images_mandatory = torch.stack(transformed_images_mandatory)\n",
        "\n",
        "  grid = make_grid(torch.cat((transformed_images_mandatory, transformed_images)), nrow=nb_images_to_visualize)\n",
        "\n",
        "  show(grid)"
      ]
    },
    {
      "cell_type": "code",
      "execution_count": null,
      "metadata": {
        "id": "JfZT7sXYk_bD"
      },
      "outputs": [],
      "source": [
        "from torchvision.transforms import ColorJitter \n",
        "\n",
        "transform = Compose([\n",
        "    Resize(224),\n",
        "    ColorJitter(brightness=0.8, contrast=0.8, saturation=0.8, hue=0.2),\n",
        "    ToTensor()\n",
        "])\n",
        "\n",
        "resize_transform = Compose([\n",
        "    Resize(224),\n",
        "    ToTensor()\n",
        "])\n",
        "\n",
        "visualize_transform(transform, resize_transform)"
      ]
    },
    {
      "cell_type": "markdown",
      "metadata": {
        "id": "5qy871Ac0Lod"
      },
      "source": [
        "### Train our custom CNN with Data Augmentations\n",
        "\n",
        "Now, we will train our randomly initialized custom model with some new transforms.\n",
        "\n",
        "The first set of data augmentation we will try is the common for classification:\n",
        "- random horizontal flip: with a probability of 0.5\n",
        "\n",
        "Then we will add [randomly](https://pytorch.org/vision/stable/generated/torchvision.transforms.RandomApply.html) color jittering and grayscale with the parameters:\n",
        "- 0.8 probability to add color jitter\n",
        "- 0.4 for brightness, contrast, saturation\n",
        "- 0.1 for hue\n",
        "- 0.2 probability to add grayscale\n",
        "\n",
        "On top of these data augmentations, do not forget to transform the image to tensor and normalize the data according to CIFAR statistics.\n",
        "\n",
        "You should observe that the data augmentations improve performance and reduce overfitting. However, to better see this, you might want to increase the number of epochs to train. Indeed, it is harder for the model to train with the data augmentations and the improvement is generally seen for longer training. Also the random initialization can be better for some configurations and the effect of better initialization is reduced for longer training."
      ]
    },
    {
      "cell_type": "markdown",
      "metadata": {
        "id": "_aTXK0_7-vP5"
      },
      "source": [
        "#### Classical Data Augmentation\n",
        "\n",
        "Train the custom CNN with the classical data augmentation, you should observe less overfitting than before."
      ]
    },
    {
      "cell_type": "code",
      "execution_count": null,
      "metadata": {
        "id": "YQTCIkovMGRX"
      },
      "outputs": [],
      "source": [
        "# --- START CODE HERE (18)\n",
        "# Import the transforms and instantiate the classical set of data augmentation for classification.\n",
        "\n",
        "train_transform = \n",
        "# --- END CODE HERE\n",
        "\n",
        "test_transform = Compose([\n",
        "    ToTensor(), \n",
        "    Normalize([0.491, 0.482, 0.446], [0.247, 0.243, 0.261])\n",
        "])\n",
        "\n",
        "dataset_train, dataset_test = get_cifar_train_and_test_datasets(train_transform=train_transform, test_transform=test_transform, percentage=0.2)\n",
        "train_dataloader, test_dataloader = get_cifar_train_and_test_dataloaders(dataset_train, dataset_test, 128)\n",
        "\n",
        "# Run over epochs\n",
        "nb_epoch = 20\n",
        "\n",
        "model = make_custom_model()\n",
        "model.cuda()\n",
        "\n",
        "optimizer = SGD(model.parameters(), lr=0.01, momentum=0.9)\n",
        "loss_fn = CrossEntropyLoss().cuda()\n",
        "\n",
        "train_loss_epoch, train_accuracy_epoch, test_loss_epoch, test_accuracy_epoch = \\\n",
        "  training_loop(model, loss_fn, optimizer, train_dataloader, test_dataloader, nb_epoch)\n",
        "\n",
        "display_losses_and_accuracies(train_loss_epoch, test_loss_epoch, train_accuracy_epoch, test_accuracy_epoch)"
      ]
    },
    {
      "cell_type": "markdown",
      "metadata": {
        "id": "J9efDcMm-zUQ"
      },
      "source": [
        "#### Stronger Data Augmentation\n",
        "\n",
        "Train the custom CNN with the stronger data augmentation, you should observe less overfitting than the classical data augmentation and hopefully slightly better results. "
      ]
    },
    {
      "cell_type": "code",
      "execution_count": null,
      "metadata": {
        "id": "l2qs7o0dMeek"
      },
      "outputs": [],
      "source": [
        "# --- START CODE HERE (19)\n",
        "# Import the transforms and instantiate the stronger set of data augmentation.\n",
        "\n",
        "train_transform = \n",
        "# --- END CODE HERE\n",
        "\n",
        "test_transform = Compose([\n",
        "    ToTensor(), \n",
        "    Normalize([0.491, 0.482, 0.446], [0.247, 0.243, 0.261])\n",
        "])\n",
        "\n",
        "dataset_train, dataset_test = get_cifar_train_and_test_datasets(train_transform=train_transform, test_transform=test_transform, percentage=0.2)\n",
        "train_dataloader, test_dataloader = get_cifar_train_and_test_dataloaders(dataset_train, dataset_test, 128)\n",
        "\n",
        "# Run over epochs\n",
        "nb_epoch = 20\n",
        "\n",
        "model = make_custom_model()\n",
        "model.cuda()\n",
        "\n",
        "optimizer = SGD(model.parameters(), lr=0.01, momentum=0.9)\n",
        "loss_fn = CrossEntropyLoss().cuda()\n",
        "\n",
        "train_loss_epoch, train_accuracy_epoch, test_loss_epoch, test_accuracy_epoch = \\\n",
        "  training_loop(model, loss_fn, optimizer, train_dataloader, test_dataloader, nb_epoch)\n",
        "\n",
        "display_losses_and_accuracies(train_loss_epoch, test_loss_epoch, train_accuracy_epoch, test_accuracy_epoch)"
      ]
    },
    {
      "cell_type": "markdown",
      "metadata": {
        "id": "lXgre-nGB8OM"
      },
      "source": [
        "## BONUS\n",
        "\n",
        "We tested various things using the Resnet backbone:\n",
        "- training from random initialization\n",
        "- finetuning the whole backbone or training the last layer\n",
        "\n",
        "If you want to perform more tests, you can try to use differents backbones such as VGG, or look at data augmentations.\n",
        "\n",
        "There are few parameters that you can also try to tune to improve performance such as:\n",
        "- the batch size\n",
        "- the optimizer\n",
        "- the learning rate\n",
        "- longer training\n",
        "\n",
        "You can try to [visualize your learned kernel weights](https://github.com/utkuozbulak/pytorch-cnn-visualizations#convolutional-neural-network-filter-visualization).\n",
        "\n",
        "Also you can have a look to various Kaggle competitions on Computer Vision !"
      ]
    },
    {
      "cell_type": "code",
      "execution_count": null,
      "metadata": {
        "id": "c3dlYGR0K0dy"
      },
      "outputs": [],
      "source": []
    }
  ],
  "metadata": {
    "accelerator": "GPU",
    "colab": {
      "collapsed_sections": [
        "lXeYrn2hXpcR"
      ],
      "provenance": []
    },
    "gpuClass": "standard",
    "kernelspec": {
      "display_name": "Python 3",
      "name": "python3"
    },
    "language_info": {
      "codemirror_mode": {
        "name": "ipython",
        "version": 3
      },
      "file_extension": ".py",
      "mimetype": "text/x-python",
      "name": "python",
      "nbconvert_exporter": "python",
      "pygments_lexer": "ipython3",
      "version": "3.10.12"
    }
  },
  "nbformat": 4,
  "nbformat_minor": 0
}
