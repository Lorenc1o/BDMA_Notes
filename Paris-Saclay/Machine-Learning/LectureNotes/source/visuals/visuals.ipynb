{
 "cells": [
  {
   "cell_type": "markdown",
   "metadata": {},
   "source": [
    "In this notebook, I develop several visuals that are used in the lecture notes."
   ]
  },
  {
   "cell_type": "markdown",
   "metadata": {},
   "source": [
    "### 1. Gradient Clipping Visual"
   ]
  },
  {
   "cell_type": "code",
   "execution_count": 48,
   "metadata": {},
   "outputs": [
    {
     "ename": "OverflowError",
     "evalue": "(34, 'Numerical result out of range')",
     "output_type": "error",
     "traceback": [
      "\u001b[0;31m---------------------------------------------------------------------------\u001b[0m",
      "\u001b[0;31mOverflowError\u001b[0m                             Traceback (most recent call last)",
      "\u001b[1;32m/home/jose/Desktop/Lorenc1o-repos/BDMA_Notes/Paris-Saclay/Machine-Learning/LectureNotes/source/visuals/visuals.ipynb Cell 3\u001b[0m line \u001b[0;36m2\n\u001b[1;32m     <a href='vscode-notebook-cell:/home/jose/Desktop/Lorenc1o-repos/BDMA_Notes/Paris-Saclay/Machine-Learning/LectureNotes/source/visuals/visuals.ipynb#W6sZmlsZQ%3D%3D?line=24'>25</a>\u001b[0m \u001b[39m# Run gradient descent with and without clipping and plot the results\u001b[39;00m\n\u001b[1;32m     <a href='vscode-notebook-cell:/home/jose/Desktop/Lorenc1o-repos/BDMA_Notes/Paris-Saclay/Machine-Learning/LectureNotes/source/visuals/visuals.ipynb#W6sZmlsZQ%3D%3D?line=25'>26</a>\u001b[0m x0 \u001b[39m=\u001b[39m \u001b[39m1.2\u001b[39m\n\u001b[0;32m---> <a href='vscode-notebook-cell:/home/jose/Desktop/Lorenc1o-repos/BDMA_Notes/Paris-Saclay/Machine-Learning/LectureNotes/source/visuals/visuals.ipynb#W6sZmlsZQ%3D%3D?line=26'>27</a>\u001b[0m x_history \u001b[39m=\u001b[39m gradient_descent(f, x0, alpha\u001b[39m=\u001b[39;49m\u001b[39m0.5\u001b[39;49m, n_iter\u001b[39m=\u001b[39;49m\u001b[39m100\u001b[39;49m)\n\u001b[1;32m     <a href='vscode-notebook-cell:/home/jose/Desktop/Lorenc1o-repos/BDMA_Notes/Paris-Saclay/Machine-Learning/LectureNotes/source/visuals/visuals.ipynb#W6sZmlsZQ%3D%3D?line=27'>28</a>\u001b[0m x_history_clipped \u001b[39m=\u001b[39m gradient_descent(f, x0, alpha\u001b[39m=\u001b[39m\u001b[39m0.5\u001b[39m, n_iter\u001b[39m=\u001b[39m\u001b[39m100\u001b[39m, clip_norm\u001b[39m=\u001b[39m\u001b[39m0.1\u001b[39m)\n\u001b[1;32m     <a href='vscode-notebook-cell:/home/jose/Desktop/Lorenc1o-repos/BDMA_Notes/Paris-Saclay/Machine-Learning/LectureNotes/source/visuals/visuals.ipynb#W6sZmlsZQ%3D%3D?line=29'>30</a>\u001b[0m \u001b[39m# At each point of the trajectory, plot the gradient vector\u001b[39;00m\n",
      "\u001b[1;32m/home/jose/Desktop/Lorenc1o-repos/BDMA_Notes/Paris-Saclay/Machine-Learning/LectureNotes/source/visuals/visuals.ipynb Cell 3\u001b[0m line \u001b[0;36m1\n\u001b[1;32m     <a href='vscode-notebook-cell:/home/jose/Desktop/Lorenc1o-repos/BDMA_Notes/Paris-Saclay/Machine-Learning/LectureNotes/source/visuals/visuals.ipynb#W6sZmlsZQ%3D%3D?line=14'>15</a>\u001b[0m \u001b[39mfor\u001b[39;00m i \u001b[39min\u001b[39;00m \u001b[39mrange\u001b[39m(n_iter):\n\u001b[1;32m     <a href='vscode-notebook-cell:/home/jose/Desktop/Lorenc1o-repos/BDMA_Notes/Paris-Saclay/Machine-Learning/LectureNotes/source/visuals/visuals.ipynb#W6sZmlsZQ%3D%3D?line=15'>16</a>\u001b[0m     x_history\u001b[39m.\u001b[39mappend(x)\n\u001b[0;32m---> <a href='vscode-notebook-cell:/home/jose/Desktop/Lorenc1o-repos/BDMA_Notes/Paris-Saclay/Machine-Learning/LectureNotes/source/visuals/visuals.ipynb#W6sZmlsZQ%3D%3D?line=16'>17</a>\u001b[0m     x \u001b[39m-\u001b[39m\u001b[39m=\u001b[39m alpha \u001b[39m*\u001b[39m df(x)\n\u001b[1;32m     <a href='vscode-notebook-cell:/home/jose/Desktop/Lorenc1o-repos/BDMA_Notes/Paris-Saclay/Machine-Learning/LectureNotes/source/visuals/visuals.ipynb#W6sZmlsZQ%3D%3D?line=17'>18</a>\u001b[0m     \u001b[39mif\u001b[39;00m clip_norm \u001b[39mis\u001b[39;00m \u001b[39mnot\u001b[39;00m \u001b[39mNone\u001b[39;00m:\n\u001b[1;32m     <a href='vscode-notebook-cell:/home/jose/Desktop/Lorenc1o-repos/BDMA_Notes/Paris-Saclay/Machine-Learning/LectureNotes/source/visuals/visuals.ipynb#W6sZmlsZQ%3D%3D?line=18'>19</a>\u001b[0m         norm \u001b[39m=\u001b[39m np\u001b[39m.\u001b[39mlinalg\u001b[39m.\u001b[39mnorm(x)\n",
      "\u001b[1;32m/home/jose/Desktop/Lorenc1o-repos/BDMA_Notes/Paris-Saclay/Machine-Learning/LectureNotes/source/visuals/visuals.ipynb Cell 3\u001b[0m line \u001b[0;36m9\n\u001b[1;32m      <a href='vscode-notebook-cell:/home/jose/Desktop/Lorenc1o-repos/BDMA_Notes/Paris-Saclay/Machine-Learning/LectureNotes/source/visuals/visuals.ipynb#W6sZmlsZQ%3D%3D?line=7'>8</a>\u001b[0m \u001b[39mdef\u001b[39;00m \u001b[39mdf\u001b[39m(x):\n\u001b[0;32m----> <a href='vscode-notebook-cell:/home/jose/Desktop/Lorenc1o-repos/BDMA_Notes/Paris-Saclay/Machine-Learning/LectureNotes/source/visuals/visuals.ipynb#W6sZmlsZQ%3D%3D?line=8'>9</a>\u001b[0m     \u001b[39mreturn\u001b[39;00m \u001b[39m6\u001b[39m\u001b[39m*\u001b[39mx\u001b[39m*\u001b[39;49m\u001b[39m*\u001b[39;49m\u001b[39m5\u001b[39;49m \u001b[39m-\u001b[39m \u001b[39m2\u001b[39m\u001b[39m*\u001b[39mx\n",
      "\u001b[0;31mOverflowError\u001b[0m: (34, 'Numerical result out of range')"
     ]
    }
   ],
   "source": [
    "import numpy as np\n",
    "import matplotlib.pyplot as plt\n",
    "\n",
    "# Define the function to optimize\n",
    "def f(x):\n",
    "    return x**6 - x**2\n",
    "\n",
    "def df(x):\n",
    "    return 6*x**5 - 2*x\n",
    "\n",
    "def gradient_descent(f, x0, alpha=0.1, n_iter=100, clip_norm=None):\n",
    "    \"\"\"Gradient descent algorithm.\"\"\"\n",
    "    x = x0\n",
    "    x_history = []\n",
    "    for i in range(n_iter):\n",
    "        x_history.append(x)\n",
    "        x -= alpha * df(x)\n",
    "        if clip_norm is not None:\n",
    "            norm = np.linalg.norm(x)\n",
    "            if norm > clip_norm:\n",
    "                x = x / norm * clip_norm\n",
    "    return x_history\n",
    "\n",
    "# Run gradient descent with and without clipping and plot the results\n",
    "x0 = 1.2\n",
    "x_history = gradient_descent(f, x0, alpha=0.5, n_iter=100)\n",
    "x_history_clipped = gradient_descent(f, x0, alpha=0.5, n_iter=100, clip_norm=0.1)\n",
    "\n",
    "# At each point of the trajectory, plot the gradient vector\n",
    "x = np.linspace(0, 1.21, 100)\n",
    "y = f(x)\n",
    "plt.plot(x, y)\n",
    "plt.plot(x_history, f(np.array(x_history)), 'o-')\n",
    "plt.plot(x_history_clipped, f(np.array(x_history_clipped)), 'o-')\n",
    "plt.legend(['f(x)', 'No clipping', 'Clipping'])\n",
    "plt.xlabel('x')\n",
    "plt.ylabel('y')\n",
    "plt.show()\n"
   ]
  }
 ],
 "metadata": {
  "kernelspec": {
   "display_name": "Python 3",
   "language": "python",
   "name": "python3"
  },
  "language_info": {
   "codemirror_mode": {
    "name": "ipython",
    "version": 3
   },
   "file_extension": ".py",
   "mimetype": "text/x-python",
   "name": "python",
   "nbconvert_exporter": "python",
   "pygments_lexer": "ipython3",
   "version": "3.10.12"
  }
 },
 "nbformat": 4,
 "nbformat_minor": 2
}
