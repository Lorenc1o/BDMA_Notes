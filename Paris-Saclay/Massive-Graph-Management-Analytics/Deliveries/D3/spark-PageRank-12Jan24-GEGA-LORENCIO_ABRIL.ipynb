{
 "cells": [
  {
   "cell_type": "markdown",
   "metadata": {},
   "source": [
    "<center><img src='./figs/cs-logo.png' width=200></center>"
   ]
  },
  {
   "cell_type": "markdown",
   "metadata": {},
   "source": [
    "# 1. Introduction\n",
    "\n",
    "\n",
    "<p align=\"justify\">\n",
    "<font size=\"3\">\n",
    "In this lab assignment you'll deepen your Spark programming skills by implementing algorithms that apply computations on matrices.\n",
    "One interesting application of matrix computation is **PageRank**, the algorithm that Google uses to assign an importance score to each Web page; based on this score, the Google search engine ranks by importance the Web pages matching a particular search.\n",
    "</font>\n",
    "</p>\n",
    "\n",
    "<p align=\"justify\">\n",
    "<hr style=\" border:none; height:2px;\">\n",
    " <font  size=\"3\" color='#91053d'>**Execute the following cell in order to initialize the _SparkContext_.**</font>\n",
    "<hr style=\" border:none; height:2px;\">\n",
    "</p>"
   ]
  },
  {
   "cell_type": "code",
   "execution_count": 1,
   "metadata": {},
   "outputs": [
    {
     "name": "stderr",
     "output_type": "stream",
     "text": [
      "24/01/12 11:26:54 WARN Utils: Your hostname, jose-ROG-Strix-G513QM-G513QM resolves to a loopback address: 127.0.1.1; using 138.195.54.155 instead (on interface wlp3s0)\n",
      "24/01/12 11:26:54 WARN Utils: Set SPARK_LOCAL_IP if you need to bind to another address\n",
      "Setting default log level to \"WARN\".\n",
      "To adjust logging level use sc.setLogLevel(newLevel). For SparkR, use setLogLevel(newLevel).\n",
      "24/01/12 11:26:55 WARN NativeCodeLoader: Unable to load native-hadoop library for your platform... using builtin-java classes where applicable\n",
      "24/01/12 11:26:55 WARN Utils: Service 'SparkUI' could not bind on port 4040. Attempting port 4041.\n"
     ]
    },
    {
     "name": "stdout",
     "output_type": "stream",
     "text": [
      "Initialization successful\n"
     ]
    }
   ],
   "source": [
    "import findspark\n",
    "findspark.init()\n",
    "\n",
    "import pyspark\n",
    "import random\n",
    "sc = pyspark.SparkContext(appName=\"lab2\")\n",
    "print(\"Initialization successful\")"
   ]
  },
  {
   "cell_type": "markdown",
   "metadata": {},
   "source": [
    "# 2. Matrix Representation\n",
    "\n",
    "<p align=\"justify\">\n",
    "<font size=\"3\">\n",
    "**Please read carefully this section that presents how matrices will be represented in this assignment.**\n",
    "</font>\n",
    "</p>\n",
    "\n",
    "<p align=\"justify\">\n",
    "<font size=\"3\">\n",
    "Without loss of generality, we consider that our input matrices are stored \n",
    "in textual files (see folder _./data_).\n",
    "As an example, the file _./data/matrix-a.txt_ looks like as follows:\n",
    "<p>\n",
    "0 1 2 4<br>\n",
    "1 2 3 10<br>\n",
    "2 12 15 150<br>\n",
    "</p>\n",
    "</font>\n",
    "</p>\n",
    "<p>\n",
    "<font size=\"3\">\n",
    "Each line is a row in a matrix $A$. The first number of the line is the \n",
    "row identifier (starting from 0), the subsequent values (separated by a whitespace)\n",
    "are the elements in each column of the row. The matrix represented in this file is the \n",
    "following:\n",
    "<p>\n",
    "<center>\n",
    "  $A= \\begin{bmatrix}\n",
    "    1 & 2 & 4   \\\\\n",
    "    2 & 3 & 10  \\\\\n",
    "    12 & 15 & 150\n",
    "\\end{bmatrix}$\n",
    "</center>\n",
    "</font>\n",
    "</p>\n",
    "\n",
    "\n",
    "<p>\n",
    "<font size=\"3\">\n",
    "We provide the implementation of  basic functions to load a matrix from file, visualize it\n",
    "and get attributes.\n",
    "</font>\n",
    "</p>\n",
    "\n",
    "## 2.1 Function $loadMatrix$\n",
    "\n",
    "<p>\n",
    "<font size=\"3\">\n",
    "The function $loadMatrix()$ loads a matrix from a file.\n",
    "It takes in the name of the file and returns an RDD containing the matrix.\n",
    "\n",
    "Each element of an RDD matrix is a key-value pair, where the key is the coordinate (row identifier, column identifier) of an element, and the value is the element itself.\n",
    "For instance, the RDD corresponding to the matrix $A$ is the following:\n",
    "<p>\n",
    "$( (0, 0), 1 ), ( (0, 1), 2 ), ( (0, 2), 4 ), ( (1, 0), 2 ), ( (1, 1), 3 ), ( (1, 2), 10 ), ( (2, 0), 12 ), ( (2, 1), 15 ), ( (2, 2), 150 ) $\n",
    "</p>\n",
    "</font>\n",
    "</p>\n",
    "\n",
    "## 2.2 Function $shape$\n",
    "\n",
    "<p>\n",
    "<font size=\"3\">\n",
    "The function $shape()$ takes in an RDD matrix and returns the size of the matrix as a pair $(nbRows, nbCols)$, where $nbRows$ (resp., $nbCols$) denotes the number of rows (resp., columns) of the matrix.\n",
    "</font>\n",
    "</p>\n",
    "\n",
    "## 2.3 Function $collect$\n",
    "\n",
    "<p>\n",
    "<font size=\"3\">\n",
    "The function $collect()$ takes in an RDD matrix and returns a representation of the matrix as a Python list $L$. Each element of $L$ is itself a list that corresponds to a row in the matrix.\n",
    "For instance, the output of the function $collect$ for the matrix $A$ is as follows:   \n",
    "\n",
    "<p>\n",
    "\n",
    "$[ [1, 2, 4], [2, 3, 10], [12, 15, 150] ]$\n",
    "\n",
    "</p>\n",
    "\n",
    "</font>\n",
    "</p>\n",
    "\n",
    "\n",
    "## 2.3 Function $nice$\n",
    "\n",
    "<p>\n",
    "<font size=\"3\">\n",
    "The function $nice()$ prints the matrix in a nice and readable way.\n",
    "</font>\n",
    "</p>\n",
    "\n",
    "<p align=\"justify\">\n",
    "<hr style=\" border:none; height:2px;\">\n",
    " <font  size=\"3\" color='#91053d'>**Execute the following cell in order to initialize the definition of the functions**</font>\n",
    "<hr style=\" border:none; height:2px;\">\n",
    "</p>"
   ]
  },
  {
   "cell_type": "code",
   "execution_count": 2,
   "metadata": {},
   "outputs": [],
   "source": [
    "'''\n",
    "Loads a matrix from a file.\n",
    "Takes in: the name of the input file\n",
    "Returns: an RDD containing the matrix\n",
    "'''\n",
    "def loadMatrix(filename):\n",
    "    # Load the file into an RDD matrix\n",
    "    matrix = sc.textFile(filename)\n",
    "    # Splits each line. Each element is a list [nbRow, e1, e2, ..., ej]\n",
    "    matrix = matrix.map(lambda line : line.split(' '))\n",
    "    # Convert each element to a number (the first is an integer, the others are float)\n",
    "    matrix = matrix.map(lambda row: [int(row[0])] + [float(row[i]) for i in range(1, len(row))])\n",
    "    # Get an RDD where each element is a key-value pair ((row, col), element)\n",
    "    matrix = matrix.flatMap(lambda row: [((row[0], j-1), row[j]) for j in range(1, len(row))])\n",
    "    return matrix\n",
    "\n",
    "'''\n",
    "Returns the number of rows and colums of the matrix\n",
    "Takes in: An RDD representing a matrix\n",
    "Returns: the size of the matrix as (nbRows, nbCols)\n",
    "'''\n",
    "def shape(matrix):\n",
    "    M = collect(matrix)\n",
    "    if len(M) == 0:\n",
    "        return (0, 0)\n",
    "    else:\n",
    "        return (len(M), len(M[0]))\n",
    "\n",
    "'''\n",
    "Returns a matrix represented as a list of lists.\n",
    "Takes in: an RDD representing a matrix\n",
    "Returns: the matrix represented as a list of lists.\n",
    "'''\n",
    "def collect(matrix):\n",
    "    # Obtain an RDD, where the key is the row identifier and the value is (colId, element)\n",
    "    matrix = matrix.map(lambda x: (x[0][0], (x[0][1], x[1])))\n",
    "    # Groups all the values in a row.\n",
    "    matrix = matrix.groupByKey()\n",
    "    # Sorts the element by row identifier.\n",
    "    matrix = matrix.sortByKey()\n",
    "    # Sort the elements by column identifier.\n",
    "    matrix = matrix.map(lambda x: sorted(list(x[1])))\n",
    "    # Now obtain an RDD, where each element is a list containing the elements of a row.\n",
    "    matrix = matrix.map(lambda row: [x[1] for x in row])\n",
    "    # Finally, return the RDD as a Python list.\n",
    "    return matrix.collect()\n",
    "    \n",
    "'''\n",
    "Prints the matrix in a nice way.\n",
    "Takes in: the name of the matrix (var) and the matrix in the form of an RDD.\n",
    "'''\n",
    "def nice(var, matrix):\n",
    "    # Obtain a representation of the matrix as a Python list.\n",
    "    M = collect(matrix)\n",
    "    # Print the name of the matrix\n",
    "    print(\"Matrix \", var)\n",
    "    # Print the matrix and format the output nicely\n",
    "    print('\\n'.join([''.join(['{:12.2f}'.format(item) for item in row]) \n",
    "      for row in M]))\n"
   ]
  },
  {
   "cell_type": "markdown",
   "metadata": {},
   "source": [
    "# 3. Matrix Addition\n",
    "\n",
    "<p align=\"justify\">\n",
    "<font size=\"3\">\n",
    "The code below loads two matrices $A$ and $B$ from file and calls the function $sum()$ to compute $A+B$.\n",
    "</font>\n",
    "</p>\n",
    "\n",
    "<p>\n",
    "<font size=\"3\">\n",
    "The function $sum()$ takes in:\n",
    "<ul>\n",
    "<li> $A$: an RDD containing the first matrix.\n",
    "<li> $B$: an RDD containing the second matrix.\n",
    "</ul>\n",
    "The function $sum()$ returns an RDD containing the matrix obtained by summing $A$ and $B$.\n",
    "</font>\n",
    "</p>\n",
    "\n",
    "<p align=\"justify\">\n",
    "<hr style=\" border:none; height:2px;\">\n",
    " <font  size=\"3\" color='#91053d'>**Complete the definition of the function $sum()$ and execute the code**</font>\n",
    "<hr style=\" border:none; height:2px;\">\n",
    "</p>\n",
    "\n"
   ]
  },
  {
   "cell_type": "code",
   "execution_count": 3,
   "metadata": {},
   "outputs": [
    {
     "name": "stderr",
     "output_type": "stream",
     "text": [
      "                                                                                \r"
     ]
    },
    {
     "name": "stdout",
     "output_type": "stream",
     "text": [
      "Matrix  A\n",
      "        1.00        2.00        4.00\n",
      "        2.00        3.00       10.00\n",
      "       12.00       15.00      150.00\n",
      "Matrix  B\n",
      "        4.00        2.00        2.00      324.00       23.00\n",
      "        1.00        3.00        3.00      333.00      423.00\n",
      "       23.00       34.00       12.00       12.00        0.00\n",
      "Matrix  C\n",
      "        5.00        4.00        6.00      324.00       23.00\n",
      "        3.00        6.00       13.00      333.00      423.00\n",
      "       35.00       49.00      162.00       12.00        0.00\n"
     ]
    }
   ],
   "source": [
    "'''\n",
    "Computes the sum of two matrices.\n",
    "Takes in: two RDDs containing the input matrices\n",
    "Returns: the RDD containing the sum of the two input matrices\n",
    "'''\n",
    "def sum(A, B):\n",
    "    \n",
    "    ################## COMPLETE HERE FOLLOWING THE INSTRUCTIONS ##################\n",
    "    \n",
    "    # Each element of the RDD A and B is ((r,c), e), where e is an element of the matrix and (r, c) is the \n",
    "    # coordinate of the element in terms of row and column.\n",
    "    \n",
    "    # 1. Put the two RDDs A and B together. Use the transformation union. Remember that a transformation \n",
    "    # always returns a new RDD with the result of the transformation.\n",
    "    C = A.union(B)\n",
    "    \n",
    "    #2. Transforms the RDD C into one where the values having the same key (i.e., same row and column) \n",
    "    # are summed together. Which transformation are you going to use on C?\n",
    "    C = C.reduceByKey(lambda x, y: x + y)\n",
    "    # We return the RDD containing the sum of the two input matrices\n",
    "    return C\n",
    "\n",
    "    ################## END OF MODIFICATIONS ##################\n",
    "\n",
    "# Load matrix A from file and print it.\n",
    "A = loadMatrix(\"./data/matrix-a.txt\")\n",
    "nice(\"A\", A)\n",
    "\n",
    "# Load matrix B from file and print it.\n",
    "B = loadMatrix(\"./data/matrix-b.txt\")\n",
    "nice(\"B\", B)\n",
    "\n",
    "# Compute A+B and print it\n",
    "C = sum(A, B)\n",
    "nice(\"C\", C)\n",
    "\n",
    "############################################################## \n",
    "#YOU SHOULD OBTAIN THE FOLLOWING MATRIX C AS RESULT\n",
    "# 5.00        4.00        6.00      324.00       23.00\n",
    "# 3.00        6.00       13.00      333.00      423.00\n",
    "# 35.00       49.00      162.00       12.00        0.00\n",
    "##############################################################\n"
   ]
  },
  {
   "cell_type": "markdown",
   "metadata": {},
   "source": [
    "# 4. Scalar Multiplication\n",
    "\n",
    "<p>\n",
    "<font size=\"3\">\n",
    "The code below calls the function $scalarMultiply()$ to obtain the matrix $c\\times A$, where $c$ is a scalar value.    \n",
    "</font>\n",
    "</p>\n",
    "\n",
    "<p>\n",
    "<font size=\"3\">\n",
    "The function $scalarMultiply()$ takes in:\n",
    "<ul>\n",
    "<li> $c$: a scalar value.\n",
    "<li> $M$: an RDD containing a matrix.\n",
    "</ul>\n",
    "The function $scalarMultiply()$ returns an RDD containing the matrix obtained by multiplying $c$ with the input matrix.\n",
    "</font>\n",
    "</p>\n",
    "\n",
    "\n",
    "<p align=\"justify\">\n",
    "<hr style=\" border:none; height:2px;\">\n",
    " <font  size=\"3\" color='#91053d'>**Complete the definition of the function $scalarMultiply()$ and execute the code**</font>\n",
    "<hr style=\" border:none; height:2px;\">\n",
    "</p>\n",
    "\n"
   ]
  },
  {
   "cell_type": "code",
   "execution_count": 4,
   "metadata": {},
   "outputs": [
    {
     "name": "stdout",
     "output_type": "stream",
     "text": [
      "Matrix  A\n",
      "        1.00        2.00        4.00\n",
      "        2.00        3.00       10.00\n",
      "       12.00       15.00      150.00\n",
      "Matrix  2*A\n",
      "        2.00        4.00        8.00\n",
      "        4.00        6.00       20.00\n",
      "       24.00       30.00      300.00\n"
     ]
    }
   ],
   "source": [
    "'''\n",
    "Computes the scalar multiplication.\n",
    "Takes in a scalar value c and an RDD matrix M\n",
    "Returns the RDD containing the matrix resulting from the scalar multiplication c * M.\n",
    "'''\n",
    "def scalarMultiply(c, M):\n",
    "    \n",
    "    ################## COMPLETE HERE FOLLOWING THE INSTRUCTIONS ##################\n",
    "    \n",
    "    # Apply a transformation on M, so each element of the matrix M is multiplied by c\n",
    "    # Which transformation are you going to use?\n",
    "    R = M.map(lambda x: (x[0], c * x[1]))\n",
    "    \n",
    "    return R\n",
    "    ################## END MODIFICATION ##################\n",
    "\n",
    "\n",
    "# Prints \n",
    "nice(\"A\", A)\n",
    "nice(\"2*A\", scalarMultiply(2, A))\n",
    "\n",
    "############################################################## \n",
    "# THE RESULT SHOULD BE \n",
    "#2.00        4.00        8.00\n",
    "#4.00        6.00       20.00\n",
    "#24.00       30.00      300.00\n",
    "##############################################################"
   ]
  },
  {
   "cell_type": "markdown",
   "metadata": {},
   "source": [
    "# 5. Matrix Multiplication\n",
    "\n",
    "\n",
    "<p>\n",
    "<font size=\"3\">\n",
    "We want to implement a function $multiply()$ to obtain the matrix $A \\times B$.\n",
    "</font>\n",
    "</p>\n",
    "\n",
    "<p>\n",
    "<font size=\"3\">\n",
    "The function $multiply()$ takes in:\n",
    "<ul>\n",
    "<li> $A$: an RDD containing the first matrix.\n",
    "<li> $B$: an RDD containing the second matrix.\n",
    "</ul>\n",
    "The function $multiply$ returns an RDD containing the matrix obtained by multiplying the first and the second matrix.\n",
    "The multiplication can only be computed if the number of columns of $A$ equals the number of rows of $B$.\n",
    "</font>\n",
    "</p>\n",
    "\n",
    "\n",
    "<p>\n",
    "<font size=\"3\">\n",
    "Let $A$ be an $n \\times m$ matrix and $B$ an $m \\times p$ matrix.\n",
    "The matrix $C = A \\times B$ is a $n \\times p$ matrix, where each element $c_{i, k}$ is computed as \n",
    "follows:\n",
    "<center>\n",
    "  $c_{i, k} = \\sum\\limits_{j=0}^{m-1} a_{i, j} \\cdot b_{j, k} \\quad\\quad (1)$ \n",
    "</center>\n",
    "</font>\n",
    "</p>\n",
    "\n",
    "\n",
    "<p>\n",
    "<font size=\"3\">\n",
    "One possible implementation of this function is based on a MapReduce schema.\n",
    "Remember that in a MapReduce schema, the idea is to group elements by a key and apply a function to the elements \n",
    "that share the same key.\n",
    "As you can see, for a given $(i, k)$, the element of $A$ that is in the j-th column is multiplied by the value of $B$ that is in the j-th row, for any column $j$.\n",
    "Therefore, we can change the representation of $A$ and $B$ so that their elements are indexed by using $j$ as the key.\n",
    "</font>\n",
    "</p>\n",
    "\n",
    "<p>\n",
    "<font size=\"3\">\n",
    "More specifically, we can represent the matrix $A$ as follows:\n",
    "<center>    \n",
    "    $(j, (0, i, a_{i, j})) \\quad 0 \\leq i \\leq n-1 \\quad 0 \\leq j \\leq m-1  \\quad\\quad (2)$\n",
    "</center>    \n",
    "where the value $0$ in the triple $(0, i, a_{i, j})$ means that the element $a_{i, j}$ comes from the matrix $A$.\n",
    "</font>\n",
    "</p>\n",
    "\n",
    "\n",
    "<p>\n",
    "<font size=\"3\">\n",
    "Similarly, we can represent the matrix $B$ as follows:\n",
    "<center>    \n",
    "    $(j, (1, k, b_{j, k})) \\quad 0 \\leq j \\leq m-1 \\quad 0 \\leq k \\leq p-1 \\quad\\quad (3) $\n",
    "</center>    \n",
    "where the value $1$ in the triple $(1, k, b_{j, k})$ means that the element $b_{j, k}$ comes from the matrix $B$.\n",
    "</font>\n",
    "</p>\n",
    "\n",
    "<p>\n",
    "<font size=\"3\">\n",
    "As a first step, we want to code two functions $transformA()$ and $transformB()$ to obtain the two representations of $A$ and $B$ respectively, as described in Equation (2) and (3).\n",
    "The two representations returned by both functions **must be RDDs**.\n",
    "</font>\n",
    "</p>\n",
    "\n",
    "\n",
    "<p align=\"justify\">\n",
    "<hr style=\" border:none; height:2px;\">\n",
    " <font  size=\"3\" color='#91053d'>**Complete the definition of the functions $transformA()$ and $transformB()$ and execute the code**</font>\n",
    "<hr style=\" border:none; height:2px;\">\n",
    "</p>\n",
    "\n"
   ]
  },
  {
   "cell_type": "code",
   "execution_count": 5,
   "metadata": {},
   "outputs": [
    {
     "name": "stdout",
     "output_type": "stream",
     "text": [
      "Matrix  A\n",
      "        1.00        2.00        4.00\n",
      "        2.00        3.00       10.00\n",
      "       12.00       15.00      150.00\n",
      "Matrix  B\n",
      "        4.00        2.00        2.00      324.00       23.00\n",
      "        1.00        3.00        3.00      333.00      423.00\n",
      "       23.00       34.00       12.00       12.00        0.00\n",
      "\n",
      "********** Representation for A ************\n",
      "\n",
      "[(0, (0, 0, 1.0)), (1, (0, 0, 2.0)), (2, (0, 0, 4.0)), (0, (0, 1, 2.0)), (1, (0, 1, 3.0)), (2, (0, 1, 10.0)), (0, (0, 2, 12.0)), (1, (0, 2, 15.0)), (2, (0, 2, 150.0))]\n",
      "\n",
      "********** Representation for B ************\n",
      "\n",
      "[(0, (1, 0, 4.0)), (0, (1, 1, 2.0)), (0, (1, 2, 2.0)), (0, (1, 3, 324.0)), (0, (1, 4, 23.0)), (1, (1, 0, 1.0)), (1, (1, 1, 3.0)), (1, (1, 2, 3.0)), (1, (1, 3, 333.0)), (1, (1, 4, 423.0)), (2, (1, 0, 23.0)), (2, (1, 1, 34.0)), (2, (1, 2, 12.0)), (2, (1, 3, 12.0)), (2, (1, 4, 0.0))]\n"
     ]
    }
   ],
   "source": [
    "################## COMPLETE HERE FOLLOWING THE INSTRUCTIONS ##################\n",
    "\n",
    "'''\n",
    "Transforms the RDD matrix A into an RDD as described in Equation (2)\n",
    "'''\n",
    "def transformA(A):\n",
    "\n",
    "    # Transform A as indicated in the text above\n",
    "    A = A.map(lambda x: (x[0][1], (0, x[0][0], x[1])))\n",
    "    return A\n",
    "\n",
    "'''\n",
    "Transforms the RDD matrix B into an RDD as described in Equation (3)\n",
    "'''\n",
    "def transformB(B):\n",
    "    # Transform B as indicated in the text above\n",
    "    B = B.map(lambda x: (x[0][0], (1, x[0][1], x[1])))\n",
    "    return B\n",
    "\n",
    "################## END MODIFICATIONS ##################\n",
    "\n",
    "# Displays the two matrices\n",
    "nice(\"A\", A)\n",
    "nice(\"B\", B)\n",
    "\n",
    "# Transforms them\n",
    "Atransformed = transformA(A)\n",
    "Btransformed = transformB(B)\n",
    "\n",
    "# Display the result.\n",
    "print(\"\\n********** Representation for A ************\\n\")\n",
    "print(Atransformed.collect())\n",
    "print(\"\\n********** Representation for B ************\\n\")\n",
    "print(Btransformed.collect())\n"
   ]
  },
  {
   "cell_type": "markdown",
   "metadata": {},
   "source": [
    "<p>\n",
    "<font size=\"3\">\n",
    "In order to group all the elements of both matrices by the key $j$, we need to merge the two RDDs $Atransformed$ and $Btransformed$.\n",
    "The function $merge()$ declared below takes in $Atransformed$ and $Btransformed$ and returns an RDD that results from the union of the two input RDDs.\n",
    "</font>\n",
    "</p>\n",
    "\n",
    "<p align=\"justify\">\n",
    "<hr style=\" border:none; height:2px;\">\n",
    " <font  size=\"3\" color='#91053d'>**Complete the definition of the functions $merge()$ and execute the code**</font>\n",
    "<hr style=\" border:none; height:2px;\">\n",
    "</p>\n",
    "\n"
   ]
  },
  {
   "cell_type": "code",
   "execution_count": 6,
   "metadata": {},
   "outputs": [
    {
     "name": "stdout",
     "output_type": "stream",
     "text": [
      "Matrix  A\n",
      "        1.00        2.00        4.00\n",
      "        2.00        3.00       10.00\n",
      "       12.00       15.00      150.00\n",
      "Matrix  B\n",
      "        4.00        2.00        2.00      324.00       23.00\n",
      "        1.00        3.00        3.00      333.00      423.00\n",
      "       23.00       34.00       12.00       12.00        0.00\n",
      "\n",
      "********** Representation for merged ************\n",
      "\n",
      "[(0, (0, 0, 1.0)), (1, (0, 0, 2.0)), (2, (0, 0, 4.0)), (0, (0, 1, 2.0)), (1, (0, 1, 3.0)), (2, (0, 1, 10.0)), (0, (0, 2, 12.0)), (1, (0, 2, 15.0)), (2, (0, 2, 150.0)), (0, (1, 0, 4.0)), (0, (1, 1, 2.0)), (0, (1, 2, 2.0)), (0, (1, 3, 324.0)), (0, (1, 4, 23.0)), (1, (1, 0, 1.0)), (1, (1, 1, 3.0)), (1, (1, 2, 3.0)), (1, (1, 3, 333.0)), (1, (1, 4, 423.0)), (2, (1, 0, 23.0)), (2, (1, 1, 34.0)), (2, (1, 2, 12.0)), (2, (1, 3, 12.0)), (2, (1, 4, 0.0))]\n"
     ]
    }
   ],
   "source": [
    "'''\n",
    "Returns the union of Atransformed and Btransformed.\n",
    "'''\n",
    "def merge(Atransformed, Btransformed):\n",
    "    \n",
    "    ################## COMPLETE HERE FOLLOWING THE INSTRUCTIONS ##################\n",
    "    \n",
    "    # Put together the two input RDDs\n",
    "    R = Atransformed.union(Btransformed)\n",
    "    return R\n",
    "\n",
    "    ################## END MODIFICATIONS ##################\n",
    "\n",
    "nice(\"A\", A)\n",
    "nice(\"B\", B)\n",
    "    \n",
    "merged = merge(Atransformed, Btransformed)    \n",
    "\n",
    "print(\"\\n********** Representation for merged ************\\n\")\n",
    "print(merged.collect())\n",
    "\n"
   ]
  },
  {
   "cell_type": "markdown",
   "metadata": {},
   "source": [
    "<p>\n",
    "<font size=\"3\">\n",
    "Now we can group the values of the RDD $merged$ obtained above by their key $j$. \n",
    "We define a function $group()$ that returns an RDD obtained by grouping the values of the input RDD by their key.\n",
    "</font>\n",
    "</p>\n",
    "\n",
    "\n",
    "<p align=\"justify\">\n",
    "<hr style=\" border:none; height:2px;\">\n",
    " <font  size=\"3\" color='#91053d'>**Complete the definition of the functions $group()$ and execute the code**</font>\n",
    "<hr style=\" border:none; height:2px;\">\n",
    "</p>\n",
    "\n"
   ]
  },
  {
   "cell_type": "code",
   "execution_count": 7,
   "metadata": {},
   "outputs": [
    {
     "name": "stdout",
     "output_type": "stream",
     "text": [
      "Matrix  A\n",
      "        1.00        2.00        4.00\n",
      "        2.00        3.00       10.00\n",
      "       12.00       15.00      150.00\n",
      "Matrix  B\n",
      "        4.00        2.00        2.00      324.00       23.00\n",
      "        1.00        3.00        3.00      333.00      423.00\n",
      "       23.00       34.00       12.00       12.00        0.00\n",
      "\n",
      "********** Representation for grouped ************\n",
      "\n",
      "[\n",
      "(0,[(0, 0, 1.0)(0, 1, 2.0)(0, 2, 12.0)(1, 0, 4.0)(1, 1, 2.0)(1, 2, 2.0)(1, 3, 324.0)(1, 4, 23.0)],\n",
      "(1,[(0, 0, 2.0)(0, 1, 3.0)(0, 2, 15.0)(1, 0, 1.0)(1, 1, 3.0)(1, 2, 3.0)(1, 3, 333.0)(1, 4, 423.0)],\n",
      "(2,[(0, 0, 4.0)(0, 1, 10.0)(0, 2, 150.0)(1, 0, 23.0)(1, 1, 34.0)(1, 2, 12.0)(1, 3, 12.0)(1, 4, 0.0)],\n",
      "]\n"
     ]
    }
   ],
   "source": [
    "'''\n",
    "Returns an RDD where the values of the input RDD are grouped by their key.\n",
    "'''\n",
    "def group(merged):\n",
    "    \n",
    "    ################## COMPLETE HERE FOLLOWING THE INSTRUCTIONS ##################\n",
    "    \n",
    "    # Groups the element of the input RDD by key.\n",
    "    R = merged.groupByKey()\n",
    "    return R\n",
    "\n",
    "    ################## END MODIFICATIONS ##################\n",
    "\n",
    "nice(\"A\", A)\n",
    "nice(\"B\", B)\n",
    "    \n",
    "grouped = group(merged)    \n",
    "\n",
    "print(\"\\n********** Representation for grouped ************\\n\")\n",
    "L = grouped.collect()\n",
    "print('[')\n",
    "for l in L:\n",
    "    print(\"(\",l[0], \",\", end='', sep='')\n",
    "    print(\"[\", end='')\n",
    "    for el in l[1]:\n",
    "        print(el, end=\"\")\n",
    "    print(\"],\")\n",
    "print(']')\n",
    "\n",
    "######################################################################\n",
    "# Note that in the output, each element is (j, L), where\n",
    "# L is a list that contains all the elements in the j-th column of A\n",
    "# and all the elements in j-th row of B\n",
    "######################################################################"
   ]
  },
  {
   "cell_type": "markdown",
   "metadata": {},
   "source": [
    "<p>\n",
    "<font size=\"3\">\n",
    "Each element of the RDD $grouped$ obtained above is a key-value pair, where the key is the index $j$ and the value is a list $L$ containing all the triples corresponding to the elements of matrix $A$ in the $j-$th column  and the elements of matrix $B$  in the $j-$row, as follows: \n",
    "<p>\n",
    "<center>\n",
    "$(0, i, a_{i, j})\\ 0 \\leq i \\leq n-1 \\quad (1, k, b_{j, k})\\ 0 \\leq k \\leq p-1$\n",
    "</center>\n",
    "</p>\n",
    "<p>\n",
    "Remember that all triples corresponding to matrix $A$ have 0 as their first value, while those corresponding to matrix $B$ have 1.\n",
    "</p>\n",
    "<p>\n",
    "From Equation (1), you can see that the product $a_{i, j} \\cdot b_{j, k}$ contributes to the value $c_{i, k}$, for $0 \\leq i \\leq n-1$ and $0 \\leq k \\leq p-1$. \n",
    "Therefore, given the list $L$, we associate each value $a_{i, j} \\cdot b_{j, k}$  to the pair $(i, k)$.\n",
    "</p>\n",
    "<p>\n",
    "In other words, we now transform the RDD $grouped$ into an RDD where \n",
    "each element is a key-value pair, where the key is $(i, k)$ and the value is $a_{i, j} \\cdot b_{j, k}$.\n",
    "\n",
    "</p>    \n",
    "<p>\n",
    "In the code below, the function $multiplyElements()$ is given that takes in a value $(j, L)$ of the RDD $grouped$ \n",
    "and returns a list, where each element is a pair $((i, k), a_{i, j} \\cdot b_{j, k})$, $0 \\leq i \\leq n-1$ and $0 \\leq k \\leq p-1$.  \n",
    "</p>\n",
    "</font>\n",
    "</p>\n",
    "\n",
    "\n",
    "<p align=\"justify\">\n",
    "<hr style=\" border:none; height:2px;\">\n",
    " <font  size=\"3\" color='#91053d'>**Complete the definition of the function $groupProducts()$ that:\n",
    "    <ul>\n",
    "      <li> Takes in the RDD $grouped$.\n",
    "      <li> Applies the function $multiplyElements()$ to each element of $grouped$.\n",
    "      <li> Returns an RDD where each element is $((i, k), a_{i, j} \\cdot b_{j, k})$, $0 \\leq i \\leq n-1$ and $0 \\leq k \\leq p-1$. \n",
    "    </ul>\n",
    "    Execute the code.**</font>\n",
    "<hr style=\" border:none; height:2px;\">\n",
    "</p>\n",
    "\n",
    "\n"
   ]
  },
  {
   "cell_type": "code",
   "execution_count": 8,
   "metadata": {},
   "outputs": [
    {
     "name": "stdout",
     "output_type": "stream",
     "text": [
      "Matrix  A\n",
      "        1.00        2.00        4.00\n",
      "        2.00        3.00       10.00\n",
      "       12.00       15.00      150.00\n",
      "Matrix  B\n",
      "        4.00        2.00        2.00      324.00       23.00\n",
      "        1.00        3.00        3.00      333.00      423.00\n",
      "       23.00       34.00       12.00       12.00        0.00\n",
      "\n",
      "********** Representation for multipliedElements ************\n",
      "\n",
      "[((0, 0), 4.0), ((0, 1), 2.0), ((0, 2), 2.0), ((0, 3), 324.0), ((0, 4), 23.0), ((1, 0), 8.0), ((1, 1), 4.0), ((1, 2), 4.0), ((1, 3), 648.0), ((1, 4), 46.0), ((2, 0), 48.0), ((2, 1), 24.0), ((2, 2), 24.0), ((2, 3), 3888.0), ((2, 4), 276.0), ((0, 0), 2.0), ((0, 1), 6.0), ((0, 2), 6.0), ((0, 3), 666.0), ((0, 4), 846.0), ((1, 0), 3.0), ((1, 1), 9.0), ((1, 2), 9.0), ((1, 3), 999.0), ((1, 4), 1269.0), ((2, 0), 15.0), ((2, 1), 45.0), ((2, 2), 45.0), ((2, 3), 4995.0), ((2, 4), 6345.0), ((0, 0), 92.0), ((0, 1), 136.0), ((0, 2), 48.0), ((0, 3), 48.0), ((0, 4), 0.0), ((1, 0), 230.0), ((1, 1), 340.0), ((1, 2), 120.0), ((1, 3), 120.0), ((1, 4), 0.0), ((2, 0), 3450.0), ((2, 1), 5100.0), ((2, 2), 1800.0), ((2, 3), 1800.0), ((2, 4), 0.0)]\n"
     ]
    }
   ],
   "source": [
    "import sys\n",
    "\n",
    "'''\n",
    "Multiplies each element from matrix A with each element from \n",
    "matrix B in the list L (see description above).\n",
    "Takes in: a value (j, L) of the RDD grouped.\n",
    "Returns: a list where each element is ((i, k), a_ij * b_jk)\n",
    "'''\n",
    "def multiplyElements(value):\n",
    "    j = value[0]\n",
    "    L = value[1]\n",
    "    \n",
    "    '''\n",
    "    The output key-value pairs.\n",
    "    '''\n",
    "    kv = []\n",
    "    '''\n",
    "    Maybe not necessary, we make sure that all triples with \n",
    "    the first element 0 (those from matrix A)\n",
    "    comes before any triple from matrix B.\n",
    "    '''\n",
    "    L = sorted(list(L))\n",
    "    \n",
    "    '''\n",
    "    For convenience, we store the triples from matrix A\n",
    "    and those from matrix B in two separate lists \n",
    "    LA and LB.\n",
    "    '''\n",
    "    sep = 0\n",
    "    while L[sep][0] == 0:\n",
    "        sep += 1\n",
    "    LA = [L[i] for i in range(0, sep)]\n",
    "    LB = [L[i] for i in range(sep, len(L))]\n",
    "    '''\n",
    "    For each element (0, i, a_ij) in LA  \n",
    "    and each element (1, k, b_jk) in LB, \n",
    "    we add the pair ((i, k), a_ij * b_jk) to kv.\n",
    "    '''\n",
    "    for a in LA:\n",
    "        for b in LB:\n",
    "            i = a[1]\n",
    "            k = b[1]\n",
    "            kv.append(((i, k), a[2]*b[2]))\n",
    "    return kv\n",
    "\n",
    "'''\n",
    "Returns an RDD where each value is a pair ((i, k), a_ij * b_jk)\n",
    "'''\n",
    "def groupProducts(grouped):\n",
    "    ################## COMPLETE HERE FOLLOWING THE INSTRUCTIONS ##################\n",
    "    \n",
    "    # Apply a transformation to the input RDD to get an RDD as described in the text.\n",
    "    # Which tranformations are you going to use? map or flatMap?\n",
    "    # map: [j, [(0, i, a_ij),(1, k, b_jk)]] -> [((i, k), a_ij * b_jk)]\n",
    "    # flatMap: [j, [(0, i, a_ij),(1, k, b_jk)]] -> [((i, k), a_ij * b_jk), ((i, k), a_ij * b_jk), ...]\n",
    "    R = grouped.flatMap(lambda x: multiplyElements(x))\n",
    "    return R\n",
    "    \n",
    "    ################## END MODIFICATIONS ##################\n",
    "\n",
    "nice(\"A\", A)\n",
    "nice(\"B\", B)\n",
    "\n",
    "print(\"\\n********** Representation for multipliedElements ************\\n\")\n",
    "multipliedElements = groupProducts(grouped)\n",
    "print(multipliedElements.collect())"
   ]
  },
  {
   "cell_type": "markdown",
   "metadata": {},
   "source": [
    "<p>\n",
    "<font size=\"3\">\n",
    "Each element of the RDD $multipliedElements$ obtained above is $((i, k), a_{i, j} \\cdot b_{j, k})$, \n",
    "$0 \\leq i \\leq n-1$, $0 \\leq j \\leq m-1$, $0 \\leq k \\leq p-1$. \n",
    "From Equation (1), we can see that each $c_{i, k}$ is obtained by summing up the products $a_{i, j} \\cdot b_{j, k}$, $0 \\leq j \\leq m-1$.\n",
    "<p>\n",
    "Therefore, in order to obtain the matrix $C = A \\times B$, the only thing that we need to do is to sum all \n",
    "values $a_{i, j} \\cdot b_{j, k}$ associated with the same key $(i, k)$.\n",
    "</p>\n",
    "</font>\n",
    "</p>\n",
    "\n",
    "<p align=\"justify\">\n",
    "<hr style=\" border:none; height:2px;\">\n",
    " <font  size=\"3\" color='#91053d'>**Complete the definition of the function $getResult()$ that:\n",
    "    <ul>\n",
    "      <li> Takes in the RDD $multipliedElements$.\n",
    "      <li> Transforms the input RDD into one where each element is $((i, k), \\sum\\limits_{j=0}^{m-1} a_{i, j} \\cdot b_{j, k})$\n",
    "      <li> Returns the resulting RDD. \n",
    "    </ul>\n",
    "    Execute the code.We finally obtain the matrix $C$.**</font>\n",
    "<hr style=\" border:none; height:2px;\">\n",
    "</p>\n",
    "\n"
   ]
  },
  {
   "cell_type": "code",
   "execution_count": 9,
   "metadata": {},
   "outputs": [
    {
     "name": "stdout",
     "output_type": "stream",
     "text": [
      "Matrix  A\n",
      "        1.00        2.00        4.00\n",
      "        2.00        3.00       10.00\n",
      "       12.00       15.00      150.00\n",
      "Matrix  B\n",
      "        4.00        2.00        2.00      324.00       23.00\n",
      "        1.00        3.00        3.00      333.00      423.00\n",
      "       23.00       34.00       12.00       12.00        0.00\n",
      "Matrix  C\n",
      "       98.00      144.00       56.00     1038.00      869.00\n",
      "      241.00      353.00      133.00     1767.00     1315.00\n",
      "     3513.00     5169.00     1869.00    10683.00     6621.00\n"
     ]
    }
   ],
   "source": [
    "def getResult(multipliedElements):\n",
    "    ################## COMPLETE HERE FOLLOWING THE INSTRUCTIONS ##################\n",
    "    \n",
    "    # Apply a transformation to the input RDD so that all values with the same key are summed.\n",
    "    R = multipliedElements.reduceByKey(lambda x, y: x + y)\n",
    "    return R\n",
    "    \n",
    "    ################## END MODIFICATIONS ##################\n",
    "\n",
    "nice(\"A\", A)\n",
    "nice(\"B\", B)\n",
    "C = getResult(multipliedElements)\n",
    "nice(\"C\", C)\n",
    "\n",
    "############################################################## \n",
    "#YOU SHOULD OBTAIN THE FOLLOWING MATRIX C AS RESULT\n",
    "# 98.00      144.00       56.00     1038.00      869.00\n",
    "# 241.00      353.00      133.00     1767.00     1315.00\n",
    "# 3513.00     5169.00     1869.00    10683.00     6621.00\n",
    "##############################################################\n"
   ]
  },
  {
   "cell_type": "markdown",
   "metadata": {},
   "source": [
    "<p>\n",
    "<font size=\"3\">\n",
    "We now wrap every function that we implemented above in only one function $multiply()$ that we can use any time we need to multiply two matrices.\n",
    "</font>\n",
    "</p>\n",
    "\n",
    "<p align=\"justify\">\n",
    "<hr style=\" border:none; height:2px;\">\n",
    " <font  size=\"3\" color='#91053d'>**Execute the code below to define the function $multiply()$**</font>\n",
    "<hr style=\" border:none; height:2px;\">\n",
    "</p>"
   ]
  },
  {
   "cell_type": "code",
   "execution_count": 10,
   "metadata": {
    "autoscroll": "json-false",
    "ein.tags": [
     "worksheet-0"
    ],
    "scrolled": true,
    "slideshow": {
     "slide_type": "-"
    }
   },
   "outputs": [],
   "source": [
    "def multiply(A, B):\n",
    "    if shape(A)[1] != shape(B)[0]:\n",
    "        sys.exit(\"The number of colums of A must equal the number of rows of B\")\n",
    "    A = transformA(A)\n",
    "    B = transformB(B)\n",
    "    C = merge(A, B)\n",
    "    C = group(C)\n",
    "    C = groupProducts(C)\n",
    "    C = getResult(C)\n",
    "    return C\n"
   ]
  },
  {
   "cell_type": "markdown",
   "metadata": {
    "jp-MarkdownHeadingCollapsed": true,
    "tags": []
   },
   "source": [
    "# 6. PageRank\n",
    "<p>\n",
    "<font size=\"3\">\n",
    "One iteration of PageRank is described by the following equation:\n",
    "<p>\n",
    "\n",
    "$$\\pmb{v^{(k+1)}} = \\beta v^{(k)} \\cdot \\pmb{M} + (1-\\beta)\\frac{\\pmb{e}}{n}\\quad\\quad (4)$$\n",
    "\n",
    "</p>\n",
    "where:\n",
    " \n",
    "- $0 \\leq \\beta \\leq 1$ is the probability that a random surfer follows a link to go from one page to another.\n",
    "- $1-\\beta$ is the  probability that a random surfer jumps to a random page without following a link.\n",
    "- $\\frac{\\pmb{e}}{n}$ is a vector with $n$ elements $1/n$.\n",
    "\n",
    "The value of $\\beta$ is usually set to $0.8$, meaning that the random surfer is much more likely to visit pages by following links. Note that the simplified version of PageRank can be obtained with $\\beta=1.0$.\n",
    "</font>\n",
    "</p>\n"
   ]
  },
  {
   "cell_type": "code",
   "execution_count": 25,
   "metadata": {},
   "outputs": [],
   "source": [
    "beta = 0.8\n",
    "\n",
    "def normalize(M):\n",
    "    # For each row, compute the sum of the elements\n",
    "    sums = M.map(lambda x: (x[0][0], x[1])).reduceByKey(lambda x, y: x + y)\n",
    "    # For each element, divide it by the sum of the elements in the row\n",
    "    Mprime = transformB(M)\n",
    "    Mprime = Mprime.join(sums).map(lambda x: ((x[0],x[1][0][1]), x[1][0][2]/x[1][1]) if x[1][1] != 0 else ((x[0],x[1][0][1]), 0))\n",
    "    # Return the normalized matrix\n",
    "    return Mprime\n",
    "\n",
    "def pageRank(M, beta=0.8, n_iter=10, threshold=0.001):  \n",
    "    # Compute the number of rows of M\n",
    "    n = shape(M)[0]\n",
    "    # Normalize the matrix M\n",
    "    M_norm = normalize(M)\n",
    "    # Create the vector E=e/n of size 1 x n, where each element is 1/n\n",
    "    E = sc.parallelize([((0, i), 1/n) for i in range(0, n)])\n",
    "    # Create the initial vector v_0 of size n, where each element is 1/n, as a matrix of size 1 x n\n",
    "    v = sc.parallelize([((0, i), 1/n) for i in range(0, n)])\n",
    "    # Main loop\n",
    "    for i in range(0, n_iter):\n",
    "        # Compute the matrix v = beta * v * M  + (1-beta) * E\n",
    "        left = multiply(v, M_norm)\n",
    "        left = scalarMultiply(beta, left)\n",
    "        right = scalarMultiply((1-beta), E)\n",
    "        v_upd = sum(left, right)\n",
    "        if i > 0:\n",
    "            # Compute the L2 difference between the old and the new vector\n",
    "            diff = sum(scalarMultiply(-1, v_upd), v)\n",
    "            # Square each element of the vector\n",
    "            diff = diff.map(lambda x: (x[0], x[1]**2))\n",
    "            # Sum all the elements of the vector\n",
    "            diff = diff.map(lambda x: x[1]).reduce(lambda x, y: x + y)\n",
    "            # If the difference is less than the threshold, we stop\n",
    "            if diff < threshold:\n",
    "                return v_upd, i\n",
    "        # Otherwise, we update the vector v\n",
    "        v = v_upd\n",
    "\n",
    "    return v, n_iter\n"
   ]
  },
  {
   "cell_type": "markdown",
   "metadata": {},
   "source": [
    "We can test the function with a matrix whose result we know.\n",
    "\n",
    "For instance, in the lectures, we saw that the following graph:\n",
    "\n",
    "<center><img src='./figs/graph_ex.png' width=200></center>\n",
    "\n",
    "can be represented by the following matrix:\n",
    "$$\n",
    "\\begin{bmatrix}\n",
    "    0 & \\frac{1}{2} & 0 & 0 & \\frac{1}{2} \\\\\n",
    "    0 & 0 & 1 & 0 & 0 \\\\\n",
    "    0 & \\frac{1}{2} & 0 & \\frac{1}{2} & 0 \\\\\n",
    "    0 & 1 & 0 & 0 & 0 \\\\\n",
    "    \\frac{1}{3} & \\frac{1}{3} & \\frac{1}{3} & 0 & 0\n",
    "\\end{bmatrix}\n",
    "$$\n",
    "And the result after 10 iterations, with $\\beta=1$ is:\n",
    "$$\n",
    "\\begin{bmatrix}\n",
    "    0 \\\\\n",
    "    0.4 \\\\\n",
    "    0.4 \\\\\n",
    "    0.2 \\\\\n",
    "    0\n",
    "\\end{bmatrix}\n",
    "$$"
   ]
  },
  {
   "cell_type": "code",
   "execution_count": 26,
   "metadata": {},
   "outputs": [
    {
     "name": "stdout",
     "output_type": "stream",
     "text": [
      "Matrix  test\n",
      "        0.00        0.50        0.00        0.00        0.50\n",
      "        0.00        0.00        1.00        0.00        0.00\n",
      "        0.00        0.50        0.00        0.50        0.00\n",
      "        0.00        1.00        0.00        0.00        0.00\n",
      "        0.33        0.33        0.33        0.00        0.00\n"
     ]
    },
    {
     "name": "stderr",
     "output_type": "stream",
     "text": [
      "Exception in thread \"serve RDD 1561\" java.net.SocketTimeoutException: Accept timed out\n",
      "\tat java.net.PlainSocketImpl.socketAccept(Native Method)\n",
      "\tat java.net.AbstractPlainSocketImpl.accept(AbstractPlainSocketImpl.java:409)\n",
      "\tat java.net.ServerSocket.implAccept(ServerSocket.java:560)\n",
      "\tat java.net.ServerSocket.accept(ServerSocket.java:528)\n",
      "\tat org.apache.spark.security.SocketAuthServer$$anon$1.run(SocketAuthServer.scala:65)\n",
      "                                                                                \r"
     ]
    },
    {
     "name": "stdout",
     "output_type": "stream",
     "text": [
      "PageRank vector for test:\n"
     ]
    },
    {
     "name": "stderr",
     "output_type": "stream",
     "text": [
      "[Stage 2370:=========================================>         (160 + 16) / 196]\r"
     ]
    },
    {
     "name": "stdout",
     "output_type": "stream",
     "text": [
      "Matrix  v_test\n",
      "        0.00        0.41        0.39        0.20        0.00\n",
      "Number of iterations: 8\n"
     ]
    },
    {
     "name": "stderr",
     "output_type": "stream",
     "text": [
      "                                                                                \r"
     ]
    }
   ],
   "source": [
    "test = loadMatrix(\"./data/test.txt\")\n",
    "nice(\"test\", test)\n",
    "v_test, n = pageRank(test, beta=1, n_iter=10, threshold=0.001)\n",
    "print(\"PageRank vector for test:\")\n",
    "nice(\"v_test\", v_test)\n",
    "print(\"Number of iterations:\", n)"
   ]
  },
  {
   "cell_type": "markdown",
   "metadata": {},
   "source": [
    "This result seems to be close enough! Since in the text file we have to truncate the decimals of 1/3, we will have a slightly different result."
   ]
  },
  {
   "cell_type": "markdown",
   "metadata": {},
   "source": [
    "Now, we can use the function to compute PageRank for the different examples we have. Let's start with 'Dead':\n",
    "<center><img src='./figs/pagerank-dead.png' width=200></center>\n"
   ]
  },
  {
   "cell_type": "code",
   "execution_count": 27,
   "metadata": {},
   "outputs": [
    {
     "name": "stdout",
     "output_type": "stream",
     "text": [
      "Matrix  dead\n",
      "        0.00        0.33        0.33        0.33\n",
      "        0.50        0.00        0.00        0.50\n",
      "        0.00        0.00        0.00        0.00\n",
      "        0.00        0.50        0.50        0.00\n"
     ]
    },
    {
     "name": "stderr",
     "output_type": "stream",
     "text": [
      "                                                                                \r"
     ]
    },
    {
     "name": "stdout",
     "output_type": "stream",
     "text": [
      "PageRank vector for dead:\n"
     ]
    },
    {
     "name": "stderr",
     "output_type": "stream",
     "text": [
      "[Stage 2816:====================================>               (96 + 16) / 136]\r"
     ]
    },
    {
     "name": "stdout",
     "output_type": "stream",
     "text": [
      "Matrix  v_dead\n",
      "        0.03        0.04        0.04        0.04\n",
      "Number of iterations: 5\n"
     ]
    },
    {
     "name": "stderr",
     "output_type": "stream",
     "text": [
      "                                                                                \r"
     ]
    }
   ],
   "source": [
    "dead = loadMatrix(\"./data/matrix-dead.txt\")\n",
    "nice(\"dead\", dead)\n",
    "v_dead, n = pageRank(dead, beta=1, n_iter=100, threshold=0.001)\n",
    "print(\"PageRank vector for dead:\")\n",
    "nice(\"v_dead\", v_dead)\n",
    "print(\"Number of iterations:\", n)"
   ]
  },
  {
   "cell_type": "markdown",
   "metadata": {},
   "source": [
    "In this case, we cannot get a proper result, because the matrix is not row-stochastic. We can partially solve the problem by using a beta value of 0.8."
   ]
  },
  {
   "cell_type": "code",
   "execution_count": 28,
   "metadata": {},
   "outputs": [
    {
     "name": "stderr",
     "output_type": "stream",
     "text": [
      "                                                                                \r"
     ]
    },
    {
     "name": "stdout",
     "output_type": "stream",
     "text": [
      "PageRank vector for dead with beta=0.8:\n"
     ]
    },
    {
     "name": "stderr",
     "output_type": "stream",
     "text": [
      "                                                                                \r"
     ]
    },
    {
     "name": "stdout",
     "output_type": "stream",
     "text": [
      "Matrix  v_dead_08\n",
      "        0.14        0.18        0.18        0.18\n",
      "Number of iterations: 1\n"
     ]
    }
   ],
   "source": [
    "v_dead_08, n = pageRank(dead, beta=0.8, n_iter=100, threshold=0.01)\n",
    "print(\"PageRank vector for dead with beta=0.8:\")\n",
    "nice(\"v_dead_08\", v_dead_08)\n",
    "print(\"Number of iterations:\", n)"
   ]
  },
  {
   "cell_type": "markdown",
   "metadata": {},
   "source": [
    "Now with 'spider-trap', which is the previous one but adding a link from page C to itself, making the matrix stochastic:\n",
    "<center><img src='./figs/pagerank-spider.png' width=200></center>"
   ]
  },
  {
   "cell_type": "code",
   "execution_count": 29,
   "metadata": {},
   "outputs": [
    {
     "name": "stdout",
     "output_type": "stream",
     "text": [
      "Matrix  spider\n",
      "        0.00        0.33        0.33        0.33\n",
      "        0.50        0.00        0.00        0.50\n",
      "        0.00        0.00        1.00        0.00\n",
      "        0.00        0.50        0.50        0.00\n"
     ]
    },
    {
     "name": "stderr",
     "output_type": "stream",
     "text": [
      "                                                                                \r"
     ]
    },
    {
     "name": "stdout",
     "output_type": "stream",
     "text": [
      "PageRank vector for spider:\n"
     ]
    },
    {
     "name": "stderr",
     "output_type": "stream",
     "text": [
      "[Stage 3263:=====================================>              (84 + 16) / 116]\r"
     ]
    },
    {
     "name": "stdout",
     "output_type": "stream",
     "text": [
      "Matrix  v_spider\n",
      "        0.11        0.14        0.62        0.14\n",
      "Number of iterations: 4\n"
     ]
    },
    {
     "name": "stderr",
     "output_type": "stream",
     "text": [
      "                                                                                \r"
     ]
    }
   ],
   "source": [
    "spider = loadMatrix(\"./data/spider-trap.txt\")\n",
    "nice(\"spider\", spider)\n",
    "v_spider, n = pageRank(spider, beta=0.8, n_iter=100, threshold=0.001)\n",
    "print(\"PageRank vector for spider:\")\n",
    "nice(\"v_spider\", v_spider)\n",
    "print(\"Number of iterations:\", n)"
   ]
  },
  {
   "cell_type": "markdown",
   "metadata": {},
   "source": [
    "Now it works! And we observe how C gets a higher importance than the rest of nodes, because it can be seen as a fixed point of the Markov chain: whenever you get to C, you are stuck there unless the dumping factor makes you jump to another page. This is why it's called a spider trap."
   ]
  },
  {
   "cell_type": "markdown",
   "metadata": {},
   "source": [
    "We can do the final example 'pagerank-example', where we observe a loop between all pages:\n",
    "\n",
    "<center><img src='./figs/pagerank-example.png' width=200></center>"
   ]
  },
  {
   "cell_type": "code",
   "execution_count": 30,
   "metadata": {},
   "outputs": [
    {
     "name": "stdout",
     "output_type": "stream",
     "text": [
      "Matrix  pgr\n",
      "        0.00        0.33        0.33        0.33\n",
      "        0.50        0.00        0.00        0.50\n",
      "        1.00        0.00        0.00        0.00\n",
      "        0.00        0.50        0.50        0.00\n"
     ]
    },
    {
     "name": "stderr",
     "output_type": "stream",
     "text": [
      "                                                                                \r"
     ]
    },
    {
     "name": "stdout",
     "output_type": "stream",
     "text": [
      "PageRank vector for pgr:\n"
     ]
    },
    {
     "name": "stderr",
     "output_type": "stream",
     "text": [
      "[Stage 3517:========================================>            (74 + 16) / 96]\r"
     ]
    },
    {
     "name": "stdout",
     "output_type": "stream",
     "text": [
      "Matrix  v_pgr\n",
      "        0.33        0.22        0.22        0.22\n",
      "Number of iterations: 3\n"
     ]
    },
    {
     "name": "stderr",
     "output_type": "stream",
     "text": [
      "                                                                                \r"
     ]
    }
   ],
   "source": [
    "pgr = loadMatrix(\"./data/matrix-m.txt\")\n",
    "nice(\"pgr\", pgr)\n",
    "v_pgr, n = pageRank(pgr, beta=1, n_iter=100, threshold=0.001)\n",
    "print(\"PageRank vector for pgr:\")\n",
    "nice(\"v_pgr\", v_pgr)\n",
    "print(\"Number of iterations:\", n)"
   ]
  },
  {
   "cell_type": "code",
   "execution_count": 31,
   "metadata": {},
   "outputs": [
    {
     "name": "stderr",
     "output_type": "stream",
     "text": [
      "                                                                                \r"
     ]
    },
    {
     "name": "stdout",
     "output_type": "stream",
     "text": [
      "PageRank vector for pgr with beta=0.8:\n"
     ]
    },
    {
     "name": "stderr",
     "output_type": "stream",
     "text": [
      "[Stage 3686:=============================================>       (65 + 11) / 76]\r"
     ]
    },
    {
     "name": "stdout",
     "output_type": "stream",
     "text": [
      "Matrix  v_pgr_08\n",
      "        0.33        0.22        0.22        0.22\n",
      "Number of iterations: 2\n"
     ]
    },
    {
     "name": "stderr",
     "output_type": "stream",
     "text": [
      "                                                                                \r"
     ]
    }
   ],
   "source": [
    "v_pgr_08, n = pageRank(pgr, beta=0.8, n_iter=100, threshold=0.001)\n",
    "print(\"PageRank vector for pgr with beta=0.8:\")\n",
    "nice(\"v_pgr_08\", v_pgr_08)\n",
    "print(\"Number of iterations:\", n)"
   ]
  },
  {
   "cell_type": "markdown",
   "metadata": {},
   "source": [
    "In this case, we see how the importance is distributed quite evenly between all pages, because the loop in the graph makes it so that the random surfer can go to any page from any page.\n",
    "\n",
    "Node A gets a slightly higher importance because it goes to all other pages. Notice how the difference is slight, not as the previous example, where C was much more important than the rest of nodes."
   ]
  }
 ],
 "metadata": {
  "anaconda-cloud": {},
  "kernelspec": {
   "display_name": "Python 3 (ipykernel)",
   "language": "python",
   "name": "python3"
  },
  "language_info": {
   "codemirror_mode": {
    "name": "ipython",
    "version": 3
   },
   "file_extension": ".py",
   "mimetype": "text/x-python",
   "name": "python",
   "nbconvert_exporter": "python",
   "pygments_lexer": "ipython3",
   "version": "3.11.5"
  },
  "name": "BE4-Spark.ipynb"
 },
 "nbformat": 4,
 "nbformat_minor": 4
}
