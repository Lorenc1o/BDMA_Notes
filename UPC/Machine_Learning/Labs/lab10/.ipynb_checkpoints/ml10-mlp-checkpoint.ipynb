{
 "cells": [
  {
   "cell_type": "markdown",
   "metadata": {},
   "source": [
    "# ML lab 10\n",
    "\n",
    "# Neural Networks"
   ]
  },
  {
   "cell_type": "code",
   "execution_count": 1,
   "metadata": {},
   "outputs": [],
   "source": [
    "# Uncomment to upgrade packages\n",
    "# !pip install pandas --upgrade --user --quiet\n",
    "# !pip install numpy --upgrade --user --quiet\n",
    "# !pip install scipy --upgrade --user --quiet\n",
    "# !pip install statsmodels --upgrade --user --quiet\n",
    "# !pip install scikit-learn --upgrade --user --quiet\n",
    "# !pip3 install graphviz --upgrade --user --quiet\n",
    "# If you are in windows use: conda install python-graphviz\n",
    "%load_ext autoreload"
   ]
  },
  {
   "cell_type": "code",
   "execution_count": 3,
   "metadata": {},
   "outputs": [],
   "source": [
    "import warnings\n",
    "warnings.filterwarnings('ignore')"
   ]
  },
  {
   "cell_type": "code",
   "execution_count": 4,
   "metadata": {},
   "outputs": [],
   "source": [
    "#%matplotlib notebook\n",
    "import numpy as np\n",
    "import matplotlib.pyplot as plt\n",
    "import seaborn as sn\n",
    "import pandas as pd\n",
    "from IPython.core.interactiveshell import InteractiveShell\n",
    "pd.set_option('display.precision', 3)\n",
    "InteractiveShell.ast_node_interactivity = \"all\""
   ]
  },
  {
   "cell_type": "code",
   "execution_count": 5,
   "metadata": {},
   "outputs": [],
   "source": [
    "# Extra imports\n",
    "from sklearn.metrics import confusion_matrix,\\\n",
    "                classification_report, accuracy_score\n",
    "from pandas import read_csv\n",
    "from sklearn.model_selection import train_test_split, cross_validate\n",
    "\n",
    "from sklearn.preprocessing import StandardScaler\n",
    "from sklearn.neural_network import MLPClassifier\n",
    "from graphviz import Digraph\n",
    "from sklearn.model_selection import GridSearchCV\n",
    "from numpy.random import normal\n",
    "from numpy.random import uniform\n",
    "\n",
    "from sklearn.neighbors import KNeighborsClassifier\n",
    "\n",
    "from sklearn.model_selection import cross_val_score\n",
    "from sklearn.model_selection import cross_val_predict\n",
    "\n",
    "from sklearn.linear_model import LogisticRegression\n",
    "from sklearn.decomposition import PCA\n",
    "\n",
    "from time import time\n",
    "from datetime import timedelta\n",
    "\n",
    "from sklearn.metrics import precision_score, classification_report, recall_score\n",
    "\n",
    "from sklearn.datasets import fetch_lfw_people\n",
    "\n",
    "np.random.seed(4567)"
   ]
  },
  {
   "cell_type": "code",
   "execution_count": 6,
   "metadata": {},
   "outputs": [],
   "source": [
    "# If you are in windows and graphviz gives you error:\n",
    "# import os \n",
    "# os.environ[\"PATH\"] += os.pathsep + r\"my graphviz installation path/bin\""
   ]
  },
  {
   "cell_type": "code",
   "execution_count": 7,
   "metadata": {},
   "outputs": [],
   "source": [
    "def confusion(true, pred):\n",
    "    \"\"\"\n",
    "    Function for pretty printing confusion matrices\n",
    "    \"\"\"\n",
    "    pred = pd.Series(pred)\n",
    "    true = pd.Series(true)\n",
    "    \n",
    "    true.name = 'target'\n",
    "    pred.name = 'predicted'\n",
    "    cm = pd.crosstab(true.reset_index(drop=True), pred.reset_index(drop=True))\n",
    "    cm = cm[cm.index]\n",
    "    return cm\n",
    "\n",
    "\n",
    "def graphMLP(vars,layers,intercepts):\n",
    "    \"\"\"\n",
    "    Function for plotting the weights of a mlp\n",
    "    \"\"\"\n",
    "    f = Digraph('')\n",
    "    f.attr(rankdir='LR')\n",
    "    for i,l in enumerate(layers):\n",
    "        if i==0:\n",
    "            for j in range(l.shape[1]):\n",
    "                for k, v in enumerate(vars):\n",
    "                    f.edge(v, 'L%dN%d'%(i,j), label=str(l[k,j]))\n",
    "            f.node('ILI', shape='doublecircle')                    \n",
    "            for k in range(intercepts[i].shape[0]): \n",
    "                f.edge('ILI', \n",
    "                       'L%dN%d'%(i,k), \n",
    "                       label=str(intercepts[i][k]))\n",
    "        else:\n",
    "            for j in range(l.shape[1]):\n",
    "                for k in range(layers[i-1].shape[1]):\n",
    "                    f.edge('L%dN%d'%(i-1,k), \n",
    "                           'L%dN%d'%(i,j), \n",
    "                           label=str(l[k,j]))\n",
    "            f.node('L%dI'%(i-1), shape='doublecircle')                  \n",
    "            for k in range(intercepts[i].shape[0]):\n",
    "                f.edge('L%dI'%(i-1), \n",
    "                       'L%dN%d'%(i,k), \n",
    "                       label=str(intercepts[i][k]))    \n",
    "                \n",
    "    return f\n"
   ]
  },
  {
   "cell_type": "markdown",
   "metadata": {},
   "source": [
    "## SECTION 1 Admissions"
   ]
  },
  {
   "cell_type": "markdown",
   "metadata": {},
   "source": [
    "We are going to use the admissions dataset for our examples on this lab. \n",
    "\n",
    "This dataset contains the next variables: \n",
    "* GRE (Graduate Record Exam scores)\n",
    "* GPA (Grade Point Average) and\n",
    "* rank (prestige of the undergraduate institution)\n",
    "\n",
    "This variables should affect admission into a graduate school.\n",
    "\n",
    "\n",
    " The target variable, admit/don't admit, is a binary variable, which we want to characterize\n",
    "and, if possible, to predict. "
   ]
  },
  {
   "cell_type": "code",
   "execution_count": 8,
   "metadata": {},
   "outputs": [
    {
     "data": {
      "text/html": [
       "<div>\n",
       "<style scoped>\n",
       "    .dataframe tbody tr th:only-of-type {\n",
       "        vertical-align: middle;\n",
       "    }\n",
       "\n",
       "    .dataframe tbody tr th {\n",
       "        vertical-align: top;\n",
       "    }\n",
       "\n",
       "    .dataframe thead th {\n",
       "        text-align: right;\n",
       "    }\n",
       "</style>\n",
       "<table border=\"1\" class=\"dataframe\">\n",
       "  <thead>\n",
       "    <tr style=\"text-align: right;\">\n",
       "      <th></th>\n",
       "      <th>admit</th>\n",
       "      <th>gre</th>\n",
       "      <th>gpa</th>\n",
       "      <th>rank</th>\n",
       "    </tr>\n",
       "  </thead>\n",
       "  <tbody>\n",
       "    <tr>\n",
       "      <th>0</th>\n",
       "      <td>0</td>\n",
       "      <td>380</td>\n",
       "      <td>3.61</td>\n",
       "      <td>3</td>\n",
       "    </tr>\n",
       "    <tr>\n",
       "      <th>1</th>\n",
       "      <td>1</td>\n",
       "      <td>660</td>\n",
       "      <td>3.67</td>\n",
       "      <td>3</td>\n",
       "    </tr>\n",
       "    <tr>\n",
       "      <th>2</th>\n",
       "      <td>1</td>\n",
       "      <td>800</td>\n",
       "      <td>4.00</td>\n",
       "      <td>1</td>\n",
       "    </tr>\n",
       "    <tr>\n",
       "      <th>3</th>\n",
       "      <td>1</td>\n",
       "      <td>640</td>\n",
       "      <td>3.19</td>\n",
       "      <td>4</td>\n",
       "    </tr>\n",
       "    <tr>\n",
       "      <th>4</th>\n",
       "      <td>0</td>\n",
       "      <td>520</td>\n",
       "      <td>2.93</td>\n",
       "      <td>4</td>\n",
       "    </tr>\n",
       "  </tbody>\n",
       "</table>\n",
       "</div>"
      ],
      "text/plain": [
       "   admit  gre   gpa  rank\n",
       "0      0  380  3.61     3\n",
       "1      1  660  3.67     3\n",
       "2      1  800  4.00     1\n",
       "3      1  640  3.19     4\n",
       "4      0  520  2.93     4"
      ]
     },
     "execution_count": 8,
     "metadata": {},
     "output_type": "execute_result"
    }
   ],
   "source": [
    "Admis = read_csv(\"Admissions.csv\", delimiter=',')\n",
    "Admis.head()"
   ]
  },
  {
   "cell_type": "markdown",
   "metadata": {},
   "source": [
    "We will treat all the variables gre and gpa as continuous.\n",
    "\n",
    "The variable rank takes on the values 1 through 4, so we can fairly treat it as numerical (although, in rigour, it is ordinal)"
   ]
  },
  {
   "cell_type": "code",
   "execution_count": 9,
   "metadata": {},
   "outputs": [
    {
     "data": {
      "text/html": [
       "<div>\n",
       "<style scoped>\n",
       "    .dataframe tbody tr th:only-of-type {\n",
       "        vertical-align: middle;\n",
       "    }\n",
       "\n",
       "    .dataframe tbody tr th {\n",
       "        vertical-align: top;\n",
       "    }\n",
       "\n",
       "    .dataframe thead th {\n",
       "        text-align: right;\n",
       "    }\n",
       "</style>\n",
       "<table border=\"1\" class=\"dataframe\">\n",
       "  <thead>\n",
       "    <tr style=\"text-align: right;\">\n",
       "      <th></th>\n",
       "      <th>admit</th>\n",
       "      <th>gre</th>\n",
       "      <th>gpa</th>\n",
       "      <th>rank</th>\n",
       "    </tr>\n",
       "  </thead>\n",
       "  <tbody>\n",
       "    <tr>\n",
       "      <th>count</th>\n",
       "      <td>400.000</td>\n",
       "      <td>400.000</td>\n",
       "      <td>400.000</td>\n",
       "      <td>400.000</td>\n",
       "    </tr>\n",
       "    <tr>\n",
       "      <th>mean</th>\n",
       "      <td>0.318</td>\n",
       "      <td>587.700</td>\n",
       "      <td>3.390</td>\n",
       "      <td>2.485</td>\n",
       "    </tr>\n",
       "    <tr>\n",
       "      <th>std</th>\n",
       "      <td>0.466</td>\n",
       "      <td>115.517</td>\n",
       "      <td>0.381</td>\n",
       "      <td>0.944</td>\n",
       "    </tr>\n",
       "    <tr>\n",
       "      <th>min</th>\n",
       "      <td>0.000</td>\n",
       "      <td>220.000</td>\n",
       "      <td>2.260</td>\n",
       "      <td>1.000</td>\n",
       "    </tr>\n",
       "    <tr>\n",
       "      <th>25%</th>\n",
       "      <td>0.000</td>\n",
       "      <td>520.000</td>\n",
       "      <td>3.130</td>\n",
       "      <td>2.000</td>\n",
       "    </tr>\n",
       "    <tr>\n",
       "      <th>50%</th>\n",
       "      <td>0.000</td>\n",
       "      <td>580.000</td>\n",
       "      <td>3.395</td>\n",
       "      <td>2.000</td>\n",
       "    </tr>\n",
       "    <tr>\n",
       "      <th>75%</th>\n",
       "      <td>1.000</td>\n",
       "      <td>660.000</td>\n",
       "      <td>3.670</td>\n",
       "      <td>3.000</td>\n",
       "    </tr>\n",
       "    <tr>\n",
       "      <th>max</th>\n",
       "      <td>1.000</td>\n",
       "      <td>800.000</td>\n",
       "      <td>4.000</td>\n",
       "      <td>4.000</td>\n",
       "    </tr>\n",
       "  </tbody>\n",
       "</table>\n",
       "</div>"
      ],
      "text/plain": [
       "         admit      gre      gpa     rank\n",
       "count  400.000  400.000  400.000  400.000\n",
       "mean     0.318  587.700    3.390    2.485\n",
       "std      0.466  115.517    0.381    0.944\n",
       "min      0.000  220.000    2.260    1.000\n",
       "25%      0.000  520.000    3.130    2.000\n",
       "50%      0.000  580.000    3.395    2.000\n",
       "75%      1.000  660.000    3.670    3.000\n",
       "max      1.000  800.000    4.000    4.000"
      ]
     },
     "execution_count": 9,
     "metadata": {},
     "output_type": "execute_result"
    }
   ],
   "source": [
    "Admis.describe()\n",
    "\n",
    "N = Admis.shape[0]"
   ]
  },
  {
   "cell_type": "markdown",
   "metadata": {},
   "source": [
    "We first split the available data into learning and test sets, selecting randomly 2/3 and 1/3 of the data We do this for a honest estimation of prediction performance."
   ]
  },
  {
   "cell_type": "markdown",
   "metadata": {},
   "source": [
    "### Resampling protocol\n",
    "\n",
    "This time we will use a Train and Test partitions and we will use the cross-validation score to compare the models. "
   ]
  },
  {
   "cell_type": "code",
   "execution_count": 13,
   "metadata": {},
   "outputs": [],
   "source": [
    "np.random.seed(63)\n",
    "X_train, X_test, y_train, y_test = train_test_split(Admis[['gre', 'gpa', 'rank']], Admis.admit, test_size=0.33, random_state=42)"
   ]
  },
  {
   "cell_type": "markdown",
   "metadata": {},
   "source": [
    "### Pre-processing\n",
    "\n",
    "We will use a simple pre-processing. Just scaling. However, note that the scaler is fit on the training, and on the test it is just applied."
   ]
  },
  {
   "cell_type": "code",
   "execution_count": 14,
   "metadata": {},
   "outputs": [],
   "source": [
    "scaler = StandardScaler()\n",
    "X_train = scaler.fit_transform(X_train)\n",
    "X_test = scaler.transform(X_test)"
   ]
  },
  {
   "cell_type": "markdown",
   "metadata": {},
   "source": [
    "### Choosing our metrics\n",
    "\n",
    "This time we have an unbalanced classification problem, where it is equally important to predict correctly both classes. \n",
    "For this reason our main metric is going to be F-score macro. We are also going to check precision macro and recall macro. "
   ]
  },
  {
   "cell_type": "code",
   "execution_count": 15,
   "metadata": {},
   "outputs": [],
   "source": [
    "results_df = pd.DataFrame(index=['Logistic Regression'],\n",
    "                          columns=['F-score (cv)', 'Precision (cv)','Recall (cv)', 'Accuracy (cv)'])"
   ]
  },
  {
   "cell_type": "markdown",
   "metadata": {},
   "source": [
    "### Baseline: Logistic Regression\n",
    "\n",
    "We are going to use the logistic regression as a baseline, and we will try to improve the results given by the baseline with the other models.\n",
    "\n",
    "We are using a baseline this time because this is the Neural Networks lab, and we will be training MLPs. As you might already know, an MLP can be quite slow to train and has tons of hyperparameters, so, to be sure that we don't need hours to discover that we have done something wrong, we will use a simple model (logistic regression) as a baseline. "
   ]
  },
  {
   "cell_type": "code",
   "execution_count": 16,
   "metadata": {},
   "outputs": [
    {
     "data": {
      "text/html": [
       "<style>#sk-container-id-1 {color: black;background-color: white;}#sk-container-id-1 pre{padding: 0;}#sk-container-id-1 div.sk-toggleable {background-color: white;}#sk-container-id-1 label.sk-toggleable__label {cursor: pointer;display: block;width: 100%;margin-bottom: 0;padding: 0.3em;box-sizing: border-box;text-align: center;}#sk-container-id-1 label.sk-toggleable__label-arrow:before {content: \"▸\";float: left;margin-right: 0.25em;color: #696969;}#sk-container-id-1 label.sk-toggleable__label-arrow:hover:before {color: black;}#sk-container-id-1 div.sk-estimator:hover label.sk-toggleable__label-arrow:before {color: black;}#sk-container-id-1 div.sk-toggleable__content {max-height: 0;max-width: 0;overflow: hidden;text-align: left;background-color: #f0f8ff;}#sk-container-id-1 div.sk-toggleable__content pre {margin: 0.2em;color: black;border-radius: 0.25em;background-color: #f0f8ff;}#sk-container-id-1 input.sk-toggleable__control:checked~div.sk-toggleable__content {max-height: 200px;max-width: 100%;overflow: auto;}#sk-container-id-1 input.sk-toggleable__control:checked~label.sk-toggleable__label-arrow:before {content: \"▾\";}#sk-container-id-1 div.sk-estimator input.sk-toggleable__control:checked~label.sk-toggleable__label {background-color: #d4ebff;}#sk-container-id-1 div.sk-label input.sk-toggleable__control:checked~label.sk-toggleable__label {background-color: #d4ebff;}#sk-container-id-1 input.sk-hidden--visually {border: 0;clip: rect(1px 1px 1px 1px);clip: rect(1px, 1px, 1px, 1px);height: 1px;margin: -1px;overflow: hidden;padding: 0;position: absolute;width: 1px;}#sk-container-id-1 div.sk-estimator {font-family: monospace;background-color: #f0f8ff;border: 1px dotted black;border-radius: 0.25em;box-sizing: border-box;margin-bottom: 0.5em;}#sk-container-id-1 div.sk-estimator:hover {background-color: #d4ebff;}#sk-container-id-1 div.sk-parallel-item::after {content: \"\";width: 100%;border-bottom: 1px solid gray;flex-grow: 1;}#sk-container-id-1 div.sk-label:hover label.sk-toggleable__label {background-color: #d4ebff;}#sk-container-id-1 div.sk-serial::before {content: \"\";position: absolute;border-left: 1px solid gray;box-sizing: border-box;top: 0;bottom: 0;left: 50%;z-index: 0;}#sk-container-id-1 div.sk-serial {display: flex;flex-direction: column;align-items: center;background-color: white;padding-right: 0.2em;padding-left: 0.2em;position: relative;}#sk-container-id-1 div.sk-item {position: relative;z-index: 1;}#sk-container-id-1 div.sk-parallel {display: flex;align-items: stretch;justify-content: center;background-color: white;position: relative;}#sk-container-id-1 div.sk-item::before, #sk-container-id-1 div.sk-parallel-item::before {content: \"\";position: absolute;border-left: 1px solid gray;box-sizing: border-box;top: 0;bottom: 0;left: 50%;z-index: -1;}#sk-container-id-1 div.sk-parallel-item {display: flex;flex-direction: column;z-index: 1;position: relative;background-color: white;}#sk-container-id-1 div.sk-parallel-item:first-child::after {align-self: flex-end;width: 50%;}#sk-container-id-1 div.sk-parallel-item:last-child::after {align-self: flex-start;width: 50%;}#sk-container-id-1 div.sk-parallel-item:only-child::after {width: 0;}#sk-container-id-1 div.sk-dashed-wrapped {border: 1px dashed gray;margin: 0 0.4em 0.5em 0.4em;box-sizing: border-box;padding-bottom: 0.4em;background-color: white;}#sk-container-id-1 div.sk-label label {font-family: monospace;font-weight: bold;display: inline-block;line-height: 1.2em;}#sk-container-id-1 div.sk-label-container {text-align: center;}#sk-container-id-1 div.sk-container {/* jupyter's `normalize.less` sets `[hidden] { display: none; }` but bootstrap.min.css set `[hidden] { display: none !important; }` so we also need the `!important` here to be able to override the default hidden behavior on the sphinx rendered scikit-learn.org. See: https://github.com/scikit-learn/scikit-learn/issues/21755 */display: inline-block !important;position: relative;}#sk-container-id-1 div.sk-text-repr-fallback {display: none;}</style><div id=\"sk-container-id-1\" class=\"sk-top-container\"><div class=\"sk-text-repr-fallback\"><pre>LogisticRegression()</pre><b>In a Jupyter environment, please rerun this cell to show the HTML representation or trust the notebook. <br />On GitHub, the HTML representation is unable to render, please try loading this page with nbviewer.org.</b></div><div class=\"sk-container\" hidden><div class=\"sk-item\"><div class=\"sk-estimator sk-toggleable\"><input class=\"sk-toggleable__control sk-hidden--visually\" id=\"sk-estimator-id-1\" type=\"checkbox\" checked><label for=\"sk-estimator-id-1\" class=\"sk-toggleable__label sk-toggleable__label-arrow\">LogisticRegression</label><div class=\"sk-toggleable__content\"><pre>LogisticRegression()</pre></div></div></div></div></div>"
      ],
      "text/plain": [
       "LogisticRegression()"
      ]
     },
     "execution_count": 16,
     "metadata": {},
     "output_type": "execute_result"
    },
    {
     "data": {
      "text/html": [
       "<div>\n",
       "<style scoped>\n",
       "    .dataframe tbody tr th:only-of-type {\n",
       "        vertical-align: middle;\n",
       "    }\n",
       "\n",
       "    .dataframe tbody tr th {\n",
       "        vertical-align: top;\n",
       "    }\n",
       "\n",
       "    .dataframe thead th {\n",
       "        text-align: right;\n",
       "    }\n",
       "</style>\n",
       "<table border=\"1\" class=\"dataframe\">\n",
       "  <thead>\n",
       "    <tr style=\"text-align: right;\">\n",
       "      <th>predicted</th>\n",
       "      <th>0</th>\n",
       "      <th>1</th>\n",
       "    </tr>\n",
       "    <tr>\n",
       "      <th>target</th>\n",
       "      <th></th>\n",
       "      <th></th>\n",
       "    </tr>\n",
       "  </thead>\n",
       "  <tbody>\n",
       "    <tr>\n",
       "      <th>0</th>\n",
       "      <td>171</td>\n",
       "      <td>12</td>\n",
       "    </tr>\n",
       "    <tr>\n",
       "      <th>1</th>\n",
       "      <td>65</td>\n",
       "      <td>20</td>\n",
       "    </tr>\n",
       "  </tbody>\n",
       "</table>\n",
       "</div>"
      ],
      "text/plain": [
       "predicted    0   1\n",
       "target            \n",
       "0          171  12\n",
       "1           65  20"
      ]
     },
     "execution_count": 16,
     "metadata": {},
     "output_type": "execute_result"
    },
    {
     "data": {
      "text/html": [
       "<div>\n",
       "<style scoped>\n",
       "    .dataframe tbody tr th:only-of-type {\n",
       "        vertical-align: middle;\n",
       "    }\n",
       "\n",
       "    .dataframe tbody tr th {\n",
       "        vertical-align: top;\n",
       "    }\n",
       "\n",
       "    .dataframe thead th {\n",
       "        text-align: right;\n",
       "    }\n",
       "</style>\n",
       "<table border=\"1\" class=\"dataframe\">\n",
       "  <thead>\n",
       "    <tr style=\"text-align: right;\">\n",
       "      <th></th>\n",
       "      <th>F-score (cv)</th>\n",
       "      <th>Precision (cv)</th>\n",
       "      <th>Recall (cv)</th>\n",
       "      <th>Accuracy (cv)</th>\n",
       "    </tr>\n",
       "  </thead>\n",
       "  <tbody>\n",
       "    <tr>\n",
       "      <th>Logistic Regression</th>\n",
       "      <td>0.554</td>\n",
       "      <td>0.686</td>\n",
       "      <td>0.568</td>\n",
       "      <td>0.698</td>\n",
       "    </tr>\n",
       "  </tbody>\n",
       "</table>\n",
       "</div>"
      ],
      "text/plain": [
       "                    F-score (cv) Precision (cv) Recall (cv) Accuracy (cv)\n",
       "Logistic Regression        0.554          0.686       0.568         0.698"
      ]
     },
     "execution_count": 16,
     "metadata": {},
     "output_type": "execute_result"
    }
   ],
   "source": [
    "logreg = LogisticRegression()\n",
    "logreg.fit(X_train, y_train)\n",
    "scores = cross_val_score(logreg, X_train, y_train, cv=5)\n",
    "y_pred_lr = logreg.predict(X_train)\n",
    "\n",
    "cross_val_results = pd.DataFrame(cross_validate(logreg , X_train, y_train, cv = 5, \n",
    "                                                scoring = [ 'f1_macro', 'precision_macro', 'recall_macro', 'accuracy'] ))\n",
    "\n",
    "results_df.loc['Logistic Regression',:] = cross_val_results[['test_f1_macro',\n",
    "       'test_precision_macro', 'test_recall_macro','test_accuracy']].mean().values\n",
    "\n",
    "confusion(y_train,y_pred_lr)\n",
    "results_df"
   ]
  },
  {
   "cell_type": "markdown",
   "metadata": {},
   "source": [
    "Just with the baseline we are already obtaining a 69% of accuracy and a 0.55 of F-score. The gap between those two metrics is probably caused by the class imbalance. \n",
    "\n",
    "Now we can check the coeficients to see if there is any strange stuff that we should fix before starting with our networks."
   ]
  },
  {
   "cell_type": "code",
   "execution_count": 17,
   "metadata": {
    "scrolled": true
   },
   "outputs": [
    {
     "data": {
      "text/plain": [
       "array([[ 0.16385153,  0.35034143, -0.46349665]])"
      ]
     },
     "execution_count": 17,
     "metadata": {},
     "output_type": "execute_result"
    },
    {
     "data": {
      "text/plain": [
       "array([-0.84430907])"
      ]
     },
     "execution_count": 17,
     "metadata": {},
     "output_type": "execute_result"
    }
   ],
   "source": [
    "logreg.coef_\n",
    "logreg.intercept_"
   ]
  },
  {
   "cell_type": "markdown",
   "metadata": {},
   "source": [
    "### Multi Layered Perceptron (Yay! Neural Networks!)\n",
    "\n",
    "MLP is almost the simplest of the Neural Network models. This model is based on combining linearly the input of the previous layer and applying an activation function to the result over different layers. \n",
    "\n",
    "When it has more than a hidden layer it is called a __Deep__ Neural Network. This hidden layers give the model complexity and expresivity, but also add more weights that you will need to train.\n",
    "\n",
    "The most important parameters of the MLP are: \n",
    "* Architecture (number of layers and number of neurons by layer). \n",
    "* Activation function. \n",
    "* alpha (regularization term).\n",
    "* Solver ‘lbfgs’, ‘sgd’, ‘adam’.\n",
    "* Learning rate, learning_rate_init.\n",
    "\n",
    "As you can see, this model has many hyperparameters; if in doubt, you can look up [their meaning here](https://scikit-learn.org/stable/modules/generated/sklearn.neural_network.MLPClassifier.html)\n",
    "\n",
    "We are going to start with a 1 neuron dummy MLP with logistic activation function and no regularization."
   ]
  },
  {
   "cell_type": "code",
   "execution_count": 18,
   "metadata": {},
   "outputs": [
    {
     "data": {
      "text/html": [
       "<style>#sk-container-id-2 {color: black;background-color: white;}#sk-container-id-2 pre{padding: 0;}#sk-container-id-2 div.sk-toggleable {background-color: white;}#sk-container-id-2 label.sk-toggleable__label {cursor: pointer;display: block;width: 100%;margin-bottom: 0;padding: 0.3em;box-sizing: border-box;text-align: center;}#sk-container-id-2 label.sk-toggleable__label-arrow:before {content: \"▸\";float: left;margin-right: 0.25em;color: #696969;}#sk-container-id-2 label.sk-toggleable__label-arrow:hover:before {color: black;}#sk-container-id-2 div.sk-estimator:hover label.sk-toggleable__label-arrow:before {color: black;}#sk-container-id-2 div.sk-toggleable__content {max-height: 0;max-width: 0;overflow: hidden;text-align: left;background-color: #f0f8ff;}#sk-container-id-2 div.sk-toggleable__content pre {margin: 0.2em;color: black;border-radius: 0.25em;background-color: #f0f8ff;}#sk-container-id-2 input.sk-toggleable__control:checked~div.sk-toggleable__content {max-height: 200px;max-width: 100%;overflow: auto;}#sk-container-id-2 input.sk-toggleable__control:checked~label.sk-toggleable__label-arrow:before {content: \"▾\";}#sk-container-id-2 div.sk-estimator input.sk-toggleable__control:checked~label.sk-toggleable__label {background-color: #d4ebff;}#sk-container-id-2 div.sk-label input.sk-toggleable__control:checked~label.sk-toggleable__label {background-color: #d4ebff;}#sk-container-id-2 input.sk-hidden--visually {border: 0;clip: rect(1px 1px 1px 1px);clip: rect(1px, 1px, 1px, 1px);height: 1px;margin: -1px;overflow: hidden;padding: 0;position: absolute;width: 1px;}#sk-container-id-2 div.sk-estimator {font-family: monospace;background-color: #f0f8ff;border: 1px dotted black;border-radius: 0.25em;box-sizing: border-box;margin-bottom: 0.5em;}#sk-container-id-2 div.sk-estimator:hover {background-color: #d4ebff;}#sk-container-id-2 div.sk-parallel-item::after {content: \"\";width: 100%;border-bottom: 1px solid gray;flex-grow: 1;}#sk-container-id-2 div.sk-label:hover label.sk-toggleable__label {background-color: #d4ebff;}#sk-container-id-2 div.sk-serial::before {content: \"\";position: absolute;border-left: 1px solid gray;box-sizing: border-box;top: 0;bottom: 0;left: 50%;z-index: 0;}#sk-container-id-2 div.sk-serial {display: flex;flex-direction: column;align-items: center;background-color: white;padding-right: 0.2em;padding-left: 0.2em;position: relative;}#sk-container-id-2 div.sk-item {position: relative;z-index: 1;}#sk-container-id-2 div.sk-parallel {display: flex;align-items: stretch;justify-content: center;background-color: white;position: relative;}#sk-container-id-2 div.sk-item::before, #sk-container-id-2 div.sk-parallel-item::before {content: \"\";position: absolute;border-left: 1px solid gray;box-sizing: border-box;top: 0;bottom: 0;left: 50%;z-index: -1;}#sk-container-id-2 div.sk-parallel-item {display: flex;flex-direction: column;z-index: 1;position: relative;background-color: white;}#sk-container-id-2 div.sk-parallel-item:first-child::after {align-self: flex-end;width: 50%;}#sk-container-id-2 div.sk-parallel-item:last-child::after {align-self: flex-start;width: 50%;}#sk-container-id-2 div.sk-parallel-item:only-child::after {width: 0;}#sk-container-id-2 div.sk-dashed-wrapped {border: 1px dashed gray;margin: 0 0.4em 0.5em 0.4em;box-sizing: border-box;padding-bottom: 0.4em;background-color: white;}#sk-container-id-2 div.sk-label label {font-family: monospace;font-weight: bold;display: inline-block;line-height: 1.2em;}#sk-container-id-2 div.sk-label-container {text-align: center;}#sk-container-id-2 div.sk-container {/* jupyter's `normalize.less` sets `[hidden] { display: none; }` but bootstrap.min.css set `[hidden] { display: none !important; }` so we also need the `!important` here to be able to override the default hidden behavior on the sphinx rendered scikit-learn.org. See: https://github.com/scikit-learn/scikit-learn/issues/21755 */display: inline-block !important;position: relative;}#sk-container-id-2 div.sk-text-repr-fallback {display: none;}</style><div id=\"sk-container-id-2\" class=\"sk-top-container\"><div class=\"sk-text-repr-fallback\"><pre>MLPClassifier(activation=&#x27;logistic&#x27;, alpha=0, hidden_layer_sizes=[1],\n",
       "              random_state=42, solver=&#x27;lbfgs&#x27;)</pre><b>In a Jupyter environment, please rerun this cell to show the HTML representation or trust the notebook. <br />On GitHub, the HTML representation is unable to render, please try loading this page with nbviewer.org.</b></div><div class=\"sk-container\" hidden><div class=\"sk-item\"><div class=\"sk-estimator sk-toggleable\"><input class=\"sk-toggleable__control sk-hidden--visually\" id=\"sk-estimator-id-2\" type=\"checkbox\" checked><label for=\"sk-estimator-id-2\" class=\"sk-toggleable__label sk-toggleable__label-arrow\">MLPClassifier</label><div class=\"sk-toggleable__content\"><pre>MLPClassifier(activation=&#x27;logistic&#x27;, alpha=0, hidden_layer_sizes=[1],\n",
       "              random_state=42, solver=&#x27;lbfgs&#x27;)</pre></div></div></div></div></div>"
      ],
      "text/plain": [
       "MLPClassifier(activation='logistic', alpha=0, hidden_layer_sizes=[1],\n",
       "              random_state=42, solver='lbfgs')"
      ]
     },
     "execution_count": 18,
     "metadata": {},
     "output_type": "execute_result"
    },
    {
     "name": "stdout",
     "output_type": "stream",
     "text": [
      "Confusion matrix of the TRAIN dataset\n"
     ]
    },
    {
     "data": {
      "text/html": [
       "<div>\n",
       "<style scoped>\n",
       "    .dataframe tbody tr th:only-of-type {\n",
       "        vertical-align: middle;\n",
       "    }\n",
       "\n",
       "    .dataframe tbody tr th {\n",
       "        vertical-align: top;\n",
       "    }\n",
       "\n",
       "    .dataframe thead th {\n",
       "        text-align: right;\n",
       "    }\n",
       "</style>\n",
       "<table border=\"1\" class=\"dataframe\">\n",
       "  <thead>\n",
       "    <tr style=\"text-align: right;\">\n",
       "      <th>predicted</th>\n",
       "      <th>0</th>\n",
       "      <th>1</th>\n",
       "    </tr>\n",
       "    <tr>\n",
       "      <th>target</th>\n",
       "      <th></th>\n",
       "      <th></th>\n",
       "    </tr>\n",
       "  </thead>\n",
       "  <tbody>\n",
       "    <tr>\n",
       "      <th>0</th>\n",
       "      <td>171</td>\n",
       "      <td>12</td>\n",
       "    </tr>\n",
       "    <tr>\n",
       "      <th>1</th>\n",
       "      <td>66</td>\n",
       "      <td>19</td>\n",
       "    </tr>\n",
       "  </tbody>\n",
       "</table>\n",
       "</div>"
      ],
      "text/plain": [
       "predicted    0   1\n",
       "target            \n",
       "0          171  12\n",
       "1           66  19"
      ]
     },
     "execution_count": 18,
     "metadata": {},
     "output_type": "execute_result"
    },
    {
     "data": {
      "text/html": [
       "<div>\n",
       "<style scoped>\n",
       "    .dataframe tbody tr th:only-of-type {\n",
       "        vertical-align: middle;\n",
       "    }\n",
       "\n",
       "    .dataframe tbody tr th {\n",
       "        vertical-align: top;\n",
       "    }\n",
       "\n",
       "    .dataframe thead th {\n",
       "        text-align: right;\n",
       "    }\n",
       "</style>\n",
       "<table border=\"1\" class=\"dataframe\">\n",
       "  <thead>\n",
       "    <tr style=\"text-align: right;\">\n",
       "      <th></th>\n",
       "      <th>F-score (cv)</th>\n",
       "      <th>Precision (cv)</th>\n",
       "      <th>Recall (cv)</th>\n",
       "      <th>Accuracy (cv)</th>\n",
       "    </tr>\n",
       "  </thead>\n",
       "  <tbody>\n",
       "    <tr>\n",
       "      <th>MLP[1]</th>\n",
       "      <td>0.56</td>\n",
       "      <td>0.655</td>\n",
       "      <td>0.57</td>\n",
       "      <td>0.683</td>\n",
       "    </tr>\n",
       "    <tr>\n",
       "      <th>Logistic Regression</th>\n",
       "      <td>0.554</td>\n",
       "      <td>0.686</td>\n",
       "      <td>0.568</td>\n",
       "      <td>0.698</td>\n",
       "    </tr>\n",
       "  </tbody>\n",
       "</table>\n",
       "</div>"
      ],
      "text/plain": [
       "                    F-score (cv) Precision (cv) Recall (cv) Accuracy (cv)\n",
       "MLP[1]                      0.56          0.655        0.57         0.683\n",
       "Logistic Regression        0.554          0.686       0.568         0.698"
      ]
     },
     "execution_count": 18,
     "metadata": {},
     "output_type": "execute_result"
    }
   ],
   "source": [
    "model_nnet = MLPClassifier(hidden_layer_sizes=[1],\n",
    "                           alpha=0,\n",
    "                           activation='logistic',\n",
    "                           max_iter=200,\n",
    "                           solver='lbfgs',random_state=42)\n",
    "model_nnet.fit(X_train, y_train);\n",
    "\n",
    "\n",
    "y_pred = model_nnet.predict(X_train)\n",
    "\n",
    "print('Confusion matrix of the TRAIN dataset')\n",
    "confusion(y_train, y_pred)\n",
    "\n",
    "cross_val_results = pd.DataFrame(cross_validate(model_nnet , X_train, y_train, cv = 5, \n",
    "                                                scoring = [ 'f1_macro', 'precision_macro', 'recall_macro', 'accuracy'] ))\n",
    "\n",
    "results_df.loc['MLP[1]',:] = cross_val_results[['test_f1_macro',\n",
    "       'test_precision_macro', 'test_recall_macro','test_accuracy']].mean().values\n",
    "\n",
    "results_df.sort_values(by='F-score (cv)', ascending=False)"
   ]
  },
  {
   "cell_type": "markdown",
   "metadata": {},
   "source": [
    "We can see that this dummy mlp is already winning our other model in our main metric. Let's see how this is looking on the inside.\n",
    "\n",
    "Here we can see this mlp weights."
   ]
  },
  {
   "cell_type": "code",
   "execution_count": 19,
   "metadata": {},
   "outputs": [
    {
     "data": {
      "text/plain": [
       "[array([[-0.04708342],\n",
       "        [-0.09451056],\n",
       "        [ 0.12572409]]),\n",
       " array([[-44.92584214]])]"
      ]
     },
     "execution_count": 19,
     "metadata": {},
     "output_type": "execute_result"
    },
    {
     "data": {
      "text/plain": [
       "[array([-2.26841773]), array([3.40847071])]"
      ]
     },
     "execution_count": 19,
     "metadata": {},
     "output_type": "execute_result"
    }
   ],
   "source": [
    "model_nnet.coefs_\n",
    "model_nnet.intercepts_"
   ]
  },
  {
   "cell_type": "markdown",
   "metadata": {},
   "source": [
    "We can also look at it as a graph. Isn't this structure familiar?"
   ]
  },
  {
   "cell_type": "code",
   "execution_count": 20,
   "metadata": {},
   "outputs": [
    {
     "data": {
      "image/svg+xml": [
       "<?xml version=\"1.0\" encoding=\"UTF-8\" standalone=\"no\"?>\n",
       "<!DOCTYPE svg PUBLIC \"-//W3C//DTD SVG 1.1//EN\"\n",
       " \"http://www.w3.org/Graphics/SVG/1.1/DTD/svg11.dtd\">\n",
       "<!-- Generated by graphviz version 2.50.0 (0)\n",
       " -->\n",
       "<!-- Pages: 1 -->\n",
       "<svg width=\"520pt\" height=\"222pt\"\n",
       " viewBox=\"0.00 0.00 519.79 222.10\" xmlns=\"http://www.w3.org/2000/svg\" xmlns:xlink=\"http://www.w3.org/1999/xlink\">\n",
       "<g id=\"graph0\" class=\"graph\" transform=\"scale(1 1) rotate(0) translate(4 218.1)\">\n",
       "<polygon fill=\"white\" stroke=\"transparent\" points=\"-4,4 -4,-218.1 515.79,-218.1 515.79,4 -4,4\"/>\n",
       "<!-- gre -->\n",
       "<g id=\"node1\" class=\"node\">\n",
       "<title>gre</title>\n",
       "<ellipse fill=\"none\" stroke=\"black\" cx=\"27\" cy=\"-196.1\" rx=\"27\" ry=\"18\"/>\n",
       "<text text-anchor=\"middle\" x=\"27\" y=\"-192.4\" font-family=\"Times,serif\" font-size=\"14.00\">gre</text>\n",
       "</g>\n",
       "<!-- L0N0 -->\n",
       "<g id=\"node2\" class=\"node\">\n",
       "<title>L0N0</title>\n",
       "<ellipse fill=\"none\" stroke=\"black\" cx=\"258.2\" cy=\"-115.1\" rx=\"31.4\" ry=\"18\"/>\n",
       "<text text-anchor=\"middle\" x=\"258.2\" y=\"-111.4\" font-family=\"Times,serif\" font-size=\"14.00\">L0N0</text>\n",
       "</g>\n",
       "<!-- gre&#45;&gt;L0N0 -->\n",
       "<g id=\"edge1\" class=\"edge\">\n",
       "<title>gre&#45;&gt;L0N0</title>\n",
       "<path fill=\"none\" stroke=\"black\" d=\"M53.84,-194.06C90.14,-190.36 157.55,-180.44 209,-155.1 218.03,-150.65 226.82,-144.19 234.38,-137.76\"/>\n",
       "<polygon fill=\"black\" stroke=\"black\" points=\"236.94,-140.17 242.04,-130.88 232.26,-134.96 236.94,-140.17\"/>\n",
       "<text text-anchor=\"middle\" x=\"140.5\" y=\"-194.9\" font-family=\"Times,serif\" font-size=\"14.00\">&#45;0.047083415849194475</text>\n",
       "</g>\n",
       "<!-- L1N0 -->\n",
       "<g id=\"node6\" class=\"node\">\n",
       "<title>L1N0</title>\n",
       "<ellipse fill=\"none\" stroke=\"black\" cx=\"480.59\" cy=\"-71.1\" rx=\"31.4\" ry=\"18\"/>\n",
       "<text text-anchor=\"middle\" x=\"480.59\" y=\"-67.4\" font-family=\"Times,serif\" font-size=\"14.00\">L1N0</text>\n",
       "</g>\n",
       "<!-- L0N0&#45;&gt;L1N0 -->\n",
       "<g id=\"edge5\" class=\"edge\">\n",
       "<title>L0N0&#45;&gt;L1N0</title>\n",
       "<path fill=\"none\" stroke=\"black\" d=\"M288.01,-109.35C327.11,-101.54 397.11,-87.57 440.8,-78.84\"/>\n",
       "<polygon fill=\"black\" stroke=\"black\" points=\"441.65,-82.24 450.77,-76.85 440.28,-75.38 441.65,-82.24\"/>\n",
       "<text text-anchor=\"middle\" x=\"369.39\" y=\"-107.9\" font-family=\"Times,serif\" font-size=\"14.00\">&#45;44.925842141241944</text>\n",
       "</g>\n",
       "<!-- gpa -->\n",
       "<g id=\"node3\" class=\"node\">\n",
       "<title>gpa</title>\n",
       "<ellipse fill=\"none\" stroke=\"black\" cx=\"27\" cy=\"-142.1\" rx=\"27\" ry=\"18\"/>\n",
       "<text text-anchor=\"middle\" x=\"27\" y=\"-138.4\" font-family=\"Times,serif\" font-size=\"14.00\">gpa</text>\n",
       "</g>\n",
       "<!-- gpa&#45;&gt;L0N0 -->\n",
       "<g id=\"edge2\" class=\"edge\">\n",
       "<title>gpa&#45;&gt;L0N0</title>\n",
       "<path fill=\"none\" stroke=\"black\" d=\"M53.85,-139.05C93.68,-134.36 170.38,-125.32 217.36,-119.79\"/>\n",
       "<polygon fill=\"black\" stroke=\"black\" points=\"217.95,-123.25 227.47,-118.6 217.13,-116.29 217.95,-123.25\"/>\n",
       "<text text-anchor=\"middle\" x=\"140.5\" y=\"-139.9\" font-family=\"Times,serif\" font-size=\"14.00\">&#45;0.09451055890456742</text>\n",
       "</g>\n",
       "<!-- rank -->\n",
       "<g id=\"node4\" class=\"node\">\n",
       "<title>rank</title>\n",
       "<ellipse fill=\"none\" stroke=\"black\" cx=\"27\" cy=\"-88.1\" rx=\"27\" ry=\"18\"/>\n",
       "<text text-anchor=\"middle\" x=\"27\" y=\"-84.4\" font-family=\"Times,serif\" font-size=\"14.00\">rank</text>\n",
       "</g>\n",
       "<!-- rank&#45;&gt;L0N0 -->\n",
       "<g id=\"edge3\" class=\"edge\">\n",
       "<title>rank&#45;&gt;L0N0</title>\n",
       "<path fill=\"none\" stroke=\"black\" d=\"M54.29,-88.25C89.71,-88.86 154.58,-91.35 209,-101.1 212.89,-101.8 216.92,-102.69 220.91,-103.68\"/>\n",
       "<polygon fill=\"black\" stroke=\"black\" points=\"220.1,-107.08 230.67,-106.31 221.92,-100.32 220.1,-107.08\"/>\n",
       "<text text-anchor=\"middle\" x=\"140.5\" y=\"-104.9\" font-family=\"Times,serif\" font-size=\"14.00\">0.12572408613668817</text>\n",
       "</g>\n",
       "<!-- ILI -->\n",
       "<g id=\"node5\" class=\"node\">\n",
       "<title>ILI</title>\n",
       "<ellipse fill=\"none\" stroke=\"black\" cx=\"27\" cy=\"-26.1\" rx=\"22.18\" ry=\"22.18\"/>\n",
       "<ellipse fill=\"none\" stroke=\"black\" cx=\"27\" cy=\"-26.1\" rx=\"26.2\" ry=\"26.2\"/>\n",
       "<text text-anchor=\"middle\" x=\"27\" y=\"-22.4\" font-family=\"Times,serif\" font-size=\"14.00\">ILI</text>\n",
       "</g>\n",
       "<!-- ILI&#45;&gt;L0N0 -->\n",
       "<g id=\"edge4\" class=\"edge\">\n",
       "<title>ILI&#45;&gt;L0N0</title>\n",
       "<path fill=\"none\" stroke=\"black\" d=\"M53.07,-27.54C89.61,-30.6 158.63,-40.07 209,-69.1 219.08,-74.91 218.66,-79.99 227,-88.1 228.81,-89.86 230.7,-91.65 232.63,-93.44\"/>\n",
       "<polygon fill=\"black\" stroke=\"black\" points=\"230.3,-96.05 240.04,-100.2 235.01,-90.88 230.3,-96.05\"/>\n",
       "<text text-anchor=\"middle\" x=\"140.5\" y=\"-72.9\" font-family=\"Times,serif\" font-size=\"14.00\">&#45;2.2684177292964276</text>\n",
       "</g>\n",
       "<!-- L0I -->\n",
       "<g id=\"node7\" class=\"node\">\n",
       "<title>L0I</title>\n",
       "<ellipse fill=\"none\" stroke=\"black\" cx=\"258.2\" cy=\"-52.1\" rx=\"23.31\" ry=\"23.31\"/>\n",
       "<ellipse fill=\"none\" stroke=\"black\" cx=\"258.2\" cy=\"-52.1\" rx=\"27.3\" ry=\"27.3\"/>\n",
       "<text text-anchor=\"middle\" x=\"258.2\" y=\"-48.4\" font-family=\"Times,serif\" font-size=\"14.00\">L0I</text>\n",
       "</g>\n",
       "<!-- L0I&#45;&gt;L1N0 -->\n",
       "<g id=\"edge6\" class=\"edge\">\n",
       "<title>L0I&#45;&gt;L1N0</title>\n",
       "<path fill=\"none\" stroke=\"black\" d=\"M285.78,-53.7C319.64,-55.84 379.93,-59.96 431.39,-65.1 434.23,-65.38 437.15,-65.69 440.09,-66.02\"/>\n",
       "<polygon fill=\"black\" stroke=\"black\" points=\"439.71,-69.5 450.05,-67.19 440.53,-62.55 439.71,-69.5\"/>\n",
       "<text text-anchor=\"middle\" x=\"369.39\" y=\"-68.9\" font-family=\"Times,serif\" font-size=\"14.00\">3.408470710089287</text>\n",
       "</g>\n",
       "</g>\n",
       "</svg>\n"
      ],
      "text/plain": [
       "<graphviz.graphs.Digraph at 0x7fa831b71100>"
      ]
     },
     "execution_count": 20,
     "metadata": {},
     "output_type": "execute_result"
    }
   ],
   "source": [
    "graphMLP(Admis.columns[1:], model_nnet.coefs_, model_nnet.intercepts_)"
   ]
  },
  {
   "cell_type": "markdown",
   "metadata": {},
   "source": [
    "On this graph the gre, gpa, rank and ILI represent the input layer,which would be our training samples. \n",
    "L0N0 is our hidden neuron. L01 the extra intercept and L1N0 our output neuron. "
   ]
  },
  {
   "cell_type": "markdown",
   "metadata": {},
   "source": [
    "Now that we know what we are doing, lets make a bigger network."
   ]
  },
  {
   "cell_type": "code",
   "execution_count": 21,
   "metadata": {},
   "outputs": [
    {
     "data": {
      "text/html": [
       "<style>#sk-container-id-3 {color: black;background-color: white;}#sk-container-id-3 pre{padding: 0;}#sk-container-id-3 div.sk-toggleable {background-color: white;}#sk-container-id-3 label.sk-toggleable__label {cursor: pointer;display: block;width: 100%;margin-bottom: 0;padding: 0.3em;box-sizing: border-box;text-align: center;}#sk-container-id-3 label.sk-toggleable__label-arrow:before {content: \"▸\";float: left;margin-right: 0.25em;color: #696969;}#sk-container-id-3 label.sk-toggleable__label-arrow:hover:before {color: black;}#sk-container-id-3 div.sk-estimator:hover label.sk-toggleable__label-arrow:before {color: black;}#sk-container-id-3 div.sk-toggleable__content {max-height: 0;max-width: 0;overflow: hidden;text-align: left;background-color: #f0f8ff;}#sk-container-id-3 div.sk-toggleable__content pre {margin: 0.2em;color: black;border-radius: 0.25em;background-color: #f0f8ff;}#sk-container-id-3 input.sk-toggleable__control:checked~div.sk-toggleable__content {max-height: 200px;max-width: 100%;overflow: auto;}#sk-container-id-3 input.sk-toggleable__control:checked~label.sk-toggleable__label-arrow:before {content: \"▾\";}#sk-container-id-3 div.sk-estimator input.sk-toggleable__control:checked~label.sk-toggleable__label {background-color: #d4ebff;}#sk-container-id-3 div.sk-label input.sk-toggleable__control:checked~label.sk-toggleable__label {background-color: #d4ebff;}#sk-container-id-3 input.sk-hidden--visually {border: 0;clip: rect(1px 1px 1px 1px);clip: rect(1px, 1px, 1px, 1px);height: 1px;margin: -1px;overflow: hidden;padding: 0;position: absolute;width: 1px;}#sk-container-id-3 div.sk-estimator {font-family: monospace;background-color: #f0f8ff;border: 1px dotted black;border-radius: 0.25em;box-sizing: border-box;margin-bottom: 0.5em;}#sk-container-id-3 div.sk-estimator:hover {background-color: #d4ebff;}#sk-container-id-3 div.sk-parallel-item::after {content: \"\";width: 100%;border-bottom: 1px solid gray;flex-grow: 1;}#sk-container-id-3 div.sk-label:hover label.sk-toggleable__label {background-color: #d4ebff;}#sk-container-id-3 div.sk-serial::before {content: \"\";position: absolute;border-left: 1px solid gray;box-sizing: border-box;top: 0;bottom: 0;left: 50%;z-index: 0;}#sk-container-id-3 div.sk-serial {display: flex;flex-direction: column;align-items: center;background-color: white;padding-right: 0.2em;padding-left: 0.2em;position: relative;}#sk-container-id-3 div.sk-item {position: relative;z-index: 1;}#sk-container-id-3 div.sk-parallel {display: flex;align-items: stretch;justify-content: center;background-color: white;position: relative;}#sk-container-id-3 div.sk-item::before, #sk-container-id-3 div.sk-parallel-item::before {content: \"\";position: absolute;border-left: 1px solid gray;box-sizing: border-box;top: 0;bottom: 0;left: 50%;z-index: -1;}#sk-container-id-3 div.sk-parallel-item {display: flex;flex-direction: column;z-index: 1;position: relative;background-color: white;}#sk-container-id-3 div.sk-parallel-item:first-child::after {align-self: flex-end;width: 50%;}#sk-container-id-3 div.sk-parallel-item:last-child::after {align-self: flex-start;width: 50%;}#sk-container-id-3 div.sk-parallel-item:only-child::after {width: 0;}#sk-container-id-3 div.sk-dashed-wrapped {border: 1px dashed gray;margin: 0 0.4em 0.5em 0.4em;box-sizing: border-box;padding-bottom: 0.4em;background-color: white;}#sk-container-id-3 div.sk-label label {font-family: monospace;font-weight: bold;display: inline-block;line-height: 1.2em;}#sk-container-id-3 div.sk-label-container {text-align: center;}#sk-container-id-3 div.sk-container {/* jupyter's `normalize.less` sets `[hidden] { display: none; }` but bootstrap.min.css set `[hidden] { display: none !important; }` so we also need the `!important` here to be able to override the default hidden behavior on the sphinx rendered scikit-learn.org. See: https://github.com/scikit-learn/scikit-learn/issues/21755 */display: inline-block !important;position: relative;}#sk-container-id-3 div.sk-text-repr-fallback {display: none;}</style><div id=\"sk-container-id-3\" class=\"sk-top-container\"><div class=\"sk-text-repr-fallback\"><pre>MLPClassifier(activation=&#x27;logistic&#x27;, alpha=0, hidden_layer_sizes=[2, 2, 2],\n",
       "              random_state=42, solver=&#x27;lbfgs&#x27;)</pre><b>In a Jupyter environment, please rerun this cell to show the HTML representation or trust the notebook. <br />On GitHub, the HTML representation is unable to render, please try loading this page with nbviewer.org.</b></div><div class=\"sk-container\" hidden><div class=\"sk-item\"><div class=\"sk-estimator sk-toggleable\"><input class=\"sk-toggleable__control sk-hidden--visually\" id=\"sk-estimator-id-3\" type=\"checkbox\" checked><label for=\"sk-estimator-id-3\" class=\"sk-toggleable__label sk-toggleable__label-arrow\">MLPClassifier</label><div class=\"sk-toggleable__content\"><pre>MLPClassifier(activation=&#x27;logistic&#x27;, alpha=0, hidden_layer_sizes=[2, 2, 2],\n",
       "              random_state=42, solver=&#x27;lbfgs&#x27;)</pre></div></div></div></div></div>"
      ],
      "text/plain": [
       "MLPClassifier(activation='logistic', alpha=0, hidden_layer_sizes=[2, 2, 2],\n",
       "              random_state=42, solver='lbfgs')"
      ]
     },
     "execution_count": 21,
     "metadata": {},
     "output_type": "execute_result"
    },
    {
     "name": "stdout",
     "output_type": "stream",
     "text": [
      "Confusion matrix of the TRAIN dataset\n"
     ]
    },
    {
     "data": {
      "text/html": [
       "<div>\n",
       "<style scoped>\n",
       "    .dataframe tbody tr th:only-of-type {\n",
       "        vertical-align: middle;\n",
       "    }\n",
       "\n",
       "    .dataframe tbody tr th {\n",
       "        vertical-align: top;\n",
       "    }\n",
       "\n",
       "    .dataframe thead th {\n",
       "        text-align: right;\n",
       "    }\n",
       "</style>\n",
       "<table border=\"1\" class=\"dataframe\">\n",
       "  <thead>\n",
       "    <tr style=\"text-align: right;\">\n",
       "      <th>predicted</th>\n",
       "      <th>0</th>\n",
       "      <th>1</th>\n",
       "    </tr>\n",
       "    <tr>\n",
       "      <th>target</th>\n",
       "      <th></th>\n",
       "      <th></th>\n",
       "    </tr>\n",
       "  </thead>\n",
       "  <tbody>\n",
       "    <tr>\n",
       "      <th>0</th>\n",
       "      <td>158</td>\n",
       "      <td>25</td>\n",
       "    </tr>\n",
       "    <tr>\n",
       "      <th>1</th>\n",
       "      <td>54</td>\n",
       "      <td>31</td>\n",
       "    </tr>\n",
       "  </tbody>\n",
       "</table>\n",
       "</div>"
      ],
      "text/plain": [
       "predicted    0   1\n",
       "target            \n",
       "0          158  25\n",
       "1           54  31"
      ]
     },
     "execution_count": 21,
     "metadata": {},
     "output_type": "execute_result"
    },
    {
     "data": {
      "text/html": [
       "<div>\n",
       "<style scoped>\n",
       "    .dataframe tbody tr th:only-of-type {\n",
       "        vertical-align: middle;\n",
       "    }\n",
       "\n",
       "    .dataframe tbody tr th {\n",
       "        vertical-align: top;\n",
       "    }\n",
       "\n",
       "    .dataframe thead th {\n",
       "        text-align: right;\n",
       "    }\n",
       "</style>\n",
       "<table border=\"1\" class=\"dataframe\">\n",
       "  <thead>\n",
       "    <tr style=\"text-align: right;\">\n",
       "      <th></th>\n",
       "      <th>F-score (cv)</th>\n",
       "      <th>Precision (cv)</th>\n",
       "      <th>Recall (cv)</th>\n",
       "      <th>Accuracy (cv)</th>\n",
       "    </tr>\n",
       "  </thead>\n",
       "  <tbody>\n",
       "    <tr>\n",
       "      <th>MLP[1]</th>\n",
       "      <td>0.56</td>\n",
       "      <td>0.655</td>\n",
       "      <td>0.57</td>\n",
       "      <td>0.683</td>\n",
       "    </tr>\n",
       "    <tr>\n",
       "      <th>MLP[2,2,2]</th>\n",
       "      <td>0.559</td>\n",
       "      <td>0.629</td>\n",
       "      <td>0.575</td>\n",
       "      <td>0.69</td>\n",
       "    </tr>\n",
       "    <tr>\n",
       "      <th>Logistic Regression</th>\n",
       "      <td>0.554</td>\n",
       "      <td>0.686</td>\n",
       "      <td>0.568</td>\n",
       "      <td>0.698</td>\n",
       "    </tr>\n",
       "  </tbody>\n",
       "</table>\n",
       "</div>"
      ],
      "text/plain": [
       "                    F-score (cv) Precision (cv) Recall (cv) Accuracy (cv)\n",
       "MLP[1]                      0.56          0.655        0.57         0.683\n",
       "MLP[2,2,2]                 0.559          0.629       0.575          0.69\n",
       "Logistic Regression        0.554          0.686       0.568         0.698"
      ]
     },
     "execution_count": 21,
     "metadata": {},
     "output_type": "execute_result"
    }
   ],
   "source": [
    "model_nnet = MLPClassifier(hidden_layer_sizes=[2,2,2],\n",
    "                           alpha=0,\n",
    "                           activation='logistic',\n",
    "                           max_iter=200,\n",
    "                           solver='lbfgs',random_state=42)\n",
    "model_nnet.fit(X_train,y_train);\n",
    "y_pred = model_nnet.predict(X_train)\n",
    "\n",
    "print('Confusion matrix of the TRAIN dataset')\n",
    "confusion(y_train,y_pred)\n",
    "\n",
    "cross_val_results = pd.DataFrame(cross_validate(model_nnet , X_train, y_train, cv = 5, \n",
    "                                                scoring = [ 'f1_macro', 'precision_macro', 'recall_macro', 'accuracy'] ))\n",
    "\n",
    "results_df.loc['MLP[2,2,2]',:] = cross_val_results[['test_f1_macro',\n",
    "       'test_precision_macro', 'test_recall_macro','test_accuracy']].mean().values\n",
    "\n",
    "results_df.sort_values(by='F-score (cv)', ascending=False)\n"
   ]
  },
  {
   "cell_type": "markdown",
   "metadata": {},
   "source": [
    "Now our model is performing slightly better. \n",
    "Also, our model complexity is increasing, which might increase the training time. "
   ]
  },
  {
   "cell_type": "code",
   "execution_count": 22,
   "metadata": {},
   "outputs": [
    {
     "data": {
      "image/svg+xml": [
       "<?xml version=\"1.0\" encoding=\"UTF-8\" standalone=\"no\"?>\n",
       "<!DOCTYPE svg PUBLIC \"-//W3C//DTD SVG 1.1//EN\"\n",
       " \"http://www.w3.org/Graphics/SVG/1.1/DTD/svg11.dtd\">\n",
       "<!-- Generated by graphviz version 2.50.0 (0)\n",
       " -->\n",
       "<!-- Pages: 1 -->\n",
       "<svg width=\"954pt\" height=\"363pt\"\n",
       " viewBox=\"0.00 0.00 953.58 363.40\" xmlns=\"http://www.w3.org/2000/svg\" xmlns:xlink=\"http://www.w3.org/1999/xlink\">\n",
       "<g id=\"graph0\" class=\"graph\" transform=\"scale(1 1) rotate(0) translate(4 359.4)\">\n",
       "<polygon fill=\"white\" stroke=\"transparent\" points=\"-4,4 -4,-359.4 949.58,-359.4 949.58,4 -4,4\"/>\n",
       "<!-- gre -->\n",
       "<g id=\"node1\" class=\"node\">\n",
       "<title>gre</title>\n",
       "<ellipse fill=\"none\" stroke=\"black\" cx=\"27\" cy=\"-326.4\" rx=\"27\" ry=\"18\"/>\n",
       "<text text-anchor=\"middle\" x=\"27\" y=\"-322.7\" font-family=\"Times,serif\" font-size=\"14.00\">gre</text>\n",
       "</g>\n",
       "<!-- L0N0 -->\n",
       "<g id=\"node2\" class=\"node\">\n",
       "<title>L0N0</title>\n",
       "<ellipse fill=\"none\" stroke=\"black\" cx=\"245.2\" cy=\"-134.4\" rx=\"31.4\" ry=\"18\"/>\n",
       "<text text-anchor=\"middle\" x=\"245.2\" y=\"-130.7\" font-family=\"Times,serif\" font-size=\"14.00\">L0N0</text>\n",
       "</g>\n",
       "<!-- gre&#45;&gt;L0N0 -->\n",
       "<g id=\"edge1\" class=\"edge\">\n",
       "<title>gre&#45;&gt;L0N0</title>\n",
       "<path fill=\"none\" stroke=\"black\" d=\"M49.62,-316.52C56.65,-313.59 64.56,-310.59 72,-308.4 125.78,-292.59 157.01,-325.66 196,-285.4 232.91,-247.29 191.11,-215.25 214,-167.4 215.72,-163.8 217.97,-160.31 220.47,-157.04\"/>\n",
       "<polygon fill=\"black\" stroke=\"black\" points=\"223.16,-159.28 227.01,-149.41 217.84,-154.72 223.16,-159.28\"/>\n",
       "<text text-anchor=\"middle\" x=\"134\" y=\"-312.2\" font-family=\"Times,serif\" font-size=\"14.00\">56.831386945869326</text>\n",
       "</g>\n",
       "<!-- L0N1 -->\n",
       "<g id=\"node5\" class=\"node\">\n",
       "<title>L0N1</title>\n",
       "<ellipse fill=\"none\" stroke=\"black\" cx=\"245.2\" cy=\"-269.4\" rx=\"31.4\" ry=\"18\"/>\n",
       "<text text-anchor=\"middle\" x=\"245.2\" y=\"-265.7\" font-family=\"Times,serif\" font-size=\"14.00\">L0N1</text>\n",
       "</g>\n",
       "<!-- gre&#45;&gt;L0N1 -->\n",
       "<g id=\"edge4\" class=\"edge\">\n",
       "<title>gre&#45;&gt;L0N1</title>\n",
       "<path fill=\"none\" stroke=\"black\" d=\"M52.48,-332.83C86.49,-340.4 149.13,-349.39 196,-327.4 210.31,-320.69 221.84,-307.41 230.03,-295.25\"/>\n",
       "<polygon fill=\"black\" stroke=\"black\" points=\"233.04,-297.03 235.39,-286.7 227.11,-293.31 233.04,-297.03\"/>\n",
       "<text text-anchor=\"middle\" x=\"134\" y=\"-344.2\" font-family=\"Times,serif\" font-size=\"14.00\">273.01830141587186</text>\n",
       "</g>\n",
       "<!-- L1N0 -->\n",
       "<g id=\"node7\" class=\"node\">\n",
       "<title>L1N0</title>\n",
       "<ellipse fill=\"none\" stroke=\"black\" cx=\"467.59\" cy=\"-141.4\" rx=\"31.4\" ry=\"18\"/>\n",
       "<text text-anchor=\"middle\" x=\"467.59\" y=\"-137.7\" font-family=\"Times,serif\" font-size=\"14.00\">L1N0</text>\n",
       "</g>\n",
       "<!-- L0N0&#45;&gt;L1N0 -->\n",
       "<g id=\"edge9\" class=\"edge\">\n",
       "<title>L0N0&#45;&gt;L1N0</title>\n",
       "<path fill=\"none\" stroke=\"black\" d=\"M264.26,-119.8C272.85,-113.77 283.59,-107.49 294.39,-104.4 347.38,-89.25 366.21,-86.68 418.39,-104.4 427.64,-107.54 436.5,-113.24 444.04,-119.24\"/>\n",
       "<polygon fill=\"black\" stroke=\"black\" points=\"441.79,-121.93 451.66,-125.77 446.34,-116.61 441.79,-121.93\"/>\n",
       "<text text-anchor=\"middle\" x=\"356.39\" y=\"-108.2\" font-family=\"Times,serif\" font-size=\"14.00\">&#45;108.92153878922832</text>\n",
       "</g>\n",
       "<!-- L1N1 -->\n",
       "<g id=\"node8\" class=\"node\">\n",
       "<title>L1N1</title>\n",
       "<ellipse fill=\"none\" stroke=\"black\" cx=\"467.59\" cy=\"-217.4\" rx=\"31.4\" ry=\"18\"/>\n",
       "<text text-anchor=\"middle\" x=\"467.59\" y=\"-213.7\" font-family=\"Times,serif\" font-size=\"14.00\">L1N1</text>\n",
       "</g>\n",
       "<!-- L0N0&#45;&gt;L1N1 -->\n",
       "<g id=\"edge11\" class=\"edge\">\n",
       "<title>L0N0&#45;&gt;L1N1</title>\n",
       "<path fill=\"none\" stroke=\"black\" d=\"M268.83,-146.39C276.76,-150.27 285.83,-154.36 294.39,-157.4 347.82,-176.38 366.1,-165.47 418.39,-187.4 425.11,-190.21 431.97,-193.91 438.32,-197.73\"/>\n",
       "<polygon fill=\"black\" stroke=\"black\" points=\"436.88,-200.96 447.2,-203.35 440.62,-195.04 436.88,-200.96\"/>\n",
       "<text text-anchor=\"middle\" x=\"356.39\" y=\"-191.2\" font-family=\"Times,serif\" font-size=\"14.00\">&#45;24.560108516764792</text>\n",
       "</g>\n",
       "<!-- gpa -->\n",
       "<g id=\"node3\" class=\"node\">\n",
       "<title>gpa</title>\n",
       "<ellipse fill=\"none\" stroke=\"black\" cx=\"27\" cy=\"-105.4\" rx=\"27\" ry=\"18\"/>\n",
       "<text text-anchor=\"middle\" x=\"27\" y=\"-101.7\" font-family=\"Times,serif\" font-size=\"14.00\">gpa</text>\n",
       "</g>\n",
       "<!-- gpa&#45;&gt;L0N0 -->\n",
       "<g id=\"edge2\" class=\"edge\">\n",
       "<title>gpa&#45;&gt;L0N0</title>\n",
       "<path fill=\"none\" stroke=\"black\" d=\"M47.91,-93.59C55.22,-89.88 63.74,-86.27 72,-84.4 125.75,-72.23 145.28,-62.84 196,-84.4 208.31,-89.63 219,-99.72 227.17,-109.47\"/>\n",
       "<polygon fill=\"black\" stroke=\"black\" points=\"224.5,-111.74 233.41,-117.47 230.02,-107.43 224.5,-111.74\"/>\n",
       "<text text-anchor=\"middle\" x=\"134\" y=\"-88.2\" font-family=\"Times,serif\" font-size=\"14.00\">&#45;36.16646983096511</text>\n",
       "</g>\n",
       "<!-- gpa&#45;&gt;L0N1 -->\n",
       "<g id=\"edge5\" class=\"edge\">\n",
       "<title>gpa&#45;&gt;L0N1</title>\n",
       "<path fill=\"none\" stroke=\"black\" d=\"M36.62,-122.51C46.31,-141.04 61.98,-168.82 72,-175.4 118.61,-205.99 152.34,-159.72 196,-194.4 212.87,-207.79 202.11,-221.43 214,-239.4 215.68,-241.94 217.61,-244.44 219.65,-246.85\"/>\n",
       "<polygon fill=\"black\" stroke=\"black\" points=\"217.51,-249.68 226.89,-254.6 222.62,-244.9 217.51,-249.68\"/>\n",
       "<text text-anchor=\"middle\" x=\"134\" y=\"-198.2\" font-family=\"Times,serif\" font-size=\"14.00\">306.5854588950294</text>\n",
       "</g>\n",
       "<!-- rank -->\n",
       "<g id=\"node4\" class=\"node\">\n",
       "<title>rank</title>\n",
       "<ellipse fill=\"none\" stroke=\"black\" cx=\"27\" cy=\"-184.4\" rx=\"27\" ry=\"18\"/>\n",
       "<text text-anchor=\"middle\" x=\"27\" y=\"-180.7\" font-family=\"Times,serif\" font-size=\"14.00\">rank</text>\n",
       "</g>\n",
       "<!-- rank&#45;&gt;L0N0 -->\n",
       "<g id=\"edge3\" class=\"edge\">\n",
       "<title>rank&#45;&gt;L0N0</title>\n",
       "<path fill=\"none\" stroke=\"black\" d=\"M34.79,-167.16C41.69,-152.27 53.94,-131.73 72,-122.4 115.08,-100.15 172.48,-110.81 208.9,-121.68\"/>\n",
       "<polygon fill=\"black\" stroke=\"black\" points=\"208,-125.06 218.59,-124.72 210.1,-118.38 208,-125.06\"/>\n",
       "<text text-anchor=\"middle\" x=\"134\" y=\"-126.2\" font-family=\"Times,serif\" font-size=\"14.00\">&#45;118.68851997120773</text>\n",
       "</g>\n",
       "<!-- rank&#45;&gt;L0N1 -->\n",
       "<g id=\"edge6\" class=\"edge\">\n",
       "<title>rank&#45;&gt;L0N1</title>\n",
       "<path fill=\"none\" stroke=\"black\" d=\"M45.15,-197.79C52.97,-203.33 62.57,-209.38 72,-213.4 123.99,-235.52 143.41,-220.75 196,-241.4 202.54,-243.96 209.24,-247.33 215.49,-250.82\"/>\n",
       "<polygon fill=\"black\" stroke=\"black\" points=\"213.86,-253.92 224.25,-255.97 217.4,-247.89 213.86,-253.92\"/>\n",
       "<text text-anchor=\"middle\" x=\"134\" y=\"-245.2\" font-family=\"Times,serif\" font-size=\"14.00\">364.5297294843502</text>\n",
       "</g>\n",
       "<!-- L0N1&#45;&gt;L1N0 -->\n",
       "<g id=\"edge10\" class=\"edge\">\n",
       "<title>L0N1&#45;&gt;L1N0</title>\n",
       "<path fill=\"none\" stroke=\"black\" d=\"M271.45,-259.53C278.77,-256.94 286.83,-254.33 294.39,-252.4 348.49,-238.61 374.39,-266.75 418.39,-232.4 434.4,-219.9 427.04,-208.42 436.39,-190.4 440.41,-182.66 445.19,-174.52 449.75,-167.13\"/>\n",
       "<polygon fill=\"black\" stroke=\"black\" points=\"452.96,-168.6 455.34,-158.27 447.04,-164.86 452.96,-168.6\"/>\n",
       "<text text-anchor=\"middle\" x=\"356.39\" y=\"-256.2\" font-family=\"Times,serif\" font-size=\"14.00\">&#45;91.86884662828011</text>\n",
       "</g>\n",
       "<!-- L0N1&#45;&gt;L1N1 -->\n",
       "<g id=\"edge12\" class=\"edge\">\n",
       "<title>L0N1&#45;&gt;L1N1</title>\n",
       "<path fill=\"none\" stroke=\"black\" d=\"M273.88,-276.56C309.15,-284.19 371.19,-292.54 418.39,-271.4 431.61,-265.48 442.69,-253.95 450.88,-243.06\"/>\n",
       "<polygon fill=\"black\" stroke=\"black\" points=\"453.95,-244.79 456.82,-234.59 448.21,-240.77 453.95,-244.79\"/>\n",
       "<text text-anchor=\"middle\" x=\"356.39\" y=\"-288.2\" font-family=\"Times,serif\" font-size=\"14.00\">41.62557395932351</text>\n",
       "</g>\n",
       "<!-- ILI -->\n",
       "<g id=\"node6\" class=\"node\">\n",
       "<title>ILI</title>\n",
       "<ellipse fill=\"none\" stroke=\"black\" cx=\"27\" cy=\"-258.4\" rx=\"22.18\" ry=\"22.18\"/>\n",
       "<ellipse fill=\"none\" stroke=\"black\" cx=\"27\" cy=\"-258.4\" rx=\"26.2\" ry=\"26.2\"/>\n",
       "<text text-anchor=\"middle\" x=\"27\" y=\"-254.7\" font-family=\"Times,serif\" font-size=\"14.00\">ILI</text>\n",
       "</g>\n",
       "<!-- ILI&#45;&gt;L0N0 -->\n",
       "<g id=\"edge7\" class=\"edge\">\n",
       "<title>ILI&#45;&gt;L0N0</title>\n",
       "<path fill=\"none\" stroke=\"black\" d=\"M41.21,-236.31C45.57,-228.57 50.25,-219.73 54,-211.4 63.85,-189.47 53.47,-175.71 72,-160.4 82.04,-152.1 156.61,-143.19 204.28,-138.25\"/>\n",
       "<polygon fill=\"black\" stroke=\"black\" points=\"204.7,-141.73 214.3,-137.23 203.99,-134.76 204.7,-141.73\"/>\n",
       "<text text-anchor=\"middle\" x=\"134\" y=\"-164.2\" font-family=\"Times,serif\" font-size=\"14.00\">32.874130890015046</text>\n",
       "</g>\n",
       "<!-- ILI&#45;&gt;L0N1 -->\n",
       "<g id=\"edge8\" class=\"edge\">\n",
       "<title>ILI&#45;&gt;L0N1</title>\n",
       "<path fill=\"none\" stroke=\"black\" d=\"M53.22,-259.68C90.24,-261.56 159.67,-265.1 203.84,-267.34\"/>\n",
       "<polygon fill=\"black\" stroke=\"black\" points=\"203.78,-270.85 213.94,-267.86 204.13,-263.85 203.78,-270.85\"/>\n",
       "<text text-anchor=\"middle\" x=\"134\" y=\"-270.2\" font-family=\"Times,serif\" font-size=\"14.00\">31.84817958826994</text>\n",
       "</g>\n",
       "<!-- L2N0 -->\n",
       "<g id=\"node10\" class=\"node\">\n",
       "<title>L2N0</title>\n",
       "<ellipse fill=\"none\" stroke=\"black\" cx=\"691.99\" cy=\"-90.4\" rx=\"31.4\" ry=\"18\"/>\n",
       "<text text-anchor=\"middle\" x=\"691.99\" y=\"-86.7\" font-family=\"Times,serif\" font-size=\"14.00\">L2N0</text>\n",
       "</g>\n",
       "<!-- L1N0&#45;&gt;L2N0 -->\n",
       "<g id=\"edge15\" class=\"edge\">\n",
       "<title>L1N0&#45;&gt;L2N0</title>\n",
       "<path fill=\"none\" stroke=\"black\" d=\"M483.59,-125.51C488.52,-120.15 493.97,-114.09 498.79,-108.4 507.18,-98.49 505.12,-91.08 516.79,-85.4 560.3,-64.2 617.44,-71.45 654.2,-79.86\"/>\n",
       "<polygon fill=\"black\" stroke=\"black\" points=\"653.46,-83.29 664,-82.25 655.11,-76.48 653.46,-83.29\"/>\n",
       "<text text-anchor=\"middle\" x=\"579.79\" y=\"-89.2\" font-family=\"Times,serif\" font-size=\"14.00\">7.580394611259123</text>\n",
       "</g>\n",
       "<!-- L2N1 -->\n",
       "<g id=\"node11\" class=\"node\">\n",
       "<title>L2N1</title>\n",
       "<ellipse fill=\"none\" stroke=\"black\" cx=\"691.99\" cy=\"-155.4\" rx=\"31.4\" ry=\"18\"/>\n",
       "<text text-anchor=\"middle\" x=\"691.99\" y=\"-151.7\" font-family=\"Times,serif\" font-size=\"14.00\">L2N1</text>\n",
       "</g>\n",
       "<!-- L1N0&#45;&gt;L2N1 -->\n",
       "<g id=\"edge17\" class=\"edge\">\n",
       "<title>L1N0&#45;&gt;L2N1</title>\n",
       "<path fill=\"none\" stroke=\"black\" d=\"M499.05,-143.32C538.39,-145.79 607,-150.11 650.64,-152.86\"/>\n",
       "<polygon fill=\"black\" stroke=\"black\" points=\"650.7,-156.37 660.9,-153.5 651.14,-149.38 650.7,-156.37\"/>\n",
       "<text text-anchor=\"middle\" x=\"579.79\" y=\"-155.2\" font-family=\"Times,serif\" font-size=\"14.00\">24.162789675500562</text>\n",
       "</g>\n",
       "<!-- L1N1&#45;&gt;L2N0 -->\n",
       "<g id=\"edge16\" class=\"edge\">\n",
       "<title>L1N1&#45;&gt;L2N0</title>\n",
       "<path fill=\"none\" stroke=\"black\" d=\"M491.69,-205.54C499.51,-201.88 508.39,-198.11 516.79,-195.4 571.12,-177.87 598.43,-206.34 642.79,-170.4 658.57,-157.61 650.38,-145.84 660.79,-128.4 663.65,-123.6 667.05,-118.75 670.53,-114.18\"/>\n",
       "<polygon fill=\"black\" stroke=\"black\" points=\"673.27,-116.36 676.75,-106.35 667.79,-112 673.27,-116.36\"/>\n",
       "<text text-anchor=\"middle\" x=\"579.79\" y=\"-199.2\" font-family=\"Times,serif\" font-size=\"14.00\">&#45;7.088612626062574</text>\n",
       "</g>\n",
       "<!-- L1N1&#45;&gt;L2N1 -->\n",
       "<g id=\"edge18\" class=\"edge\">\n",
       "<title>L1N1&#45;&gt;L2N1</title>\n",
       "<path fill=\"none\" stroke=\"black\" d=\"M496.8,-223.86C532.71,-230.57 595.71,-237.23 642.79,-214.4 657.25,-207.39 668.84,-193.74 677.03,-181.33\"/>\n",
       "<polygon fill=\"black\" stroke=\"black\" points=\"680.12,-182.99 682.38,-172.63 674.16,-179.32 680.12,-182.99\"/>\n",
       "<text text-anchor=\"middle\" x=\"579.79\" y=\"-233.2\" font-family=\"Times,serif\" font-size=\"14.00\">0.06991027545918738</text>\n",
       "</g>\n",
       "<!-- L0I -->\n",
       "<g id=\"node9\" class=\"node\">\n",
       "<title>L0I</title>\n",
       "<ellipse fill=\"none\" stroke=\"black\" cx=\"245.2\" cy=\"-203.4\" rx=\"23.31\" ry=\"23.31\"/>\n",
       "<ellipse fill=\"none\" stroke=\"black\" cx=\"245.2\" cy=\"-203.4\" rx=\"27.3\" ry=\"27.3\"/>\n",
       "<text text-anchor=\"middle\" x=\"245.2\" y=\"-199.7\" font-family=\"Times,serif\" font-size=\"14.00\">L0I</text>\n",
       "</g>\n",
       "<!-- L0I&#45;&gt;L1N0 -->\n",
       "<g id=\"edge13\" class=\"edge\">\n",
       "<title>L0I&#45;&gt;L1N0</title>\n",
       "<path fill=\"none\" stroke=\"black\" d=\"M262.05,-181.49C274.29,-164.91 289.88,-144.6 294.39,-142.4 336.7,-121.76 392.11,-126.13 428.5,-132.55\"/>\n",
       "<polygon fill=\"black\" stroke=\"black\" points=\"428.21,-136.06 438.68,-134.49 429.52,-129.18 428.21,-136.06\"/>\n",
       "<text text-anchor=\"middle\" x=\"356.39\" y=\"-146.2\" font-family=\"Times,serif\" font-size=\"14.00\">85.74654034579409</text>\n",
       "</g>\n",
       "<!-- L0I&#45;&gt;L1N1 -->\n",
       "<g id=\"edge14\" class=\"edge\">\n",
       "<title>L0I&#45;&gt;L1N1</title>\n",
       "<path fill=\"none\" stroke=\"black\" d=\"M272.78,-205.09C310.94,-207.51 381.54,-212 426.18,-214.83\"/>\n",
       "<polygon fill=\"black\" stroke=\"black\" points=\"426.19,-218.34 436.39,-215.48 426.63,-211.35 426.19,-218.34\"/>\n",
       "<text text-anchor=\"middle\" x=\"356.39\" y=\"-217.2\" font-family=\"Times,serif\" font-size=\"14.00\">&#45;12.398917365433416</text>\n",
       "</g>\n",
       "<!-- L3N0 -->\n",
       "<g id=\"node13\" class=\"node\">\n",
       "<title>L3N0</title>\n",
       "<ellipse fill=\"none\" stroke=\"black\" cx=\"914.38\" cy=\"-90.4\" rx=\"31.4\" ry=\"18\"/>\n",
       "<text text-anchor=\"middle\" x=\"914.38\" y=\"-86.7\" font-family=\"Times,serif\" font-size=\"14.00\">L3N0</text>\n",
       "</g>\n",
       "<!-- L2N0&#45;&gt;L3N0 -->\n",
       "<g id=\"edge21\" class=\"edge\">\n",
       "<title>L2N0&#45;&gt;L3N0</title>\n",
       "<path fill=\"none\" stroke=\"black\" d=\"M723.63,-90.4C762.53,-90.4 829.75,-90.4 872.85,-90.4\"/>\n",
       "<polygon fill=\"black\" stroke=\"black\" points=\"873,-93.9 883,-90.4 873,-86.9 873,-93.9\"/>\n",
       "<text text-anchor=\"middle\" x=\"803.18\" y=\"-94.2\" font-family=\"Times,serif\" font-size=\"14.00\">&#45;16.269391644112698</text>\n",
       "</g>\n",
       "<!-- L2N1&#45;&gt;L3N0 -->\n",
       "<g id=\"edge22\" class=\"edge\">\n",
       "<title>L2N1&#45;&gt;L3N0</title>\n",
       "<path fill=\"none\" stroke=\"black\" d=\"M721.31,-148.89C755.68,-140.74 815.22,-125.86 865.18,-109.4 869.75,-107.89 874.51,-106.19 879.18,-104.43\"/>\n",
       "<polygon fill=\"black\" stroke=\"black\" points=\"880.5,-107.68 888.56,-100.81 877.97,-101.15 880.5,-107.68\"/>\n",
       "<text text-anchor=\"middle\" x=\"803.18\" y=\"-147.2\" font-family=\"Times,serif\" font-size=\"14.00\">&#45;157.06078913280538</text>\n",
       "</g>\n",
       "<!-- L1I -->\n",
       "<g id=\"node12\" class=\"node\">\n",
       "<title>L1I</title>\n",
       "<ellipse fill=\"none\" stroke=\"black\" cx=\"467.59\" cy=\"-72.4\" rx=\"23.31\" ry=\"23.31\"/>\n",
       "<ellipse fill=\"none\" stroke=\"black\" cx=\"467.59\" cy=\"-72.4\" rx=\"27.3\" ry=\"27.3\"/>\n",
       "<text text-anchor=\"middle\" x=\"467.59\" y=\"-68.7\" font-family=\"Times,serif\" font-size=\"14.00\">L1I</text>\n",
       "</g>\n",
       "<!-- L1I&#45;&gt;L2N0 -->\n",
       "<g id=\"edge19\" class=\"edge\">\n",
       "<title>L1I&#45;&gt;L2N0</title>\n",
       "<path fill=\"none\" stroke=\"black\" d=\"M491.24,-57.82C499.02,-53.59 508,-49.54 516.79,-47.4 571.19,-34.13 590.46,-27.45 642.79,-47.4 642.89,-47.44 654.63,-57.91 666.5,-68.51\"/>\n",
       "<polygon fill=\"black\" stroke=\"black\" points=\"664.4,-71.33 674.19,-75.38 669.06,-66.11 664.4,-71.33\"/>\n",
       "<text text-anchor=\"middle\" x=\"579.79\" y=\"-51.2\" font-family=\"Times,serif\" font-size=\"14.00\">&#45;1.647409889431655</text>\n",
       "</g>\n",
       "<!-- L1I&#45;&gt;L2N1 -->\n",
       "<g id=\"edge20\" class=\"edge\">\n",
       "<title>L1I&#45;&gt;L2N1</title>\n",
       "<path fill=\"none\" stroke=\"black\" d=\"M490.87,-87.4C498.77,-92.16 507.92,-97.05 516.79,-100.4 570.2,-120.57 589.69,-104.42 642.79,-125.4 649.85,-128.19 657.02,-132.01 663.6,-136\"/>\n",
       "<polygon fill=\"black\" stroke=\"black\" points=\"661.83,-139.02 672.14,-141.45 665.59,-133.12 661.83,-139.02\"/>\n",
       "<text text-anchor=\"middle\" x=\"579.79\" y=\"-129.2\" font-family=\"Times,serif\" font-size=\"14.00\">&#45;1.4208004752718744</text>\n",
       "</g>\n",
       "<!-- L2I -->\n",
       "<g id=\"node14\" class=\"node\">\n",
       "<title>L2I</title>\n",
       "<ellipse fill=\"none\" stroke=\"black\" cx=\"691.99\" cy=\"-27.4\" rx=\"23.31\" ry=\"23.31\"/>\n",
       "<ellipse fill=\"none\" stroke=\"black\" cx=\"691.99\" cy=\"-27.4\" rx=\"27.3\" ry=\"27.3\"/>\n",
       "<text text-anchor=\"middle\" x=\"691.99\" y=\"-23.7\" font-family=\"Times,serif\" font-size=\"14.00\">L2I</text>\n",
       "</g>\n",
       "<!-- L2I&#45;&gt;L3N0 -->\n",
       "<g id=\"edge23\" class=\"edge\">\n",
       "<title>L2I&#45;&gt;L3N0</title>\n",
       "<path fill=\"none\" stroke=\"black\" d=\"M718.95,-32.96C752.91,-40.49 814.1,-54.87 865.18,-71.4 869.76,-72.88 874.52,-74.57 879.2,-76.31\"/>\n",
       "<polygon fill=\"black\" stroke=\"black\" points=\"877.99,-79.6 888.58,-79.93 880.51,-73.07 877.99,-79.6\"/>\n",
       "<text text-anchor=\"middle\" x=\"803.18\" y=\"-75.2\" font-family=\"Times,serif\" font-size=\"14.00\">32.51944453465386</text>\n",
       "</g>\n",
       "</g>\n",
       "</svg>\n"
      ],
      "text/plain": [
       "<graphviz.graphs.Digraph at 0x7fa831b60b50>"
      ]
     },
     "execution_count": 22,
     "metadata": {},
     "output_type": "execute_result"
    }
   ],
   "source": [
    "graphMLP(Admis.columns[1:], model_nnet.coefs_, model_nnet.intercepts_)"
   ]
  },
  {
   "cell_type": "markdown",
   "metadata": {},
   "source": [
    "As you can see, some weights are large (two orders of magnitude larger then others) This is no good, since it makes the model unstable (i.e., small changes in some inputs may entail significant changes in the network, because of the large weights)\n",
    "\n",
    "One way to avoid this is by regularizing the learning process:"
   ]
  },
  {
   "cell_type": "code",
   "execution_count": 23,
   "metadata": {},
   "outputs": [
    {
     "data": {
      "text/html": [
       "<style>#sk-container-id-4 {color: black;background-color: white;}#sk-container-id-4 pre{padding: 0;}#sk-container-id-4 div.sk-toggleable {background-color: white;}#sk-container-id-4 label.sk-toggleable__label {cursor: pointer;display: block;width: 100%;margin-bottom: 0;padding: 0.3em;box-sizing: border-box;text-align: center;}#sk-container-id-4 label.sk-toggleable__label-arrow:before {content: \"▸\";float: left;margin-right: 0.25em;color: #696969;}#sk-container-id-4 label.sk-toggleable__label-arrow:hover:before {color: black;}#sk-container-id-4 div.sk-estimator:hover label.sk-toggleable__label-arrow:before {color: black;}#sk-container-id-4 div.sk-toggleable__content {max-height: 0;max-width: 0;overflow: hidden;text-align: left;background-color: #f0f8ff;}#sk-container-id-4 div.sk-toggleable__content pre {margin: 0.2em;color: black;border-radius: 0.25em;background-color: #f0f8ff;}#sk-container-id-4 input.sk-toggleable__control:checked~div.sk-toggleable__content {max-height: 200px;max-width: 100%;overflow: auto;}#sk-container-id-4 input.sk-toggleable__control:checked~label.sk-toggleable__label-arrow:before {content: \"▾\";}#sk-container-id-4 div.sk-estimator input.sk-toggleable__control:checked~label.sk-toggleable__label {background-color: #d4ebff;}#sk-container-id-4 div.sk-label input.sk-toggleable__control:checked~label.sk-toggleable__label {background-color: #d4ebff;}#sk-container-id-4 input.sk-hidden--visually {border: 0;clip: rect(1px 1px 1px 1px);clip: rect(1px, 1px, 1px, 1px);height: 1px;margin: -1px;overflow: hidden;padding: 0;position: absolute;width: 1px;}#sk-container-id-4 div.sk-estimator {font-family: monospace;background-color: #f0f8ff;border: 1px dotted black;border-radius: 0.25em;box-sizing: border-box;margin-bottom: 0.5em;}#sk-container-id-4 div.sk-estimator:hover {background-color: #d4ebff;}#sk-container-id-4 div.sk-parallel-item::after {content: \"\";width: 100%;border-bottom: 1px solid gray;flex-grow: 1;}#sk-container-id-4 div.sk-label:hover label.sk-toggleable__label {background-color: #d4ebff;}#sk-container-id-4 div.sk-serial::before {content: \"\";position: absolute;border-left: 1px solid gray;box-sizing: border-box;top: 0;bottom: 0;left: 50%;z-index: 0;}#sk-container-id-4 div.sk-serial {display: flex;flex-direction: column;align-items: center;background-color: white;padding-right: 0.2em;padding-left: 0.2em;position: relative;}#sk-container-id-4 div.sk-item {position: relative;z-index: 1;}#sk-container-id-4 div.sk-parallel {display: flex;align-items: stretch;justify-content: center;background-color: white;position: relative;}#sk-container-id-4 div.sk-item::before, #sk-container-id-4 div.sk-parallel-item::before {content: \"\";position: absolute;border-left: 1px solid gray;box-sizing: border-box;top: 0;bottom: 0;left: 50%;z-index: -1;}#sk-container-id-4 div.sk-parallel-item {display: flex;flex-direction: column;z-index: 1;position: relative;background-color: white;}#sk-container-id-4 div.sk-parallel-item:first-child::after {align-self: flex-end;width: 50%;}#sk-container-id-4 div.sk-parallel-item:last-child::after {align-self: flex-start;width: 50%;}#sk-container-id-4 div.sk-parallel-item:only-child::after {width: 0;}#sk-container-id-4 div.sk-dashed-wrapped {border: 1px dashed gray;margin: 0 0.4em 0.5em 0.4em;box-sizing: border-box;padding-bottom: 0.4em;background-color: white;}#sk-container-id-4 div.sk-label label {font-family: monospace;font-weight: bold;display: inline-block;line-height: 1.2em;}#sk-container-id-4 div.sk-label-container {text-align: center;}#sk-container-id-4 div.sk-container {/* jupyter's `normalize.less` sets `[hidden] { display: none; }` but bootstrap.min.css set `[hidden] { display: none !important; }` so we also need the `!important` here to be able to override the default hidden behavior on the sphinx rendered scikit-learn.org. See: https://github.com/scikit-learn/scikit-learn/issues/21755 */display: inline-block !important;position: relative;}#sk-container-id-4 div.sk-text-repr-fallback {display: none;}</style><div id=\"sk-container-id-4\" class=\"sk-top-container\"><div class=\"sk-text-repr-fallback\"><pre>MLPClassifier(activation=&#x27;logistic&#x27;, alpha=0.001, hidden_layer_sizes=[2, 2, 2],\n",
       "              random_state=42, solver=&#x27;lbfgs&#x27;)</pre><b>In a Jupyter environment, please rerun this cell to show the HTML representation or trust the notebook. <br />On GitHub, the HTML representation is unable to render, please try loading this page with nbviewer.org.</b></div><div class=\"sk-container\" hidden><div class=\"sk-item\"><div class=\"sk-estimator sk-toggleable\"><input class=\"sk-toggleable__control sk-hidden--visually\" id=\"sk-estimator-id-4\" type=\"checkbox\" checked><label for=\"sk-estimator-id-4\" class=\"sk-toggleable__label sk-toggleable__label-arrow\">MLPClassifier</label><div class=\"sk-toggleable__content\"><pre>MLPClassifier(activation=&#x27;logistic&#x27;, alpha=0.001, hidden_layer_sizes=[2, 2, 2],\n",
       "              random_state=42, solver=&#x27;lbfgs&#x27;)</pre></div></div></div></div></div>"
      ],
      "text/plain": [
       "MLPClassifier(activation='logistic', alpha=0.001, hidden_layer_sizes=[2, 2, 2],\n",
       "              random_state=42, solver='lbfgs')"
      ]
     },
     "execution_count": 23,
     "metadata": {},
     "output_type": "execute_result"
    },
    {
     "name": "stdout",
     "output_type": "stream",
     "text": [
      "Confusion matrix of the TRAIN dataset\n"
     ]
    },
    {
     "data": {
      "text/html": [
       "<div>\n",
       "<style scoped>\n",
       "    .dataframe tbody tr th:only-of-type {\n",
       "        vertical-align: middle;\n",
       "    }\n",
       "\n",
       "    .dataframe tbody tr th {\n",
       "        vertical-align: top;\n",
       "    }\n",
       "\n",
       "    .dataframe thead th {\n",
       "        text-align: right;\n",
       "    }\n",
       "</style>\n",
       "<table border=\"1\" class=\"dataframe\">\n",
       "  <thead>\n",
       "    <tr style=\"text-align: right;\">\n",
       "      <th>predicted</th>\n",
       "      <th>0</th>\n",
       "      <th>1</th>\n",
       "    </tr>\n",
       "    <tr>\n",
       "      <th>target</th>\n",
       "      <th></th>\n",
       "      <th></th>\n",
       "    </tr>\n",
       "  </thead>\n",
       "  <tbody>\n",
       "    <tr>\n",
       "      <th>0</th>\n",
       "      <td>158</td>\n",
       "      <td>25</td>\n",
       "    </tr>\n",
       "    <tr>\n",
       "      <th>1</th>\n",
       "      <td>54</td>\n",
       "      <td>31</td>\n",
       "    </tr>\n",
       "  </tbody>\n",
       "</table>\n",
       "</div>"
      ],
      "text/plain": [
       "predicted    0   1\n",
       "target            \n",
       "0          158  25\n",
       "1           54  31"
      ]
     },
     "execution_count": 23,
     "metadata": {},
     "output_type": "execute_result"
    },
    {
     "data": {
      "text/html": [
       "<div>\n",
       "<style scoped>\n",
       "    .dataframe tbody tr th:only-of-type {\n",
       "        vertical-align: middle;\n",
       "    }\n",
       "\n",
       "    .dataframe tbody tr th {\n",
       "        vertical-align: top;\n",
       "    }\n",
       "\n",
       "    .dataframe thead th {\n",
       "        text-align: right;\n",
       "    }\n",
       "</style>\n",
       "<table border=\"1\" class=\"dataframe\">\n",
       "  <thead>\n",
       "    <tr style=\"text-align: right;\">\n",
       "      <th></th>\n",
       "      <th>F-score (cv)</th>\n",
       "      <th>Precision (cv)</th>\n",
       "      <th>Recall (cv)</th>\n",
       "      <th>Accuracy (cv)</th>\n",
       "    </tr>\n",
       "  </thead>\n",
       "  <tbody>\n",
       "    <tr>\n",
       "      <th>MLP[1]</th>\n",
       "      <td>0.56</td>\n",
       "      <td>0.655</td>\n",
       "      <td>0.57</td>\n",
       "      <td>0.683</td>\n",
       "    </tr>\n",
       "    <tr>\n",
       "      <th>MLP[2,2,2]</th>\n",
       "      <td>0.559</td>\n",
       "      <td>0.629</td>\n",
       "      <td>0.575</td>\n",
       "      <td>0.69</td>\n",
       "    </tr>\n",
       "    <tr>\n",
       "      <th>Logistic Regression</th>\n",
       "      <td>0.554</td>\n",
       "      <td>0.686</td>\n",
       "      <td>0.568</td>\n",
       "      <td>0.698</td>\n",
       "    </tr>\n",
       "    <tr>\n",
       "      <th>MLP[2,2,2]-alpha=0.001</th>\n",
       "      <td>0.502</td>\n",
       "      <td>0.529</td>\n",
       "      <td>0.536</td>\n",
       "      <td>0.675</td>\n",
       "    </tr>\n",
       "  </tbody>\n",
       "</table>\n",
       "</div>"
      ],
      "text/plain": [
       "                       F-score (cv) Precision (cv) Recall (cv) Accuracy (cv)\n",
       "MLP[1]                         0.56          0.655        0.57         0.683\n",
       "MLP[2,2,2]                    0.559          0.629       0.575          0.69\n",
       "Logistic Regression           0.554          0.686       0.568         0.698\n",
       "MLP[2,2,2]-alpha=0.001        0.502          0.529       0.536         0.675"
      ]
     },
     "execution_count": 23,
     "metadata": {},
     "output_type": "execute_result"
    }
   ],
   "source": [
    "model_nnet = MLPClassifier(hidden_layer_sizes=[2,2,2],\n",
    "                           alpha=0.001,\n",
    "                           activation='logistic',\n",
    "                           max_iter=200,\n",
    "                           solver='lbfgs',random_state=42)\n",
    "model_nnet.fit(X_train,y_train);\n",
    "print('Confusion matrix of the TRAIN dataset')\n",
    "confusion(y_train,y_pred)\n",
    "\n",
    "cross_val_results = pd.DataFrame(cross_validate(model_nnet , X_train, y_train, cv = 5, \n",
    "                                                scoring = [ 'f1_macro', 'precision_macro', 'recall_macro', 'accuracy'] ))\n",
    "\n",
    "results_df.loc['MLP[2,2,2]-alpha=0.001',:] = cross_val_results[['test_f1_macro',\n",
    "       'test_precision_macro', 'test_recall_macro','test_accuracy']].mean().values\n",
    "\n",
    "results_df.sort_values(by='F-score (cv)', ascending=False)"
   ]
  },
  {
   "cell_type": "markdown",
   "metadata": {},
   "source": [
    "Now we have a model with smaller weights (more robust) but with worse performance. As you can see, just trying hyperparameter configurations is not enough to obtain a good model. If we want to succeed we need to try a lot of different configurations changing the architecture, the regularization parameter and the activation functions."
   ]
  },
  {
   "cell_type": "code",
   "execution_count": 24,
   "metadata": {
    "scrolled": true
   },
   "outputs": [
    {
     "data": {
      "image/svg+xml": [
       "<?xml version=\"1.0\" encoding=\"UTF-8\" standalone=\"no\"?>\n",
       "<!DOCTYPE svg PUBLIC \"-//W3C//DTD SVG 1.1//EN\"\n",
       " \"http://www.w3.org/Graphics/SVG/1.1/DTD/svg11.dtd\">\n",
       "<!-- Generated by graphviz version 2.50.0 (0)\n",
       " -->\n",
       "<!-- Pages: 1 -->\n",
       "<svg width=\"962pt\" height=\"364pt\"\n",
       " viewBox=\"0.00 0.00 961.58 364.40\" xmlns=\"http://www.w3.org/2000/svg\" xmlns:xlink=\"http://www.w3.org/1999/xlink\">\n",
       "<g id=\"graph0\" class=\"graph\" transform=\"scale(1 1) rotate(0) translate(4 360.4)\">\n",
       "<polygon fill=\"white\" stroke=\"transparent\" points=\"-4,4 -4,-360.4 957.58,-360.4 957.58,4 -4,4\"/>\n",
       "<!-- gre -->\n",
       "<g id=\"node1\" class=\"node\">\n",
       "<title>gre</title>\n",
       "<ellipse fill=\"none\" stroke=\"black\" cx=\"27\" cy=\"-326.4\" rx=\"27\" ry=\"18\"/>\n",
       "<text text-anchor=\"middle\" x=\"27\" y=\"-322.7\" font-family=\"Times,serif\" font-size=\"14.00\">gre</text>\n",
       "</g>\n",
       "<!-- L0N0 -->\n",
       "<g id=\"node2\" class=\"node\">\n",
       "<title>L0N0</title>\n",
       "<ellipse fill=\"none\" stroke=\"black\" cx=\"251.2\" cy=\"-134.4\" rx=\"31.4\" ry=\"18\"/>\n",
       "<text text-anchor=\"middle\" x=\"251.2\" y=\"-130.7\" font-family=\"Times,serif\" font-size=\"14.00\">L0N0</text>\n",
       "</g>\n",
       "<!-- gre&#45;&gt;L0N0 -->\n",
       "<g id=\"edge1\" class=\"edge\">\n",
       "<title>gre&#45;&gt;L0N0</title>\n",
       "<path fill=\"none\" stroke=\"black\" d=\"M49.61,-316.49C56.64,-313.55 64.55,-310.55 72,-308.4 128.36,-292.09 161.01,-327.38 202,-285.4 239.06,-247.44 197.11,-215.25 220,-167.4 221.72,-163.8 223.97,-160.31 226.47,-157.04\"/>\n",
       "<polygon fill=\"black\" stroke=\"black\" points=\"229.16,-159.28 233.01,-149.41 223.84,-154.72 229.16,-159.28\"/>\n",
       "<text text-anchor=\"middle\" x=\"137\" y=\"-312.2\" font-family=\"Times,serif\" font-size=\"14.00\">&#45;0.23309745348245486</text>\n",
       "</g>\n",
       "<!-- L0N1 -->\n",
       "<g id=\"node5\" class=\"node\">\n",
       "<title>L0N1</title>\n",
       "<ellipse fill=\"none\" stroke=\"black\" cx=\"251.2\" cy=\"-269.4\" rx=\"31.4\" ry=\"18\"/>\n",
       "<text text-anchor=\"middle\" x=\"251.2\" y=\"-265.7\" font-family=\"Times,serif\" font-size=\"14.00\">L0N1</text>\n",
       "</g>\n",
       "<!-- gre&#45;&gt;L0N1 -->\n",
       "<g id=\"edge4\" class=\"edge\">\n",
       "<title>gre&#45;&gt;L0N1</title>\n",
       "<path fill=\"none\" stroke=\"black\" d=\"M52.47,-332.85C87.48,-340.73 153.05,-350.37 202,-327.4 216.31,-320.69 227.84,-307.41 236.03,-295.25\"/>\n",
       "<polygon fill=\"black\" stroke=\"black\" points=\"239.04,-297.03 241.39,-286.7 233.11,-293.31 239.04,-297.03\"/>\n",
       "<text text-anchor=\"middle\" x=\"137\" y=\"-345.2\" font-family=\"Times,serif\" font-size=\"14.00\">14.569232164733368</text>\n",
       "</g>\n",
       "<!-- L1N0 -->\n",
       "<g id=\"node7\" class=\"node\">\n",
       "<title>L1N0</title>\n",
       "<ellipse fill=\"none\" stroke=\"black\" cx=\"473.59\" cy=\"-141.4\" rx=\"31.4\" ry=\"18\"/>\n",
       "<text text-anchor=\"middle\" x=\"473.59\" y=\"-137.7\" font-family=\"Times,serif\" font-size=\"14.00\">L1N0</text>\n",
       "</g>\n",
       "<!-- L0N0&#45;&gt;L1N0 -->\n",
       "<g id=\"edge9\" class=\"edge\">\n",
       "<title>L0N0&#45;&gt;L1N0</title>\n",
       "<path fill=\"none\" stroke=\"black\" d=\"M270.26,-119.8C278.85,-113.77 289.59,-107.49 300.39,-104.4 353.38,-89.25 372.21,-86.68 424.39,-104.4 433.64,-107.54 442.5,-113.24 450.04,-119.24\"/>\n",
       "<polygon fill=\"black\" stroke=\"black\" points=\"447.79,-121.93 457.66,-125.77 452.34,-116.61 447.79,-121.93\"/>\n",
       "<text text-anchor=\"middle\" x=\"362.39\" y=\"-108.2\" font-family=\"Times,serif\" font-size=\"14.00\">&#45;8.2814585735796</text>\n",
       "</g>\n",
       "<!-- L1N1 -->\n",
       "<g id=\"node8\" class=\"node\">\n",
       "<title>L1N1</title>\n",
       "<ellipse fill=\"none\" stroke=\"black\" cx=\"473.59\" cy=\"-217.4\" rx=\"31.4\" ry=\"18\"/>\n",
       "<text text-anchor=\"middle\" x=\"473.59\" y=\"-213.7\" font-family=\"Times,serif\" font-size=\"14.00\">L1N1</text>\n",
       "</g>\n",
       "<!-- L0N0&#45;&gt;L1N1 -->\n",
       "<g id=\"edge11\" class=\"edge\">\n",
       "<title>L0N0&#45;&gt;L1N1</title>\n",
       "<path fill=\"none\" stroke=\"black\" d=\"M274.83,-146.39C282.76,-150.27 291.83,-154.36 300.39,-157.4 353.82,-176.38 372.1,-165.47 424.39,-187.4 431.11,-190.21 437.97,-193.91 444.32,-197.73\"/>\n",
       "<polygon fill=\"black\" stroke=\"black\" points=\"442.88,-200.96 453.2,-203.35 446.62,-195.04 442.88,-200.96\"/>\n",
       "<text text-anchor=\"middle\" x=\"362.39\" y=\"-191.2\" font-family=\"Times,serif\" font-size=\"14.00\">4.975485302178553</text>\n",
       "</g>\n",
       "<!-- gpa -->\n",
       "<g id=\"node3\" class=\"node\">\n",
       "<title>gpa</title>\n",
       "<ellipse fill=\"none\" stroke=\"black\" cx=\"27\" cy=\"-105.4\" rx=\"27\" ry=\"18\"/>\n",
       "<text text-anchor=\"middle\" x=\"27\" y=\"-101.7\" font-family=\"Times,serif\" font-size=\"14.00\">gpa</text>\n",
       "</g>\n",
       "<!-- gpa&#45;&gt;L0N0 -->\n",
       "<g id=\"edge2\" class=\"edge\">\n",
       "<title>gpa&#45;&gt;L0N0</title>\n",
       "<path fill=\"none\" stroke=\"black\" d=\"M47.91,-93.59C55.22,-89.88 63.74,-86.27 72,-84.4 128.35,-71.64 148.83,-61.8 202,-84.4 214.31,-89.63 225,-99.72 233.17,-109.47\"/>\n",
       "<polygon fill=\"black\" stroke=\"black\" points=\"230.5,-111.74 239.41,-117.47 236.02,-107.43 230.5,-111.74\"/>\n",
       "<text text-anchor=\"middle\" x=\"137\" y=\"-88.2\" font-family=\"Times,serif\" font-size=\"14.00\">&#45;0.3792639338625219</text>\n",
       "</g>\n",
       "<!-- gpa&#45;&gt;L0N1 -->\n",
       "<g id=\"edge5\" class=\"edge\">\n",
       "<title>gpa&#45;&gt;L0N1</title>\n",
       "<path fill=\"none\" stroke=\"black\" d=\"M36.61,-122.52C46.29,-141.06 61.96,-168.86 72,-175.4 120.93,-207.27 156.15,-158.24 202,-194.4 218.91,-207.74 208.11,-221.43 220,-239.4 221.68,-241.94 223.61,-244.44 225.65,-246.85\"/>\n",
       "<polygon fill=\"black\" stroke=\"black\" points=\"223.51,-249.68 232.89,-254.6 228.62,-244.9 223.51,-249.68\"/>\n",
       "<text text-anchor=\"middle\" x=\"137\" y=\"-198.2\" font-family=\"Times,serif\" font-size=\"14.00\">17.161609295671553</text>\n",
       "</g>\n",
       "<!-- rank -->\n",
       "<g id=\"node4\" class=\"node\">\n",
       "<title>rank</title>\n",
       "<ellipse fill=\"none\" stroke=\"black\" cx=\"27\" cy=\"-184.4\" rx=\"27\" ry=\"18\"/>\n",
       "<text text-anchor=\"middle\" x=\"27\" y=\"-180.7\" font-family=\"Times,serif\" font-size=\"14.00\">rank</text>\n",
       "</g>\n",
       "<!-- rank&#45;&gt;L0N0 -->\n",
       "<g id=\"edge3\" class=\"edge\">\n",
       "<title>rank&#45;&gt;L0N0</title>\n",
       "<path fill=\"none\" stroke=\"black\" d=\"M34.79,-167.16C41.69,-152.27 53.94,-131.73 72,-122.4 116.95,-99.18 176.99,-110.43 214.62,-121.65\"/>\n",
       "<polygon fill=\"black\" stroke=\"black\" points=\"214.02,-125.13 224.61,-124.78 216.12,-118.45 214.02,-125.13\"/>\n",
       "<text text-anchor=\"middle\" x=\"137\" y=\"-126.2\" font-family=\"Times,serif\" font-size=\"14.00\">&#45;3.652250355870362</text>\n",
       "</g>\n",
       "<!-- rank&#45;&gt;L0N1 -->\n",
       "<g id=\"edge6\" class=\"edge\">\n",
       "<title>rank&#45;&gt;L0N1</title>\n",
       "<path fill=\"none\" stroke=\"black\" d=\"M45.14,-197.84C52.95,-203.39 62.55,-209.43 72,-213.4 126.5,-236.27 146.88,-220.07 202,-241.4 208.55,-243.93 215.26,-247.28 221.51,-250.77\"/>\n",
       "<polygon fill=\"black\" stroke=\"black\" points=\"219.88,-253.87 230.27,-255.93 223.42,-247.84 219.88,-253.87\"/>\n",
       "<text text-anchor=\"middle\" x=\"137\" y=\"-245.2\" font-family=\"Times,serif\" font-size=\"14.00\">21.44334847685466</text>\n",
       "</g>\n",
       "<!-- L0N1&#45;&gt;L1N0 -->\n",
       "<g id=\"edge10\" class=\"edge\">\n",
       "<title>L0N1&#45;&gt;L1N0</title>\n",
       "<path fill=\"none\" stroke=\"black\" d=\"M277.45,-259.53C284.77,-256.94 292.83,-254.33 300.39,-252.4 354.49,-238.61 380.39,-266.75 424.39,-232.4 440.4,-219.9 433.04,-208.42 442.39,-190.4 446.41,-182.66 451.19,-174.52 455.75,-167.13\"/>\n",
       "<polygon fill=\"black\" stroke=\"black\" points=\"458.96,-168.6 461.34,-158.27 453.04,-164.86 458.96,-168.6\"/>\n",
       "<text text-anchor=\"middle\" x=\"362.39\" y=\"-256.2\" font-family=\"Times,serif\" font-size=\"14.00\">&#45;6.372345621811688</text>\n",
       "</g>\n",
       "<!-- L0N1&#45;&gt;L1N1 -->\n",
       "<g id=\"edge12\" class=\"edge\">\n",
       "<title>L0N1&#45;&gt;L1N1</title>\n",
       "<path fill=\"none\" stroke=\"black\" d=\"M279.88,-276.56C315.15,-284.19 377.19,-292.54 424.39,-271.4 437.61,-265.48 448.69,-253.95 456.88,-243.06\"/>\n",
       "<polygon fill=\"black\" stroke=\"black\" points=\"459.95,-244.79 462.82,-234.59 454.21,-240.77 459.95,-244.79\"/>\n",
       "<text text-anchor=\"middle\" x=\"362.39\" y=\"-288.2\" font-family=\"Times,serif\" font-size=\"14.00\">6.646989232987793</text>\n",
       "</g>\n",
       "<!-- ILI -->\n",
       "<g id=\"node6\" class=\"node\">\n",
       "<title>ILI</title>\n",
       "<ellipse fill=\"none\" stroke=\"black\" cx=\"27\" cy=\"-258.4\" rx=\"22.18\" ry=\"22.18\"/>\n",
       "<ellipse fill=\"none\" stroke=\"black\" cx=\"27\" cy=\"-258.4\" rx=\"26.2\" ry=\"26.2\"/>\n",
       "<text text-anchor=\"middle\" x=\"27\" y=\"-254.7\" font-family=\"Times,serif\" font-size=\"14.00\">ILI</text>\n",
       "</g>\n",
       "<!-- ILI&#45;&gt;L0N0 -->\n",
       "<g id=\"edge7\" class=\"edge\">\n",
       "<title>ILI&#45;&gt;L0N0</title>\n",
       "<path fill=\"none\" stroke=\"black\" d=\"M41.21,-236.31C45.57,-228.57 50.25,-219.73 54,-211.4 63.85,-189.47 53.43,-175.66 72,-160.4 82.48,-151.78 160.74,-142.89 210,-138.06\"/>\n",
       "<polygon fill=\"black\" stroke=\"black\" points=\"210.41,-141.54 220.03,-137.1 209.74,-134.57 210.41,-141.54\"/>\n",
       "<text text-anchor=\"middle\" x=\"137\" y=\"-164.2\" font-family=\"Times,serif\" font-size=\"14.00\">&#45;0.3886669117076342</text>\n",
       "</g>\n",
       "<!-- ILI&#45;&gt;L0N1 -->\n",
       "<g id=\"edge8\" class=\"edge\">\n",
       "<title>ILI&#45;&gt;L0N1</title>\n",
       "<path fill=\"none\" stroke=\"black\" d=\"M53.49,-259.66C91.77,-261.55 164.47,-265.15 209.96,-267.41\"/>\n",
       "<polygon fill=\"black\" stroke=\"black\" points=\"209.9,-270.91 220.06,-267.91 210.25,-263.92 209.9,-270.91\"/>\n",
       "<text text-anchor=\"middle\" x=\"137\" y=\"-270.2\" font-family=\"Times,serif\" font-size=\"14.00\">2.0273749579619023</text>\n",
       "</g>\n",
       "<!-- L2N0 -->\n",
       "<g id=\"node10\" class=\"node\">\n",
       "<title>L2N0</title>\n",
       "<ellipse fill=\"none\" stroke=\"black\" cx=\"704.99\" cy=\"-90.4\" rx=\"31.4\" ry=\"18\"/>\n",
       "<text text-anchor=\"middle\" x=\"704.99\" y=\"-86.7\" font-family=\"Times,serif\" font-size=\"14.00\">L2N0</text>\n",
       "</g>\n",
       "<!-- L1N0&#45;&gt;L2N0 -->\n",
       "<g id=\"edge15\" class=\"edge\">\n",
       "<title>L1N0&#45;&gt;L2N0</title>\n",
       "<path fill=\"none\" stroke=\"black\" d=\"M489.59,-125.51C494.52,-120.15 499.97,-114.09 504.79,-108.4 513.18,-98.49 511.12,-91.08 522.79,-85.4 568.43,-63.16 628.51,-70.94 666.7,-79.73\"/>\n",
       "<polygon fill=\"black\" stroke=\"black\" points=\"666.32,-83.24 676.86,-82.21 667.98,-76.44 666.32,-83.24\"/>\n",
       "<text text-anchor=\"middle\" x=\"589.29\" y=\"-89.2\" font-family=\"Times,serif\" font-size=\"14.00\">0.017337016147575237</text>\n",
       "</g>\n",
       "<!-- L2N1 -->\n",
       "<g id=\"node11\" class=\"node\">\n",
       "<title>L2N1</title>\n",
       "<ellipse fill=\"none\" stroke=\"black\" cx=\"704.99\" cy=\"-155.4\" rx=\"31.4\" ry=\"18\"/>\n",
       "<text text-anchor=\"middle\" x=\"704.99\" y=\"-151.7\" font-family=\"Times,serif\" font-size=\"14.00\">L2N1</text>\n",
       "</g>\n",
       "<!-- L1N0&#45;&gt;L2N1 -->\n",
       "<g id=\"edge17\" class=\"edge\">\n",
       "<title>L1N0&#45;&gt;L2N1</title>\n",
       "<path fill=\"none\" stroke=\"black\" d=\"M505.05,-143.26C545.87,-145.75 618.41,-150.18 663.7,-152.94\"/>\n",
       "<polygon fill=\"black\" stroke=\"black\" points=\"663.57,-156.44 673.76,-153.55 664,-149.45 663.57,-156.44\"/>\n",
       "<text text-anchor=\"middle\" x=\"589.29\" y=\"-155.2\" font-family=\"Times,serif\" font-size=\"14.00\">4.473686893760481</text>\n",
       "</g>\n",
       "<!-- L1N1&#45;&gt;L2N0 -->\n",
       "<g id=\"edge16\" class=\"edge\">\n",
       "<title>L1N1&#45;&gt;L2N0</title>\n",
       "<path fill=\"none\" stroke=\"black\" d=\"M497.68,-205.49C505.49,-201.83 514.37,-198.07 522.79,-195.4 580.12,-177.22 608.86,-208.02 655.79,-170.4 671.63,-157.69 663.38,-145.84 673.79,-128.4 676.65,-123.6 680.05,-118.75 683.53,-114.18\"/>\n",
       "<polygon fill=\"black\" stroke=\"black\" points=\"686.27,-116.36 689.75,-106.35 680.79,-112 686.27,-116.36\"/>\n",
       "<text text-anchor=\"middle\" x=\"589.29\" y=\"-199.2\" font-family=\"Times,serif\" font-size=\"14.00\">&#45;0.9784940994557597</text>\n",
       "</g>\n",
       "<!-- L1N1&#45;&gt;L2N1 -->\n",
       "<g id=\"edge18\" class=\"edge\">\n",
       "<title>L1N1&#45;&gt;L2N1</title>\n",
       "<path fill=\"none\" stroke=\"black\" d=\"M502.97,-223.96C540.14,-231.03 606.38,-238.34 655.79,-214.4 670.25,-207.39 681.84,-193.74 690.03,-181.34\"/>\n",
       "<polygon fill=\"black\" stroke=\"black\" points=\"693.12,-182.99 695.38,-172.64 687.16,-179.32 693.12,-182.99\"/>\n",
       "<text text-anchor=\"middle\" x=\"589.29\" y=\"-234.2\" font-family=\"Times,serif\" font-size=\"14.00\">&#45;2.0845025743826673</text>\n",
       "</g>\n",
       "<!-- L0I -->\n",
       "<g id=\"node9\" class=\"node\">\n",
       "<title>L0I</title>\n",
       "<ellipse fill=\"none\" stroke=\"black\" cx=\"251.2\" cy=\"-203.4\" rx=\"23.31\" ry=\"23.31\"/>\n",
       "<ellipse fill=\"none\" stroke=\"black\" cx=\"251.2\" cy=\"-203.4\" rx=\"27.3\" ry=\"27.3\"/>\n",
       "<text text-anchor=\"middle\" x=\"251.2\" y=\"-199.7\" font-family=\"Times,serif\" font-size=\"14.00\">L0I</text>\n",
       "</g>\n",
       "<!-- L0I&#45;&gt;L1N0 -->\n",
       "<g id=\"edge13\" class=\"edge\">\n",
       "<title>L0I&#45;&gt;L1N0</title>\n",
       "<path fill=\"none\" stroke=\"black\" d=\"M268.05,-181.49C280.29,-164.91 295.88,-144.6 300.39,-142.4 342.7,-121.76 398.11,-126.13 434.5,-132.55\"/>\n",
       "<polygon fill=\"black\" stroke=\"black\" points=\"434.21,-136.06 444.68,-134.49 435.52,-129.18 434.21,-136.06\"/>\n",
       "<text text-anchor=\"middle\" x=\"362.39\" y=\"-146.2\" font-family=\"Times,serif\" font-size=\"14.00\">5.252888614796828</text>\n",
       "</g>\n",
       "<!-- L0I&#45;&gt;L1N1 -->\n",
       "<g id=\"edge14\" class=\"edge\">\n",
       "<title>L0I&#45;&gt;L1N1</title>\n",
       "<path fill=\"none\" stroke=\"black\" d=\"M278.78,-205.09C316.94,-207.51 387.54,-212 432.18,-214.83\"/>\n",
       "<polygon fill=\"black\" stroke=\"black\" points=\"432.19,-218.34 442.39,-215.48 432.63,-211.35 432.19,-218.34\"/>\n",
       "<text text-anchor=\"middle\" x=\"362.39\" y=\"-217.2\" font-family=\"Times,serif\" font-size=\"14.00\">&#45;2.0547311263890724</text>\n",
       "</g>\n",
       "<!-- L3N0 -->\n",
       "<g id=\"node13\" class=\"node\">\n",
       "<title>L3N0</title>\n",
       "<ellipse fill=\"none\" stroke=\"black\" cx=\"922.38\" cy=\"-90.4\" rx=\"31.4\" ry=\"18\"/>\n",
       "<text text-anchor=\"middle\" x=\"922.38\" y=\"-86.7\" font-family=\"Times,serif\" font-size=\"14.00\">L3N0</text>\n",
       "</g>\n",
       "<!-- L2N0&#45;&gt;L3N0 -->\n",
       "<g id=\"edge21\" class=\"edge\">\n",
       "<title>L2N0&#45;&gt;L3N0</title>\n",
       "<path fill=\"none\" stroke=\"black\" d=\"M736.39,-90.4C774.23,-90.4 838.99,-90.4 880.98,-90.4\"/>\n",
       "<polygon fill=\"black\" stroke=\"black\" points=\"881.13,-93.9 891.13,-90.4 881.13,-86.9 881.13,-93.9\"/>\n",
       "<text text-anchor=\"middle\" x=\"813.68\" y=\"-94.2\" font-family=\"Times,serif\" font-size=\"14.00\">0.9910481366506535</text>\n",
       "</g>\n",
       "<!-- L2N1&#45;&gt;L3N0 -->\n",
       "<g id=\"edge22\" class=\"edge\">\n",
       "<title>L2N1&#45;&gt;L3N0</title>\n",
       "<path fill=\"none\" stroke=\"black\" d=\"M734.07,-148.65C767.51,-140.39 824.92,-125.5 873.18,-109.4 877.74,-107.88 882.5,-106.16 887.17,-104.4\"/>\n",
       "<polygon fill=\"black\" stroke=\"black\" points=\"888.49,-107.65 896.55,-100.77 885.96,-101.12 888.49,-107.65\"/>\n",
       "<text text-anchor=\"middle\" x=\"813.68\" y=\"-147.2\" font-family=\"Times,serif\" font-size=\"14.00\">&#45;6.07760964489474</text>\n",
       "</g>\n",
       "<!-- L1I -->\n",
       "<g id=\"node12\" class=\"node\">\n",
       "<title>L1I</title>\n",
       "<ellipse fill=\"none\" stroke=\"black\" cx=\"473.59\" cy=\"-72.4\" rx=\"23.31\" ry=\"23.31\"/>\n",
       "<ellipse fill=\"none\" stroke=\"black\" cx=\"473.59\" cy=\"-72.4\" rx=\"27.3\" ry=\"27.3\"/>\n",
       "<text text-anchor=\"middle\" x=\"473.59\" y=\"-68.7\" font-family=\"Times,serif\" font-size=\"14.00\">L1I</text>\n",
       "</g>\n",
       "<!-- L1I&#45;&gt;L2N0 -->\n",
       "<g id=\"edge19\" class=\"edge\">\n",
       "<title>L1I&#45;&gt;L2N0</title>\n",
       "<path fill=\"none\" stroke=\"black\" d=\"M497.24,-57.82C505.02,-53.59 514,-49.54 522.79,-47.4 580.22,-33.39 600.56,-26.34 655.79,-47.4 655.89,-47.44 667.63,-57.91 679.5,-68.51\"/>\n",
       "<polygon fill=\"black\" stroke=\"black\" points=\"677.4,-71.33 687.19,-75.38 682.06,-66.11 677.4,-71.33\"/>\n",
       "<text text-anchor=\"middle\" x=\"589.29\" y=\"-51.2\" font-family=\"Times,serif\" font-size=\"14.00\">&#45;0.4549822374250328</text>\n",
       "</g>\n",
       "<!-- L1I&#45;&gt;L2N1 -->\n",
       "<g id=\"edge20\" class=\"edge\">\n",
       "<title>L1I&#45;&gt;L2N1</title>\n",
       "<path fill=\"none\" stroke=\"black\" d=\"M496.85,-87.45C504.75,-92.21 513.9,-97.09 522.79,-100.4 579.16,-121.36 599.74,-103.58 655.79,-125.4 662.86,-128.15 670.04,-131.96 676.62,-135.95\"/>\n",
       "<polygon fill=\"black\" stroke=\"black\" points=\"674.85,-138.97 685.16,-141.4 678.62,-133.07 674.85,-138.97\"/>\n",
       "<text text-anchor=\"middle\" x=\"589.29\" y=\"-129.2\" font-family=\"Times,serif\" font-size=\"14.00\">1.5504946887783975</text>\n",
       "</g>\n",
       "<!-- L2I -->\n",
       "<g id=\"node14\" class=\"node\">\n",
       "<title>L2I</title>\n",
       "<ellipse fill=\"none\" stroke=\"black\" cx=\"704.99\" cy=\"-27.4\" rx=\"23.31\" ry=\"23.31\"/>\n",
       "<ellipse fill=\"none\" stroke=\"black\" cx=\"704.99\" cy=\"-27.4\" rx=\"27.3\" ry=\"27.3\"/>\n",
       "<text text-anchor=\"middle\" x=\"704.99\" y=\"-23.7\" font-family=\"Times,serif\" font-size=\"14.00\">L2I</text>\n",
       "</g>\n",
       "<!-- L2I&#45;&gt;L3N0 -->\n",
       "<g id=\"edge23\" class=\"edge\">\n",
       "<title>L2I&#45;&gt;L3N0</title>\n",
       "<path fill=\"none\" stroke=\"black\" d=\"M732.04,-33.25C765.17,-40.91 823.98,-55.29 873.18,-71.4 877.75,-72.89 882.51,-74.59 887.19,-76.34\"/>\n",
       "<polygon fill=\"black\" stroke=\"black\" points=\"885.98,-79.63 896.57,-79.97 888.5,-73.1 885.98,-79.63\"/>\n",
       "<text text-anchor=\"middle\" x=\"813.68\" y=\"-75.2\" font-family=\"Times,serif\" font-size=\"14.00\">2.3527373366141853</text>\n",
       "</g>\n",
       "</g>\n",
       "</svg>\n"
      ],
      "text/plain": [
       "<graphviz.graphs.Digraph at 0x7fa831ac5550>"
      ]
     },
     "execution_count": 24,
     "metadata": {},
     "output_type": "execute_result"
    }
   ],
   "source": [
    "graphMLP(Admis.columns[1:], model_nnet.coefs_, model_nnet.intercepts_)"
   ]
  },
  {
   "cell_type": "markdown",
   "metadata": {},
   "source": [
    "MLP results depend *Strongly* of its hyperparameter configuration. Now we are going to see different strategies to obtain the best hyperparameters for our model."
   ]
  },
  {
   "cell_type": "markdown",
   "metadata": {},
   "source": [
    "Scikit learn has specific functions for parameter search so we can tune the parameters of a model.\n",
    "\n",
    " We are going to use a grid search that will use a cross validation strategy to evaluate the results for each combination of parameters. At the end the best model will be returned\n",
    "\n",
    " In order to find the best network architecture, we can:\n",
    "\n",
    "1. Explore different numbers of hidden units in one hidden layer, with the best architecture, find the best regularization. \n",
    "2. Use grid search over all the combinations of architectures and regularization values. \n",
    "\n",
    "Most of the times the first option is good enough in terms of results, while a lot faster than the second. \n",
    "\n",
    "In this particular case we will do the secon method, as we are woring with a small and easy dataset.\n",
    "\n",
    "set desired sizes"
   ]
  },
  {
   "cell_type": "code",
   "execution_count": 25,
   "metadata": {},
   "outputs": [
    {
     "data": {
      "text/plain": [
       "(12,\n",
       " [2,\n",
       "  4,\n",
       "  6,\n",
       "  8,\n",
       "  [2, 2],\n",
       "  [4, 4],\n",
       "  [6, 6],\n",
       "  [8, 8],\n",
       "  [2, 2, 2],\n",
       "  [4, 4, 4],\n",
       "  [6, 6, 6],\n",
       "  [8, 8, 8]])"
      ]
     },
     "execution_count": 25,
     "metadata": {},
     "output_type": "execute_result"
    },
    {
     "data": {
      "text/plain": [
       "(7, [1e-05, 0.0001, 0.001, 0.01, 0.1, 0.5, 1])"
      ]
     },
     "execution_count": 25,
     "metadata": {},
     "output_type": "execute_result"
    }
   ],
   "source": [
    "sizes = [2*i for i in range(1,5)]\n",
    "sizes = sizes + [[2*i,2*i] for i in range(1,5)]\n",
    "sizes = sizes + [[2*i,2*i, 2*i] for i in range(1,5)]\n",
    "\n",
    "len(sizes), sizes\n",
    "\n",
    "\n",
    "decays = [0.00001,0.0001,0.001,0.01,0.1,0.5,1]\n",
    "len(decays), decays[:10] \n",
    "\n"
   ]
  },
  {
   "cell_type": "code",
   "execution_count": 26,
   "metadata": {},
   "outputs": [
    {
     "name": "stdout",
     "output_type": "stream",
     "text": [
      "0:00:53.087043\n"
     ]
    }
   ],
   "source": [
    "init_time=time()\n",
    "model_nnet = MLPClassifier(alpha=0,\n",
    "                           activation='logistic',\n",
    "                           max_iter=500,\n",
    "                           solver='lbfgs',\n",
    "                           random_state=42)\n",
    "\n",
    "trc = GridSearchCV(estimator=model_nnet,\n",
    "                   scoring=['f1_macro', 'precision_macro', 'recall_macro', 'accuracy'],\n",
    "                   param_grid={'hidden_layer_sizes': sizes,\n",
    "                              'alpha': decays},\n",
    "                   cv=10,\n",
    "                   return_train_score=True,\n",
    "                   refit='f1_macro')\n",
    "\n",
    "model_10CV = trc.fit(X_train, y_train)\n",
    "print(timedelta(seconds=(time()-init_time)))"
   ]
  },
  {
   "cell_type": "markdown",
   "metadata": {},
   "source": [
    "Now we can use the results of the cv to decide which is the best parameter configuration.\n",
    "\n",
    "According to the criteria of having the greatest F-score, the winner is architecture layers [2,2]"
   ]
  },
  {
   "cell_type": "code",
   "execution_count": 32,
   "metadata": {},
   "outputs": [
    {
     "data": {
      "text/html": [
       "<div>\n",
       "<style scoped>\n",
       "    .dataframe tbody tr th:only-of-type {\n",
       "        vertical-align: middle;\n",
       "    }\n",
       "\n",
       "    .dataframe tbody tr th {\n",
       "        vertical-align: top;\n",
       "    }\n",
       "\n",
       "    .dataframe thead th {\n",
       "        text-align: right;\n",
       "    }\n",
       "</style>\n",
       "<table border=\"1\" class=\"dataframe\">\n",
       "  <thead>\n",
       "    <tr style=\"text-align: right;\">\n",
       "      <th></th>\n",
       "      <th>param_alpha</th>\n",
       "      <th>param_hidden_layer_sizes</th>\n",
       "      <th>mean_test_f1_macro</th>\n",
       "      <th>std_test_f1_macro</th>\n",
       "      <th>mean_test_precision_macro</th>\n",
       "      <th>std_test_precision_macro</th>\n",
       "      <th>mean_test_accuracy</th>\n",
       "      <th>std_test_accuracy</th>\n",
       "    </tr>\n",
       "  </thead>\n",
       "  <tbody>\n",
       "    <tr>\n",
       "      <th>52</th>\n",
       "      <td>0.1</td>\n",
       "      <td>[2, 2]</td>\n",
       "      <td>0.628</td>\n",
       "      <td>0.110</td>\n",
       "      <td>0.692</td>\n",
       "      <td>0.134</td>\n",
       "      <td>0.732</td>\n",
       "      <td>0.067</td>\n",
       "    </tr>\n",
       "    <tr>\n",
       "      <th>13</th>\n",
       "      <td>0.0</td>\n",
       "      <td>4</td>\n",
       "      <td>0.615</td>\n",
       "      <td>0.083</td>\n",
       "      <td>0.629</td>\n",
       "      <td>0.077</td>\n",
       "      <td>0.691</td>\n",
       "      <td>0.055</td>\n",
       "    </tr>\n",
       "    <tr>\n",
       "      <th>53</th>\n",
       "      <td>0.1</td>\n",
       "      <td>[4, 4]</td>\n",
       "      <td>0.606</td>\n",
       "      <td>0.093</td>\n",
       "      <td>0.647</td>\n",
       "      <td>0.119</td>\n",
       "      <td>0.702</td>\n",
       "      <td>0.065</td>\n",
       "    </tr>\n",
       "    <tr>\n",
       "      <th>11</th>\n",
       "      <td>0.0</td>\n",
       "      <td>[8, 8, 8]</td>\n",
       "      <td>0.599</td>\n",
       "      <td>0.067</td>\n",
       "      <td>0.613</td>\n",
       "      <td>0.077</td>\n",
       "      <td>0.653</td>\n",
       "      <td>0.074</td>\n",
       "    </tr>\n",
       "    <tr>\n",
       "      <th>23</th>\n",
       "      <td>0.0</td>\n",
       "      <td>[8, 8, 8]</td>\n",
       "      <td>0.598</td>\n",
       "      <td>0.079</td>\n",
       "      <td>0.619</td>\n",
       "      <td>0.098</td>\n",
       "      <td>0.672</td>\n",
       "      <td>0.066</td>\n",
       "    </tr>\n",
       "  </tbody>\n",
       "</table>\n",
       "</div>"
      ],
      "text/plain": [
       "   param_alpha param_hidden_layer_sizes  mean_test_f1_macro  \\\n",
       "52         0.1                   [2, 2]               0.628   \n",
       "13         0.0                        4               0.615   \n",
       "53         0.1                   [4, 4]               0.606   \n",
       "11         0.0                [8, 8, 8]               0.599   \n",
       "23         0.0                [8, 8, 8]               0.598   \n",
       "\n",
       "    std_test_f1_macro  mean_test_precision_macro  std_test_precision_macro  \\\n",
       "52              0.110                      0.692                     0.134   \n",
       "13              0.083                      0.629                     0.077   \n",
       "53              0.093                      0.647                     0.119   \n",
       "11              0.067                      0.613                     0.077   \n",
       "23              0.079                      0.619                     0.098   \n",
       "\n",
       "    mean_test_accuracy  std_test_accuracy  \n",
       "52               0.732              0.067  \n",
       "13               0.691              0.055  \n",
       "53               0.702              0.065  \n",
       "11               0.653              0.074  \n",
       "23               0.672              0.066  "
      ]
     },
     "execution_count": 32,
     "metadata": {},
     "output_type": "execute_result"
    }
   ],
   "source": [
    "pd.DataFrame(model_10CV.cv_results_).loc[:,['param_alpha','param_hidden_layer_sizes',  'mean_test_f1_macro', \n",
    "                                            'std_test_f1_macro','mean_test_precision_macro', 'std_test_precision_macro',\n",
    "                                        'mean_test_accuracy','std_test_accuracy',]].sort_values(by='mean_test_f1_macro',\n",
    "                                                                                                ascending=False).head()"
   ]
  },
  {
   "cell_type": "code",
   "execution_count": 33,
   "metadata": {},
   "outputs": [
    {
     "data": {
      "text/plain": [
       "{'alpha': 0.1, 'hidden_layer_sizes': [2, 2]}"
      ]
     },
     "execution_count": 33,
     "metadata": {},
     "output_type": "execute_result"
    }
   ],
   "source": [
    "model_10CV.best_params_"
   ]
  },
  {
   "cell_type": "code",
   "execution_count": 34,
   "metadata": {},
   "outputs": [
    {
     "data": {
      "text/plain": [
       "0.6276606758915622"
      ]
     },
     "execution_count": 34,
     "metadata": {},
     "output_type": "execute_result"
    }
   ],
   "source": [
    "model_10CV.best_score_"
   ]
  },
  {
   "cell_type": "markdown",
   "metadata": {},
   "source": [
    "So,according to our experiments the best parameter configuration would be: \n",
    "* Architecture [2,2]\n",
    "* Alpha 0.1\n",
    "\n",
    "Lets calculate our cross-validation scores of the best model found trained (model_10CV.best_estimator_)."
   ]
  },
  {
   "cell_type": "code",
   "execution_count": 35,
   "metadata": {},
   "outputs": [
    {
     "data": {
      "text/html": [
       "<div>\n",
       "<style scoped>\n",
       "    .dataframe tbody tr th:only-of-type {\n",
       "        vertical-align: middle;\n",
       "    }\n",
       "\n",
       "    .dataframe tbody tr th {\n",
       "        vertical-align: top;\n",
       "    }\n",
       "\n",
       "    .dataframe thead th {\n",
       "        text-align: right;\n",
       "    }\n",
       "</style>\n",
       "<table border=\"1\" class=\"dataframe\">\n",
       "  <thead>\n",
       "    <tr style=\"text-align: right;\">\n",
       "      <th></th>\n",
       "      <th>F-score (cv)</th>\n",
       "      <th>Precision (cv)</th>\n",
       "      <th>Recall (cv)</th>\n",
       "      <th>Accuracy (cv)</th>\n",
       "    </tr>\n",
       "  </thead>\n",
       "  <tbody>\n",
       "    <tr>\n",
       "      <th>MLP[2,2]-alpha=0.1</th>\n",
       "      <td>0.615</td>\n",
       "      <td>0.709</td>\n",
       "      <td>0.612</td>\n",
       "      <td>0.724</td>\n",
       "    </tr>\n",
       "    <tr>\n",
       "      <th>MLP[1]</th>\n",
       "      <td>0.56</td>\n",
       "      <td>0.655</td>\n",
       "      <td>0.57</td>\n",
       "      <td>0.683</td>\n",
       "    </tr>\n",
       "    <tr>\n",
       "      <th>MLP[2,2,2]</th>\n",
       "      <td>0.559</td>\n",
       "      <td>0.629</td>\n",
       "      <td>0.575</td>\n",
       "      <td>0.69</td>\n",
       "    </tr>\n",
       "    <tr>\n",
       "      <th>Logistic Regression</th>\n",
       "      <td>0.554</td>\n",
       "      <td>0.686</td>\n",
       "      <td>0.568</td>\n",
       "      <td>0.698</td>\n",
       "    </tr>\n",
       "    <tr>\n",
       "      <th>MLP[2,2,2]-alpha=0.001</th>\n",
       "      <td>0.502</td>\n",
       "      <td>0.529</td>\n",
       "      <td>0.536</td>\n",
       "      <td>0.675</td>\n",
       "    </tr>\n",
       "  </tbody>\n",
       "</table>\n",
       "</div>"
      ],
      "text/plain": [
       "                       F-score (cv) Precision (cv) Recall (cv) Accuracy (cv)\n",
       "MLP[2,2]-alpha=0.1            0.615          0.709       0.612         0.724\n",
       "MLP[1]                         0.56          0.655        0.57         0.683\n",
       "MLP[2,2,2]                    0.559          0.629       0.575          0.69\n",
       "Logistic Regression           0.554          0.686       0.568         0.698\n",
       "MLP[2,2,2]-alpha=0.001        0.502          0.529       0.536         0.675"
      ]
     },
     "execution_count": 35,
     "metadata": {},
     "output_type": "execute_result"
    }
   ],
   "source": [
    "cross_val_results = pd.DataFrame(cross_validate(model_10CV.best_estimator_ , X_train, y_train, cv = 5, scoring = [ 'f1_macro', 'precision_macro', 'recall_macro', 'accuracy'] ))\n",
    "\n",
    "results_df.loc['MLP[2,2]-alpha=0.1',:] = cross_val_results[['test_f1_macro',\n",
    "       'test_precision_macro', 'test_recall_macro','test_accuracy']].mean().values\n",
    "\n",
    "results_df.sort_values(by='F-score (cv)', ascending=False)"
   ]
  },
  {
   "cell_type": "markdown",
   "metadata": {},
   "source": [
    "The best model according to our metrics is an MLP with two layers and a regularization of 0.1. "
   ]
  },
  {
   "cell_type": "markdown",
   "metadata": {},
   "source": [
    "Finally we obtain our test metrics, which tell us that our model is not generalizing a lot and as problems to predict the minoritary class. Perhaps this suggests that the admissions are done using other criteria not in our data."
   ]
  },
  {
   "cell_type": "code",
   "execution_count": 36,
   "metadata": {},
   "outputs": [
    {
     "data": {
      "text/html": [
       "<div>\n",
       "<style scoped>\n",
       "    .dataframe tbody tr th:only-of-type {\n",
       "        vertical-align: middle;\n",
       "    }\n",
       "\n",
       "    .dataframe tbody tr th {\n",
       "        vertical-align: top;\n",
       "    }\n",
       "\n",
       "    .dataframe thead th {\n",
       "        text-align: right;\n",
       "    }\n",
       "</style>\n",
       "<table border=\"1\" class=\"dataframe\">\n",
       "  <thead>\n",
       "    <tr style=\"text-align: right;\">\n",
       "      <th>predicted</th>\n",
       "      <th>0</th>\n",
       "      <th>1</th>\n",
       "    </tr>\n",
       "    <tr>\n",
       "      <th>target</th>\n",
       "      <th></th>\n",
       "      <th></th>\n",
       "    </tr>\n",
       "  </thead>\n",
       "  <tbody>\n",
       "    <tr>\n",
       "      <th>0</th>\n",
       "      <td>76</td>\n",
       "      <td>14</td>\n",
       "    </tr>\n",
       "    <tr>\n",
       "      <th>1</th>\n",
       "      <td>31</td>\n",
       "      <td>11</td>\n",
       "    </tr>\n",
       "  </tbody>\n",
       "</table>\n",
       "</div>"
      ],
      "text/plain": [
       "predicted   0   1\n",
       "target           \n",
       "0          76  14\n",
       "1          31  11"
      ]
     },
     "execution_count": 36,
     "metadata": {},
     "output_type": "execute_result"
    },
    {
     "name": "stdout",
     "output_type": "stream",
     "text": [
      "              precision    recall  f1-score   support\n",
      "\n",
      "           0       0.71      0.84      0.77        90\n",
      "           1       0.44      0.26      0.33        42\n",
      "\n",
      "    accuracy                           0.66       132\n",
      "   macro avg       0.58      0.55      0.55       132\n",
      "weighted avg       0.62      0.66      0.63       132\n",
      "\n"
     ]
    }
   ],
   "source": [
    "y_pred = model_10CV.predict(X_test)\n",
    "\n",
    "confusion(y_test,y_pred)\n",
    "\n",
    "print(classification_report(y_test, y_pred))"
   ]
  },
  {
   "cell_type": "markdown",
   "metadata": {},
   "source": [
    "## SECTION 2: Labeled Faces in the Wild\n",
    "\n",
    "Now we are going to try the same with a more complex dataset. \n",
    "\n",
    "This dataset contains images in black and white of public personalities. The task is to clasify the images with the proper name. \n",
    "\n",
    "Disclaimer: Even though this is an image dataset we will try it as a full numerical data. It is complex enough for showing MLP with real data and *someone* likes image data."
   ]
  },
  {
   "cell_type": "code",
   "execution_count": 42,
   "metadata": {},
   "outputs": [
    {
     "name": "stdout",
     "output_type": "stream",
     "text": [
      "Total dataset size:\n",
      "n_samples: 1288\n",
      "n_features: 1850\n",
      "n_classes: 7\n"
     ]
    }
   ],
   "source": [
    "lfw_people = fetch_lfw_people(min_faces_per_person=70, resize=0.4)\n",
    "n_samples, h, w = lfw_people.images.shape\n",
    "X = lfw_people.data\n",
    "n_features = X.shape[1]\n",
    "\n",
    "y = lfw_people.target\n",
    "target_names = lfw_people.target_names\n",
    "n_classes = target_names.shape[0]\n",
    "\n",
    "\n",
    "print(\"Total dataset size:\")\n",
    "print(\"n_samples: {}\".format(n_samples))\n",
    "print(\"n_features: {}\".format(n_features))\n",
    "print(\"n_classes: {}\".format(n_classes))"
   ]
  },
  {
   "cell_type": "markdown",
   "metadata": {},
   "source": [
    "### Resampling and metrics\n",
    "\n",
    "We will use the same resampling and pre-processing that on the previous example."
   ]
  },
  {
   "cell_type": "code",
   "execution_count": 43,
   "metadata": {},
   "outputs": [],
   "source": [
    "X_train, X_test, y_train, y_test = train_test_split(X, y, test_size=0.25, random_state=42)\n",
    "\n",
    "scaler = StandardScaler()\n",
    "X_train = scaler.fit_transform(X_train)\n",
    "X_test = scaler.transform(X_test)"
   ]
  },
  {
   "cell_type": "markdown",
   "metadata": {},
   "source": [
    "We can see that this dataset is quite big and it has more features than samples. That might be a problem."
   ]
  },
  {
   "cell_type": "code",
   "execution_count": 44,
   "metadata": {
    "scrolled": true
   },
   "outputs": [
    {
     "data": {
      "text/plain": [
       "(966, 1850)"
      ]
     },
     "execution_count": 44,
     "metadata": {},
     "output_type": "execute_result"
    }
   ],
   "source": [
    "X_train.shape"
   ]
  },
  {
   "cell_type": "markdown",
   "metadata": {},
   "source": [
    "Also, we can see that this dataset is quite unbalanced. We could get almost a 40% of accuracy only with a constant model."
   ]
  },
  {
   "cell_type": "code",
   "execution_count": 49,
   "metadata": {},
   "outputs": [
    {
     "data": {
      "text/plain": [
       "<Axes: xlabel='count'>"
      ]
     },
     "execution_count": 49,
     "metadata": {},
     "output_type": "execute_result"
    },
    {
     "data": {
      "image/png": "[encoded data removed]",
      "text/plain": [
       "<Figure size 640x480 with 1 Axes>"
      ]
     },
     "metadata": {},
     "output_type": "display_data"
    }
   ],
   "source": [
    "sn.countplot(y=y_train)"
   ]
  },
  {
   "cell_type": "code",
   "execution_count": 50,
   "metadata": {},
   "outputs": [
    {
     "data": {
      "text/plain": [
       "0.39751552795031053"
      ]
     },
     "execution_count": 50,
     "metadata": {},
     "output_type": "execute_result"
    }
   ],
   "source": [
    "(y_train==3).sum()/len(y_train)"
   ]
  },
  {
   "cell_type": "markdown",
   "metadata": {},
   "source": [
    "We will use the same metrics than on the previous section. \n",
    "Also, we will check how much *Time* is taking our models to train."
   ]
  },
  {
   "cell_type": "code",
   "execution_count": 51,
   "metadata": {},
   "outputs": [
    {
     "data": {
      "text/html": [
       "<div>\n",
       "<style scoped>\n",
       "    .dataframe tbody tr th:only-of-type {\n",
       "        vertical-align: middle;\n",
       "    }\n",
       "\n",
       "    .dataframe tbody tr th {\n",
       "        vertical-align: top;\n",
       "    }\n",
       "\n",
       "    .dataframe thead th {\n",
       "        text-align: right;\n",
       "    }\n",
       "</style>\n",
       "<table border=\"1\" class=\"dataframe\">\n",
       "  <thead>\n",
       "    <tr style=\"text-align: right;\">\n",
       "      <th></th>\n",
       "      <th>F-score (cv)</th>\n",
       "      <th>Precision (cv)</th>\n",
       "      <th>Recall (cv)</th>\n",
       "      <th>Accuracy</th>\n",
       "      <th>Time(s)</th>\n",
       "    </tr>\n",
       "  </thead>\n",
       "  <tbody>\n",
       "    <tr>\n",
       "      <th>KNN</th>\n",
       "      <td>NaN</td>\n",
       "      <td>NaN</td>\n",
       "      <td>NaN</td>\n",
       "      <td>NaN</td>\n",
       "      <td>NaN</td>\n",
       "    </tr>\n",
       "  </tbody>\n",
       "</table>\n",
       "</div>"
      ],
      "text/plain": [
       "    F-score (cv) Precision (cv) Recall (cv) Accuracy Time(s)\n",
       "KNN          NaN            NaN         NaN      NaN     NaN"
      ]
     },
     "execution_count": 51,
     "metadata": {},
     "output_type": "execute_result"
    }
   ],
   "source": [
    "metrics = ['F-score (cv)', 'Precision (cv)','Recall (cv)', 'Accuracy']\n",
    "\n",
    "results_df = pd.DataFrame(index=['KNN'],columns=metrics + ['Time(s)'])\n",
    "results_df"
   ]
  },
  {
   "cell_type": "markdown",
   "metadata": {},
   "source": [
    "### Baseline: KNN\n",
    "\n",
    "We will use knn as a baseline, because is a very fast model to train."
   ]
  },
  {
   "cell_type": "code",
   "execution_count": 52,
   "metadata": {},
   "outputs": [
    {
     "data": {
      "text/html": [
       "<style>#sk-container-id-5 {color: black;background-color: white;}#sk-container-id-5 pre{padding: 0;}#sk-container-id-5 div.sk-toggleable {background-color: white;}#sk-container-id-5 label.sk-toggleable__label {cursor: pointer;display: block;width: 100%;margin-bottom: 0;padding: 0.3em;box-sizing: border-box;text-align: center;}#sk-container-id-5 label.sk-toggleable__label-arrow:before {content: \"▸\";float: left;margin-right: 0.25em;color: #696969;}#sk-container-id-5 label.sk-toggleable__label-arrow:hover:before {color: black;}#sk-container-id-5 div.sk-estimator:hover label.sk-toggleable__label-arrow:before {color: black;}#sk-container-id-5 div.sk-toggleable__content {max-height: 0;max-width: 0;overflow: hidden;text-align: left;background-color: #f0f8ff;}#sk-container-id-5 div.sk-toggleable__content pre {margin: 0.2em;color: black;border-radius: 0.25em;background-color: #f0f8ff;}#sk-container-id-5 input.sk-toggleable__control:checked~div.sk-toggleable__content {max-height: 200px;max-width: 100%;overflow: auto;}#sk-container-id-5 input.sk-toggleable__control:checked~label.sk-toggleable__label-arrow:before {content: \"▾\";}#sk-container-id-5 div.sk-estimator input.sk-toggleable__control:checked~label.sk-toggleable__label {background-color: #d4ebff;}#sk-container-id-5 div.sk-label input.sk-toggleable__control:checked~label.sk-toggleable__label {background-color: #d4ebff;}#sk-container-id-5 input.sk-hidden--visually {border: 0;clip: rect(1px 1px 1px 1px);clip: rect(1px, 1px, 1px, 1px);height: 1px;margin: -1px;overflow: hidden;padding: 0;position: absolute;width: 1px;}#sk-container-id-5 div.sk-estimator {font-family: monospace;background-color: #f0f8ff;border: 1px dotted black;border-radius: 0.25em;box-sizing: border-box;margin-bottom: 0.5em;}#sk-container-id-5 div.sk-estimator:hover {background-color: #d4ebff;}#sk-container-id-5 div.sk-parallel-item::after {content: \"\";width: 100%;border-bottom: 1px solid gray;flex-grow: 1;}#sk-container-id-5 div.sk-label:hover label.sk-toggleable__label {background-color: #d4ebff;}#sk-container-id-5 div.sk-serial::before {content: \"\";position: absolute;border-left: 1px solid gray;box-sizing: border-box;top: 0;bottom: 0;left: 50%;z-index: 0;}#sk-container-id-5 div.sk-serial {display: flex;flex-direction: column;align-items: center;background-color: white;padding-right: 0.2em;padding-left: 0.2em;position: relative;}#sk-container-id-5 div.sk-item {position: relative;z-index: 1;}#sk-container-id-5 div.sk-parallel {display: flex;align-items: stretch;justify-content: center;background-color: white;position: relative;}#sk-container-id-5 div.sk-item::before, #sk-container-id-5 div.sk-parallel-item::before {content: \"\";position: absolute;border-left: 1px solid gray;box-sizing: border-box;top: 0;bottom: 0;left: 50%;z-index: -1;}#sk-container-id-5 div.sk-parallel-item {display: flex;flex-direction: column;z-index: 1;position: relative;background-color: white;}#sk-container-id-5 div.sk-parallel-item:first-child::after {align-self: flex-end;width: 50%;}#sk-container-id-5 div.sk-parallel-item:last-child::after {align-self: flex-start;width: 50%;}#sk-container-id-5 div.sk-parallel-item:only-child::after {width: 0;}#sk-container-id-5 div.sk-dashed-wrapped {border: 1px dashed gray;margin: 0 0.4em 0.5em 0.4em;box-sizing: border-box;padding-bottom: 0.4em;background-color: white;}#sk-container-id-5 div.sk-label label {font-family: monospace;font-weight: bold;display: inline-block;line-height: 1.2em;}#sk-container-id-5 div.sk-label-container {text-align: center;}#sk-container-id-5 div.sk-container {/* jupyter's `normalize.less` sets `[hidden] { display: none; }` but bootstrap.min.css set `[hidden] { display: none !important; }` so we also need the `!important` here to be able to override the default hidden behavior on the sphinx rendered scikit-learn.org. See: https://github.com/scikit-learn/scikit-learn/issues/21755 */display: inline-block !important;position: relative;}#sk-container-id-5 div.sk-text-repr-fallback {display: none;}</style><div id=\"sk-container-id-5\" class=\"sk-top-container\"><div class=\"sk-text-repr-fallback\"><pre>KNeighborsClassifier()</pre><b>In a Jupyter environment, please rerun this cell to show the HTML representation or trust the notebook. <br />On GitHub, the HTML representation is unable to render, please try loading this page with nbviewer.org.</b></div><div class=\"sk-container\" hidden><div class=\"sk-item\"><div class=\"sk-estimator sk-toggleable\"><input class=\"sk-toggleable__control sk-hidden--visually\" id=\"sk-estimator-id-5\" type=\"checkbox\" checked><label for=\"sk-estimator-id-5\" class=\"sk-toggleable__label sk-toggleable__label-arrow\">KNeighborsClassifier</label><div class=\"sk-toggleable__content\"><pre>KNeighborsClassifier()</pre></div></div></div></div></div>"
      ],
      "text/plain": [
       "KNeighborsClassifier()"
      ]
     },
     "execution_count": 52,
     "metadata": {},
     "output_type": "execute_result"
    },
    {
     "name": "stdout",
     "output_type": "stream",
     "text": [
      "0:00:00.004811\n"
     ]
    },
    {
     "data": {
      "text/html": [
       "<div>\n",
       "<style scoped>\n",
       "    .dataframe tbody tr th:only-of-type {\n",
       "        vertical-align: middle;\n",
       "    }\n",
       "\n",
       "    .dataframe tbody tr th {\n",
       "        vertical-align: top;\n",
       "    }\n",
       "\n",
       "    .dataframe thead th {\n",
       "        text-align: right;\n",
       "    }\n",
       "</style>\n",
       "<table border=\"1\" class=\"dataframe\">\n",
       "  <thead>\n",
       "    <tr style=\"text-align: right;\">\n",
       "      <th></th>\n",
       "      <th>F-score (cv)</th>\n",
       "      <th>Precision (cv)</th>\n",
       "      <th>Recall (cv)</th>\n",
       "      <th>Accuracy</th>\n",
       "      <th>Time(s)</th>\n",
       "    </tr>\n",
       "  </thead>\n",
       "  <tbody>\n",
       "    <tr>\n",
       "      <th>KNN</th>\n",
       "      <td>0.423</td>\n",
       "      <td>0.526</td>\n",
       "      <td>0.41</td>\n",
       "      <td>0.557</td>\n",
       "      <td>0.005</td>\n",
       "    </tr>\n",
       "  </tbody>\n",
       "</table>\n",
       "</div>"
      ],
      "text/plain": [
       "    F-score (cv) Precision (cv) Recall (cv) Accuracy Time(s)\n",
       "KNN        0.423          0.526        0.41    0.557   0.005"
      ]
     },
     "execution_count": 52,
     "metadata": {},
     "output_type": "execute_result"
    }
   ],
   "source": [
    "init_time = time()\n",
    "myknn = KNeighborsClassifier(n_neighbors=5)\n",
    "myknn.fit(X_train, y_train)\n",
    "\n",
    "training_time = time()-init_time\n",
    "print(timedelta(seconds=training_time))\n",
    "\n",
    "\n",
    "cross_val_results = pd.DataFrame(cross_validate(myknn , X_train, y_train, cv = 5, scoring = [ 'f1_macro', 'precision_macro', 'recall_macro', 'accuracy'] ))\n",
    "\n",
    "results_df.loc['KNN',metrics] = cross_val_results[['test_f1_macro',\n",
    "       'test_precision_macro', 'test_recall_macro','test_accuracy']].mean().values\n",
    "\n",
    "results_df.loc['KNN','Time(s)'] = training_time\n",
    "\n",
    "results_df"
   ]
  },
  {
   "cell_type": "markdown",
   "metadata": {},
   "source": [
    "We obtain quite bad results with this model. Lets see with the MLP. "
   ]
  },
  {
   "cell_type": "markdown",
   "metadata": {},
   "source": [
    "### MLP\n",
    "\n",
    "We are going to use an arbitrary hyperparameter configuration just to see how the model behaves. Is it slow? Is it good?"
   ]
  },
  {
   "cell_type": "code",
   "execution_count": 53,
   "metadata": {},
   "outputs": [
    {
     "data": {
      "text/html": [
       "<style>#sk-container-id-6 {color: black;background-color: white;}#sk-container-id-6 pre{padding: 0;}#sk-container-id-6 div.sk-toggleable {background-color: white;}#sk-container-id-6 label.sk-toggleable__label {cursor: pointer;display: block;width: 100%;margin-bottom: 0;padding: 0.3em;box-sizing: border-box;text-align: center;}#sk-container-id-6 label.sk-toggleable__label-arrow:before {content: \"▸\";float: left;margin-right: 0.25em;color: #696969;}#sk-container-id-6 label.sk-toggleable__label-arrow:hover:before {color: black;}#sk-container-id-6 div.sk-estimator:hover label.sk-toggleable__label-arrow:before {color: black;}#sk-container-id-6 div.sk-toggleable__content {max-height: 0;max-width: 0;overflow: hidden;text-align: left;background-color: #f0f8ff;}#sk-container-id-6 div.sk-toggleable__content pre {margin: 0.2em;color: black;border-radius: 0.25em;background-color: #f0f8ff;}#sk-container-id-6 input.sk-toggleable__control:checked~div.sk-toggleable__content {max-height: 200px;max-width: 100%;overflow: auto;}#sk-container-id-6 input.sk-toggleable__control:checked~label.sk-toggleable__label-arrow:before {content: \"▾\";}#sk-container-id-6 div.sk-estimator input.sk-toggleable__control:checked~label.sk-toggleable__label {background-color: #d4ebff;}#sk-container-id-6 div.sk-label input.sk-toggleable__control:checked~label.sk-toggleable__label {background-color: #d4ebff;}#sk-container-id-6 input.sk-hidden--visually {border: 0;clip: rect(1px 1px 1px 1px);clip: rect(1px, 1px, 1px, 1px);height: 1px;margin: -1px;overflow: hidden;padding: 0;position: absolute;width: 1px;}#sk-container-id-6 div.sk-estimator {font-family: monospace;background-color: #f0f8ff;border: 1px dotted black;border-radius: 0.25em;box-sizing: border-box;margin-bottom: 0.5em;}#sk-container-id-6 div.sk-estimator:hover {background-color: #d4ebff;}#sk-container-id-6 div.sk-parallel-item::after {content: \"\";width: 100%;border-bottom: 1px solid gray;flex-grow: 1;}#sk-container-id-6 div.sk-label:hover label.sk-toggleable__label {background-color: #d4ebff;}#sk-container-id-6 div.sk-serial::before {content: \"\";position: absolute;border-left: 1px solid gray;box-sizing: border-box;top: 0;bottom: 0;left: 50%;z-index: 0;}#sk-container-id-6 div.sk-serial {display: flex;flex-direction: column;align-items: center;background-color: white;padding-right: 0.2em;padding-left: 0.2em;position: relative;}#sk-container-id-6 div.sk-item {position: relative;z-index: 1;}#sk-container-id-6 div.sk-parallel {display: flex;align-items: stretch;justify-content: center;background-color: white;position: relative;}#sk-container-id-6 div.sk-item::before, #sk-container-id-6 div.sk-parallel-item::before {content: \"\";position: absolute;border-left: 1px solid gray;box-sizing: border-box;top: 0;bottom: 0;left: 50%;z-index: -1;}#sk-container-id-6 div.sk-parallel-item {display: flex;flex-direction: column;z-index: 1;position: relative;background-color: white;}#sk-container-id-6 div.sk-parallel-item:first-child::after {align-self: flex-end;width: 50%;}#sk-container-id-6 div.sk-parallel-item:last-child::after {align-self: flex-start;width: 50%;}#sk-container-id-6 div.sk-parallel-item:only-child::after {width: 0;}#sk-container-id-6 div.sk-dashed-wrapped {border: 1px dashed gray;margin: 0 0.4em 0.5em 0.4em;box-sizing: border-box;padding-bottom: 0.4em;background-color: white;}#sk-container-id-6 div.sk-label label {font-family: monospace;font-weight: bold;display: inline-block;line-height: 1.2em;}#sk-container-id-6 div.sk-label-container {text-align: center;}#sk-container-id-6 div.sk-container {/* jupyter's `normalize.less` sets `[hidden] { display: none; }` but bootstrap.min.css set `[hidden] { display: none !important; }` so we also need the `!important` here to be able to override the default hidden behavior on the sphinx rendered scikit-learn.org. See: https://github.com/scikit-learn/scikit-learn/issues/21755 */display: inline-block !important;position: relative;}#sk-container-id-6 div.sk-text-repr-fallback {display: none;}</style><div id=\"sk-container-id-6\" class=\"sk-top-container\"><div class=\"sk-text-repr-fallback\"><pre>MLPClassifier(activation=&#x27;logistic&#x27;, alpha=0.01, hidden_layer_sizes=[5],\n",
       "              random_state=42, solver=&#x27;lbfgs&#x27;)</pre><b>In a Jupyter environment, please rerun this cell to show the HTML representation or trust the notebook. <br />On GitHub, the HTML representation is unable to render, please try loading this page with nbviewer.org.</b></div><div class=\"sk-container\" hidden><div class=\"sk-item\"><div class=\"sk-estimator sk-toggleable\"><input class=\"sk-toggleable__control sk-hidden--visually\" id=\"sk-estimator-id-6\" type=\"checkbox\" checked><label for=\"sk-estimator-id-6\" class=\"sk-toggleable__label sk-toggleable__label-arrow\">MLPClassifier</label><div class=\"sk-toggleable__content\"><pre>MLPClassifier(activation=&#x27;logistic&#x27;, alpha=0.01, hidden_layer_sizes=[5],\n",
       "              random_state=42, solver=&#x27;lbfgs&#x27;)</pre></div></div></div></div></div>"
      ],
      "text/plain": [
       "MLPClassifier(activation='logistic', alpha=0.01, hidden_layer_sizes=[5],\n",
       "              random_state=42, solver='lbfgs')"
      ]
     },
     "execution_count": 53,
     "metadata": {},
     "output_type": "execute_result"
    },
    {
     "name": "stdout",
     "output_type": "stream",
     "text": [
      "0:00:01.301692\n"
     ]
    },
    {
     "data": {
      "text/html": [
       "<div>\n",
       "<style scoped>\n",
       "    .dataframe tbody tr th:only-of-type {\n",
       "        vertical-align: middle;\n",
       "    }\n",
       "\n",
       "    .dataframe tbody tr th {\n",
       "        vertical-align: top;\n",
       "    }\n",
       "\n",
       "    .dataframe thead th {\n",
       "        text-align: right;\n",
       "    }\n",
       "</style>\n",
       "<table border=\"1\" class=\"dataframe\">\n",
       "  <thead>\n",
       "    <tr style=\"text-align: right;\">\n",
       "      <th></th>\n",
       "      <th>F-score (cv)</th>\n",
       "      <th>Precision (cv)</th>\n",
       "      <th>Recall (cv)</th>\n",
       "      <th>Accuracy</th>\n",
       "      <th>Time(s)</th>\n",
       "    </tr>\n",
       "  </thead>\n",
       "  <tbody>\n",
       "    <tr>\n",
       "      <th>MLP[5]-0.01</th>\n",
       "      <td>0.664</td>\n",
       "      <td>0.67</td>\n",
       "      <td>0.673</td>\n",
       "      <td>0.734</td>\n",
       "      <td>1.302</td>\n",
       "    </tr>\n",
       "    <tr>\n",
       "      <th>KNN</th>\n",
       "      <td>0.423</td>\n",
       "      <td>0.526</td>\n",
       "      <td>0.41</td>\n",
       "      <td>0.557</td>\n",
       "      <td>0.005</td>\n",
       "    </tr>\n",
       "  </tbody>\n",
       "</table>\n",
       "</div>"
      ],
      "text/plain": [
       "            F-score (cv) Precision (cv) Recall (cv) Accuracy Time(s)\n",
       "MLP[5]-0.01        0.664           0.67       0.673    0.734   1.302\n",
       "KNN                0.423          0.526        0.41    0.557   0.005"
      ]
     },
     "execution_count": 53,
     "metadata": {},
     "output_type": "execute_result"
    }
   ],
   "source": [
    "init_time = time()\n",
    "model_nnet = MLPClassifier(hidden_layer_sizes=[5],\n",
    "                           alpha=0.01,\n",
    "                           activation='logistic',\n",
    "                           max_iter=200,\n",
    "                           solver='lbfgs',random_state=42)\n",
    "model_nnet.fit(X_train,y_train);\n",
    "\n",
    "training_time = time()-init_time\n",
    "print(timedelta(seconds=training_time))\n",
    "\n",
    "cross_val_results = pd.DataFrame(cross_validate(model_nnet , X_train, y_train, cv = 5, \n",
    "                                                scoring = [ 'f1_macro', 'precision_macro', 'recall_macro', 'accuracy'] ))\n",
    "\n",
    "results_df.loc['MLP[5]-0.01',metrics] = cross_val_results[['test_f1_macro',\n",
    "       'test_precision_macro', 'test_recall_macro','test_accuracy']].mean().values\n",
    "\n",
    "results_df.loc['MLP[5]-0.01','Time(s)'] = training_time\n",
    "\n",
    "results_df.sort_values(by='F-score (cv)', ascending=False)"
   ]
  },
  {
   "cell_type": "markdown",
   "metadata": {},
   "source": [
    "It gives better results but it is several times slower than the knn. \n",
    "\n",
    "If we wanted to try different hyperparameters we would need a lot of time. "
   ]
  },
  {
   "cell_type": "markdown",
   "metadata": {},
   "source": [
    "### PCA"
   ]
  },
  {
   "cell_type": "markdown",
   "metadata": {},
   "source": [
    "Lets try another strategy instead. We can use PCA to reduce the dimensionality of the data. This way the training of the model would be faster, and might reduce the noise in the data.\n",
    "\n",
    "\n",
    "First lets see how many components do we need."
   ]
  },
  {
   "cell_type": "code",
   "execution_count": 54,
   "metadata": {
    "scrolled": true
   },
   "outputs": [
    {
     "data": {
      "text/plain": [
       "385"
      ]
     },
     "execution_count": 54,
     "metadata": {},
     "output_type": "execute_result"
    }
   ],
   "source": [
    "pca = PCA().fit(X_train)\n",
    "\n",
    "n_components =(pca.explained_variance_ratio_.cumsum() < 0.99).sum()\n",
    "n_components"
   ]
  },
  {
   "cell_type": "markdown",
   "metadata": {},
   "source": [
    "With just 339 of the variables, we could maintain 99 % of the variance of the data. Thas a huge reduction from the original 1850."
   ]
  },
  {
   "cell_type": "code",
   "execution_count": 55,
   "metadata": {},
   "outputs": [],
   "source": [
    "pca = PCA(n_components=n_components).fit(X_train)\n",
    "\n",
    "X_train_pca = pca.transform(X_train)\n",
    "X_test_pca = pca.transform(X_test)"
   ]
  },
  {
   "cell_type": "markdown",
   "metadata": {},
   "source": [
    "#### KNN\n",
    "Lets see how affects our smaller data to the knn results."
   ]
  },
  {
   "cell_type": "code",
   "execution_count": 56,
   "metadata": {},
   "outputs": [
    {
     "data": {
      "text/html": [
       "<style>#sk-container-id-7 {color: black;background-color: white;}#sk-container-id-7 pre{padding: 0;}#sk-container-id-7 div.sk-toggleable {background-color: white;}#sk-container-id-7 label.sk-toggleable__label {cursor: pointer;display: block;width: 100%;margin-bottom: 0;padding: 0.3em;box-sizing: border-box;text-align: center;}#sk-container-id-7 label.sk-toggleable__label-arrow:before {content: \"▸\";float: left;margin-right: 0.25em;color: #696969;}#sk-container-id-7 label.sk-toggleable__label-arrow:hover:before {color: black;}#sk-container-id-7 div.sk-estimator:hover label.sk-toggleable__label-arrow:before {color: black;}#sk-container-id-7 div.sk-toggleable__content {max-height: 0;max-width: 0;overflow: hidden;text-align: left;background-color: #f0f8ff;}#sk-container-id-7 div.sk-toggleable__content pre {margin: 0.2em;color: black;border-radius: 0.25em;background-color: #f0f8ff;}#sk-container-id-7 input.sk-toggleable__control:checked~div.sk-toggleable__content {max-height: 200px;max-width: 100%;overflow: auto;}#sk-container-id-7 input.sk-toggleable__control:checked~label.sk-toggleable__label-arrow:before {content: \"▾\";}#sk-container-id-7 div.sk-estimator input.sk-toggleable__control:checked~label.sk-toggleable__label {background-color: #d4ebff;}#sk-container-id-7 div.sk-label input.sk-toggleable__control:checked~label.sk-toggleable__label {background-color: #d4ebff;}#sk-container-id-7 input.sk-hidden--visually {border: 0;clip: rect(1px 1px 1px 1px);clip: rect(1px, 1px, 1px, 1px);height: 1px;margin: -1px;overflow: hidden;padding: 0;position: absolute;width: 1px;}#sk-container-id-7 div.sk-estimator {font-family: monospace;background-color: #f0f8ff;border: 1px dotted black;border-radius: 0.25em;box-sizing: border-box;margin-bottom: 0.5em;}#sk-container-id-7 div.sk-estimator:hover {background-color: #d4ebff;}#sk-container-id-7 div.sk-parallel-item::after {content: \"\";width: 100%;border-bottom: 1px solid gray;flex-grow: 1;}#sk-container-id-7 div.sk-label:hover label.sk-toggleable__label {background-color: #d4ebff;}#sk-container-id-7 div.sk-serial::before {content: \"\";position: absolute;border-left: 1px solid gray;box-sizing: border-box;top: 0;bottom: 0;left: 50%;z-index: 0;}#sk-container-id-7 div.sk-serial {display: flex;flex-direction: column;align-items: center;background-color: white;padding-right: 0.2em;padding-left: 0.2em;position: relative;}#sk-container-id-7 div.sk-item {position: relative;z-index: 1;}#sk-container-id-7 div.sk-parallel {display: flex;align-items: stretch;justify-content: center;background-color: white;position: relative;}#sk-container-id-7 div.sk-item::before, #sk-container-id-7 div.sk-parallel-item::before {content: \"\";position: absolute;border-left: 1px solid gray;box-sizing: border-box;top: 0;bottom: 0;left: 50%;z-index: -1;}#sk-container-id-7 div.sk-parallel-item {display: flex;flex-direction: column;z-index: 1;position: relative;background-color: white;}#sk-container-id-7 div.sk-parallel-item:first-child::after {align-self: flex-end;width: 50%;}#sk-container-id-7 div.sk-parallel-item:last-child::after {align-self: flex-start;width: 50%;}#sk-container-id-7 div.sk-parallel-item:only-child::after {width: 0;}#sk-container-id-7 div.sk-dashed-wrapped {border: 1px dashed gray;margin: 0 0.4em 0.5em 0.4em;box-sizing: border-box;padding-bottom: 0.4em;background-color: white;}#sk-container-id-7 div.sk-label label {font-family: monospace;font-weight: bold;display: inline-block;line-height: 1.2em;}#sk-container-id-7 div.sk-label-container {text-align: center;}#sk-container-id-7 div.sk-container {/* jupyter's `normalize.less` sets `[hidden] { display: none; }` but bootstrap.min.css set `[hidden] { display: none !important; }` so we also need the `!important` here to be able to override the default hidden behavior on the sphinx rendered scikit-learn.org. See: https://github.com/scikit-learn/scikit-learn/issues/21755 */display: inline-block !important;position: relative;}#sk-container-id-7 div.sk-text-repr-fallback {display: none;}</style><div id=\"sk-container-id-7\" class=\"sk-top-container\"><div class=\"sk-text-repr-fallback\"><pre>KNeighborsClassifier()</pre><b>In a Jupyter environment, please rerun this cell to show the HTML representation or trust the notebook. <br />On GitHub, the HTML representation is unable to render, please try loading this page with nbviewer.org.</b></div><div class=\"sk-container\" hidden><div class=\"sk-item\"><div class=\"sk-estimator sk-toggleable\"><input class=\"sk-toggleable__control sk-hidden--visually\" id=\"sk-estimator-id-7\" type=\"checkbox\" checked><label for=\"sk-estimator-id-7\" class=\"sk-toggleable__label sk-toggleable__label-arrow\">KNeighborsClassifier</label><div class=\"sk-toggleable__content\"><pre>KNeighborsClassifier()</pre></div></div></div></div></div>"
      ],
      "text/plain": [
       "KNeighborsClassifier()"
      ]
     },
     "execution_count": 56,
     "metadata": {},
     "output_type": "execute_result"
    },
    {
     "name": "stdout",
     "output_type": "stream",
     "text": [
      "0:00:00.005042\n"
     ]
    },
    {
     "data": {
      "text/html": [
       "<div>\n",
       "<style scoped>\n",
       "    .dataframe tbody tr th:only-of-type {\n",
       "        vertical-align: middle;\n",
       "    }\n",
       "\n",
       "    .dataframe tbody tr th {\n",
       "        vertical-align: top;\n",
       "    }\n",
       "\n",
       "    .dataframe thead th {\n",
       "        text-align: right;\n",
       "    }\n",
       "</style>\n",
       "<table border=\"1\" class=\"dataframe\">\n",
       "  <thead>\n",
       "    <tr style=\"text-align: right;\">\n",
       "      <th></th>\n",
       "      <th>F-score (cv)</th>\n",
       "      <th>Precision (cv)</th>\n",
       "      <th>Recall (cv)</th>\n",
       "      <th>Accuracy</th>\n",
       "      <th>Time(s)</th>\n",
       "    </tr>\n",
       "  </thead>\n",
       "  <tbody>\n",
       "    <tr>\n",
       "      <th>MLP[5]-0.01</th>\n",
       "      <td>0.664</td>\n",
       "      <td>0.67</td>\n",
       "      <td>0.673</td>\n",
       "      <td>0.734</td>\n",
       "      <td>1.302</td>\n",
       "    </tr>\n",
       "    <tr>\n",
       "      <th>KNN-PCA</th>\n",
       "      <td>0.426</td>\n",
       "      <td>0.532</td>\n",
       "      <td>0.414</td>\n",
       "      <td>0.559</td>\n",
       "      <td>0.005</td>\n",
       "    </tr>\n",
       "    <tr>\n",
       "      <th>KNN</th>\n",
       "      <td>0.423</td>\n",
       "      <td>0.526</td>\n",
       "      <td>0.41</td>\n",
       "      <td>0.557</td>\n",
       "      <td>0.005</td>\n",
       "    </tr>\n",
       "  </tbody>\n",
       "</table>\n",
       "</div>"
      ],
      "text/plain": [
       "            F-score (cv) Precision (cv) Recall (cv) Accuracy Time(s)\n",
       "MLP[5]-0.01        0.664           0.67       0.673    0.734   1.302\n",
       "KNN-PCA            0.426          0.532       0.414    0.559   0.005\n",
       "KNN                0.423          0.526        0.41    0.557   0.005"
      ]
     },
     "execution_count": 56,
     "metadata": {},
     "output_type": "execute_result"
    }
   ],
   "source": [
    "init_time = time()\n",
    "myknn = KNeighborsClassifier(n_neighbors=5)\n",
    "myknn.fit(X_train_pca, y_train)\n",
    "\n",
    "training_time = time()-init_time\n",
    "print(timedelta(seconds=training_time))\n",
    "\n",
    "cross_val_results = pd.DataFrame(cross_validate(myknn , X_train_pca, y_train, cv = 5, scoring = [ 'f1_macro', 'precision_macro', 'recall_macro', 'accuracy'] ))\n",
    "\n",
    "results_df.loc['KNN-PCA',metrics] = cross_val_results[['test_f1_macro',\n",
    "       'test_precision_macro', 'test_recall_macro','test_accuracy']].mean().values\n",
    "\n",
    "results_df.loc['KNN-PCA','Time(s)'] = training_time\n",
    "\n",
    "results_df.sort_values(by='F-score (cv)', ascending=False)"
   ]
  },
  {
   "cell_type": "markdown",
   "metadata": {},
   "source": [
    "We are obtaining the same results with a fraction of the time. This is a good sign."
   ]
  },
  {
   "cell_type": "markdown",
   "metadata": {},
   "source": [
    "#### MLP\n"
   ]
  },
  {
   "cell_type": "code",
   "execution_count": 57,
   "metadata": {},
   "outputs": [
    {
     "data": {
      "text/html": [
       "<style>#sk-container-id-8 {color: black;background-color: white;}#sk-container-id-8 pre{padding: 0;}#sk-container-id-8 div.sk-toggleable {background-color: white;}#sk-container-id-8 label.sk-toggleable__label {cursor: pointer;display: block;width: 100%;margin-bottom: 0;padding: 0.3em;box-sizing: border-box;text-align: center;}#sk-container-id-8 label.sk-toggleable__label-arrow:before {content: \"▸\";float: left;margin-right: 0.25em;color: #696969;}#sk-container-id-8 label.sk-toggleable__label-arrow:hover:before {color: black;}#sk-container-id-8 div.sk-estimator:hover label.sk-toggleable__label-arrow:before {color: black;}#sk-container-id-8 div.sk-toggleable__content {max-height: 0;max-width: 0;overflow: hidden;text-align: left;background-color: #f0f8ff;}#sk-container-id-8 div.sk-toggleable__content pre {margin: 0.2em;color: black;border-radius: 0.25em;background-color: #f0f8ff;}#sk-container-id-8 input.sk-toggleable__control:checked~div.sk-toggleable__content {max-height: 200px;max-width: 100%;overflow: auto;}#sk-container-id-8 input.sk-toggleable__control:checked~label.sk-toggleable__label-arrow:before {content: \"▾\";}#sk-container-id-8 div.sk-estimator input.sk-toggleable__control:checked~label.sk-toggleable__label {background-color: #d4ebff;}#sk-container-id-8 div.sk-label input.sk-toggleable__control:checked~label.sk-toggleable__label {background-color: #d4ebff;}#sk-container-id-8 input.sk-hidden--visually {border: 0;clip: rect(1px 1px 1px 1px);clip: rect(1px, 1px, 1px, 1px);height: 1px;margin: -1px;overflow: hidden;padding: 0;position: absolute;width: 1px;}#sk-container-id-8 div.sk-estimator {font-family: monospace;background-color: #f0f8ff;border: 1px dotted black;border-radius: 0.25em;box-sizing: border-box;margin-bottom: 0.5em;}#sk-container-id-8 div.sk-estimator:hover {background-color: #d4ebff;}#sk-container-id-8 div.sk-parallel-item::after {content: \"\";width: 100%;border-bottom: 1px solid gray;flex-grow: 1;}#sk-container-id-8 div.sk-label:hover label.sk-toggleable__label {background-color: #d4ebff;}#sk-container-id-8 div.sk-serial::before {content: \"\";position: absolute;border-left: 1px solid gray;box-sizing: border-box;top: 0;bottom: 0;left: 50%;z-index: 0;}#sk-container-id-8 div.sk-serial {display: flex;flex-direction: column;align-items: center;background-color: white;padding-right: 0.2em;padding-left: 0.2em;position: relative;}#sk-container-id-8 div.sk-item {position: relative;z-index: 1;}#sk-container-id-8 div.sk-parallel {display: flex;align-items: stretch;justify-content: center;background-color: white;position: relative;}#sk-container-id-8 div.sk-item::before, #sk-container-id-8 div.sk-parallel-item::before {content: \"\";position: absolute;border-left: 1px solid gray;box-sizing: border-box;top: 0;bottom: 0;left: 50%;z-index: -1;}#sk-container-id-8 div.sk-parallel-item {display: flex;flex-direction: column;z-index: 1;position: relative;background-color: white;}#sk-container-id-8 div.sk-parallel-item:first-child::after {align-self: flex-end;width: 50%;}#sk-container-id-8 div.sk-parallel-item:last-child::after {align-self: flex-start;width: 50%;}#sk-container-id-8 div.sk-parallel-item:only-child::after {width: 0;}#sk-container-id-8 div.sk-dashed-wrapped {border: 1px dashed gray;margin: 0 0.4em 0.5em 0.4em;box-sizing: border-box;padding-bottom: 0.4em;background-color: white;}#sk-container-id-8 div.sk-label label {font-family: monospace;font-weight: bold;display: inline-block;line-height: 1.2em;}#sk-container-id-8 div.sk-label-container {text-align: center;}#sk-container-id-8 div.sk-container {/* jupyter's `normalize.less` sets `[hidden] { display: none; }` but bootstrap.min.css set `[hidden] { display: none !important; }` so we also need the `!important` here to be able to override the default hidden behavior on the sphinx rendered scikit-learn.org. See: https://github.com/scikit-learn/scikit-learn/issues/21755 */display: inline-block !important;position: relative;}#sk-container-id-8 div.sk-text-repr-fallback {display: none;}</style><div id=\"sk-container-id-8\" class=\"sk-top-container\"><div class=\"sk-text-repr-fallback\"><pre>MLPClassifier(activation=&#x27;logistic&#x27;, alpha=0.01, hidden_layer_sizes=[5],\n",
       "              random_state=42, solver=&#x27;lbfgs&#x27;)</pre><b>In a Jupyter environment, please rerun this cell to show the HTML representation or trust the notebook. <br />On GitHub, the HTML representation is unable to render, please try loading this page with nbviewer.org.</b></div><div class=\"sk-container\" hidden><div class=\"sk-item\"><div class=\"sk-estimator sk-toggleable\"><input class=\"sk-toggleable__control sk-hidden--visually\" id=\"sk-estimator-id-8\" type=\"checkbox\" checked><label for=\"sk-estimator-id-8\" class=\"sk-toggleable__label sk-toggleable__label-arrow\">MLPClassifier</label><div class=\"sk-toggleable__content\"><pre>MLPClassifier(activation=&#x27;logistic&#x27;, alpha=0.01, hidden_layer_sizes=[5],\n",
       "              random_state=42, solver=&#x27;lbfgs&#x27;)</pre></div></div></div></div></div>"
      ],
      "text/plain": [
       "MLPClassifier(activation='logistic', alpha=0.01, hidden_layer_sizes=[5],\n",
       "              random_state=42, solver='lbfgs')"
      ]
     },
     "execution_count": 57,
     "metadata": {},
     "output_type": "execute_result"
    },
    {
     "name": "stdout",
     "output_type": "stream",
     "text": [
      "0:00:00.320585\n"
     ]
    },
    {
     "data": {
      "text/html": [
       "<div>\n",
       "<style scoped>\n",
       "    .dataframe tbody tr th:only-of-type {\n",
       "        vertical-align: middle;\n",
       "    }\n",
       "\n",
       "    .dataframe tbody tr th {\n",
       "        vertical-align: top;\n",
       "    }\n",
       "\n",
       "    .dataframe thead th {\n",
       "        text-align: right;\n",
       "    }\n",
       "</style>\n",
       "<table border=\"1\" class=\"dataframe\">\n",
       "  <thead>\n",
       "    <tr style=\"text-align: right;\">\n",
       "      <th></th>\n",
       "      <th>F-score (cv)</th>\n",
       "      <th>Precision (cv)</th>\n",
       "      <th>Recall (cv)</th>\n",
       "      <th>Accuracy</th>\n",
       "      <th>Time(s)</th>\n",
       "    </tr>\n",
       "  </thead>\n",
       "  <tbody>\n",
       "    <tr>\n",
       "      <th>MLP[5]-0.01</th>\n",
       "      <td>0.664</td>\n",
       "      <td>0.67</td>\n",
       "      <td>0.673</td>\n",
       "      <td>0.734</td>\n",
       "      <td>1.302</td>\n",
       "    </tr>\n",
       "    <tr>\n",
       "      <th>MLP[5]-0.01-PCA</th>\n",
       "      <td>0.644</td>\n",
       "      <td>0.652</td>\n",
       "      <td>0.654</td>\n",
       "      <td>0.717</td>\n",
       "      <td>0.321</td>\n",
       "    </tr>\n",
       "    <tr>\n",
       "      <th>KNN-PCA</th>\n",
       "      <td>0.426</td>\n",
       "      <td>0.532</td>\n",
       "      <td>0.414</td>\n",
       "      <td>0.559</td>\n",
       "      <td>0.005</td>\n",
       "    </tr>\n",
       "    <tr>\n",
       "      <th>KNN</th>\n",
       "      <td>0.423</td>\n",
       "      <td>0.526</td>\n",
       "      <td>0.41</td>\n",
       "      <td>0.557</td>\n",
       "      <td>0.005</td>\n",
       "    </tr>\n",
       "  </tbody>\n",
       "</table>\n",
       "</div>"
      ],
      "text/plain": [
       "                F-score (cv) Precision (cv) Recall (cv) Accuracy Time(s)\n",
       "MLP[5]-0.01            0.664           0.67       0.673    0.734   1.302\n",
       "MLP[5]-0.01-PCA        0.644          0.652       0.654    0.717   0.321\n",
       "KNN-PCA                0.426          0.532       0.414    0.559   0.005\n",
       "KNN                    0.423          0.526        0.41    0.557   0.005"
      ]
     },
     "execution_count": 57,
     "metadata": {},
     "output_type": "execute_result"
    }
   ],
   "source": [
    "init_time = time()\n",
    "model_nnet = MLPClassifier(hidden_layer_sizes=[5],\n",
    "                           alpha=0.01,\n",
    "                           activation='logistic',\n",
    "                           max_iter=200,\n",
    "                           solver='lbfgs',random_state=42)\n",
    "model_nnet.fit(X_train_pca,y_train);\n",
    "\n",
    "training_time = time()-init_time\n",
    "print(timedelta(seconds=training_time))\n",
    "\n",
    "\n",
    "cross_val_results = pd.DataFrame(cross_validate(model_nnet , X_train_pca, y_train, cv = 5, \n",
    "                                                scoring = [ 'f1_macro', 'precision_macro', 'recall_macro', 'accuracy'] ))\n",
    "\n",
    "results_df.loc['MLP[5]-0.01-PCA',metrics] = cross_val_results[['test_f1_macro',\n",
    "       'test_precision_macro', 'test_recall_macro','test_accuracy']].mean().values\n",
    "\n",
    "results_df.loc['MLP[5]-0.01-PCA','Time(s)'] = training_time\n",
    "\n",
    "results_df.sort_values(by='F-score (cv)', ascending=False)"
   ]
  },
  {
   "cell_type": "markdown",
   "metadata": {},
   "source": [
    "The MLP has lost a bit on our metrics but is faster, now we can try to improve its results using cross-validation.\n",
    "\n",
    "We will use the firs technique that we comented before, as the model takes longer to train. "
   ]
  },
  {
   "cell_type": "code",
   "execution_count": 58,
   "metadata": {},
   "outputs": [
    {
     "data": {
      "text/plain": [
       "[2, 4, 6, [2, 2], [4, 4], [6, 6]]"
      ]
     },
     "execution_count": 58,
     "metadata": {},
     "output_type": "execute_result"
    }
   ],
   "source": [
    "sizes = [2*i for i in range(1,4)]\n",
    "sizes = sizes + [[2*i,2*i] for i in range(1,4)]\n",
    "sizes"
   ]
  },
  {
   "cell_type": "markdown",
   "metadata": {},
   "source": [
    "If we do 5-cv with 6 layer configuration and we spend 1.5 seconds with each training, we *should* spend approximately 45 seconds with the CV process. If all the architectures took the same time to train. \n",
    "\n",
    "If we had done it without the pca we would take more than two minutes. \n",
    "\n",
    "Note that these times where computed with my machine, it will probably change depending on your computer."
   ]
  },
  {
   "cell_type": "code",
   "execution_count": 60,
   "metadata": {},
   "outputs": [
    {
     "data": {
      "text/plain": [
       "0.6252358298226491"
      ]
     },
     "execution_count": 60,
     "metadata": {},
     "output_type": "execute_result"
    },
    {
     "data": {
      "text/plain": [
       "{'hidden_layer_sizes': 6}"
      ]
     },
     "execution_count": 60,
     "metadata": {},
     "output_type": "execute_result"
    },
    {
     "name": "stdout",
     "output_type": "stream",
     "text": [
      "0:00:20.879395\n"
     ]
    }
   ],
   "source": [
    "init_time = time()\n",
    "\n",
    "model_nnet = MLPClassifier(alpha=0,\n",
    "                           activation='logistic',\n",
    "                           hidden_layer_sizes=2,\n",
    "                           max_iter=500,\n",
    "                           solver='lbfgs',random_state=42)\n",
    "\n",
    "trc = GridSearchCV(estimator=model_nnet, \n",
    "                   param_grid ={'hidden_layer_sizes':sizes},\n",
    "                   scoring=['f1_macro',\n",
    "       'precision_macro', 'recall_macro','accuracy'],\n",
    "                   cv=5,\n",
    "                   return_train_score=True,\n",
    "                  refit='f1_macro')\n",
    "model_5CV = trc.fit(X_train_pca,y_train)\n",
    "model_5CV.best_score_\n",
    "model_5CV.best_params_\n",
    "print(timedelta(seconds=(time()-init_time)))"
   ]
  },
  {
   "cell_type": "markdown",
   "metadata": {},
   "source": [
    "The best architecture found is [6]"
   ]
  },
  {
   "cell_type": "code",
   "execution_count": 61,
   "metadata": {},
   "outputs": [
    {
     "data": {
      "text/html": [
       "<div>\n",
       "<style scoped>\n",
       "    .dataframe tbody tr th:only-of-type {\n",
       "        vertical-align: middle;\n",
       "    }\n",
       "\n",
       "    .dataframe tbody tr th {\n",
       "        vertical-align: top;\n",
       "    }\n",
       "\n",
       "    .dataframe thead th {\n",
       "        text-align: right;\n",
       "    }\n",
       "</style>\n",
       "<table border=\"1\" class=\"dataframe\">\n",
       "  <thead>\n",
       "    <tr style=\"text-align: right;\">\n",
       "      <th></th>\n",
       "      <th>mean_fit_time</th>\n",
       "      <th>param_hidden_layer_sizes</th>\n",
       "      <th>mean_test_f1_macro</th>\n",
       "      <th>mean_test_precision_macro</th>\n",
       "      <th>mean_test_recall_macro</th>\n",
       "      <th>mean_test_accuracy</th>\n",
       "    </tr>\n",
       "  </thead>\n",
       "  <tbody>\n",
       "    <tr>\n",
       "      <th>2</th>\n",
       "      <td>0.702</td>\n",
       "      <td>6</td>\n",
       "      <td>0.625</td>\n",
       "      <td>0.630</td>\n",
       "      <td>0.647</td>\n",
       "      <td>0.699</td>\n",
       "    </tr>\n",
       "    <tr>\n",
       "      <th>1</th>\n",
       "      <td>0.615</td>\n",
       "      <td>4</td>\n",
       "      <td>0.586</td>\n",
       "      <td>0.599</td>\n",
       "      <td>0.593</td>\n",
       "      <td>0.674</td>\n",
       "    </tr>\n",
       "    <tr>\n",
       "      <th>5</th>\n",
       "      <td>0.766</td>\n",
       "      <td>[6, 6]</td>\n",
       "      <td>0.569</td>\n",
       "      <td>0.586</td>\n",
       "      <td>0.579</td>\n",
       "      <td>0.678</td>\n",
       "    </tr>\n",
       "    <tr>\n",
       "      <th>4</th>\n",
       "      <td>0.700</td>\n",
       "      <td>[4, 4]</td>\n",
       "      <td>0.436</td>\n",
       "      <td>0.438</td>\n",
       "      <td>0.469</td>\n",
       "      <td>0.584</td>\n",
       "    </tr>\n",
       "    <tr>\n",
       "      <th>0</th>\n",
       "      <td>0.554</td>\n",
       "      <td>2</td>\n",
       "      <td>0.326</td>\n",
       "      <td>0.330</td>\n",
       "      <td>0.412</td>\n",
       "      <td>0.522</td>\n",
       "    </tr>\n",
       "    <tr>\n",
       "      <th>3</th>\n",
       "      <td>0.630</td>\n",
       "      <td>[2, 2]</td>\n",
       "      <td>0.309</td>\n",
       "      <td>0.301</td>\n",
       "      <td>0.381</td>\n",
       "      <td>0.567</td>\n",
       "    </tr>\n",
       "  </tbody>\n",
       "</table>\n",
       "</div>"
      ],
      "text/plain": [
       "   mean_fit_time param_hidden_layer_sizes  mean_test_f1_macro  \\\n",
       "2          0.702                        6               0.625   \n",
       "1          0.615                        4               0.586   \n",
       "5          0.766                   [6, 6]               0.569   \n",
       "4          0.700                   [4, 4]               0.436   \n",
       "0          0.554                        2               0.326   \n",
       "3          0.630                   [2, 2]               0.309   \n",
       "\n",
       "   mean_test_precision_macro  mean_test_recall_macro  mean_test_accuracy  \n",
       "2                      0.630                   0.647               0.699  \n",
       "1                      0.599                   0.593               0.674  \n",
       "5                      0.586                   0.579               0.678  \n",
       "4                      0.438                   0.469               0.584  \n",
       "0                      0.330                   0.412               0.522  \n",
       "3                      0.301                   0.381               0.567  "
      ]
     },
     "execution_count": 61,
     "metadata": {},
     "output_type": "execute_result"
    }
   ],
   "source": [
    "pd.DataFrame(model_5CV.cv_results_).loc[:,['mean_fit_time','param_hidden_layer_sizes', 'mean_test_f1_macro',\n",
    "       'mean_test_precision_macro', 'mean_test_recall_macro','mean_test_accuracy']].sort_values(by='mean_test_f1_macro',ascending=False)"
   ]
  },
  {
   "cell_type": "markdown",
   "metadata": {},
   "source": [
    "We can see that each training took more time than the one we used to estimate. This might be because the number of neurons of the architectures. "
   ]
  },
  {
   "cell_type": "markdown",
   "metadata": {},
   "source": [
    "Now lets see the decays."
   ]
  },
  {
   "cell_type": "code",
   "execution_count": 62,
   "metadata": {
    "scrolled": true
   },
   "outputs": [
    {
     "data": {
      "text/plain": [
       "[0, 10, 1, 0.1, 0.01, 0.001]"
      ]
     },
     "execution_count": 62,
     "metadata": {},
     "output_type": "execute_result"
    }
   ],
   "source": [
    "decays = [0, 10, 1, 0.1, 0.01, 0.001]\n",
    "decays"
   ]
  },
  {
   "cell_type": "code",
   "execution_count": 63,
   "metadata": {},
   "outputs": [
    {
     "data": {
      "text/plain": [
       "0.7780585663714612"
      ]
     },
     "execution_count": 63,
     "metadata": {},
     "output_type": "execute_result"
    },
    {
     "data": {
      "text/plain": [
       "{'alpha': 1}"
      ]
     },
     "execution_count": 63,
     "metadata": {},
     "output_type": "execute_result"
    },
    {
     "name": "stdout",
     "output_type": "stream",
     "text": [
      "0:00:20.556635\n"
     ]
    }
   ],
   "source": [
    "init_time = time()\n",
    "\n",
    "model_nnet = MLPClassifier(alpha=0,\n",
    "                           activation='logistic',\n",
    "                           hidden_layer_sizes=[6],\n",
    "                           max_iter=500,\n",
    "                           solver='lbfgs',random_state=42)\n",
    "\n",
    "trc = GridSearchCV(estimator=model_nnet, \n",
    "                   param_grid ={'alpha': decays},\n",
    "                   scoring=['f1_macro', 'precision_macro', 'recall_macro','accuracy'],\n",
    "                   cv=5,\n",
    "                   return_train_score=True,\n",
    "                  refit='f1_macro')\n",
    "model_5CV = trc.fit(X_train_pca,y_train)\n",
    "model_5CV.best_score_\n",
    "model_5CV.best_params_\n",
    "print(timedelta(seconds=(time()-init_time)))"
   ]
  },
  {
   "cell_type": "code",
   "execution_count": 64,
   "metadata": {},
   "outputs": [
    {
     "data": {
      "text/html": [
       "<div>\n",
       "<style scoped>\n",
       "    .dataframe tbody tr th:only-of-type {\n",
       "        vertical-align: middle;\n",
       "    }\n",
       "\n",
       "    .dataframe tbody tr th {\n",
       "        vertical-align: top;\n",
       "    }\n",
       "\n",
       "    .dataframe thead th {\n",
       "        text-align: right;\n",
       "    }\n",
       "</style>\n",
       "<table border=\"1\" class=\"dataframe\">\n",
       "  <thead>\n",
       "    <tr style=\"text-align: right;\">\n",
       "      <th></th>\n",
       "      <th>mean_fit_time</th>\n",
       "      <th>param_alpha</th>\n",
       "      <th>mean_test_f1_macro</th>\n",
       "      <th>mean_test_precision_macro</th>\n",
       "      <th>mean_test_recall_macro</th>\n",
       "      <th>mean_test_accuracy</th>\n",
       "    </tr>\n",
       "  </thead>\n",
       "  <tbody>\n",
       "    <tr>\n",
       "      <th>2</th>\n",
       "      <td>0.634</td>\n",
       "      <td>1</td>\n",
       "      <td>0.778</td>\n",
       "      <td>0.799</td>\n",
       "      <td>0.771</td>\n",
       "      <td>0.817</td>\n",
       "    </tr>\n",
       "    <tr>\n",
       "      <th>1</th>\n",
       "      <td>0.464</td>\n",
       "      <td>10</td>\n",
       "      <td>0.768</td>\n",
       "      <td>0.822</td>\n",
       "      <td>0.738</td>\n",
       "      <td>0.815</td>\n",
       "    </tr>\n",
       "    <tr>\n",
       "      <th>3</th>\n",
       "      <td>0.694</td>\n",
       "      <td>0.1</td>\n",
       "      <td>0.759</td>\n",
       "      <td>0.769</td>\n",
       "      <td>0.760</td>\n",
       "      <td>0.799</td>\n",
       "    </tr>\n",
       "    <tr>\n",
       "      <th>4</th>\n",
       "      <td>0.701</td>\n",
       "      <td>0.01</td>\n",
       "      <td>0.648</td>\n",
       "      <td>0.655</td>\n",
       "      <td>0.659</td>\n",
       "      <td>0.724</td>\n",
       "    </tr>\n",
       "    <tr>\n",
       "      <th>0</th>\n",
       "      <td>0.724</td>\n",
       "      <td>0</td>\n",
       "      <td>0.625</td>\n",
       "      <td>0.630</td>\n",
       "      <td>0.647</td>\n",
       "      <td>0.699</td>\n",
       "    </tr>\n",
       "    <tr>\n",
       "      <th>5</th>\n",
       "      <td>0.709</td>\n",
       "      <td>0.001</td>\n",
       "      <td>0.625</td>\n",
       "      <td>0.622</td>\n",
       "      <td>0.641</td>\n",
       "      <td>0.698</td>\n",
       "    </tr>\n",
       "  </tbody>\n",
       "</table>\n",
       "</div>"
      ],
      "text/plain": [
       "   mean_fit_time param_alpha  mean_test_f1_macro  mean_test_precision_macro  \\\n",
       "2          0.634           1               0.778                      0.799   \n",
       "1          0.464          10               0.768                      0.822   \n",
       "3          0.694         0.1               0.759                      0.769   \n",
       "4          0.701        0.01               0.648                      0.655   \n",
       "0          0.724           0               0.625                      0.630   \n",
       "5          0.709       0.001               0.625                      0.622   \n",
       "\n",
       "   mean_test_recall_macro  mean_test_accuracy  \n",
       "2                   0.771               0.817  \n",
       "1                   0.738               0.815  \n",
       "3                   0.760               0.799  \n",
       "4                   0.659               0.724  \n",
       "0                   0.647               0.699  \n",
       "5                   0.641               0.698  "
      ]
     },
     "execution_count": 64,
     "metadata": {},
     "output_type": "execute_result"
    }
   ],
   "source": [
    "pd.DataFrame(model_5CV.cv_results_).loc[:,['mean_fit_time','param_alpha', 'mean_test_f1_macro',\n",
    "       'mean_test_precision_macro', 'mean_test_recall_macro','mean_test_accuracy']].sort_values(by='mean_test_f1_macro',ascending=False)"
   ]
  },
  {
   "cell_type": "markdown",
   "metadata": {},
   "source": [
    "Now that we have found our best MLP (among these configurations). Lets check it."
   ]
  },
  {
   "cell_type": "code",
   "execution_count": 65,
   "metadata": {},
   "outputs": [
    {
     "data": {
      "text/html": [
       "<style>#sk-container-id-9 {color: black;background-color: white;}#sk-container-id-9 pre{padding: 0;}#sk-container-id-9 div.sk-toggleable {background-color: white;}#sk-container-id-9 label.sk-toggleable__label {cursor: pointer;display: block;width: 100%;margin-bottom: 0;padding: 0.3em;box-sizing: border-box;text-align: center;}#sk-container-id-9 label.sk-toggleable__label-arrow:before {content: \"▸\";float: left;margin-right: 0.25em;color: #696969;}#sk-container-id-9 label.sk-toggleable__label-arrow:hover:before {color: black;}#sk-container-id-9 div.sk-estimator:hover label.sk-toggleable__label-arrow:before {color: black;}#sk-container-id-9 div.sk-toggleable__content {max-height: 0;max-width: 0;overflow: hidden;text-align: left;background-color: #f0f8ff;}#sk-container-id-9 div.sk-toggleable__content pre {margin: 0.2em;color: black;border-radius: 0.25em;background-color: #f0f8ff;}#sk-container-id-9 input.sk-toggleable__control:checked~div.sk-toggleable__content {max-height: 200px;max-width: 100%;overflow: auto;}#sk-container-id-9 input.sk-toggleable__control:checked~label.sk-toggleable__label-arrow:before {content: \"▾\";}#sk-container-id-9 div.sk-estimator input.sk-toggleable__control:checked~label.sk-toggleable__label {background-color: #d4ebff;}#sk-container-id-9 div.sk-label input.sk-toggleable__control:checked~label.sk-toggleable__label {background-color: #d4ebff;}#sk-container-id-9 input.sk-hidden--visually {border: 0;clip: rect(1px 1px 1px 1px);clip: rect(1px, 1px, 1px, 1px);height: 1px;margin: -1px;overflow: hidden;padding: 0;position: absolute;width: 1px;}#sk-container-id-9 div.sk-estimator {font-family: monospace;background-color: #f0f8ff;border: 1px dotted black;border-radius: 0.25em;box-sizing: border-box;margin-bottom: 0.5em;}#sk-container-id-9 div.sk-estimator:hover {background-color: #d4ebff;}#sk-container-id-9 div.sk-parallel-item::after {content: \"\";width: 100%;border-bottom: 1px solid gray;flex-grow: 1;}#sk-container-id-9 div.sk-label:hover label.sk-toggleable__label {background-color: #d4ebff;}#sk-container-id-9 div.sk-serial::before {content: \"\";position: absolute;border-left: 1px solid gray;box-sizing: border-box;top: 0;bottom: 0;left: 50%;z-index: 0;}#sk-container-id-9 div.sk-serial {display: flex;flex-direction: column;align-items: center;background-color: white;padding-right: 0.2em;padding-left: 0.2em;position: relative;}#sk-container-id-9 div.sk-item {position: relative;z-index: 1;}#sk-container-id-9 div.sk-parallel {display: flex;align-items: stretch;justify-content: center;background-color: white;position: relative;}#sk-container-id-9 div.sk-item::before, #sk-container-id-9 div.sk-parallel-item::before {content: \"\";position: absolute;border-left: 1px solid gray;box-sizing: border-box;top: 0;bottom: 0;left: 50%;z-index: -1;}#sk-container-id-9 div.sk-parallel-item {display: flex;flex-direction: column;z-index: 1;position: relative;background-color: white;}#sk-container-id-9 div.sk-parallel-item:first-child::after {align-self: flex-end;width: 50%;}#sk-container-id-9 div.sk-parallel-item:last-child::after {align-self: flex-start;width: 50%;}#sk-container-id-9 div.sk-parallel-item:only-child::after {width: 0;}#sk-container-id-9 div.sk-dashed-wrapped {border: 1px dashed gray;margin: 0 0.4em 0.5em 0.4em;box-sizing: border-box;padding-bottom: 0.4em;background-color: white;}#sk-container-id-9 div.sk-label label {font-family: monospace;font-weight: bold;display: inline-block;line-height: 1.2em;}#sk-container-id-9 div.sk-label-container {text-align: center;}#sk-container-id-9 div.sk-container {/* jupyter's `normalize.less` sets `[hidden] { display: none; }` but bootstrap.min.css set `[hidden] { display: none !important; }` so we also need the `!important` here to be able to override the default hidden behavior on the sphinx rendered scikit-learn.org. See: https://github.com/scikit-learn/scikit-learn/issues/21755 */display: inline-block !important;position: relative;}#sk-container-id-9 div.sk-text-repr-fallback {display: none;}</style><div id=\"sk-container-id-9\" class=\"sk-top-container\"><div class=\"sk-text-repr-fallback\"><pre>MLPClassifier(activation=&#x27;logistic&#x27;, alpha=1, hidden_layer_sizes=[6],\n",
       "              random_state=42, solver=&#x27;lbfgs&#x27;)</pre><b>In a Jupyter environment, please rerun this cell to show the HTML representation or trust the notebook. <br />On GitHub, the HTML representation is unable to render, please try loading this page with nbviewer.org.</b></div><div class=\"sk-container\" hidden><div class=\"sk-item\"><div class=\"sk-estimator sk-toggleable\"><input class=\"sk-toggleable__control sk-hidden--visually\" id=\"sk-estimator-id-9\" type=\"checkbox\" checked><label for=\"sk-estimator-id-9\" class=\"sk-toggleable__label sk-toggleable__label-arrow\">MLPClassifier</label><div class=\"sk-toggleable__content\"><pre>MLPClassifier(activation=&#x27;logistic&#x27;, alpha=1, hidden_layer_sizes=[6],\n",
       "              random_state=42, solver=&#x27;lbfgs&#x27;)</pre></div></div></div></div></div>"
      ],
      "text/plain": [
       "MLPClassifier(activation='logistic', alpha=1, hidden_layer_sizes=[6],\n",
       "              random_state=42, solver='lbfgs')"
      ]
     },
     "execution_count": 65,
     "metadata": {},
     "output_type": "execute_result"
    },
    {
     "name": "stdout",
     "output_type": "stream",
     "text": [
      "0:00:00.352954\n"
     ]
    },
    {
     "data": {
      "text/html": [
       "<div>\n",
       "<style scoped>\n",
       "    .dataframe tbody tr th:only-of-type {\n",
       "        vertical-align: middle;\n",
       "    }\n",
       "\n",
       "    .dataframe tbody tr th {\n",
       "        vertical-align: top;\n",
       "    }\n",
       "\n",
       "    .dataframe thead th {\n",
       "        text-align: right;\n",
       "    }\n",
       "</style>\n",
       "<table border=\"1\" class=\"dataframe\">\n",
       "  <thead>\n",
       "    <tr style=\"text-align: right;\">\n",
       "      <th></th>\n",
       "      <th>F-score (cv)</th>\n",
       "      <th>Precision (cv)</th>\n",
       "      <th>Recall (cv)</th>\n",
       "      <th>Accuracy</th>\n",
       "      <th>Time(s)</th>\n",
       "    </tr>\n",
       "  </thead>\n",
       "  <tbody>\n",
       "    <tr>\n",
       "      <th>MLP[6]-1-PCA</th>\n",
       "      <td>0.765</td>\n",
       "      <td>0.791</td>\n",
       "      <td>0.752</td>\n",
       "      <td>0.808</td>\n",
       "      <td>0.353</td>\n",
       "    </tr>\n",
       "    <tr>\n",
       "      <th>MLP[5]-0.01</th>\n",
       "      <td>0.664</td>\n",
       "      <td>0.67</td>\n",
       "      <td>0.673</td>\n",
       "      <td>0.734</td>\n",
       "      <td>1.302</td>\n",
       "    </tr>\n",
       "    <tr>\n",
       "      <th>MLP[5]-0.01-PCA</th>\n",
       "      <td>0.644</td>\n",
       "      <td>0.652</td>\n",
       "      <td>0.654</td>\n",
       "      <td>0.717</td>\n",
       "      <td>0.321</td>\n",
       "    </tr>\n",
       "    <tr>\n",
       "      <th>KNN-PCA</th>\n",
       "      <td>0.426</td>\n",
       "      <td>0.532</td>\n",
       "      <td>0.414</td>\n",
       "      <td>0.559</td>\n",
       "      <td>0.005</td>\n",
       "    </tr>\n",
       "    <tr>\n",
       "      <th>KNN</th>\n",
       "      <td>0.423</td>\n",
       "      <td>0.526</td>\n",
       "      <td>0.41</td>\n",
       "      <td>0.557</td>\n",
       "      <td>0.005</td>\n",
       "    </tr>\n",
       "  </tbody>\n",
       "</table>\n",
       "</div>"
      ],
      "text/plain": [
       "                F-score (cv) Precision (cv) Recall (cv) Accuracy Time(s)\n",
       "MLP[6]-1-PCA           0.765          0.791       0.752    0.808   0.353\n",
       "MLP[5]-0.01            0.664           0.67       0.673    0.734   1.302\n",
       "MLP[5]-0.01-PCA        0.644          0.652       0.654    0.717   0.321\n",
       "KNN-PCA                0.426          0.532       0.414    0.559   0.005\n",
       "KNN                    0.423          0.526        0.41    0.557   0.005"
      ]
     },
     "execution_count": 65,
     "metadata": {},
     "output_type": "execute_result"
    }
   ],
   "source": [
    "init_time = time()\n",
    "model_nnet = MLPClassifier(hidden_layer_sizes=[6],\n",
    "                           alpha=1,\n",
    "                           activation='logistic',\n",
    "                           max_iter=200,\n",
    "                           solver='lbfgs',random_state=42)\n",
    "model_nnet.fit(X_train_pca,y_train);\n",
    "\n",
    "training_time = time()-init_time\n",
    "print(timedelta(seconds=training_time))\n",
    "\n",
    "cross_val_results = pd.DataFrame(cross_validate(model_nnet , X_train_pca, y_train, cv = 5, scoring = [ 'f1_macro', 'precision_macro', 'recall_macro', 'accuracy'] ))\n",
    "\n",
    "results_df.loc['MLP[6]-1-PCA',metrics] = cross_val_results[['test_f1_macro',\n",
    "       'test_precision_macro', 'test_recall_macro','test_accuracy']].mean().values\n",
    "\n",
    "results_df.loc['MLP[6]-1-PCA','Time(s)'] = training_time\n",
    "\n",
    "results_df.sort_values(by='F-score (cv)', ascending=False)\n"
   ]
  },
  {
   "cell_type": "markdown",
   "metadata": {},
   "source": [
    "Now that we have choosen our best model. We can check if it generalizes using the test set."
   ]
  },
  {
   "cell_type": "code",
   "execution_count": 66,
   "metadata": {},
   "outputs": [
    {
     "data": {
      "text/html": [
       "<div>\n",
       "<style scoped>\n",
       "    .dataframe tbody tr th:only-of-type {\n",
       "        vertical-align: middle;\n",
       "    }\n",
       "\n",
       "    .dataframe tbody tr th {\n",
       "        vertical-align: top;\n",
       "    }\n",
       "\n",
       "    .dataframe thead th {\n",
       "        text-align: right;\n",
       "    }\n",
       "</style>\n",
       "<table border=\"1\" class=\"dataframe\">\n",
       "  <thead>\n",
       "    <tr style=\"text-align: right;\">\n",
       "      <th>predicted</th>\n",
       "      <th>Ariel Sharon</th>\n",
       "      <th>Colin Powell</th>\n",
       "      <th>Donald Rumsfeld</th>\n",
       "      <th>George W Bush</th>\n",
       "      <th>Gerhard Schroeder</th>\n",
       "      <th>Hugo Chavez</th>\n",
       "      <th>Tony Blair</th>\n",
       "    </tr>\n",
       "    <tr>\n",
       "      <th>target</th>\n",
       "      <th></th>\n",
       "      <th></th>\n",
       "      <th></th>\n",
       "      <th></th>\n",
       "      <th></th>\n",
       "      <th></th>\n",
       "      <th></th>\n",
       "    </tr>\n",
       "  </thead>\n",
       "  <tbody>\n",
       "    <tr>\n",
       "      <th>Ariel Sharon</th>\n",
       "      <td>6</td>\n",
       "      <td>3</td>\n",
       "      <td>2</td>\n",
       "      <td>1</td>\n",
       "      <td>0</td>\n",
       "      <td>0</td>\n",
       "      <td>1</td>\n",
       "    </tr>\n",
       "    <tr>\n",
       "      <th>Colin Powell</th>\n",
       "      <td>2</td>\n",
       "      <td>53</td>\n",
       "      <td>2</td>\n",
       "      <td>3</td>\n",
       "      <td>0</td>\n",
       "      <td>0</td>\n",
       "      <td>0</td>\n",
       "    </tr>\n",
       "    <tr>\n",
       "      <th>Donald Rumsfeld</th>\n",
       "      <td>0</td>\n",
       "      <td>1</td>\n",
       "      <td>21</td>\n",
       "      <td>3</td>\n",
       "      <td>0</td>\n",
       "      <td>1</td>\n",
       "      <td>1</td>\n",
       "    </tr>\n",
       "    <tr>\n",
       "      <th>George W Bush</th>\n",
       "      <td>0</td>\n",
       "      <td>6</td>\n",
       "      <td>3</td>\n",
       "      <td>133</td>\n",
       "      <td>0</td>\n",
       "      <td>2</td>\n",
       "      <td>2</td>\n",
       "    </tr>\n",
       "    <tr>\n",
       "      <th>Gerhard Schroeder</th>\n",
       "      <td>0</td>\n",
       "      <td>1</td>\n",
       "      <td>0</td>\n",
       "      <td>5</td>\n",
       "      <td>17</td>\n",
       "      <td>1</td>\n",
       "      <td>1</td>\n",
       "    </tr>\n",
       "    <tr>\n",
       "      <th>Hugo Chavez</th>\n",
       "      <td>0</td>\n",
       "      <td>2</td>\n",
       "      <td>0</td>\n",
       "      <td>0</td>\n",
       "      <td>3</td>\n",
       "      <td>9</td>\n",
       "      <td>1</td>\n",
       "    </tr>\n",
       "    <tr>\n",
       "      <th>Tony Blair</th>\n",
       "      <td>0</td>\n",
       "      <td>2</td>\n",
       "      <td>2</td>\n",
       "      <td>4</td>\n",
       "      <td>1</td>\n",
       "      <td>0</td>\n",
       "      <td>27</td>\n",
       "    </tr>\n",
       "  </tbody>\n",
       "</table>\n",
       "</div>"
      ],
      "text/plain": [
       "predicted          Ariel Sharon  Colin Powell  Donald Rumsfeld  George W Bush  \\\n",
       "target                                                                          \n",
       "Ariel Sharon                  6             3                2              1   \n",
       "Colin Powell                  2            53                2              3   \n",
       "Donald Rumsfeld               0             1               21              3   \n",
       "George W Bush                 0             6                3            133   \n",
       "Gerhard Schroeder             0             1                0              5   \n",
       "Hugo Chavez                   0             2                0              0   \n",
       "Tony Blair                    0             2                2              4   \n",
       "\n",
       "predicted          Gerhard Schroeder  Hugo Chavez  Tony Blair  \n",
       "target                                                         \n",
       "Ariel Sharon                       0            0           1  \n",
       "Colin Powell                       0            0           0  \n",
       "Donald Rumsfeld                    0            1           1  \n",
       "George W Bush                      0            2           2  \n",
       "Gerhard Schroeder                 17            1           1  \n",
       "Hugo Chavez                        3            9           1  \n",
       "Tony Blair                         1            0          27  "
      ]
     },
     "execution_count": 66,
     "metadata": {},
     "output_type": "execute_result"
    },
    {
     "name": "stdout",
     "output_type": "stream",
     "text": [
      "                   precision    recall  f1-score   support\n",
      "\n",
      "     Ariel Sharon       0.75      0.46      0.57        13\n",
      "     Colin Powell       0.78      0.88      0.83        60\n",
      "  Donald Rumsfeld       0.70      0.78      0.74        27\n",
      "    George W Bush       0.89      0.91      0.90       146\n",
      "Gerhard Schroeder       0.81      0.68      0.74        25\n",
      "      Hugo Chavez       0.69      0.60      0.64        15\n",
      "       Tony Blair       0.82      0.75      0.78        36\n",
      "\n",
      "         accuracy                           0.83       322\n",
      "        macro avg       0.78      0.72      0.74       322\n",
      "     weighted avg       0.83      0.83      0.82       322\n",
      "\n"
     ]
    }
   ],
   "source": [
    "\n",
    "y_pred = model_nnet.predict(X_test_pca)\n",
    "\n",
    "y_test = pd.Series(y_test).map({i:t for i,t in enumerate(target_names)})\n",
    "y_pred = pd.Series(y_pred).map({i:t for i,t in enumerate(target_names)})\n",
    "\n",
    "confusion(y_test,y_pred)\n",
    "\n",
    "print(classification_report(y_test,y_pred))"
   ]
  },
  {
   "cell_type": "markdown",
   "metadata": {},
   "source": [
    "We have obtained quite good results, and the model generalizes so it also predicts acurately on the test set."
   ]
  },
  {
   "cell_type": "markdown",
   "metadata": {},
   "source": []
  }
 ],
 "metadata": {
  "kernelspec": {
   "display_name": "Python 3 (ipykernel)",
   "language": "python",
   "name": "python3"
  },
  "language_info": {
   "codemirror_mode": {
    "name": "ipython",
    "version": 3
   },
   "file_extension": ".py",
   "mimetype": "text/x-python",
   "name": "python",
   "nbconvert_exporter": "python",
   "pygments_lexer": "ipython3",
   "version": "3.10.6"
  },
  "toc": {
   "base_numbering": 1,
   "nav_menu": {},
   "number_sections": true,
   "sideBar": true,
   "skip_h1_title": false,
   "title_cell": "Table of Contents",
   "title_sidebar": "Contents",
   "toc_cell": false,
   "toc_position": {
    "height": "calc(100% - 180px)",
    "left": "10px",
    "top": "150px",
    "width": "272px"
   },
   "toc_section_display": true,
   "toc_window_display": true
  }
 },
 "nbformat": 4,
 "nbformat_minor": 4
}
